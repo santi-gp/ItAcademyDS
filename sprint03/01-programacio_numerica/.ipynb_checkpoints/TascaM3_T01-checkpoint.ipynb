{
 "cells": [
  {
   "cell_type": "code",
   "execution_count": 20,
   "metadata": {},
   "outputs": [],
   "source": [
    "import numpy as np"
   ]
  },
  {
   "cell_type": "markdown",
   "metadata": {},
   "source": [
    "# Tasca M3 T01"
   ]
  },
  {
   "cell_type": "markdown",
   "metadata": {},
   "source": [
    "## Ejercicio 1\n",
    "Crea una función que dado un Array de una dimensión, te haga un resumen estadístico básico de los datos. Si detecta que el array tiene más de una dimensión, tiene que mostrar un mensaje de error."
   ]
  },
  {
   "cell_type": "code",
   "execution_count": 18,
   "metadata": {
    "id": "mURoZWMIDyGY"
   },
   "outputs": [],
   "source": [
    "def func_statistic(x):\n",
    "    if(np.ndim(x)!=1):\n",
    "        print('El array no es de dimensión uno!')\n",
    "    else:\n",
    "        print('La media es:', np.mean(x))\n",
    "        print('El máximo es:', np.max(x))\n",
    "        print('El mínimo es:', np.min(x))\n",
    "        print('La suma de los elenentos es:', np.sum(x))"
   ]
  },
  {
   "cell_type": "code",
   "execution_count": 4,
   "metadata": {
    "colab": {
     "base_uri": "https://localhost:8080/"
    },
    "id": "2uD4KWxUEXj7",
    "outputId": "cefec0d1-7a2e-42c6-94b0-aa274ed39b45"
   },
   "outputs": [
    {
     "name": "stdout",
     "output_type": "stream",
     "text": [
      "El array no es de dimensión uno!\n"
     ]
    }
   ],
   "source": [
    "x=np.array([[1,2],[3,4]])\n",
    "func_statistic(x)"
   ]
  },
  {
   "cell_type": "code",
   "execution_count": 5,
   "metadata": {
    "colab": {
     "base_uri": "https://localhost:8080/"
    },
    "id": "5EYYl_OwFXEI",
    "outputId": "717a179e-9ea6-4858-a4c1-acb14bafa36f"
   },
   "outputs": [
    {
     "name": "stdout",
     "output_type": "stream",
     "text": [
      "[4 1 6 8 5 4 5 7 4 9 7 3 6 2 6]\n",
      "La media es: 5.133333333333334\n",
      "El máximo es: 9\n",
      "El mínimo es: 1\n",
      "La suma de los elenentos es: 77\n"
     ]
    }
   ],
   "source": [
    "y=np.random.randint(1,10,15)\n",
    "print(y)\n",
    "func_statistic(y)"
   ]
  },
  {
   "cell_type": "markdown",
   "metadata": {},
   "source": [
    "## Ejercicio 2\n",
    "Crea una función que te genere un cuadrado NxN de números aleatorios entre el 0 y el 100."
   ]
  },
  {
   "cell_type": "code",
   "execution_count": 19,
   "metadata": {
    "id": "ag6LwsUmHELw"
   },
   "outputs": [],
   "source": [
    "def func_matrix_square(n):\n",
    "    x=np.random.randint(0,100,size=(n,n))\n",
    "    return x"
   ]
  },
  {
   "cell_type": "code",
   "execution_count": 9,
   "metadata": {
    "colab": {
     "base_uri": "https://localhost:8080/"
    },
    "id": "c4ytlKpMGnDZ",
    "outputId": "b8b63f17-d6cb-4d5c-d4ed-657eab4c3cd6"
   },
   "outputs": [
    {
     "data": {
      "text/plain": [
       "array([[39, 53, 65, 37, 51, 22, 60, 12],\n",
       "       [67, 78, 29, 47, 11, 74,  7,  6],\n",
       "       [25, 52, 33,  1, 75, 41, 66,  8],\n",
       "       [ 3, 36, 49, 86, 94, 15, 77, 33],\n",
       "       [ 3, 47, 54,  8, 32,  6, 90, 89],\n",
       "       [11, 38, 76, 61, 88, 81, 58, 64],\n",
       "       [ 5, 54, 12, 25, 25, 94,  8, 14],\n",
       "       [87, 95, 20, 12, 27, 56, 85, 56]])"
      ]
     },
     "execution_count": 9,
     "metadata": {},
     "output_type": "execute_result"
    }
   ],
   "source": [
    "func_matrix_square(8)\n"
   ]
  },
  {
   "cell_type": "markdown",
   "metadata": {},
   "source": [
    "## Ejercicio 3\n",
    "Crea una función que dada una tabla de dos dimensiones (NxM), te calcule los totales por fila y los totales por columna."
   ]
  },
  {
   "cell_type": "code",
   "execution_count": 17,
   "metadata": {
    "id": "LXXpdho5IDCf"
   },
   "outputs": [],
   "source": [
    "def func_sum_matrix(n,m):\n",
    "    A=np.random.randint(0,100,size=(n,m))\n",
    "    print('Totales por fila',np.sum(A,axis=1))\n",
    "    print('Totales por columna',np.sum(A,axis=0))\n",
    "    return A\n"
   ]
  },
  {
   "cell_type": "code",
   "execution_count": 15,
   "metadata": {
    "colab": {
     "base_uri": "https://localhost:8080/"
    },
    "id": "xF8PVqd-JAnV",
    "outputId": "355f4d08-3062-470d-baf8-b0647cad9d73"
   },
   "outputs": [
    {
     "name": "stdout",
     "output_type": "stream",
     "text": [
      "Totales por fila [335 186 142]\n",
      "Totales por columna [ 96 275 146 146]\n"
     ]
    },
    {
     "data": {
      "text/plain": [
       "array([[58, 92, 95, 90],\n",
       "       [37, 88, 34, 27],\n",
       "       [ 1, 95, 17, 29]])"
      ]
     },
     "execution_count": 15,
     "metadata": {},
     "output_type": "execute_result"
    }
   ],
   "source": [
    "func_sum_matrix(3,4)\n"
   ]
  },
  {
   "cell_type": "markdown",
   "metadata": {},
   "source": [
    "## Ejercicio 4\n",
    "Implementa manualmente una función que calcule el coeficiente de correlación. Infórmate sobre sus usos e interpretación."
   ]
  },
  {
   "cell_type": "markdown",
   "metadata": {},
   "source": [
    "Fórmula\n",
    "\n",
    "$$ r_{x,y}=\\displaystyle\\frac{\\sum_{i=1}^{n}(x_{i}-\\bar{x})(y_{i}-\\bar{y})}{\\sqrt{\\sum_{i=1}^{n}(x_{i}-\\bar{x})^{2}}\\sqrt{\\sum_{i=1}^{n}(y_{i}-\\bar{y})^{2}}} $$\n",
    "\n",
    "* $n$ es el tamaño de la muestra.\n",
    "\n",
    "* $x_{i}$, $y_{i}$ son puntos muestrales individuales indexados con $i$.\n",
    "\n",
    "* $\\bar{x}$ denota la media muestral definida por $\\bar{x}={\\frac {1}{n}}\\sum_{i=1}^{n}x_{i}$ (análogamente para \n",
    "$\\bar{y}$)."
   ]
  },
  {
   "cell_type": "code",
   "execution_count": 28,
   "metadata": {},
   "outputs": [],
   "source": [
    "def func_cofcorre(x,y):\n",
    "    n=len(x)\n",
    "    x_mean, y_mean = np.mean(x), np.mean(y)\n",
    "    sum1, sum2, sum3 = 0, 0, 0\n",
    "    for i in range(n):\n",
    "        sum1 += (x[i]-x_mean)*(y[i]-y_mean)\n",
    "    for i in range(n):\n",
    "        sum2 += (x[i]-x_mean)**2\n",
    "    for i in range(n):\n",
    "        sum3 += (y[i]-y_mean)**2\n",
    "        \n",
    "    r=(sum1)/(np.sqrt(sum2*sum3))    \n",
    "    return r   "
   ]
  },
  {
   "cell_type": "markdown",
   "metadata": {},
   "source": [
    "* Vamos a estudiar la correlación que existe entre las alturas y sus pesos de diferentes personas."
   ]
  },
  {
   "cell_type": "code",
   "execution_count": 22,
   "metadata": {},
   "outputs": [
    {
     "data": {
      "text/plain": [
       "array([1.98, 1.66, 1.19, 1.76, 1.64, 1.74, 1.8 , 1.03, 1.73, 1.37])"
      ]
     },
     "execution_count": 22,
     "metadata": {},
     "output_type": "execute_result"
    }
   ],
   "source": [
    "arr_alturas=np.array([1.98, 1.66, 1.19, 1.76, 1.64, 1.74, 1.8 , 1.03, 1.73, 1.37])\n",
    "arr_alturas"
   ]
  },
  {
   "cell_type": "code",
   "execution_count": 23,
   "metadata": {},
   "outputs": [
    {
     "data": {
      "text/plain": [
       "array([67.46, 42.  , 57.28, 43.4 , 56.85, 57.7 , 45.98, 67.65, 59.31,\n",
       "       42.45])"
      ]
     },
     "execution_count": 23,
     "metadata": {},
     "output_type": "execute_result"
    }
   ],
   "source": [
    "arr_pesos=np.array([67.46, 42.00  , 57.28, 43.4 , 56.85, 57.7 , 45.98, 67.65, 59.31, 42.45])\n",
    "arr_pesos"
   ]
  },
  {
   "cell_type": "code",
   "execution_count": 26,
   "metadata": {},
   "outputs": [
    {
     "data": {
      "text/plain": [
       "-0.1527962024123341"
      ]
     },
     "execution_count": 26,
     "metadata": {},
     "output_type": "execute_result"
    }
   ],
   "source": [
    "func_cofcorre(arr_alturas,arr_pesos)"
   ]
  },
  {
   "cell_type": "markdown",
   "metadata": {},
   "source": [
    "### Comprobación con la libreria numpy"
   ]
  },
  {
   "cell_type": "code",
   "execution_count": 27,
   "metadata": {},
   "outputs": [
    {
     "data": {
      "text/plain": [
       "array([[ 1.       , -0.1527962],\n",
       "       [-0.1527962,  1.       ]])"
      ]
     },
     "execution_count": 27,
     "metadata": {},
     "output_type": "execute_result"
    }
   ],
   "source": [
    "np.corrcoef(arr_alturas,arr_pesos)"
   ]
  },
  {
   "cell_type": "markdown",
   "metadata": {},
   "source": [
    "### Interpretación\n",
    "Correlación negativa cercano a 0, la correlación es débil. Es decir, los puntos se encuentran dispersos."
   ]
  },
  {
   "cell_type": "markdown",
   "metadata": {},
   "source": [
    "### Creación de alturas y pesos"
   ]
  },
  {
   "cell_type": "code",
   "execution_count": 38,
   "metadata": {},
   "outputs": [
    {
     "name": "stdout",
     "output_type": "stream",
     "text": [
      "Alturas = [1.59535855 1.29945564 1.06440832 1.73856226 1.28831286 1.30055717\n",
      " 1.44025571 1.27564973 1.68999331 1.70679814]\n",
      "Pesos = [42.20039918 41.77629336 74.4432704  79.19090685 66.94271894 62.96577902\n",
      " 42.95219494 48.79772136 76.99093558 59.82914589]\n"
     ]
    }
   ],
   "source": [
    "xx=1+np.random.rand(10)\n",
    "yy=np.random.randint(40,80,10)+np.random.rand(10)\n",
    "print('Alturas =',xx)\n",
    "print('Pesos =',yy)"
   ]
  },
  {
   "cell_type": "code",
   "execution_count": 39,
   "metadata": {},
   "outputs": [
    {
     "data": {
      "text/plain": [
       "0.15177226477355457"
      ]
     },
     "execution_count": 39,
     "metadata": {},
     "output_type": "execute_result"
    }
   ],
   "source": [
    "func_cofcorre(xx,yy)"
   ]
  },
  {
   "cell_type": "code",
   "execution_count": 40,
   "metadata": {},
   "outputs": [
    {
     "data": {
      "text/plain": [
       "array([[1.        , 0.15177226],\n",
       "       [0.15177226, 1.        ]])"
      ]
     },
     "execution_count": 40,
     "metadata": {},
     "output_type": "execute_result"
    }
   ],
   "source": [
    "np.corrcoef(xx,yy)"
   ]
  },
  {
   "cell_type": "code",
   "execution_count": null,
   "metadata": {},
   "outputs": [],
   "source": []
  }
 ],
 "metadata": {
  "colab": {
   "provenance": []
  },
  "kernelspec": {
   "display_name": "Python 3",
   "language": "python",
   "name": "python3"
  },
  "language_info": {
   "codemirror_mode": {
    "name": "ipython",
    "version": 3
   },
   "file_extension": ".py",
   "mimetype": "text/x-python",
   "name": "python",
   "nbconvert_exporter": "python",
   "pygments_lexer": "ipython3",
   "version": "3.9.2"
  }
 },
 "nbformat": 4,
 "nbformat_minor": 1
}
