{
 "cells": [
  {
   "cell_type": "code",
   "execution_count": 3,
   "id": "8bee2e85",
   "metadata": {},
   "outputs": [],
   "source": [
    "import pandas as pd\n",
    "from scipy import stats\n",
    "from scipy.stats import shapiro, ttest_ind\n",
    "#from scipy.stats import ttest_ind\n",
    "import matplotlib.pyplot as plt\n",
    "import seaborn as sns\n",
    "#import pingouin as pg"
   ]
  },
  {
   "cell_type": "code",
   "execution_count": 9,
   "id": "e041dd71",
   "metadata": {},
   "outputs": [
    {
     "data": {
      "text/html": [
       "<div>\n",
       "<style scoped>\n",
       "    .dataframe tbody tr th:only-of-type {\n",
       "        vertical-align: middle;\n",
       "    }\n",
       "\n",
       "    .dataframe tbody tr th {\n",
       "        vertical-align: top;\n",
       "    }\n",
       "\n",
       "    .dataframe thead th {\n",
       "        text-align: right;\n",
       "    }\n",
       "</style>\n",
       "<table border=\"1\" class=\"dataframe\">\n",
       "  <thead>\n",
       "    <tr style=\"text-align: right;\">\n",
       "      <th></th>\n",
       "      <th>Rk</th>\n",
       "      <th>Squad</th>\n",
       "      <th>Country</th>\n",
       "      <th>LgRk</th>\n",
       "      <th>MP</th>\n",
       "      <th>W</th>\n",
       "      <th>D</th>\n",
       "      <th>L</th>\n",
       "      <th>GF</th>\n",
       "      <th>GA</th>\n",
       "      <th>...</th>\n",
       "      <th>Pts</th>\n",
       "      <th>Pts/G</th>\n",
       "      <th>xG</th>\n",
       "      <th>xGA</th>\n",
       "      <th>xGD</th>\n",
       "      <th>xGD/90</th>\n",
       "      <th>Last 5</th>\n",
       "      <th>Attendance</th>\n",
       "      <th>Top Team Scorer</th>\n",
       "      <th>Goalkeeper</th>\n",
       "    </tr>\n",
       "  </thead>\n",
       "  <tbody>\n",
       "    <tr>\n",
       "      <th>0</th>\n",
       "      <td>1</td>\n",
       "      <td>Manchester City</td>\n",
       "      <td>ENG</td>\n",
       "      <td>1</td>\n",
       "      <td>37</td>\n",
       "      <td>28</td>\n",
       "      <td>6</td>\n",
       "      <td>3</td>\n",
       "      <td>96</td>\n",
       "      <td>24</td>\n",
       "      <td>...</td>\n",
       "      <td>90</td>\n",
       "      <td>2.43</td>\n",
       "      <td>86.1</td>\n",
       "      <td>26.8</td>\n",
       "      <td>59.3</td>\n",
       "      <td>1.60</td>\n",
       "      <td>W W W W D</td>\n",
       "      <td>52739</td>\n",
       "      <td>Kevin De Bruyne - 15</td>\n",
       "      <td>Ederson</td>\n",
       "    </tr>\n",
       "    <tr>\n",
       "      <th>1</th>\n",
       "      <td>2</td>\n",
       "      <td>Liverpool</td>\n",
       "      <td>ENG</td>\n",
       "      <td>2</td>\n",
       "      <td>36</td>\n",
       "      <td>26</td>\n",
       "      <td>8</td>\n",
       "      <td>2</td>\n",
       "      <td>89</td>\n",
       "      <td>24</td>\n",
       "      <td>...</td>\n",
       "      <td>86</td>\n",
       "      <td>2.39</td>\n",
       "      <td>84.6</td>\n",
       "      <td>33.1</td>\n",
       "      <td>51.4</td>\n",
       "      <td>1.43</td>\n",
       "      <td>W W W D W</td>\n",
       "      <td>53367</td>\n",
       "      <td>Mohamed Salah - 22</td>\n",
       "      <td>Alisson</td>\n",
       "    </tr>\n",
       "    <tr>\n",
       "      <th>2</th>\n",
       "      <td>3</td>\n",
       "      <td>Real Madrid</td>\n",
       "      <td>ESP</td>\n",
       "      <td>1</td>\n",
       "      <td>37</td>\n",
       "      <td>26</td>\n",
       "      <td>7</td>\n",
       "      <td>4</td>\n",
       "      <td>80</td>\n",
       "      <td>31</td>\n",
       "      <td>...</td>\n",
       "      <td>85</td>\n",
       "      <td>2.30</td>\n",
       "      <td>73.0</td>\n",
       "      <td>45.8</td>\n",
       "      <td>27.2</td>\n",
       "      <td>0.73</td>\n",
       "      <td>W W L W D</td>\n",
       "      <td>40624</td>\n",
       "      <td>Karim Benzema - 27</td>\n",
       "      <td>Thibaut Courtois</td>\n",
       "    </tr>\n",
       "    <tr>\n",
       "      <th>3</th>\n",
       "      <td>4</td>\n",
       "      <td>Bayern Munich</td>\n",
       "      <td>GER</td>\n",
       "      <td>1</td>\n",
       "      <td>34</td>\n",
       "      <td>24</td>\n",
       "      <td>5</td>\n",
       "      <td>5</td>\n",
       "      <td>97</td>\n",
       "      <td>37</td>\n",
       "      <td>...</td>\n",
       "      <td>77</td>\n",
       "      <td>2.26</td>\n",
       "      <td>88.1</td>\n",
       "      <td>37.1</td>\n",
       "      <td>51.0</td>\n",
       "      <td>1.50</td>\n",
       "      <td>W W L D D</td>\n",
       "      <td>33176</td>\n",
       "      <td>Robert Lewandowski - 35</td>\n",
       "      <td>Manuel Neuer</td>\n",
       "    </tr>\n",
       "    <tr>\n",
       "      <th>4</th>\n",
       "      <td>5</td>\n",
       "      <td>Paris S-G</td>\n",
       "      <td>FRA</td>\n",
       "      <td>1</td>\n",
       "      <td>37</td>\n",
       "      <td>25</td>\n",
       "      <td>8</td>\n",
       "      <td>4</td>\n",
       "      <td>85</td>\n",
       "      <td>36</td>\n",
       "      <td>...</td>\n",
       "      <td>83</td>\n",
       "      <td>2.24</td>\n",
       "      <td>71.6</td>\n",
       "      <td>38.1</td>\n",
       "      <td>33.4</td>\n",
       "      <td>0.90</td>\n",
       "      <td>W D D D W</td>\n",
       "      <td>41188</td>\n",
       "      <td>Kylian Mbappé - 25</td>\n",
       "      <td>Keylor Navas</td>\n",
       "    </tr>\n",
       "  </tbody>\n",
       "</table>\n",
       "<p>5 rows × 21 columns</p>\n",
       "</div>"
      ],
      "text/plain": [
       "   Rk            Squad Country  LgRk  MP   W  D  L  GF  GA  ...  Pts  Pts/G  \\\n",
       "0   1  Manchester City     ENG     1  37  28  6  3  96  24  ...   90   2.43   \n",
       "1   2        Liverpool     ENG     2  36  26  8  2  89  24  ...   86   2.39   \n",
       "2   3      Real Madrid     ESP     1  37  26  7  4  80  31  ...   85   2.30   \n",
       "3   4    Bayern Munich     GER     1  34  24  5  5  97  37  ...   77   2.26   \n",
       "4   5        Paris S-G     FRA     1  37  25  8  4  85  36  ...   83   2.24   \n",
       "\n",
       "     xG   xGA   xGD  xGD/90     Last 5 Attendance          Top Team Scorer  \\\n",
       "0  86.1  26.8  59.3    1.60  W W W W D      52739     Kevin De Bruyne - 15   \n",
       "1  84.6  33.1  51.4    1.43  W W W D W      53367       Mohamed Salah - 22   \n",
       "2  73.0  45.8  27.2    0.73  W W L W D      40624       Karim Benzema - 27   \n",
       "3  88.1  37.1  51.0    1.50  W W L D D      33176  Robert Lewandowski - 35   \n",
       "4  71.6  38.1  33.4    0.90  W D D D W      41188       Kylian Mbappé - 25   \n",
       "\n",
       "         Goalkeeper  \n",
       "0           Ederson  \n",
       "1           Alisson  \n",
       "2  Thibaut Courtois  \n",
       "3      Manuel Neuer  \n",
       "4      Keylor Navas  \n",
       "\n",
       "[5 rows x 21 columns]"
      ]
     },
     "execution_count": 9,
     "metadata": {},
     "output_type": "execute_result"
    }
   ],
   "source": [
    "df=pd.read_csv('Lligues_europees_UEFA.csv', encoding=\"ISO-8859-1\",sep=';')\n",
    "df.head()"
   ]
  },
  {
   "cell_type": "markdown",
   "id": "06febc13",
   "metadata": {},
   "source": [
    "|Variable|Descripción|\n",
    "|--------|-----------|\n",
    "|Rk|Ranking|\n",
    "|Squad|Equipo|\n",
    "|country| País|\n",
    "|LgRk|Ranking en su liga (País)|\n",
    "|MP |Partidos jugados|\n",
    "|W|Partidos ganados|\n",
    "| D|Partidos empatados|\n",
    "|L |Partidos perdidos|\n",
    "|GF|Goles a favor|\n",
    "|GA|Goles en contra|\n",
    "|GD|Diferencia de goles: GF-GA |\n",
    "|Pts|Puntos|\n",
    "|Pts/G|Puntos Obtenidos entre partidos jugados. Pts/MP  |\n",
    "|xG | El número de goles esperados de uno o varios jugadores, depende de la calidad de los tiros|\n",
    "|xGA | La cantidad de goles esperados de los oponentes depende de la calidad de los tiros|\n",
    "|xGD | La diferencia entre los goles anotados esperados y los fallados esperados. xGD=xG-xGA|\n",
    "|xGA/90 | El número de goles esperados de los oponentes en 90 minutos|\n",
    "|Last 5|Resultado de los últimos 5 partidos. Codificado en W,D o L|\n",
    "|Attendance|Número de personas que asisten a un partido|\n",
    "|Top Team Scorer|Máximo goleador del equipo|\n",
    "|Goalkeeper|Portero con más mínutos|"
   ]
  },
  {
   "cell_type": "code",
   "execution_count": 14,
   "id": "3b31308a",
   "metadata": {},
   "outputs": [
    {
     "data": {
      "text/plain": [
       "Index(['Rk', 'Squad', 'Country', 'LgRk', 'MP', 'W', 'D', 'L', 'GF', 'GA', 'GD',\n",
       "       'Pts', 'Pts/G', 'xG', 'xGA', 'xGD', 'xGD/90', 'Last 5', 'Attendance',\n",
       "       'Top Team Scorer', 'Goalkeeper'],\n",
       "      dtype='object')"
      ]
     },
     "execution_count": 14,
     "metadata": {},
     "output_type": "execute_result"
    }
   ],
   "source": [
    "df.columns"
   ]
  },
  {
   "cell_type": "markdown",
   "id": "3f7287ef",
   "metadata": {},
   "source": [
    "## Pruebas de hipótesis\n",
    "\n",
    "**$H_{0}$**\n",
    "\n",
    "La hipótesis nula es la suposición más básica basada en el conocimiento sobre el dominio. Por ejemplo, la velocidad media de mecanografía de una persona es de 38-40 palabras por minuto.\n",
    "\n",
    "**$H_{1}$**\n",
    "\n",
    "Una hipótesis alternativa es una hipótesis diferente que se opone a la hipótesis nula. La tarea principal aquí es aceptar o rechazar la hipótesis alternativa basándonos en los resultados de la experimentación. Por ejemplo, la velocidad media de mecanografía de una persona es siempre inferior a 38- 40 palabras por minuto. Podemos aceptar o rechazar esta hipótesis basándonos en determinados hechos. Por ejemplo, podemos encontrar a una persona que pueda teclear a una velocidad de 38 palabras por minuto y eso refutará esta hipótesis. Por lo tanto, podemos rechazar esta afirmación."
   ]
  },
  {
   "cell_type": "markdown",
   "id": "01c3e356",
   "metadata": {},
   "source": [
    "# Ejercicio 1\n",
    "Descargue el dataset adjunto de datos oficiales de la UEFA y seleccione un atributo del conjunto de datos. Calcule el **p-valor** y diga si rechaza la hipótesis nula cogiendo un alfa de 5%."
   ]
  },
  {
   "cell_type": "markdown",
   "id": "0322997b",
   "metadata": {},
   "source": [
    "# Solución"
   ]
  },
  {
   "cell_type": "markdown",
   "id": "d8eafff4",
   "metadata": {},
   "source": [
    "El primer conjunto de pruebas que examinaremos comprueba si los datos pertenecen a una distribución normal. La primera forma de comprobarlo consiste simplemente en trazar un histograma. Sin embargo, existen otras pruebas para comprobar si algo procede de una distribución normal, como la prueba de Anderson-Darling, la prueba de Shapiro-Wilk y la prueba de Kolmogorov- Smirnov (KS). Aquí utilizaremos la prueba KS porque también se puede utilizar para cualquier distribución, no sólo la gaussiana."
   ]
  },
  {
   "cell_type": "markdown",
   "id": "0c2cc277",
   "metadata": {},
   "source": [
    "#### Gráficos de probabilidad\n",
    "\n",
    "En estadística existen diferentes herramientas para la evaluación visual de las distribuciones. Existen diferentes métodos gráficos para comparar dos distribuciones de probabilidad trazando sus cuantiles, o parámetros estrechamente relacionados, entre sí:"
   ]
  },
  {
   "cell_type": "markdown",
   "id": "a6f717b9",
   "metadata": {},
   "source": [
    "QQ-Plots La \"Q\" en QQ-plot significa cuantil. Los cuantiles de un conjunto de datos determinado se comparan con los cuantiles de una distribución de referencia, normalmente la distribución normal estándar."
   ]
  },
  {
   "cell_type": "code",
   "execution_count": 23,
   "id": "89ac9e6f",
   "metadata": {},
   "outputs": [
    {
     "data": {
      "image/png": "[encoded data removed]",
      "text/plain": [
       "<Figure size 432x288 with 1 Axes>"
      ]
     },
     "metadata": {
      "needs_background": "light"
     },
     "output_type": "display_data"
    },
    {
     "data": {
      "image/png": "[encoded data removed]",
      "text/plain": [
       "<Figure size 360x360 with 1 Axes>"
      ]
     },
     "metadata": {
      "needs_background": "light"
     },
     "output_type": "display_data"
    }
   ],
   "source": [
    "stats.probplot(df['Pts/G'], plot=plt);\n",
    "sns.displot(df,x='Pts/G',kde=True);"
   ]
  },
  {
   "cell_type": "markdown",
   "id": "20f7fe52",
   "metadata": {},
   "source": [
    "#### Pruebas de normalidad\n",
    "\n",
    "Las pruebas de normalidad pueden plantear una serie de problemas: a veces sólo se dispone de unas pocas muestras, mientras que otras veces se puede disponer de muchos datos, pero con algunos valores extremadamente periféricos. Para hacer frente a las distintas situaciones, se han desarrollado diferentes pruebas de normalidad. Estas pruebas para evaluar la normalidad (o la similitud con alguna distribución específica) pueden dividirse a grandes rasgos en dos categorías:\n",
    "\n",
    "1. Pruebas basadas en la comparación (\"mejor ajuste\") con una distribución dada, a menudo especificada en términos de su FCD. Algunos ejemplos son la prueba de Kolmogorov-Smirnov, la prueba de Lilliefors, la prueba de Anderson-Darling, el criterio de Cramer-von Mises, así como las pruebas de Shapiro-Wilk y Shapiro-Francia.\n",
    "\n",
    "2. Pruebas basadas en estadísticas descriptivas de la muestra. Algunos ejemplos son la prueba de asimetría, la prueba de curtosis, la prueba ómnibus de D'Agostino-Pearson o la prueba de Jarque-Bera."
   ]
  },
  {
   "cell_type": "code",
   "execution_count": 25,
   "id": "539efe51",
   "metadata": {},
   "outputs": [
    {
     "name": "stdout",
     "output_type": "stream",
     "text": [
      "stat=0.972, p=0.035\n",
      "Probabilidad no Gaussiana\n"
     ]
    }
   ],
   "source": [
    "stat, p = shapiro(df['Pts/G'])\n",
    "print('stat=%.3f, p=%.3f' % (stat, p))\n",
    "if p > 0.05:\n",
    "    print('Probabilidad Gaussiana')\n",
    "else:\n",
    "    print('Probabilidad no Gaussiana')"
   ]
  },
  {
   "cell_type": "markdown",
   "id": "e16b12e4",
   "metadata": {},
   "source": [
    "## Ejercicio 2\n",
    "Con el mismo dataset seleccione dos otros atributos del conjunto de datos. Calcule los **p-valores** y diga si rechazan la hipótesis nula cogiendo un alfa de 5%."
   ]
  },
  {
   "cell_type": "markdown",
   "id": "4d268121",
   "metadata": {},
   "source": [
    "# Solución"
   ]
  },
  {
   "cell_type": "code",
   "execution_count": 45,
   "id": "328a9c1d",
   "metadata": {},
   "outputs": [],
   "source": [
    "df_ENG = df.query('Country == \"ENG\"')['W']\n",
    "df_ESP = df.query('Country == \"ESP\"')['W']"
   ]
  },
  {
   "cell_type": "code",
   "execution_count": 46,
   "id": "4eeefdb5",
   "metadata": {},
   "outputs": [
    {
     "data": {
      "text/plain": [
       "TtestResult(statistic=0.4789324143814771, pvalue=0.6348186652028005, df=36.82214649368945)"
      ]
     },
     "execution_count": 46,
     "metadata": {},
     "output_type": "execute_result"
    }
   ],
   "source": [
    "ttest_ind(df_ENG, df_ESP, equal_var= False)"
   ]
  },
  {
   "cell_type": "code",
   "execution_count": 48,
   "id": "6f12ff6c",
   "metadata": {},
   "outputs": [
    {
     "data": {
      "text/html": [
       "<div>\n",
       "<style scoped>\n",
       "    .dataframe tbody tr th:only-of-type {\n",
       "        vertical-align: middle;\n",
       "    }\n",
       "\n",
       "    .dataframe tbody tr th {\n",
       "        vertical-align: top;\n",
       "    }\n",
       "\n",
       "    .dataframe thead th {\n",
       "        text-align: right;\n",
       "    }\n",
       "</style>\n",
       "<table border=\"1\" class=\"dataframe\">\n",
       "  <thead>\n",
       "    <tr style=\"text-align: right;\">\n",
       "      <th></th>\n",
       "      <th>count</th>\n",
       "      <th>mean</th>\n",
       "      <th>std</th>\n",
       "      <th>min</th>\n",
       "      <th>25%</th>\n",
       "      <th>50%</th>\n",
       "      <th>75%</th>\n",
       "      <th>max</th>\n",
       "    </tr>\n",
       "    <tr>\n",
       "      <th>Country</th>\n",
       "      <th></th>\n",
       "      <th></th>\n",
       "      <th></th>\n",
       "      <th></th>\n",
       "      <th></th>\n",
       "      <th></th>\n",
       "      <th></th>\n",
       "      <th></th>\n",
       "    </tr>\n",
       "  </thead>\n",
       "  <tbody>\n",
       "    <tr>\n",
       "      <th>ENG</th>\n",
       "      <td>20.0</td>\n",
       "      <td>13.95</td>\n",
       "      <td>6.45205</td>\n",
       "      <td>5.0</td>\n",
       "      <td>9.75</td>\n",
       "      <td>13.0</td>\n",
       "      <td>17.0</td>\n",
       "      <td>28.0</td>\n",
       "    </tr>\n",
       "    <tr>\n",
       "      <th>ESP</th>\n",
       "      <td>20.0</td>\n",
       "      <td>13.05</td>\n",
       "      <td>5.38492</td>\n",
       "      <td>7.0</td>\n",
       "      <td>8.75</td>\n",
       "      <td>11.5</td>\n",
       "      <td>17.0</td>\n",
       "      <td>26.0</td>\n",
       "    </tr>\n",
       "  </tbody>\n",
       "</table>\n",
       "</div>"
      ],
      "text/plain": [
       "         count   mean      std  min   25%   50%   75%   max\n",
       "Country                                                    \n",
       "ENG       20.0  13.95  6.45205  5.0  9.75  13.0  17.0  28.0\n",
       "ESP       20.0  13.05  5.38492  7.0  8.75  11.5  17.0  26.0"
      ]
     },
     "execution_count": 48,
     "metadata": {},
     "output_type": "execute_result"
    }
   ],
   "source": [
    "df.groupby('Country')['W'].describe().iloc[0:2]\n"
   ]
  },
  {
   "cell_type": "code",
   "execution_count": 52,
   "id": "db23f0c5",
   "metadata": {},
   "outputs": [
    {
     "data": {
      "text/plain": [
       "0.22417263686656952"
      ]
     },
     "execution_count": 52,
     "metadata": {},
     "output_type": "execute_result"
    }
   ],
   "source": [
    "stats.shapiro(df_ENG)[1]"
   ]
  },
  {
   "cell_type": "code",
   "execution_count": 53,
   "id": "5b69c3c8",
   "metadata": {},
   "outputs": [
    {
     "data": {
      "text/plain": [
       "0.052266813814640045"
      ]
     },
     "execution_count": 53,
     "metadata": {},
     "output_type": "execute_result"
    }
   ],
   "source": [
    "stats.shapiro(df_ESP)[1]"
   ]
  },
  {
   "cell_type": "markdown",
   "id": "fd0d9d37",
   "metadata": {},
   "source": [
    "## Ejercicio 3\n",
    "Continúe con el conjunto de datos adjunto y seleccione tres atributos del conjunto de datos. Calcule los **p-valores** y diga si rechaza la hipótesis nula cogiendo un alfa de 5%."
   ]
  },
  {
   "cell_type": "markdown",
   "id": "db8ae9ba",
   "metadata": {},
   "source": [
    "# Solución"
   ]
  },
  {
   "cell_type": "code",
   "execution_count": 30,
   "id": "da60c163",
   "metadata": {},
   "outputs": [],
   "source": [
    "ligue_ENG=df[df.Country=='GER']\n",
    "ligue_ESP=df[df.Country=='ESP']"
   ]
  },
  {
   "cell_type": "code",
   "execution_count": 31,
   "id": "2ab9e55f",
   "metadata": {},
   "outputs": [
    {
     "data": {
      "text/plain": [
       "TtestResult(statistic=-0.6337396111625078, pvalue=0.5302569997280637, df=36.0)"
      ]
     },
     "execution_count": 31,
     "metadata": {},
     "output_type": "execute_result"
    }
   ],
   "source": [
    "ttest_ind(ligue_ENG['Pts'], ligue_ESP['Pts'])"
   ]
  },
  {
   "cell_type": "code",
   "execution_count": null,
   "id": "77a50617",
   "metadata": {},
   "outputs": [],
   "source": []
  }
 ],
 "metadata": {
  "kernelspec": {
   "display_name": "Python 3 (ipykernel)",
   "language": "python",
   "name": "python3"
  },
  "language_info": {
   "codemirror_mode": {
    "name": "ipython",
    "version": 3
   },
   "file_extension": ".py",
   "mimetype": "text/x-python",
   "name": "python",
   "nbconvert_exporter": "python",
   "pygments_lexer": "ipython3",
   "version": "3.9.2"
  }
 },
 "nbformat": 4,
 "nbformat_minor": 5
}
