{
 "cells": [
  {
   "cell_type": "code",
   "execution_count": 4,
   "id": "8bee2e85",
   "metadata": {},
   "outputs": [],
   "source": [
    "import numpy as np\n",
    "import pandas as pd\n",
    "import matplotlib.pyplot as plt\n",
    "import seaborn as sns\n",
    "import nltk\n",
    "from collections import Counter\n",
    "from nltk.tokenize import word_tokenize\n",
    "from nltk.corpus import stopwords\n",
    "from nltk.stem.snowball import SnowballStemmer\n",
    "from nltk.sentiment.vader import SentimentIntensityAnalyzer"
   ]
  },
  {
   "cell_type": "code",
   "execution_count": 2,
   "id": "working-purple",
   "metadata": {},
   "outputs": [
    {
     "name": "stderr",
     "output_type": "stream",
     "text": [
      "[nltk_data] Downloading package punkt to /home/richi/nltk_data...\n",
      "[nltk_data]   Package punkt is already up-to-date!\n",
      "[nltk_data] Downloading package stopwords to /home/richi/nltk_data...\n",
      "[nltk_data]   Package stopwords is already up-to-date!\n",
      "[nltk_data] Downloading package vader_lexicon to\n",
      "[nltk_data]     /home/richi/nltk_data...\n"
     ]
    },
    {
     "data": {
      "text/plain": [
       "True"
      ]
     },
     "execution_count": 2,
     "metadata": {},
     "output_type": "execute_result"
    }
   ],
   "source": [
    "nltk.download('punkt')\n",
    "nltk.download('stopwords')\n",
    "nltk.download('vader_lexicon')"
   ]
  },
  {
   "cell_type": "markdown",
   "id": "645e71f2",
   "metadata": {},
   "source": [
    "**Ejercicios de análisis de sentimiento y textos.**"
   ]
  },
  {
   "cell_type": "markdown",
   "id": "1acd8915",
   "metadata": {},
   "source": [
    "### Objetivos \n",
    "* Realizar minería de textos. \n",
    "* Interpretación de los textos\n",
    "* Análisis de los resultados."
   ]
  },
  {
   "cell_type": "markdown",
   "id": "87a9cda9",
   "metadata": {},
   "source": [
    "# Ejercicio 1\n",
    "\n",
    "Agarre un texto en inglés que quiera, y calcule la frecuencia de sus palabras.\n"
   ]
  },
  {
   "cell_type": "markdown",
   "id": "dd3c53bc",
   "metadata": {},
   "source": [
    "# Solución"
   ]
  },
  {
   "cell_type": "markdown",
   "id": "consecutive-netherlands",
   "metadata": {},
   "source": [
    "## 1.1 EDA"
   ]
  },
  {
   "cell_type": "markdown",
   "id": "swedish-background",
   "metadata": {},
   "source": [
    "1. Leer texto del file.txt"
   ]
  },
  {
   "cell_type": "code",
   "execution_count": 11,
   "id": "statewide-fighter",
   "metadata": {},
   "outputs": [
    {
     "name": "stdout",
     "output_type": "stream",
     "text": [
      "One potential disadvantage of K-means clustering is that it requires us to pre-specify the number of clusters K. Hierarchical clustering is an alternative approach which does not require that we commit to a particular choice of K. Hierarchical clustering has an added advantage over K-means clustering in that it results in an attractive tree-based representation of the observations, called a dendrogram.\n",
      "\n"
     ]
    }
   ],
   "source": [
    "text_file=open('file.txt','r')\n",
    "text=text_file.read()\n",
    "print(text)"
   ]
  },
  {
   "cell_type": "code",
   "execution_count": 12,
   "id": "tropical-intensity",
   "metadata": {},
   "outputs": [
    {
     "name": "stdout",
     "output_type": "stream",
     "text": [
      "[('of', 4), ('clustering', 4), ('that', 3), ('an', 3), ('K-means', 2), ('is', 2), ('it', 2), ('to', 2), ('the', 2), ('K.', 2), ('Hierarchical', 2), ('a', 2), ('in', 2), ('One', 1), ('potential', 1), ('disadvantage', 1), ('requires', 1), ('us', 1), ('pre-specify', 1), ('number', 1), ('clusters', 1), ('alternative', 1), ('approach', 1), ('which', 1), ('does', 1), ('not', 1), ('require', 1), ('we', 1), ('commit', 1), ('particular', 1), ('choice', 1), ('has', 1), ('added', 1), ('advantage', 1), ('over', 1), ('results', 1), ('attractive', 1), ('tree-based', 1), ('representation', 1), ('observations,', 1), ('called', 1), ('dendrogram.', 1)]\n"
     ]
    }
   ],
   "source": [
    "freq = Counter(text.split()).most_common()\n",
    "#freq = Counter(text.split())\n",
    "print(freq)"
   ]
  },
  {
   "cell_type": "markdown",
   "id": "republican-elizabeth",
   "metadata": {},
   "source": [
    "2. Graficar las frecuencia de las palabras."
   ]
  },
  {
   "cell_type": "code",
   "execution_count": 13,
   "id": "cooked-liabilities",
   "metadata": {},
   "outputs": [
    {
     "data": {
      "image/png": "[encoded data removed]",
      "text/plain": [
       "<Figure size 720x576 with 1 Axes>"
      ]
     },
     "metadata": {
      "needs_background": "light"
     },
     "output_type": "display_data"
    }
   ],
   "source": [
    "fdistribution = nltk.FreqDist(text.split())\n",
    "f=plt.figure(figsize=(10,8))\n",
    "fdistribution.plot()\n",
    "plt.show()"
   ]
  },
  {
   "cell_type": "markdown",
   "id": "e16b12e4",
   "metadata": {},
   "source": [
    "# Ejercicio 2\n",
    "\n",
    "Extraiga las **stopwords** y realice **stemming** en su conjunto de datos."
   ]
  },
  {
   "cell_type": "markdown",
   "id": "widespread-tribe",
   "metadata": {},
   "source": [
    "## 2.1  Eliminación de palabras vacías (stopwords)\n",
    "\n",
    "Cuando trabajamos con palabras, sobre todo si tenemos en cuenta su semántica, a veces necesitamos excluir algunas palabras muy frecuentes que no aportan ningún significado sustancial a una frase, palabras como pero, podemos, nosotros, etc. Esta técnica explica cómo hacerlo."
   ]
  },
  {
   "cell_type": "markdown",
   "id": "4d268121",
   "metadata": {},
   "source": [
    "# Solución"
   ]
  },
  {
   "cell_type": "markdown",
   "id": "signal-ranking",
   "metadata": {},
   "source": [
    "1. Introduzca la lista de palabras vacías de NLTK:"
   ]
  },
  {
   "cell_type": "code",
   "execution_count": 16,
   "id": "average-proposal",
   "metadata": {},
   "outputs": [
    {
     "name": "stdout",
     "output_type": "stream",
     "text": [
      "179\n"
     ]
    },
    {
     "data": {
      "text/plain": [
       "['i', 'me', 'my', 'myself', 'we', 'our', 'ours', 'ourselves', 'you', \"you're\"]"
      ]
     },
     "execution_count": 16,
     "metadata": {},
     "output_type": "execute_result"
    }
   ],
   "source": [
    "stoplist = stopwords.words('english')\n",
    "print(len(stoplist))\n",
    "list(stoplist)[:10]"
   ]
  },
  {
   "cell_type": "markdown",
   "id": "familiar-cover",
   "metadata": {},
   "source": [
    "#### Información\n",
    "\n",
    "Esta es la lista de idiomas que NLTK admite para las palabras vacías: Arabic, Azerbaijani, Danish, Dutch, English, Finnish, French, German, Greek, Hungarian, Italian, Kazakh, Nepali, Norwegian, Portuguese, Romanian, Russian, Spanish, Swedish, y Turkish."
   ]
  },
  {
   "cell_type": "markdown",
   "id": "extra-mainstream",
   "metadata": {},
   "source": [
    "2. Dividir las frases en palabras - tokenización"
   ]
  },
  {
   "cell_type": "code",
   "execution_count": 17,
   "id": "premium-parameter",
   "metadata": {},
   "outputs": [],
   "source": [
    "cleanwordlist = nltk.tokenize.word_tokenize(text)"
   ]
  },
  {
   "cell_type": "markdown",
   "id": "broad-things",
   "metadata": {},
   "source": [
    "3. Eliminar las palabras vacías:"
   ]
  },
  {
   "cell_type": "code",
   "execution_count": 18,
   "id": "lesser-cartridge",
   "metadata": {},
   "outputs": [],
   "source": [
    "cleanwordlist = [word for word in text.split() if word not in stoplist]"
   ]
  },
  {
   "cell_type": "markdown",
   "id": "generic-hunter",
   "metadata": {},
   "source": [
    "4. El resultado será el siguiente:"
   ]
  },
  {
   "cell_type": "code",
   "execution_count": 20,
   "id": "anticipated-patent",
   "metadata": {},
   "outputs": [
    {
     "name": "stdout",
     "output_type": "stream",
     "text": [
      "['One', 'potential', 'disadvantage', 'K-means', 'clustering', 'requires', 'us', 'pre-specify', 'number', 'clusters', 'K.', 'Hierarchical', 'clustering', 'alternative', 'approach', 'require', 'commit', 'particular', 'choice', 'K.', 'Hierarchical', 'clustering', 'added', 'advantage', 'K-means', 'clustering', 'results', 'attractive', 'tree-based', 'representation', 'observations,', 'called', 'dendrogram.']\n"
     ]
    }
   ],
   "source": [
    "print(cleanwordlist)"
   ]
  },
  {
   "cell_type": "code",
   "execution_count": 21,
   "id": "funky-edmonton",
   "metadata": {},
   "outputs": [
    {
     "data": {
      "text/plain": [
       "[('clustering', 4),\n",
       " ('K-means', 2),\n",
       " ('K.', 2),\n",
       " ('Hierarchical', 2),\n",
       " ('One', 1),\n",
       " ('potential', 1),\n",
       " ('disadvantage', 1),\n",
       " ('requires', 1),\n",
       " ('us', 1),\n",
       " ('pre-specify', 1)]"
      ]
     },
     "execution_count": 21,
     "metadata": {},
     "output_type": "execute_result"
    }
   ],
   "source": [
    "fd = nltk.FreqDist(cleanwordlist)\n",
    "fd.most_common(10)"
   ]
  },
  {
   "cell_type": "markdown",
   "id": "medieval-wright",
   "metadata": {},
   "source": [
    "# 2.2 Separación de palabras (stemming)\n",
    "\n",
    "En algunas tareas de NLP es necesario separar las palabras, es decir, eliminar los sufijos y terminaciones como -ing and -ed. Esta técnica explica cómo hacerlo."
   ]
  },
  {
   "cell_type": "code",
   "execution_count": 47,
   "id": "informational-villa",
   "metadata": {},
   "outputs": [
    {
     "name": "stdout",
     "output_type": "stream",
     "text": [
      "One potential disadvantage of K-means clustering is that it requires us to pre-specify the number of clusters K. Hierarchical clustering is an alternative approach which does not require that we commit to a particular choice of K. Hierarchical clustering has an added advantage over K-means clustering in that it results in an attractive tree-based representation of the observations, called a dendrogram.\n",
      "\n"
     ]
    }
   ],
   "source": [
    "print(text)"
   ]
  },
  {
   "cell_type": "markdown",
   "id": "parliamentary-antigua",
   "metadata": {},
   "source": [
    "1. Inicializamos el objeto **stemmer** con el inglés como lengua de entrada."
   ]
  },
  {
   "cell_type": "code",
   "execution_count": 67,
   "id": "assigned-railway",
   "metadata": {},
   "outputs": [],
   "source": [
    "stemmer = SnowballStemmer('english')"
   ]
  },
  {
   "cell_type": "markdown",
   "id": "biological-consultancy",
   "metadata": {},
   "source": [
    "2. Creamos una lista con las palabras que queremos acortar. "
   ]
  },
  {
   "cell_type": "code",
   "execution_count": 51,
   "id": "genetic-standing",
   "metadata": {},
   "outputs": [],
   "source": [
    "words = ['clustering', 'requires', 'results', 'representation','Hierarchical', 'called']"
   ]
  },
  {
   "cell_type": "markdown",
   "id": "applicable-ceremony",
   "metadata": {},
   "source": [
    "3. Creamos una lista con las palabras acortadas."
   ]
  },
  {
   "cell_type": "code",
   "execution_count": 59,
   "id": "living-success",
   "metadata": {},
   "outputs": [
    {
     "name": "stdout",
     "output_type": "stream",
     "text": [
      "['cluster', 'requir', 'result', 'represent', 'hierarch', 'call']\n"
     ]
    }
   ],
   "source": [
    "stemmed_words = [stemmer.stem(word) for word in words]\n",
    "print(stemmed_words)"
   ]
  },
  {
   "cell_type": "markdown",
   "id": "passive-kingdom",
   "metadata": {},
   "source": [
    "## 2.3 Además...\n",
    "\n",
    "El NLTK Snowball Stemmer tiene algoritmos para varios idiomas. Para ver todos los idiomas que utiliza el NLTK Snowball Stemmer, utilice este comando:"
   ]
  },
  {
   "cell_type": "code",
   "execution_count": 54,
   "id": "compact-iraqi",
   "metadata": {},
   "outputs": [
    {
     "name": "stdout",
     "output_type": "stream",
     "text": [
      "('arabic', 'danish', 'dutch', 'english', 'finnish', 'french', 'german', 'hungarian', 'italian', 'norwegian', 'porter', 'portuguese', 'romanian', 'russian', 'spanish', 'swedish')\n"
     ]
    }
   ],
   "source": [
    "print(SnowballStemmer.languages)"
   ]
  },
  {
   "cell_type": "markdown",
   "id": "3b6f4ab5",
   "metadata": {},
   "source": [
    "# Ejercicio 3\n",
    "Realice análisis de sentimiento en su conjunto de datos."
   ]
  },
  {
   "cell_type": "markdown",
   "id": "tamil-editing",
   "metadata": {},
   "source": [
    "## 3.1 Análisis de sentimientos\n",
    "\n",
    "El análisis sentimental es un nuevo campo de investigación que se ha desarrollado muy recientemente con el fin de evaluar las opiniones de las personas sobre un tema concreto. Esta disciplina se basa en diferentes técnicas que utilizan el análisis de textos y su campo de trabajo en el mundo de las redes sociales y los foros (minería de opiniones).\n",
    "\n",
    "En esta técnica, utilizaremos dos herramientas sencillas para etiquetar una frase como de sentimiento positivo o negativo. La primera herramienta es el analizador de sentimiento NLTK Vader, y la segunda utiliza el paquete textblob."
   ]
  },
  {
   "cell_type": "markdown",
   "id": "d9ad03dc",
   "metadata": {},
   "source": [
    "# Solución"
   ]
  },
  {
   "cell_type": "code",
   "execution_count": 7,
   "id": "regular-merit",
   "metadata": {},
   "outputs": [],
   "source": [
    "vader = SentimentIntensityAnalyzer()"
   ]
  },
  {
   "cell_type": "code",
   "execution_count": 8,
   "id": "binary-fleet",
   "metadata": {},
   "outputs": [],
   "source": [
    "def get_sentiment(text):\n",
    "    return vader.polarity_scores(text.lower())['compound']\n",
    "#vader.polarity_scores(text)"
   ]
  },
  {
   "cell_type": "code",
   "execution_count": 9,
   "id": "guided-result",
   "metadata": {},
   "outputs": [
    {
     "data": {
      "text/plain": [
       "0.5574"
      ]
     },
     "execution_count": 9,
     "metadata": {},
     "output_type": "execute_result"
    }
   ],
   "source": [
    "get_sentiment(text)"
   ]
  },
  {
   "cell_type": "code",
   "execution_count": 10,
   "id": "forward-harvest",
   "metadata": {},
   "outputs": [
    {
     "data": {
      "text/plain": [
       "{'neg': 0.043, 'neu': 0.828, 'pos': 0.129, 'compound': 0.5574}"
      ]
     },
     "execution_count": 10,
     "metadata": {},
     "output_type": "execute_result"
    }
   ],
   "source": [
    "vader.polarity_scores(text)"
   ]
  },
  {
   "cell_type": "code",
   "execution_count": null,
   "id": "unusual-healthcare",
   "metadata": {},
   "outputs": [],
   "source": []
  }
 ],
 "metadata": {
  "kernelspec": {
   "display_name": "Python 3",
   "language": "python",
   "name": "python3"
  },
  "language_info": {
   "codemirror_mode": {
    "name": "ipython",
    "version": 3
   },
   "file_extension": ".py",
   "mimetype": "text/x-python",
   "name": "python",
   "nbconvert_exporter": "python",
   "pygments_lexer": "ipython3",
   "version": "3.9.2"
  }
 },
 "nbformat": 4,
 "nbformat_minor": 5
}
