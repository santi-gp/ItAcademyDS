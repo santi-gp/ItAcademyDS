{
 "cells": [
  {
   "cell_type": "code",
   "execution_count": 109,
   "id": "8bee2e85",
   "metadata": {},
   "outputs": [],
   "source": [
    "import numpy as np\n",
    "import pandas as pd\n",
    "import matplotlib.pyplot as plt\n",
    "import seaborn as sns\n",
    "import nltk\n",
    "from collections import Counter\n",
    "from nltk.tokenize import word_tokenize, sent_tokenize\n",
    "from nltk.corpus import stopwords\n",
    "from nltk.stem.snowball import SnowballStemmer\n",
    "from nltk.sentiment.vader import SentimentIntensityAnalyzer"
   ]
  },
  {
   "cell_type": "code",
   "execution_count": 2,
   "id": "working-purple",
   "metadata": {},
   "outputs": [
    {
     "name": "stderr",
     "output_type": "stream",
     "text": [
      "[nltk_data] Downloading package punkt to /home/richi/nltk_data...\n",
      "[nltk_data]   Package punkt is already up-to-date!\n",
      "[nltk_data] Downloading package stopwords to /home/richi/nltk_data...\n",
      "[nltk_data]   Package stopwords is already up-to-date!\n",
      "[nltk_data] Downloading package vader_lexicon to\n",
      "[nltk_data]     /home/richi/nltk_data...\n",
      "[nltk_data]   Package vader_lexicon is already up-to-date!\n"
     ]
    },
    {
     "data": {
      "text/plain": [
       "True"
      ]
     },
     "execution_count": 2,
     "metadata": {},
     "output_type": "execute_result"
    }
   ],
   "source": [
    "nltk.download('punkt')\n",
    "nltk.download('stopwords')\n",
    "nltk.download('vader_lexicon')"
   ]
  },
  {
   "cell_type": "markdown",
   "id": "645e71f2",
   "metadata": {},
   "source": [
    "**Ejercicios de análisis de sentimiento y textos.**"
   ]
  },
  {
   "cell_type": "markdown",
   "id": "1acd8915",
   "metadata": {},
   "source": [
    "### Objetivos \n",
    "* Realizar minería de textos. \n",
    "* Interpretación de los textos\n",
    "* Análisis de los resultados."
   ]
  },
  {
   "cell_type": "markdown",
   "id": "87a9cda9",
   "metadata": {},
   "source": [
    "# Ejercicio 1\n",
    "\n",
    "Agarre un texto en inglés que quiera, y calcule la frecuencia de sus palabras.\n"
   ]
  },
  {
   "cell_type": "markdown",
   "id": "dd3c53bc",
   "metadata": {},
   "source": [
    "# Solución"
   ]
  },
  {
   "cell_type": "markdown",
   "id": "swedish-background",
   "metadata": {},
   "source": [
    "1. Leer texto del file.txt"
   ]
  },
  {
   "cell_type": "code",
   "execution_count": 92,
   "id": "statewide-fighter",
   "metadata": {},
   "outputs": [
    {
     "name": "stdout",
     "output_type": "stream",
     "text": [
      "Devouring Time, blunt thou the lion's paws,\n",
      "And make the earth devour her own sweet brood;\n",
      "Pluck the keen teeth from the fierce tiger's jaws,\n",
      "And burn the long-lived phoenix in her blood;\n",
      "Make glad and sorry seasons as thou fleet'st,\n",
      "And do whate'er thou wilt, swift-footed Time,\n",
      "To the wide world and all her fading sweets;\n",
      "But I forbid thee one most heinous crime:\n",
      "O! carve not with thy hours my love's fair brow,\n",
      "Nor draw no lines there with thine antique pen;\n",
      "Him in thy course untainted do allow\n",
      "For beauty's pattern to succeeding men.\n",
      "Yet, do thy worst old Time: despite thy wrong,\n",
      "My love shall in my verse ever live young.\n",
      "\n"
     ]
    }
   ],
   "source": [
    "text_file=open('file.txt','r',encoding=\"utf-8\")\n",
    "text=text_file.read()\n",
    "print(text)"
   ]
  },
  {
   "cell_type": "markdown",
   "id": "animal-kinase",
   "metadata": {},
   "source": [
    "2. Sustituir las nuevas líneas por espacios:"
   ]
  },
  {
   "cell_type": "code",
   "execution_count": 93,
   "id": "documentary-ideal",
   "metadata": {},
   "outputs": [],
   "source": [
    "text=text.replace('\\n',\" \")"
   ]
  },
  {
   "cell_type": "markdown",
   "id": "beneficial-dubai",
   "metadata": {},
   "source": [
    "3. Analizar frecuencia de palabras."
   ]
  },
  {
   "cell_type": "code",
   "execution_count": 94,
   "id": "tropical-intensity",
   "metadata": {},
   "outputs": [
    {
     "name": "stdout",
     "output_type": "stream",
     "text": [
      "[('the', 6), ('thy', 4), ('thou', 3), ('And', 3), ('her', 3), ('in', 3), ('do', 3), ('Time,', 2), ('and', 2), ('with', 2), ('my', 2), ('Devouring', 1), ('blunt', 1), (\"lion's\", 1), ('paws,', 1), ('make', 1), ('earth', 1), ('devour', 1), ('own', 1), ('sweet', 1), ('brood;', 1), ('Pluck', 1), ('keen', 1), ('teeth', 1), ('from', 1), ('fierce', 1), (\"tiger's\", 1), ('jaws,', 1), ('burn', 1), ('long-lived', 1), ('phoenix', 1), ('blood;', 1), ('Make', 1), ('glad', 1), ('sorry', 1), ('seasons', 1), ('as', 1), (\"fleet'st,\", 1), (\"whate'er\", 1), ('wilt,', 1), ('swift-footed', 1), ('To', 1), ('wide', 1), ('world', 1), ('all', 1), ('fading', 1), ('sweets;', 1), ('But', 1), ('I', 1), ('forbid', 1), ('thee', 1), ('one', 1), ('most', 1), ('heinous', 1), ('crime:', 1), ('O!', 1), ('carve', 1), ('not', 1), ('hours', 1), (\"love's\", 1), ('fair', 1), ('brow,', 1), ('Nor', 1), ('draw', 1), ('no', 1), ('lines', 1), ('there', 1), ('thine', 1), ('antique', 1), ('pen;', 1), ('Him', 1), ('course', 1), ('untainted', 1), ('allow', 1), ('For', 1), (\"beauty's\", 1), ('pattern', 1), ('to', 1), ('succeeding', 1), ('men.', 1), ('Yet,', 1), ('worst', 1), ('old', 1), ('Time:', 1), ('despite', 1), ('wrong,', 1), ('My', 1), ('love', 1), ('shall', 1), ('verse', 1), ('ever', 1), ('live', 1), ('young.', 1)]\n"
     ]
    }
   ],
   "source": [
    "freq = Counter(text.split()).most_common()\n",
    "#freq = Counter(text.split())\n",
    "print(freq)"
   ]
  },
  {
   "cell_type": "markdown",
   "id": "republican-elizabeth",
   "metadata": {},
   "source": [
    "2. Graficar las 30  palabras con más frecuencia."
   ]
  },
  {
   "cell_type": "code",
   "execution_count": 115,
   "id": "cooked-liabilities",
   "metadata": {},
   "outputs": [
    {
     "data": {
      "image/png": "[encoded data removed]",
      "text/plain": [
       "<Figure size 720x576 with 1 Axes>"
      ]
     },
     "metadata": {
      "needs_background": "light"
     },
     "output_type": "display_data"
    }
   ],
   "source": [
    "fdistribution = nltk.FreqDist(text.split())\n",
    "f=plt.figure(figsize=(10,8))\n",
    "fdistribution.plot(30)\n",
    "plt.show()"
   ]
  },
  {
   "cell_type": "markdown",
   "id": "e16b12e4",
   "metadata": {},
   "source": [
    "# Ejercicio 2\n",
    "\n",
    "Extraiga las **stopwords** y realice **stemming** en su conjunto de datos."
   ]
  },
  {
   "cell_type": "markdown",
   "id": "widespread-tribe",
   "metadata": {},
   "source": [
    "## 2.1  Eliminación de palabras vacías (stopwords)\n",
    "\n",
    "Cuando trabajamos con palabras, sobre todo si tenemos en cuenta su semántica, a veces necesitamos excluir algunas palabras muy frecuentes que no aportan ningún significado sustancial a una frase, palabras como pero, podemos, nosotros, etc. Esta técnica explica cómo hacerlo."
   ]
  },
  {
   "cell_type": "markdown",
   "id": "4d268121",
   "metadata": {},
   "source": [
    "# Solución"
   ]
  },
  {
   "cell_type": "markdown",
   "id": "signal-ranking",
   "metadata": {},
   "source": [
    "1. Introduzca la lista de palabras vacías de NLTK:"
   ]
  },
  {
   "cell_type": "code",
   "execution_count": 96,
   "id": "average-proposal",
   "metadata": {},
   "outputs": [
    {
     "name": "stdout",
     "output_type": "stream",
     "text": [
      "179\n"
     ]
    },
    {
     "data": {
      "text/plain": [
       "['i', 'me', 'my', 'myself', 'we', 'our', 'ours', 'ourselves', 'you', \"you're\"]"
      ]
     },
     "execution_count": 96,
     "metadata": {},
     "output_type": "execute_result"
    }
   ],
   "source": [
    "stoplist = stopwords.words('english')\n",
    "print(len(stoplist))\n",
    "list(stoplist)[:10]"
   ]
  },
  {
   "cell_type": "markdown",
   "id": "familiar-cover",
   "metadata": {},
   "source": [
    "#### Información\n",
    "\n",
    "Esta es la lista de idiomas que NLTK admite para las palabras vacías: Arabic, Azerbaijani, Danish, Dutch, English, Finnish, French, German, Greek, Hungarian, Italian, Kazakh, Nepali, Norwegian, Portuguese, Romanian, Russian, Spanish, Swedish, y Turkish."
   ]
  },
  {
   "cell_type": "markdown",
   "id": "extra-mainstream",
   "metadata": {},
   "source": [
    "2. Dividir el texto en palabras - tokenización"
   ]
  },
  {
   "cell_type": "code",
   "execution_count": 97,
   "id": "premium-parameter",
   "metadata": {},
   "outputs": [],
   "source": [
    "words = nltk.tokenize.word_tokenize(text)"
   ]
  },
  {
   "cell_type": "markdown",
   "id": "broad-things",
   "metadata": {},
   "source": [
    "3. Eliminar las palabras vacías:"
   ]
  },
  {
   "cell_type": "code",
   "execution_count": 98,
   "id": "lesser-cartridge",
   "metadata": {},
   "outputs": [],
   "source": [
    "words = [word for word in text.split() if word.lower() not in stoplist]"
   ]
  },
  {
   "cell_type": "markdown",
   "id": "generic-hunter",
   "metadata": {},
   "source": [
    "4. El resultado será el siguiente:"
   ]
  },
  {
   "cell_type": "code",
   "execution_count": 99,
   "id": "anticipated-patent",
   "metadata": {},
   "outputs": [
    {
     "name": "stdout",
     "output_type": "stream",
     "text": [
      "['Devouring', 'Time,', 'blunt', 'thou', \"lion's\", 'paws,', 'make', 'earth', 'devour', 'sweet', 'brood;', 'Pluck', 'keen', 'teeth', 'fierce', \"tiger's\", 'jaws,', 'burn', 'long-lived', 'phoenix', 'blood;', 'Make', 'glad', 'sorry', 'seasons', 'thou', \"fleet'st,\", \"whate'er\", 'thou', 'wilt,', 'swift-footed', 'Time,', 'wide', 'world', 'fading', 'sweets;', 'forbid', 'thee', 'one', 'heinous', 'crime:', 'O!', 'carve', 'thy', 'hours', \"love's\", 'fair', 'brow,', 'draw', 'lines', 'thine', 'antique', 'pen;', 'thy', 'course', 'untainted', 'allow', \"beauty's\", 'pattern', 'succeeding', 'men.', 'Yet,', 'thy', 'worst', 'old', 'Time:', 'despite', 'thy', 'wrong,', 'love', 'shall', 'verse', 'ever', 'live', 'young.']\n"
     ]
    }
   ],
   "source": [
    "print(words)"
   ]
  },
  {
   "cell_type": "markdown",
   "id": "medieval-wright",
   "metadata": {},
   "source": [
    "# 2.2 Separación de palabras (stemming)\n",
    "\n",
    "En algunas tareas de NLP es necesario separar las palabras, es decir, eliminar los sufijos y terminaciones como -ing and -ed. Esta técnica explica cómo hacerlo."
   ]
  },
  {
   "cell_type": "code",
   "execution_count": 100,
   "id": "informational-villa",
   "metadata": {},
   "outputs": [
    {
     "name": "stdout",
     "output_type": "stream",
     "text": [
      "Devouring Time, blunt thou the lion's paws, And make the earth devour her own sweet brood; Pluck the keen teeth from the fierce tiger's jaws, And burn the long-lived phoenix in her blood; Make glad and sorry seasons as thou fleet'st, And do whate'er thou wilt, swift-footed Time, To the wide world and all her fading sweets; But I forbid thee one most heinous crime: O! carve not with thy hours my love's fair brow, Nor draw no lines there with thine antique pen; Him in thy course untainted do allow For beauty's pattern to succeeding men. Yet, do thy worst old Time: despite thy wrong, My love shall in my verse ever live young. \n"
     ]
    }
   ],
   "source": [
    "print(text)"
   ]
  },
  {
   "cell_type": "markdown",
   "id": "parliamentary-antigua",
   "metadata": {},
   "source": [
    "1. Inicializamos el objeto **stemmer** con el inglés como lengua de entrada."
   ]
  },
  {
   "cell_type": "code",
   "execution_count": 101,
   "id": "assigned-railway",
   "metadata": {},
   "outputs": [],
   "source": [
    "stemmer = SnowballStemmer('english')"
   ]
  },
  {
   "cell_type": "markdown",
   "id": "biological-consultancy",
   "metadata": {},
   "source": [
    "2. Creamos una lista con las palabras que queremos acortar. "
   ]
  },
  {
   "cell_type": "code",
   "execution_count": 102,
   "id": "genetic-standing",
   "metadata": {},
   "outputs": [],
   "source": [
    "words = ['Devouring', 'paws', 'jaws','seasons','lived','lines']"
   ]
  },
  {
   "cell_type": "markdown",
   "id": "applicable-ceremony",
   "metadata": {},
   "source": [
    "3. Creamos una lista con las palabras acortadas."
   ]
  },
  {
   "cell_type": "code",
   "execution_count": 103,
   "id": "living-success",
   "metadata": {},
   "outputs": [
    {
     "name": "stdout",
     "output_type": "stream",
     "text": [
      "['devour', 'paw', 'jaw', 'season', 'live', 'line']\n"
     ]
    }
   ],
   "source": [
    "stemmed_words = [stemmer.stem(word) for word in words]\n",
    "print(stemmed_words)"
   ]
  },
  {
   "cell_type": "markdown",
   "id": "passive-kingdom",
   "metadata": {},
   "source": [
    "## 2.3 Además...\n",
    "\n",
    "El NLTK Snowball Stemmer tiene algoritmos para varios idiomas. Para ver todos los idiomas que utiliza el NLTK Snowball Stemmer, utilice este comando:"
   ]
  },
  {
   "cell_type": "code",
   "execution_count": 14,
   "id": "compact-iraqi",
   "metadata": {},
   "outputs": [
    {
     "name": "stdout",
     "output_type": "stream",
     "text": [
      "('arabic', 'danish', 'dutch', 'english', 'finnish', 'french', 'german', 'hungarian', 'italian', 'norwegian', 'porter', 'portuguese', 'romanian', 'russian', 'spanish', 'swedish')\n"
     ]
    }
   ],
   "source": [
    "print(SnowballStemmer.languages)"
   ]
  },
  {
   "cell_type": "markdown",
   "id": "3b6f4ab5",
   "metadata": {},
   "source": [
    "# Ejercicio 3\n",
    "Realice análisis de sentimiento en su conjunto de datos."
   ]
  },
  {
   "cell_type": "markdown",
   "id": "tamil-editing",
   "metadata": {},
   "source": [
    "## 3.1 Análisis de sentimientos\n",
    "\n",
    "El análisis sentimental es un nuevo campo de investigación que se ha desarrollado muy recientemente con el fin de evaluar las opiniones de las personas sobre un tema concreto. Esta disciplina se basa en diferentes técnicas que utilizan el análisis de textos y su campo de trabajo en el mundo de las redes sociales y los foros (minería de opiniones).\n",
    "\n",
    "En esta técnica, utilizaremos el analizador de sentimiento NLTK Vader para etiquetar una frase como de sentimiento positivo o negativo."
   ]
  },
  {
   "cell_type": "markdown",
   "id": "d9ad03dc",
   "metadata": {},
   "source": [
    "# Solución"
   ]
  },
  {
   "cell_type": "markdown",
   "id": "forced-concord",
   "metadata": {},
   "source": [
    "1. En primer lugar, importamos el analizador de sentimiento de vaderSentiment y lo inicializamos con la configuración predeterminada (sin argumentos)"
   ]
  },
  {
   "cell_type": "code",
   "execution_count": 104,
   "id": "regular-merit",
   "metadata": {},
   "outputs": [],
   "source": [
    "vader = SentimentIntensityAnalyzer()"
   ]
  },
  {
   "cell_type": "markdown",
   "id": "square-group",
   "metadata": {},
   "source": [
    "2. Luego, en nuestra función get_sentiment, pasamos com parámetro la variable **text** y aplicamos la función vaderSentiment **polarity_scores** a nuestra variable. Esta función devuelve un diccionario con puntuaciones negativas, neutras, positivas y compuestas(compound)."
   ]
  },
  {
   "cell_type": "code",
   "execution_count": 111,
   "id": "rough-booth",
   "metadata": {},
   "outputs": [],
   "source": [
    "sentences =  nltk.tokenize.sent_tokenize(text)"
   ]
  },
  {
   "cell_type": "code",
   "execution_count": 112,
   "id": "binary-fleet",
   "metadata": {},
   "outputs": [],
   "source": [
    "def get_sentiment(sentences):\n",
    "    return vader.polarity_scores(text.lower())['compound']\n",
    "#vader.polarity_scores(text)"
   ]
  },
  {
   "cell_type": "markdown",
   "id": "organic-narrow",
   "metadata": {},
   "source": [
    "3. La puntuación compuesta(compound) es el sentimiento general del texto de nuestra variable, que va de -1 (negativo) a +1 (positivo), y que obtnemos de la siguiente manera:"
   ]
  },
  {
   "cell_type": "code",
   "execution_count": 113,
   "id": "guided-result",
   "metadata": {},
   "outputs": [
    {
     "data": {
      "text/plain": [
       "0.906"
      ]
     },
     "execution_count": 113,
     "metadata": {},
     "output_type": "execute_result"
    }
   ],
   "source": [
    "get_sentiment(text)"
   ]
  },
  {
   "cell_type": "markdown",
   "id": "marked-blank",
   "metadata": {},
   "source": [
    "4. Para obtener el diccionario completo podemos utilizar el siguiente código:"
   ]
  },
  {
   "cell_type": "code",
   "execution_count": 114,
   "id": "forward-harvest",
   "metadata": {},
   "outputs": [
    {
     "data": {
      "text/plain": [
       "{'neg': 0.104, 'neu': 0.694, 'pos': 0.203, 'compound': 0.906}"
      ]
     },
     "execution_count": 114,
     "metadata": {},
     "output_type": "execute_result"
    }
   ],
   "source": [
    "vader.polarity_scores(text.lower())"
   ]
  },
  {
   "cell_type": "code",
   "execution_count": null,
   "id": "skilled-sentence",
   "metadata": {},
   "outputs": [],
   "source": []
  }
 ],
 "metadata": {
  "kernelspec": {
   "display_name": "Python 3",
   "language": "python",
   "name": "python3"
  },
  "language_info": {
   "codemirror_mode": {
    "name": "ipython",
    "version": 3
   },
   "file_extension": ".py",
   "mimetype": "text/x-python",
   "name": "python",
   "nbconvert_exporter": "python",
   "pygments_lexer": "ipython3",
   "version": "3.9.2"
  }
 },
 "nbformat": 4,
 "nbformat_minor": 5
}
