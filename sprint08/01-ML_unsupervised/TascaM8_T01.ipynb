{
 "cells": [
  {
   "cell_type": "code",
   "execution_count": 1,
   "id": "8bee2e85",
   "metadata": {},
   "outputs": [],
   "source": [
    "import numpy as np\n",
    "import pandas as pd\n",
    "import matplotlib.pyplot as plt\n",
    "import seaborn as sns\n",
    "from sklearn.decomposition import PCA\n",
    "from sklearn.cluster import KMeans, DBSCAN, AgglomerativeClustering\n",
    "from sklearn.preprocessing import MinMaxScaler, StandardScaler, LabelEncoder\n",
    "from sklearn.metrics import silhouette_samples, silhouette_score\n",
    "from scipy.cluster.hierarchy import cophenet, dendrogram, linkage\n",
    "from scipy.spatial.distance import pdist\n",
    "\n",
    "np.random.seed(1)"
   ]
  },
  {
   "cell_type": "markdown",
   "id": "645e71f2",
   "metadata": {},
   "source": [
    "**Ejercicios de algoritmos de Agrupación..**"
   ]
  },
  {
   "cell_type": "markdown",
   "id": "1acd8915",
   "metadata": {},
   "source": [
    "* Limpieza e interpretación de los datos.\n",
    "* Preprocesados y PCA.\n",
    "* Encontrar número de clústeres óptimo.\n",
    "* Creación de modelos. unsupervised (k-means y clustering jerárquico).\n",
    "* Interpretar los resultados."
   ]
  },
  {
   "cell_type": "markdown",
   "id": "87a9cda9",
   "metadata": {},
   "source": [
    "# Ejercicio 1\n",
    "Descargue el dataset adjunto, de registros de publicaciones en Facebook sobre Tailandia, y clasifique los diferentes registros utilizando el algoritmo de **K-means**.\n",
    "\n",
    "##### Importante\n",
    "\n",
    "Ten en cuenta que previamente necesitarás preparar el dataset."
   ]
  },
  {
   "cell_type": "markdown",
   "id": "valued-pittsburgh",
   "metadata": {},
   "source": [
    "## Modelo de agrupación (Clustering)\n",
    "\n",
    "El clustering es el proceso global que implica encontrar grupos de datos similares que existen en su conjunto de datos, lo que puede ser extremadamente valioso si usted está tratando de encontrar su significado subyacente. La agrupación es una forma de algoritmo no supervisado. Esto significa que, a diferencia de la clasificación o la regresión, la agrupación no requiere datos etiquetados reales. Estos algoritmos son capaces de encontrar grupos que no están explícitamente etiquetados e identificar patrones subyacentes que puedan aparecer en el conjunto de datos. Uno de los algoritmos de agrupación más sencillos pero eficaces es el algoritmo **K-means**.\n",
    "\n",
    "### k-means sin matemáticas\n",
    "\n",
    "El algoritmo sin matemáticas para la agrupación k-means es bastante sencillo:\n",
    "\n",
    "1. En primer lugar, elegiremos \"k\" centroides, donde \"k\" sería el número esperado de clusters distintos. El valor de k lo elegiremos nosotros y determinará el tipo de clustering que obtengamos.\n",
    "\n",
    "2. A continuación, colocaremos los \"k\" centroides en lugares aleatorios entre los datos de entrenamiento existentes.\n",
    "\n",
    "3. A continuación, se calculará la distancia de cada centroide a todos los puntos de los datos de entrenamiento. En breve entraremos en detalle sobre las funciones de distancia, pero por ahora, vamos a considerarla simplemente como la distancia a la que se encuentran unos puntos de otros.\n",
    "\n",
    "4. Ahora, todos los puntos de entrenamiento se agruparán con su centroide más cercano.\n",
    "\n",
    "5. Aislando los puntos de entrenamiento agrupados junto con sus respectivos centroides, calcule el punto de datos medio en el grupo y mueva el centroide anterior a la ubicación media.\n",
    "\n",
    "6. Este proceso se repetirá hasta la convergencia o hasta que se haya alcanzado el límite máximo de iteración.\n",
    "\n",
    "La matemática más importante que sustenta este algoritmo es la función de distancia. Una función de distancia es básicamente cualquier fórmula que le permite entender cuantitativamente cuán lejos está un objeto de otro, siendo la más popular la fórmula de distancia euclidiana:\n",
    "\n",
    "$$\n",
    "dist\\_Euclidean(x,y)=\\sum_{i=1}^{n}\\sqrt{(x_{i}-y_{i})^2},\\qquad x=(x_{1},x_{2},\\cdots,x_{n}),\\,\\,y=(y{1},y_{2},\\cdots,y_{n}).\n",
    "$$\n",
    "\n",
    "Otra métrica de distancia popular que puede utilizarse para la agrupación es la distancia Manhattan.\n",
    "\n",
    "$$\n",
    "dist\\_Manhattan(x,y)=\\sum_{i=1}^{n}|(x_{i}-y_{i}|,\\qquad x=(x_{1},x_{2},\\cdots,x_{n}),\\,\\,y=(y{1},y_{2},\\cdots,y_{n}).\n",
    "$$"
   ]
  },
  {
   "cell_type": "markdown",
   "id": "dd3c53bc",
   "metadata": {},
   "source": [
    "# Solución"
   ]
  },
  {
   "cell_type": "code",
   "execution_count": 2,
   "id": "e041dd71",
   "metadata": {},
   "outputs": [
    {
     "data": {
      "text/html": [
       "<div>\n",
       "<style scoped>\n",
       "    .dataframe tbody tr th:only-of-type {\n",
       "        vertical-align: middle;\n",
       "    }\n",
       "\n",
       "    .dataframe tbody tr th {\n",
       "        vertical-align: top;\n",
       "    }\n",
       "\n",
       "    .dataframe thead th {\n",
       "        text-align: right;\n",
       "    }\n",
       "</style>\n",
       "<table border=\"1\" class=\"dataframe\">\n",
       "  <thead>\n",
       "    <tr style=\"text-align: right;\">\n",
       "      <th></th>\n",
       "      <th>status_id</th>\n",
       "      <th>status_type</th>\n",
       "      <th>status_published</th>\n",
       "      <th>num_reactions</th>\n",
       "      <th>num_comments</th>\n",
       "      <th>num_shares</th>\n",
       "      <th>num_likes</th>\n",
       "      <th>num_loves</th>\n",
       "      <th>num_wows</th>\n",
       "      <th>num_hahas</th>\n",
       "      <th>num_sads</th>\n",
       "      <th>num_angrys</th>\n",
       "      <th>Column1</th>\n",
       "      <th>Column2</th>\n",
       "      <th>Column3</th>\n",
       "      <th>Column4</th>\n",
       "    </tr>\n",
       "  </thead>\n",
       "  <tbody>\n",
       "    <tr>\n",
       "      <th>0</th>\n",
       "      <td>246675545449582_1649696485147474</td>\n",
       "      <td>video</td>\n",
       "      <td>4/22/2018 6:00</td>\n",
       "      <td>529</td>\n",
       "      <td>512</td>\n",
       "      <td>262</td>\n",
       "      <td>432</td>\n",
       "      <td>92</td>\n",
       "      <td>3</td>\n",
       "      <td>1</td>\n",
       "      <td>1</td>\n",
       "      <td>0</td>\n",
       "      <td>NaN</td>\n",
       "      <td>NaN</td>\n",
       "      <td>NaN</td>\n",
       "      <td>NaN</td>\n",
       "    </tr>\n",
       "    <tr>\n",
       "      <th>1</th>\n",
       "      <td>246675545449582_1649426988507757</td>\n",
       "      <td>photo</td>\n",
       "      <td>4/21/2018 22:45</td>\n",
       "      <td>150</td>\n",
       "      <td>0</td>\n",
       "      <td>0</td>\n",
       "      <td>150</td>\n",
       "      <td>0</td>\n",
       "      <td>0</td>\n",
       "      <td>0</td>\n",
       "      <td>0</td>\n",
       "      <td>0</td>\n",
       "      <td>NaN</td>\n",
       "      <td>NaN</td>\n",
       "      <td>NaN</td>\n",
       "      <td>NaN</td>\n",
       "    </tr>\n",
       "    <tr>\n",
       "      <th>2</th>\n",
       "      <td>246675545449582_1648730588577397</td>\n",
       "      <td>video</td>\n",
       "      <td>4/21/2018 6:17</td>\n",
       "      <td>227</td>\n",
       "      <td>236</td>\n",
       "      <td>57</td>\n",
       "      <td>204</td>\n",
       "      <td>21</td>\n",
       "      <td>1</td>\n",
       "      <td>1</td>\n",
       "      <td>0</td>\n",
       "      <td>0</td>\n",
       "      <td>NaN</td>\n",
       "      <td>NaN</td>\n",
       "      <td>NaN</td>\n",
       "      <td>NaN</td>\n",
       "    </tr>\n",
       "    <tr>\n",
       "      <th>3</th>\n",
       "      <td>246675545449582_1648576705259452</td>\n",
       "      <td>photo</td>\n",
       "      <td>4/21/2018 2:29</td>\n",
       "      <td>111</td>\n",
       "      <td>0</td>\n",
       "      <td>0</td>\n",
       "      <td>111</td>\n",
       "      <td>0</td>\n",
       "      <td>0</td>\n",
       "      <td>0</td>\n",
       "      <td>0</td>\n",
       "      <td>0</td>\n",
       "      <td>NaN</td>\n",
       "      <td>NaN</td>\n",
       "      <td>NaN</td>\n",
       "      <td>NaN</td>\n",
       "    </tr>\n",
       "    <tr>\n",
       "      <th>4</th>\n",
       "      <td>246675545449582_1645700502213739</td>\n",
       "      <td>photo</td>\n",
       "      <td>4/18/2018 3:22</td>\n",
       "      <td>213</td>\n",
       "      <td>0</td>\n",
       "      <td>0</td>\n",
       "      <td>204</td>\n",
       "      <td>9</td>\n",
       "      <td>0</td>\n",
       "      <td>0</td>\n",
       "      <td>0</td>\n",
       "      <td>0</td>\n",
       "      <td>NaN</td>\n",
       "      <td>NaN</td>\n",
       "      <td>NaN</td>\n",
       "      <td>NaN</td>\n",
       "    </tr>\n",
       "  </tbody>\n",
       "</table>\n",
       "</div>"
      ],
      "text/plain": [
       "                          status_id status_type status_published  \\\n",
       "0  246675545449582_1649696485147474       video   4/22/2018 6:00   \n",
       "1  246675545449582_1649426988507757       photo  4/21/2018 22:45   \n",
       "2  246675545449582_1648730588577397       video   4/21/2018 6:17   \n",
       "3  246675545449582_1648576705259452       photo   4/21/2018 2:29   \n",
       "4  246675545449582_1645700502213739       photo   4/18/2018 3:22   \n",
       "\n",
       "   num_reactions  num_comments  num_shares  num_likes  num_loves  num_wows  \\\n",
       "0            529           512         262        432         92         3   \n",
       "1            150             0           0        150          0         0   \n",
       "2            227           236          57        204         21         1   \n",
       "3            111             0           0        111          0         0   \n",
       "4            213             0           0        204          9         0   \n",
       "\n",
       "   num_hahas  num_sads  num_angrys  Column1  Column2  Column3  Column4  \n",
       "0          1         1           0      NaN      NaN      NaN      NaN  \n",
       "1          0         0           0      NaN      NaN      NaN      NaN  \n",
       "2          1         0           0      NaN      NaN      NaN      NaN  \n",
       "3          0         0           0      NaN      NaN      NaN      NaN  \n",
       "4          0         0           0      NaN      NaN      NaN      NaN  "
      ]
     },
     "execution_count": 2,
     "metadata": {},
     "output_type": "execute_result"
    }
   ],
   "source": [
    "df=pd.read_csv('Publicacions Facebook Thailandia.csv')\n",
    "df.head()"
   ]
  },
  {
   "cell_type": "markdown",
   "id": "satisfied-glucose",
   "metadata": {},
   "source": [
    "Facebook Live Sellers in Thailand\" es un conjunto de datos recopilados en UCI Machine Learning Datasets. Los datos contienen 7050 observaciones y doce atributos. Los datos se refieren a la función de venta en directo en la plataforma Facebook. Cada registro contiene información sobre el momento en que se publica la información de la venta en directo en Facebook y las interacciones en los datos. Los mensajes son interacciones habituales en Facebook, como compartir o responder a emociones. \n",
    "\n",
    "El prpósito del siguiente ejercicio es crear un modelo de agrupación."
   ]
  },
  {
   "cell_type": "markdown",
   "id": "italian-stanley",
   "metadata": {},
   "source": [
    "|Variable|Descripción|\n",
    "|--------|-----------|\n",
    "|status_id | identificador único de la entrada|\n",
    "|status_type | tipo de mensaje|\n",
    "|status_published | fecha y hora de publicación de la entrada|\n",
    "|num_reactions | número de likes, loves, wows, hahas, sads y angrys|\n",
    "|num_comments | número de comentarios|\n",
    "|num_shares | número de comparticiones|\n",
    "|num_likes | número de me gusta|\n",
    "|num_loves | número de amores|\n",
    "|num_wows | número de guau|\n",
    "|num_hahas | número de jajás|\n",
    "|num_sads | número de tristes|\n",
    "|num_angrys | número de enfados|"
   ]
  },
  {
   "cell_type": "markdown",
   "id": "consecutive-netherlands",
   "metadata": {},
   "source": [
    "## 1.1 EDA"
   ]
  },
  {
   "cell_type": "markdown",
   "id": "swedish-background",
   "metadata": {},
   "source": [
    "1. Verificar si existen valores nulos."
   ]
  },
  {
   "cell_type": "code",
   "execution_count": 3,
   "id": "statewide-fighter",
   "metadata": {},
   "outputs": [
    {
     "data": {
      "text/plain": [
       "status_id              0\n",
       "status_type            0\n",
       "status_published       0\n",
       "num_reactions          0\n",
       "num_comments           0\n",
       "num_shares             0\n",
       "num_likes              0\n",
       "num_loves              0\n",
       "num_wows               0\n",
       "num_hahas              0\n",
       "num_sads               0\n",
       "num_angrys             0\n",
       "Column1             7050\n",
       "Column2             7050\n",
       "Column3             7050\n",
       "Column4             7050\n",
       "dtype: int64"
      ]
     },
     "execution_count": 3,
     "metadata": {},
     "output_type": "execute_result"
    }
   ],
   "source": [
    "df.isnull().sum()"
   ]
  },
  {
   "cell_type": "markdown",
   "id": "reported-astrology",
   "metadata": {},
   "source": [
    "2. Observar los tipos de datos de cada columna."
   ]
  },
  {
   "cell_type": "code",
   "execution_count": 4,
   "id": "211ed246",
   "metadata": {},
   "outputs": [
    {
     "name": "stdout",
     "output_type": "stream",
     "text": [
      "<class 'pandas.core.frame.DataFrame'>\n",
      "RangeIndex: 7050 entries, 0 to 7049\n",
      "Data columns (total 16 columns):\n",
      " #   Column            Non-Null Count  Dtype  \n",
      "---  ------            --------------  -----  \n",
      " 0   status_id         7050 non-null   object \n",
      " 1   status_type       7050 non-null   object \n",
      " 2   status_published  7050 non-null   object \n",
      " 3   num_reactions     7050 non-null   int64  \n",
      " 4   num_comments      7050 non-null   int64  \n",
      " 5   num_shares        7050 non-null   int64  \n",
      " 6   num_likes         7050 non-null   int64  \n",
      " 7   num_loves         7050 non-null   int64  \n",
      " 8   num_wows          7050 non-null   int64  \n",
      " 9   num_hahas         7050 non-null   int64  \n",
      " 10  num_sads          7050 non-null   int64  \n",
      " 11  num_angrys        7050 non-null   int64  \n",
      " 12  Column1           0 non-null      float64\n",
      " 13  Column2           0 non-null      float64\n",
      " 14  Column3           0 non-null      float64\n",
      " 15  Column4           0 non-null      float64\n",
      "dtypes: float64(4), int64(9), object(3)\n",
      "memory usage: 881.4+ KB\n"
     ]
    }
   ],
   "source": [
    "df.info()"
   ]
  },
  {
   "cell_type": "markdown",
   "id": "rational-glenn",
   "metadata": {},
   "source": [
    "3. Vamos a prescindir de las 4 últimas columnas las cuales son nulas. Además, haremos lo mismo con **status_id** pues no aporta nada a nuestro estudio, y lo haremos de la siguiente manera:"
   ]
  },
  {
   "cell_type": "code",
   "execution_count": 5,
   "id": "optional-stable",
   "metadata": {},
   "outputs": [
    {
     "data": {
      "text/html": [
       "<div>\n",
       "<style scoped>\n",
       "    .dataframe tbody tr th:only-of-type {\n",
       "        vertical-align: middle;\n",
       "    }\n",
       "\n",
       "    .dataframe tbody tr th {\n",
       "        vertical-align: top;\n",
       "    }\n",
       "\n",
       "    .dataframe thead th {\n",
       "        text-align: right;\n",
       "    }\n",
       "</style>\n",
       "<table border=\"1\" class=\"dataframe\">\n",
       "  <thead>\n",
       "    <tr style=\"text-align: right;\">\n",
       "      <th></th>\n",
       "      <th>status_type</th>\n",
       "      <th>status_published</th>\n",
       "      <th>num_reactions</th>\n",
       "      <th>num_comments</th>\n",
       "      <th>num_shares</th>\n",
       "      <th>num_likes</th>\n",
       "      <th>num_loves</th>\n",
       "      <th>num_wows</th>\n",
       "      <th>num_hahas</th>\n",
       "      <th>num_sads</th>\n",
       "      <th>num_angrys</th>\n",
       "    </tr>\n",
       "  </thead>\n",
       "  <tbody>\n",
       "    <tr>\n",
       "      <th>0</th>\n",
       "      <td>video</td>\n",
       "      <td>4/22/2018 6:00</td>\n",
       "      <td>529</td>\n",
       "      <td>512</td>\n",
       "      <td>262</td>\n",
       "      <td>432</td>\n",
       "      <td>92</td>\n",
       "      <td>3</td>\n",
       "      <td>1</td>\n",
       "      <td>1</td>\n",
       "      <td>0</td>\n",
       "    </tr>\n",
       "    <tr>\n",
       "      <th>1</th>\n",
       "      <td>photo</td>\n",
       "      <td>4/21/2018 22:45</td>\n",
       "      <td>150</td>\n",
       "      <td>0</td>\n",
       "      <td>0</td>\n",
       "      <td>150</td>\n",
       "      <td>0</td>\n",
       "      <td>0</td>\n",
       "      <td>0</td>\n",
       "      <td>0</td>\n",
       "      <td>0</td>\n",
       "    </tr>\n",
       "    <tr>\n",
       "      <th>2</th>\n",
       "      <td>video</td>\n",
       "      <td>4/21/2018 6:17</td>\n",
       "      <td>227</td>\n",
       "      <td>236</td>\n",
       "      <td>57</td>\n",
       "      <td>204</td>\n",
       "      <td>21</td>\n",
       "      <td>1</td>\n",
       "      <td>1</td>\n",
       "      <td>0</td>\n",
       "      <td>0</td>\n",
       "    </tr>\n",
       "    <tr>\n",
       "      <th>3</th>\n",
       "      <td>photo</td>\n",
       "      <td>4/21/2018 2:29</td>\n",
       "      <td>111</td>\n",
       "      <td>0</td>\n",
       "      <td>0</td>\n",
       "      <td>111</td>\n",
       "      <td>0</td>\n",
       "      <td>0</td>\n",
       "      <td>0</td>\n",
       "      <td>0</td>\n",
       "      <td>0</td>\n",
       "    </tr>\n",
       "    <tr>\n",
       "      <th>4</th>\n",
       "      <td>photo</td>\n",
       "      <td>4/18/2018 3:22</td>\n",
       "      <td>213</td>\n",
       "      <td>0</td>\n",
       "      <td>0</td>\n",
       "      <td>204</td>\n",
       "      <td>9</td>\n",
       "      <td>0</td>\n",
       "      <td>0</td>\n",
       "      <td>0</td>\n",
       "      <td>0</td>\n",
       "    </tr>\n",
       "  </tbody>\n",
       "</table>\n",
       "</div>"
      ],
      "text/plain": [
       "  status_type status_published  num_reactions  num_comments  num_shares  \\\n",
       "0       video   4/22/2018 6:00            529           512         262   \n",
       "1       photo  4/21/2018 22:45            150             0           0   \n",
       "2       video   4/21/2018 6:17            227           236          57   \n",
       "3       photo   4/21/2018 2:29            111             0           0   \n",
       "4       photo   4/18/2018 3:22            213             0           0   \n",
       "\n",
       "   num_likes  num_loves  num_wows  num_hahas  num_sads  num_angrys  \n",
       "0        432         92         3          1         1           0  \n",
       "1        150          0         0          0         0           0  \n",
       "2        204         21         1          1         0           0  \n",
       "3        111          0         0          0         0           0  \n",
       "4        204          9         0          0         0           0  "
      ]
     },
     "execution_count": 5,
     "metadata": {},
     "output_type": "execute_result"
    }
   ],
   "source": [
    "df=df.iloc[:,1:12]\n",
    "df.head()"
   ]
  },
  {
   "cell_type": "code",
   "execution_count": 6,
   "id": "natural-filename",
   "metadata": {},
   "outputs": [
    {
     "data": {
      "text/html": [
       "<div>\n",
       "<style scoped>\n",
       "    .dataframe tbody tr th:only-of-type {\n",
       "        vertical-align: middle;\n",
       "    }\n",
       "\n",
       "    .dataframe tbody tr th {\n",
       "        vertical-align: top;\n",
       "    }\n",
       "\n",
       "    .dataframe thead th {\n",
       "        text-align: right;\n",
       "    }\n",
       "</style>\n",
       "<table border=\"1\" class=\"dataframe\">\n",
       "  <thead>\n",
       "    <tr style=\"text-align: right;\">\n",
       "      <th></th>\n",
       "      <th>status_type</th>\n",
       "      <th>num_reactions</th>\n",
       "      <th>num_comments</th>\n",
       "      <th>num_shares</th>\n",
       "      <th>num_likes</th>\n",
       "      <th>num_loves</th>\n",
       "      <th>num_wows</th>\n",
       "      <th>num_hahas</th>\n",
       "      <th>num_sads</th>\n",
       "      <th>num_angrys</th>\n",
       "    </tr>\n",
       "  </thead>\n",
       "  <tbody>\n",
       "    <tr>\n",
       "      <th>0</th>\n",
       "      <td>video</td>\n",
       "      <td>529</td>\n",
       "      <td>512</td>\n",
       "      <td>262</td>\n",
       "      <td>432</td>\n",
       "      <td>92</td>\n",
       "      <td>3</td>\n",
       "      <td>1</td>\n",
       "      <td>1</td>\n",
       "      <td>0</td>\n",
       "    </tr>\n",
       "    <tr>\n",
       "      <th>1</th>\n",
       "      <td>photo</td>\n",
       "      <td>150</td>\n",
       "      <td>0</td>\n",
       "      <td>0</td>\n",
       "      <td>150</td>\n",
       "      <td>0</td>\n",
       "      <td>0</td>\n",
       "      <td>0</td>\n",
       "      <td>0</td>\n",
       "      <td>0</td>\n",
       "    </tr>\n",
       "    <tr>\n",
       "      <th>2</th>\n",
       "      <td>video</td>\n",
       "      <td>227</td>\n",
       "      <td>236</td>\n",
       "      <td>57</td>\n",
       "      <td>204</td>\n",
       "      <td>21</td>\n",
       "      <td>1</td>\n",
       "      <td>1</td>\n",
       "      <td>0</td>\n",
       "      <td>0</td>\n",
       "    </tr>\n",
       "    <tr>\n",
       "      <th>3</th>\n",
       "      <td>photo</td>\n",
       "      <td>111</td>\n",
       "      <td>0</td>\n",
       "      <td>0</td>\n",
       "      <td>111</td>\n",
       "      <td>0</td>\n",
       "      <td>0</td>\n",
       "      <td>0</td>\n",
       "      <td>0</td>\n",
       "      <td>0</td>\n",
       "    </tr>\n",
       "    <tr>\n",
       "      <th>4</th>\n",
       "      <td>photo</td>\n",
       "      <td>213</td>\n",
       "      <td>0</td>\n",
       "      <td>0</td>\n",
       "      <td>204</td>\n",
       "      <td>9</td>\n",
       "      <td>0</td>\n",
       "      <td>0</td>\n",
       "      <td>0</td>\n",
       "      <td>0</td>\n",
       "    </tr>\n",
       "  </tbody>\n",
       "</table>\n",
       "</div>"
      ],
      "text/plain": [
       "  status_type  num_reactions  num_comments  num_shares  num_likes  num_loves  \\\n",
       "0       video            529           512         262        432         92   \n",
       "1       photo            150             0           0        150          0   \n",
       "2       video            227           236          57        204         21   \n",
       "3       photo            111             0           0        111          0   \n",
       "4       photo            213             0           0        204          9   \n",
       "\n",
       "   num_wows  num_hahas  num_sads  num_angrys  \n",
       "0         3          1         1           0  \n",
       "1         0          0         0           0  \n",
       "2         1          1         0           0  \n",
       "3         0          0         0           0  \n",
       "4         0          0         0           0  "
      ]
     },
     "execution_count": 6,
     "metadata": {},
     "output_type": "execute_result"
    }
   ],
   "source": [
    "df = df.drop('status_published', axis=1)\n",
    "df.head()"
   ]
  },
  {
   "cell_type": "markdown",
   "id": "little-testimony",
   "metadata": {},
   "source": [
    "4. Mostrar descripción estadística de las variables."
   ]
  },
  {
   "cell_type": "code",
   "execution_count": 7,
   "id": "floating-immunology",
   "metadata": {},
   "outputs": [
    {
     "data": {
      "text/html": [
       "<div>\n",
       "<style scoped>\n",
       "    .dataframe tbody tr th:only-of-type {\n",
       "        vertical-align: middle;\n",
       "    }\n",
       "\n",
       "    .dataframe tbody tr th {\n",
       "        vertical-align: top;\n",
       "    }\n",
       "\n",
       "    .dataframe thead th {\n",
       "        text-align: right;\n",
       "    }\n",
       "</style>\n",
       "<table border=\"1\" class=\"dataframe\">\n",
       "  <thead>\n",
       "    <tr style=\"text-align: right;\">\n",
       "      <th></th>\n",
       "      <th>num_reactions</th>\n",
       "      <th>num_comments</th>\n",
       "      <th>num_shares</th>\n",
       "      <th>num_likes</th>\n",
       "      <th>num_loves</th>\n",
       "      <th>num_wows</th>\n",
       "      <th>num_hahas</th>\n",
       "      <th>num_sads</th>\n",
       "      <th>num_angrys</th>\n",
       "    </tr>\n",
       "  </thead>\n",
       "  <tbody>\n",
       "    <tr>\n",
       "      <th>count</th>\n",
       "      <td>7050.00</td>\n",
       "      <td>7050.00</td>\n",
       "      <td>7050.00</td>\n",
       "      <td>7050.00</td>\n",
       "      <td>7050.00</td>\n",
       "      <td>7050.00</td>\n",
       "      <td>7050.00</td>\n",
       "      <td>7050.00</td>\n",
       "      <td>7050.00</td>\n",
       "    </tr>\n",
       "    <tr>\n",
       "      <th>mean</th>\n",
       "      <td>230.12</td>\n",
       "      <td>224.36</td>\n",
       "      <td>40.02</td>\n",
       "      <td>215.04</td>\n",
       "      <td>12.73</td>\n",
       "      <td>1.29</td>\n",
       "      <td>0.70</td>\n",
       "      <td>0.24</td>\n",
       "      <td>0.11</td>\n",
       "    </tr>\n",
       "    <tr>\n",
       "      <th>std</th>\n",
       "      <td>462.63</td>\n",
       "      <td>889.64</td>\n",
       "      <td>131.60</td>\n",
       "      <td>449.47</td>\n",
       "      <td>39.97</td>\n",
       "      <td>8.72</td>\n",
       "      <td>3.96</td>\n",
       "      <td>1.60</td>\n",
       "      <td>0.73</td>\n",
       "    </tr>\n",
       "    <tr>\n",
       "      <th>min</th>\n",
       "      <td>0.00</td>\n",
       "      <td>0.00</td>\n",
       "      <td>0.00</td>\n",
       "      <td>0.00</td>\n",
       "      <td>0.00</td>\n",
       "      <td>0.00</td>\n",
       "      <td>0.00</td>\n",
       "      <td>0.00</td>\n",
       "      <td>0.00</td>\n",
       "    </tr>\n",
       "    <tr>\n",
       "      <th>25%</th>\n",
       "      <td>17.00</td>\n",
       "      <td>0.00</td>\n",
       "      <td>0.00</td>\n",
       "      <td>17.00</td>\n",
       "      <td>0.00</td>\n",
       "      <td>0.00</td>\n",
       "      <td>0.00</td>\n",
       "      <td>0.00</td>\n",
       "      <td>0.00</td>\n",
       "    </tr>\n",
       "    <tr>\n",
       "      <th>50%</th>\n",
       "      <td>59.50</td>\n",
       "      <td>4.00</td>\n",
       "      <td>0.00</td>\n",
       "      <td>58.00</td>\n",
       "      <td>0.00</td>\n",
       "      <td>0.00</td>\n",
       "      <td>0.00</td>\n",
       "      <td>0.00</td>\n",
       "      <td>0.00</td>\n",
       "    </tr>\n",
       "    <tr>\n",
       "      <th>75%</th>\n",
       "      <td>219.00</td>\n",
       "      <td>23.00</td>\n",
       "      <td>4.00</td>\n",
       "      <td>184.75</td>\n",
       "      <td>3.00</td>\n",
       "      <td>0.00</td>\n",
       "      <td>0.00</td>\n",
       "      <td>0.00</td>\n",
       "      <td>0.00</td>\n",
       "    </tr>\n",
       "    <tr>\n",
       "      <th>max</th>\n",
       "      <td>4710.00</td>\n",
       "      <td>20990.00</td>\n",
       "      <td>3424.00</td>\n",
       "      <td>4710.00</td>\n",
       "      <td>657.00</td>\n",
       "      <td>278.00</td>\n",
       "      <td>157.00</td>\n",
       "      <td>51.00</td>\n",
       "      <td>31.00</td>\n",
       "    </tr>\n",
       "  </tbody>\n",
       "</table>\n",
       "</div>"
      ],
      "text/plain": [
       "       num_reactions  num_comments  num_shares  num_likes  num_loves  \\\n",
       "count        7050.00       7050.00     7050.00    7050.00    7050.00   \n",
       "mean          230.12        224.36       40.02     215.04      12.73   \n",
       "std           462.63        889.64      131.60     449.47      39.97   \n",
       "min             0.00          0.00        0.00       0.00       0.00   \n",
       "25%            17.00          0.00        0.00      17.00       0.00   \n",
       "50%            59.50          4.00        0.00      58.00       0.00   \n",
       "75%           219.00         23.00        4.00     184.75       3.00   \n",
       "max          4710.00      20990.00     3424.00    4710.00     657.00   \n",
       "\n",
       "       num_wows  num_hahas  num_sads  num_angrys  \n",
       "count   7050.00    7050.00   7050.00     7050.00  \n",
       "mean       1.29       0.70      0.24        0.11  \n",
       "std        8.72       3.96      1.60        0.73  \n",
       "min        0.00       0.00      0.00        0.00  \n",
       "25%        0.00       0.00      0.00        0.00  \n",
       "50%        0.00       0.00      0.00        0.00  \n",
       "75%        0.00       0.00      0.00        0.00  \n",
       "max      278.00     157.00     51.00       31.00  "
      ]
     },
     "execution_count": 7,
     "metadata": {},
     "output_type": "execute_result"
    }
   ],
   "source": [
    "df.describe().round(2)"
   ]
  },
  {
   "cell_type": "markdown",
   "id": "republican-elizabeth",
   "metadata": {},
   "source": [
    "5. Codificar la variable **status_type** con la método **LabelEncoder()**"
   ]
  },
  {
   "cell_type": "code",
   "execution_count": 8,
   "id": "special-aircraft",
   "metadata": {},
   "outputs": [
    {
     "data": {
      "text/plain": [
       "array(['video', 'photo', 'link', 'status'], dtype=object)"
      ]
     },
     "execution_count": 8,
     "metadata": {},
     "output_type": "execute_result"
    }
   ],
   "source": [
    "df.status_type.unique()"
   ]
  },
  {
   "cell_type": "markdown",
   "id": "aggressive-noise",
   "metadata": {},
   "source": [
    "Podemos ver que hay 4 categorías de etiquetas en la variable **status_type**. A continuación la transformaremos de la siguiente manera:"
   ]
  },
  {
   "cell_type": "code",
   "execution_count": 9,
   "id": "343169b1",
   "metadata": {},
   "outputs": [
    {
     "data": {
      "text/html": [
       "<div>\n",
       "<style scoped>\n",
       "    .dataframe tbody tr th:only-of-type {\n",
       "        vertical-align: middle;\n",
       "    }\n",
       "\n",
       "    .dataframe tbody tr th {\n",
       "        vertical-align: top;\n",
       "    }\n",
       "\n",
       "    .dataframe thead th {\n",
       "        text-align: right;\n",
       "    }\n",
       "</style>\n",
       "<table border=\"1\" class=\"dataframe\">\n",
       "  <thead>\n",
       "    <tr style=\"text-align: right;\">\n",
       "      <th></th>\n",
       "      <th>status_type</th>\n",
       "      <th>num_reactions</th>\n",
       "      <th>num_comments</th>\n",
       "      <th>num_shares</th>\n",
       "      <th>num_likes</th>\n",
       "      <th>num_loves</th>\n",
       "      <th>num_wows</th>\n",
       "      <th>num_hahas</th>\n",
       "      <th>num_sads</th>\n",
       "      <th>num_angrys</th>\n",
       "    </tr>\n",
       "  </thead>\n",
       "  <tbody>\n",
       "    <tr>\n",
       "      <th>0</th>\n",
       "      <td>3</td>\n",
       "      <td>529</td>\n",
       "      <td>512</td>\n",
       "      <td>262</td>\n",
       "      <td>432</td>\n",
       "      <td>92</td>\n",
       "      <td>3</td>\n",
       "      <td>1</td>\n",
       "      <td>1</td>\n",
       "      <td>0</td>\n",
       "    </tr>\n",
       "    <tr>\n",
       "      <th>1</th>\n",
       "      <td>1</td>\n",
       "      <td>150</td>\n",
       "      <td>0</td>\n",
       "      <td>0</td>\n",
       "      <td>150</td>\n",
       "      <td>0</td>\n",
       "      <td>0</td>\n",
       "      <td>0</td>\n",
       "      <td>0</td>\n",
       "      <td>0</td>\n",
       "    </tr>\n",
       "    <tr>\n",
       "      <th>2</th>\n",
       "      <td>3</td>\n",
       "      <td>227</td>\n",
       "      <td>236</td>\n",
       "      <td>57</td>\n",
       "      <td>204</td>\n",
       "      <td>21</td>\n",
       "      <td>1</td>\n",
       "      <td>1</td>\n",
       "      <td>0</td>\n",
       "      <td>0</td>\n",
       "    </tr>\n",
       "    <tr>\n",
       "      <th>3</th>\n",
       "      <td>1</td>\n",
       "      <td>111</td>\n",
       "      <td>0</td>\n",
       "      <td>0</td>\n",
       "      <td>111</td>\n",
       "      <td>0</td>\n",
       "      <td>0</td>\n",
       "      <td>0</td>\n",
       "      <td>0</td>\n",
       "      <td>0</td>\n",
       "    </tr>\n",
       "    <tr>\n",
       "      <th>4</th>\n",
       "      <td>1</td>\n",
       "      <td>213</td>\n",
       "      <td>0</td>\n",
       "      <td>0</td>\n",
       "      <td>204</td>\n",
       "      <td>9</td>\n",
       "      <td>0</td>\n",
       "      <td>0</td>\n",
       "      <td>0</td>\n",
       "      <td>0</td>\n",
       "    </tr>\n",
       "  </tbody>\n",
       "</table>\n",
       "</div>"
      ],
      "text/plain": [
       "   status_type  num_reactions  num_comments  num_shares  num_likes  num_loves  \\\n",
       "0            3            529           512         262        432         92   \n",
       "1            1            150             0           0        150          0   \n",
       "2            3            227           236          57        204         21   \n",
       "3            1            111             0           0        111          0   \n",
       "4            1            213             0           0        204          9   \n",
       "\n",
       "   num_wows  num_hahas  num_sads  num_angrys  \n",
       "0         3          1         1           0  \n",
       "1         0          0         0           0  \n",
       "2         1          1         0           0  \n",
       "3         0          0         0           0  \n",
       "4         0          0         0           0  "
      ]
     },
     "execution_count": 9,
     "metadata": {},
     "output_type": "execute_result"
    }
   ],
   "source": [
    "label_encoder=LabelEncoder()\n",
    "df.status_type=label_encoder.fit_transform(df.status_type)\n",
    "df.head()"
   ]
  },
  {
   "cell_type": "markdown",
   "id": "signal-monitoring",
   "metadata": {},
   "source": [
    "6. Escaler variables del DataFrame."
   ]
  },
  {
   "cell_type": "code",
   "execution_count": 191,
   "id": "dangerous-bunch",
   "metadata": {},
   "outputs": [],
   "source": [
    "#scaler=MinMaxScaler()\n",
    "#df[df.columns]=scaler.fit_transform(df)\n",
    "#df.head()"
   ]
  },
  {
   "cell_type": "markdown",
   "id": "interior-canadian",
   "metadata": {},
   "source": [
    "## 1.2. Aplicar el algoritmo de agrupación **K-Means**."
   ]
  },
  {
   "cell_type": "markdown",
   "id": "starting-brook",
   "metadata": {},
   "source": [
    "1. Agrupamos los puntos con **k-means** usando  $k=3$."
   ]
  },
  {
   "cell_type": "code",
   "execution_count": 43,
   "id": "boolean-carbon",
   "metadata": {},
   "outputs": [
    {
     "data": {
      "text/plain": [
       "KMeans(n_clusters=3, random_state=42)"
      ]
     },
     "execution_count": 43,
     "metadata": {},
     "output_type": "execute_result"
    }
   ],
   "source": [
    "n = 3\n",
    "kmeans = KMeans(n_clusters= n, init='k-means++',random_state= 42)\n",
    "kmeans.fit(df)"
   ]
  },
  {
   "cell_type": "markdown",
   "id": "pretty-article",
   "metadata": {},
   "source": [
    "2. El resultado son tres centroides en torno a los cuales se agrupan los puntos y las etiquetas para cada punto que indican a qué cluster pertenece dicho punto."
   ]
  },
  {
   "cell_type": "code",
   "execution_count": 44,
   "id": "likely-mexican",
   "metadata": {},
   "outputs": [],
   "source": [
    "centers = kmeans.cluster_centers_\n",
    "labels = kmeans.labels_"
   ]
  },
  {
   "cell_type": "markdown",
   "id": "persistent-extra",
   "metadata": {},
   "source": [
    "3. Dibujamos ahora los puntos y los centroides, utilizando un color distinto para los puntos de cada cluster."
   ]
  },
  {
   "cell_type": "code",
   "execution_count": 45,
   "id": "crude-desire",
   "metadata": {},
   "outputs": [
    {
     "data": {
      "text/html": [
       "<div>\n",
       "<style scoped>\n",
       "    .dataframe tbody tr th:only-of-type {\n",
       "        vertical-align: middle;\n",
       "    }\n",
       "\n",
       "    .dataframe tbody tr th {\n",
       "        vertical-align: top;\n",
       "    }\n",
       "\n",
       "    .dataframe thead th {\n",
       "        text-align: right;\n",
       "    }\n",
       "</style>\n",
       "<table border=\"1\" class=\"dataframe\">\n",
       "  <thead>\n",
       "    <tr style=\"text-align: right;\">\n",
       "      <th></th>\n",
       "      <th>status_type</th>\n",
       "      <th>num_reactions</th>\n",
       "      <th>num_comments</th>\n",
       "      <th>num_shares</th>\n",
       "      <th>num_likes</th>\n",
       "      <th>num_loves</th>\n",
       "      <th>num_wows</th>\n",
       "      <th>num_hahas</th>\n",
       "      <th>num_sads</th>\n",
       "      <th>num_angrys</th>\n",
       "      <th>label</th>\n",
       "    </tr>\n",
       "  </thead>\n",
       "  <tbody>\n",
       "    <tr>\n",
       "      <th>0</th>\n",
       "      <td>3</td>\n",
       "      <td>529</td>\n",
       "      <td>512</td>\n",
       "      <td>262</td>\n",
       "      <td>432</td>\n",
       "      <td>92</td>\n",
       "      <td>3</td>\n",
       "      <td>1</td>\n",
       "      <td>1</td>\n",
       "      <td>0</td>\n",
       "      <td>0</td>\n",
       "    </tr>\n",
       "    <tr>\n",
       "      <th>1</th>\n",
       "      <td>1</td>\n",
       "      <td>150</td>\n",
       "      <td>0</td>\n",
       "      <td>0</td>\n",
       "      <td>150</td>\n",
       "      <td>0</td>\n",
       "      <td>0</td>\n",
       "      <td>0</td>\n",
       "      <td>0</td>\n",
       "      <td>0</td>\n",
       "      <td>0</td>\n",
       "    </tr>\n",
       "    <tr>\n",
       "      <th>2</th>\n",
       "      <td>3</td>\n",
       "      <td>227</td>\n",
       "      <td>236</td>\n",
       "      <td>57</td>\n",
       "      <td>204</td>\n",
       "      <td>21</td>\n",
       "      <td>1</td>\n",
       "      <td>1</td>\n",
       "      <td>0</td>\n",
       "      <td>0</td>\n",
       "      <td>0</td>\n",
       "    </tr>\n",
       "    <tr>\n",
       "      <th>3</th>\n",
       "      <td>1</td>\n",
       "      <td>111</td>\n",
       "      <td>0</td>\n",
       "      <td>0</td>\n",
       "      <td>111</td>\n",
       "      <td>0</td>\n",
       "      <td>0</td>\n",
       "      <td>0</td>\n",
       "      <td>0</td>\n",
       "      <td>0</td>\n",
       "      <td>0</td>\n",
       "    </tr>\n",
       "    <tr>\n",
       "      <th>4</th>\n",
       "      <td>1</td>\n",
       "      <td>213</td>\n",
       "      <td>0</td>\n",
       "      <td>0</td>\n",
       "      <td>204</td>\n",
       "      <td>9</td>\n",
       "      <td>0</td>\n",
       "      <td>0</td>\n",
       "      <td>0</td>\n",
       "      <td>0</td>\n",
       "      <td>0</td>\n",
       "    </tr>\n",
       "  </tbody>\n",
       "</table>\n",
       "</div>"
      ],
      "text/plain": [
       "   status_type  num_reactions  num_comments  num_shares  num_likes  num_loves  \\\n",
       "0            3            529           512         262        432         92   \n",
       "1            1            150             0           0        150          0   \n",
       "2            3            227           236          57        204         21   \n",
       "3            1            111             0           0        111          0   \n",
       "4            1            213             0           0        204          9   \n",
       "\n",
       "   num_wows  num_hahas  num_sads  num_angrys label  \n",
       "0         3          1         1           0     0  \n",
       "1         0          0         0           0     0  \n",
       "2         1          1         0           0     0  \n",
       "3         0          0         0           0     0  \n",
       "4         0          0         0           0     0  "
      ]
     },
     "execution_count": 45,
     "metadata": {},
     "output_type": "execute_result"
    }
   ],
   "source": [
    "label = kmeans.fit_predict(df)\n",
    "df_test = df.copy()\n",
    "df_test['label'] = label\n",
    "df_test['label'] = df_test['label'].astype(str)\n",
    "df_test.head()"
   ]
  },
  {
   "cell_type": "code",
   "execution_count": 46,
   "id": "deluxe-timber",
   "metadata": {},
   "outputs": [
    {
     "data": {
      "image/png": "[encoded data removed]",
      "text/plain": [
       "<Figure size 648x432 with 1 Axes>"
      ]
     },
     "metadata": {
      "needs_background": "light"
     },
     "output_type": "display_data"
    }
   ],
   "source": [
    "plt.figure(figsize= (9,6))\n",
    "sns.scatterplot(data = df_test, x='num_shares', y='num_loves', hue = 'label');\n"
   ]
  },
  {
   "cell_type": "markdown",
   "id": "alert-munich",
   "metadata": {},
   "source": [
    "## 1.3 Elección del número óptimo de clusters en Kmeans"
   ]
  },
  {
   "cell_type": "markdown",
   "id": "demonstrated-projection",
   "metadata": {},
   "source": [
    "1. Encontrar el número óptimo de K clusters utilizando la técnica del codo(**elbow**)."
   ]
  },
  {
   "cell_type": "code",
   "execution_count": 196,
   "id": "intellectual-plane",
   "metadata": {},
   "outputs": [
    {
     "data": {
      "text/html": [
       "<div>\n",
       "<style scoped>\n",
       "    .dataframe tbody tr th:only-of-type {\n",
       "        vertical-align: middle;\n",
       "    }\n",
       "\n",
       "    .dataframe tbody tr th {\n",
       "        vertical-align: top;\n",
       "    }\n",
       "\n",
       "    .dataframe thead th {\n",
       "        text-align: right;\n",
       "    }\n",
       "</style>\n",
       "<table border=\"1\" class=\"dataframe\">\n",
       "  <thead>\n",
       "    <tr style=\"text-align: right;\">\n",
       "      <th></th>\n",
       "      <th>Cluster</th>\n",
       "      <th>distance_values</th>\n",
       "    </tr>\n",
       "  </thead>\n",
       "  <tbody>\n",
       "    <tr>\n",
       "      <th>0</th>\n",
       "      <td>1</td>\n",
       "      <td>8.645692e+09</td>\n",
       "    </tr>\n",
       "    <tr>\n",
       "      <th>1</th>\n",
       "      <td>2</td>\n",
       "      <td>4.986398e+09</td>\n",
       "    </tr>\n",
       "    <tr>\n",
       "      <th>2</th>\n",
       "      <td>3</td>\n",
       "      <td>2.735264e+09</td>\n",
       "    </tr>\n",
       "    <tr>\n",
       "      <th>3</th>\n",
       "      <td>4</td>\n",
       "      <td>2.002154e+09</td>\n",
       "    </tr>\n",
       "    <tr>\n",
       "      <th>4</th>\n",
       "      <td>5</td>\n",
       "      <td>1.469931e+09</td>\n",
       "    </tr>\n",
       "    <tr>\n",
       "      <th>5</th>\n",
       "      <td>6</td>\n",
       "      <td>1.186926e+09</td>\n",
       "    </tr>\n",
       "    <tr>\n",
       "      <th>6</th>\n",
       "      <td>7</td>\n",
       "      <td>9.234677e+08</td>\n",
       "    </tr>\n",
       "    <tr>\n",
       "      <th>7</th>\n",
       "      <td>8</td>\n",
       "      <td>7.499752e+08</td>\n",
       "    </tr>\n",
       "    <tr>\n",
       "      <th>8</th>\n",
       "      <td>9</td>\n",
       "      <td>6.214264e+08</td>\n",
       "    </tr>\n",
       "    <tr>\n",
       "      <th>9</th>\n",
       "      <td>10</td>\n",
       "      <td>5.232005e+08</td>\n",
       "    </tr>\n",
       "    <tr>\n",
       "      <th>10</th>\n",
       "      <td>11</td>\n",
       "      <td>4.501870e+08</td>\n",
       "    </tr>\n",
       "    <tr>\n",
       "      <th>11</th>\n",
       "      <td>12</td>\n",
       "      <td>3.791567e+08</td>\n",
       "    </tr>\n",
       "    <tr>\n",
       "      <th>12</th>\n",
       "      <td>13</td>\n",
       "      <td>3.293274e+08</td>\n",
       "    </tr>\n",
       "  </tbody>\n",
       "</table>\n",
       "</div>"
      ],
      "text/plain": [
       "    Cluster  distance_values\n",
       "0         1     8.645692e+09\n",
       "1         2     4.986398e+09\n",
       "2         3     2.735264e+09\n",
       "3         4     2.002154e+09\n",
       "4         5     1.469931e+09\n",
       "5         6     1.186926e+09\n",
       "6         7     9.234677e+08\n",
       "7         8     7.499752e+08\n",
       "8         9     6.214264e+08\n",
       "9        10     5.232005e+08\n",
       "10       11     4.501870e+08\n",
       "11       12     3.791567e+08\n",
       "12       13     3.293274e+08"
      ]
     },
     "execution_count": 196,
     "metadata": {},
     "output_type": "execute_result"
    }
   ],
   "source": [
    "K=range(1,14)\n",
    "distance_values = []\n",
    "for cluster in K:\n",
    "    kmeans = KMeans(n_clusters = cluster, init='k-means++')\n",
    "    kmeans.fit(df)\n",
    "    distance_values.append(kmeans.inertia_)\n",
    "\n",
    "df_output = pd.DataFrame({'Cluster':range(1,14), 'distance_values':distance_values})    \n",
    "df_output"
   ]
  },
  {
   "cell_type": "markdown",
   "id": "retained-paris",
   "metadata": {},
   "source": [
    "2. Visualizar K-means"
   ]
  },
  {
   "cell_type": "code",
   "execution_count": 197,
   "id": "altered-bidder",
   "metadata": {},
   "outputs": [
    {
     "data": {
      "image/png": "[encoded data removed]",
      "text/plain": [
       "<Figure size 576x432 with 1 Axes>"
      ]
     },
     "metadata": {
      "needs_background": "light"
     },
     "output_type": "display_data"
    }
   ],
   "source": [
    "plt.figure(figsize=(8,6))\n",
    "plt.plot(df_output['Cluster'], df_output['distance_values'], marker='o',color='purple')\n",
    "plt.title('Diagrama de escala de inercia y clusters de Kmeans')\n",
    "plt.xlabel('Número de clusters')\n",
    "plt.ylabel('Inertia')\n",
    "plt.show()"
   ]
  },
  {
   "cell_type": "markdown",
   "id": "e16b12e4",
   "metadata": {},
   "source": [
    "# Ejercicio 2\n",
    "Clasifique los diferentes registros utilizando el algoritmo de clustering jerárquico."
   ]
  },
  {
   "cell_type": "markdown",
   "id": "widespread-tribe",
   "metadata": {},
   "source": [
    "## 2.1  Clustering jerárquico\n",
    "\n",
    "Es importante tener en cuenta que la distancia euclídea es una de las métricas de distancia más populares, no la única. A través de estas métricas de distancia, ampliaremos los cálculos de vecinos comunes introduciendo el concepto de jerarquía. Al utilizar la jerarquía para transmitir la información de agrupación, podemos crear agrupaciones más sólidas que tengan más sentido lógico. Al igual que k-means, la agrupación jerárquica puede ser útil para casos como la segmentación de clientes o la identificación de tipos de productos similares. Sin embargo, hay una pequeña ventaja en poder explicar las cosas de una manera más clara con la agrupación jerárquica.\n",
    "\n",
    "Este algoritmo tiene el mismo uso que la agrupación K-Means, pero el enfoque es diferente. Comenzamos determinando los dos puntos más cercanos y los agrupamos como uno. A continuación, procedemos a encontrar el siguiente conjunto de dos grupos más cercanos y los agrupamos como uno. Repetimos esta operación hasta obtener el número deseado de grupos."
   ]
  },
  {
   "cell_type": "markdown",
   "id": "4d268121",
   "metadata": {},
   "source": [
    "# Solución"
   ]
  },
  {
   "cell_type": "code",
   "execution_count": 172,
   "id": "exact-grade",
   "metadata": {},
   "outputs": [
    {
     "data": {
      "text/plain": [
       "Index(['status_type', 'num_reactions', 'num_comments', 'num_shares',\n",
       "       'num_likes', 'num_loves', 'num_wows', 'num_hahas', 'num_sads',\n",
       "       'num_angrys'],\n",
       "      dtype='object')"
      ]
     },
     "execution_count": 172,
     "metadata": {},
     "output_type": "execute_result"
    }
   ],
   "source": [
    "df.columns"
   ]
  },
  {
   "cell_type": "code",
   "execution_count": 210,
   "id": "artistic-blond",
   "metadata": {},
   "outputs": [
    {
     "data": {
      "text/plain": [
       "0       3\n",
       "1       1\n",
       "2       3\n",
       "3       1\n",
       "4       1\n",
       "       ..\n",
       "7045    1\n",
       "7046    1\n",
       "7047    1\n",
       "7048    1\n",
       "7049    1\n",
       "Name: status_type, Length: 7050, dtype: int64"
      ]
     },
     "execution_count": 210,
     "metadata": {},
     "output_type": "execute_result"
    }
   ],
   "source": [
    "Z=df.iloc[:,1:10]\n",
    "Y=df.iloc[:,0]\n",
    "Y"
   ]
  },
  {
   "cell_type": "code",
   "execution_count": 212,
   "id": "cooked-range",
   "metadata": {},
   "outputs": [
    {
     "name": "stdout",
     "output_type": "stream",
     "text": [
      "[2 2 2 ... 2 2 2]\n",
      "Accuracy : 0.04056737588652482\n"
     ]
    }
   ],
   "source": [
    "X=Z\n",
    "model = AgglomerativeClustering(n_clusters=3)\n",
    "model.fit(X)\n",
    "print(model.labels_)\n",
    "X['predict'] =  model.labels_\n",
    "print(\"Accuracy :\", metrics.accuracy_score(Y, X.predict))"
   ]
  },
  {
   "cell_type": "code",
   "execution_count": 215,
   "id": "corporate-excess",
   "metadata": {},
   "outputs": [],
   "source": [
    "x, y = df[['num_wows', 'num_sads']], df['status_type']"
   ]
  },
  {
   "cell_type": "code",
   "execution_count": 216,
   "id": "adjacent-style",
   "metadata": {},
   "outputs": [
    {
     "name": "stdout",
     "output_type": "stream",
     "text": [
      "Accuracy : 0.6070921985815603\n"
     ]
    }
   ],
   "source": [
    "agglo = AgglomerativeClustering(n_clusters=3)\n",
    "y_pred = agglo.fit_predict(x)\n",
    "print(\"Accuracy :\", metrics.accuracy_score(y, y_pred))"
   ]
  },
  {
   "cell_type": "code",
   "execution_count": 66,
   "id": "industrial-combining",
   "metadata": {},
   "outputs": [
    {
     "data": {
      "image/png": "[encoded data removed]",
      "text/plain": [
       "<Figure size 1800x720 with 1 Axes>"
      ]
     },
     "metadata": {
      "needs_background": "light"
     },
     "output_type": "display_data"
    }
   ],
   "source": [
    "Z = linkage(X, 'ward')\n",
    "c, coph_dists = cophenet(Z, pdist(df))\n",
    "# calculate full dendrogram\n",
    "plt.figure(figsize=(25, 10))\n",
    "plt.title('Agglomerative Hierarchical Clustering Dendrogram')\n",
    "plt.xlabel('sample index')\n",
    "plt.ylabel('distance')\n",
    "dendrogram(Z,\n",
    "           leaf_rotation=90.,  # rotates the x axis labels\n",
    "           leaf_font_size=8.,  # font size for the x axis labels\n",
    "          )\n",
    "plt.tight_layout()\n",
    "#----output----"
   ]
  },
  {
   "cell_type": "code",
   "execution_count": 132,
   "id": "meaning-tours",
   "metadata": {},
   "outputs": [
    {
     "data": {
      "text/plain": [
       "array([[14086, 14088],\n",
       "       [14070, 14093],\n",
       "       [14091, 14094],\n",
       "       [14092, 14096],\n",
       "       [14095, 14097]])"
      ]
     },
     "execution_count": 132,
     "metadata": {},
     "output_type": "execute_result"
    }
   ],
   "source": [
    "model.children_[-5:]"
   ]
  },
  {
   "cell_type": "markdown",
   "id": "3b6f4ab5",
   "metadata": {},
   "source": [
    "# Ejercicio 3\n",
    "Calcule el rendimiento del clustering intermediando un parámetro como puede ser silhouette."
   ]
  },
  {
   "cell_type": "markdown",
   "id": "tamil-editing",
   "metadata": {},
   "source": [
    "## 3.1 Rendimiento de la agrupación - Puntuación Silhouette\n",
    "\n",
    "Comprender el rendimiento de los métodos de aprendizaje no supervisado es mucho más difícil que el de los métodos de aprendizaje supervisado, ya que no se dispone de la verdad sobre el terreno. En el caso del aprendizaje supervisado, existen muchas métricas de rendimiento sólidas, de las cuales la más sencilla es la precisión, que consiste en comparar las etiquetas predichas por el modelo con las etiquetas reales y ver cuántas ha acertado el modelo. Desgraciadamente, en el caso de la agrupación, no disponemos de etiquetas en las que basarnos y necesitamos comprender lo \"diferentes\" que son nuestras agrupaciones. Esto se consigue con la métrica de puntuación de siluetas (Silhouette). También podemos utilizar las puntuaciones de silueta para encontrar el número \"K\" óptimo de agrupaciones(clusters) para nuestros métodos de aprendizaje no supervisado.\n",
    "\n",
    "La puntuación del coeficiente de silueta calcula la distancia media entre cada punto y todos los demás puntos de su conglomerado (a), así como la distancia media entre cada punto y todos los demás puntos de su conglomerado más cercano (b). Los relaciona de acuerdo con la siguiente ecuación:\n",
    "\n",
    "$$\n",
    "s = \\frac{b - a}{ \\max(a,b)}.\n",
    "$$\n",
    "\n",
    "La métrica de la silueta funciona analizando lo bien que encaja un punto en su conglomerado. La métrica oscila entre -1 y 1. Si la puntuación media de la silueta a lo largo de su agrupación es uno, entonces habrá logrado agrupaciones perfectas y habrá una confusión mínima sobre qué punto pertenece a cada lugar. Sin embargo, esto es muy raro; la puntuación de la silueta debe tratarse como un intento de hacerlo lo mejor posible, ya que acertar es muy poco probable. Si la puntuación de la silueta es positiva, significa que un punto está más cerca del conglomerado asignado que de los conglomerados vecinos. Si la puntuación de la silueta es 0, entonces un punto se encuentra en el límite entre el conglomerado asignado y el siguiente conglomerado más cercano. Si la puntuación de la silueta es negativa, indica que un punto determinado se ha asignado a un conglomerado incorrecto y que, de hecho, es probable que pertenezca a un conglomerado vecino."
   ]
  },
  {
   "cell_type": "markdown",
   "id": "d9ad03dc",
   "metadata": {},
   "source": [
    "# Solución"
   ]
  },
  {
   "cell_type": "code",
   "execution_count": 22,
   "id": "collectible-wholesale",
   "metadata": {},
   "outputs": [],
   "source": [
    "X=df\n",
    "score = []\n",
    "for n_clusters in range(2,10):\n",
    "    kmeans = KMeans(n_clusters=n_clusters)\n",
    "    kmeans.fit(X)\n",
    "    labels = kmeans.labels_\n",
    "    centroids = kmeans.cluster_centers_\n",
    "    score.append(silhouette_score(X, labels, metric='euclidean'))"
   ]
  },
  {
   "cell_type": "code",
   "execution_count": 115,
   "id": "afraid-sussex",
   "metadata": {},
   "outputs": [
    {
     "data": {
      "text/plain": [
       "array([0.8722, 0.8121, 0.8165, 0.7849, 0.7615, 0.7614, 0.7614, 0.6572])"
      ]
     },
     "execution_count": 115,
     "metadata": {},
     "output_type": "execute_result"
    }
   ],
   "source": [
    "np.round(score,4)"
   ]
  },
  {
   "cell_type": "code",
   "execution_count": 131,
   "id": "deluxe-jacket",
   "metadata": {},
   "outputs": [
    {
     "data": {
      "image/png": "[encoded data removed]",
      "text/plain": [
       "<Figure size 864x576 with 1 Axes>"
      ]
     },
     "metadata": {
      "needs_background": "light"
     },
     "output_type": "display_data"
    }
   ],
   "source": [
    "j=[i for i in range(2,10)]\n",
    "pd.DataFrame({'n_clusters': j,\n",
    "              'silhouette_score': score\n",
    "             }).set_index('n_clusters').plot(kind='bar',figsize=(12,8))\n",
    "plt.title('KMeans: Puntuación de Silhouette vs # Clusters elegidos')\n",
    "plt.xticks(rotation = 360)\n",
    "plt.show()\n"
   ]
  },
  {
   "cell_type": "markdown",
   "id": "equivalent-assets",
   "metadata": {},
   "source": [
    "Las puntuaciones resultantes confirman nuestra decisión inicial de que dos es la mejor opción para el número de clusters:"
   ]
  },
  {
   "cell_type": "markdown",
   "id": "local-engineer",
   "metadata": {},
   "source": [
    "## PCA\n",
    "\n",
    "El análisis de componentes principales (PCA) es un popular método de reducción de la dimensionalidad que se utiliza para reducir la dimensión de conjuntos de datos muy grandes. Para ello, combina múltiples variables en nuevas variables denominadas componentes principales. Estos componentes suelen ser independientes entre sí y contienen información valiosa de las variables originales.\n",
    "\n",
    "El PCA no proporciona una representación exacta de los datos originales, pero intenta conservar tanta información valiosa como sea posible. Esto significa que, la mayoría de las veces, produce un resultado lo suficientemente aproximado como para que podamos extraer conclusiones."
   ]
  },
  {
   "cell_type": "markdown",
   "id": "continuous-charter",
   "metadata": {},
   "source": [
    "1. Escala los datos utilizando el módulo StandardScaler de la biblioteca sklearn:"
   ]
  },
  {
   "cell_type": "code",
   "execution_count": 103,
   "id": "patient-circulation",
   "metadata": {},
   "outputs": [
    {
     "data": {
      "text/html": [
       "<div>\n",
       "<style scoped>\n",
       "    .dataframe tbody tr th:only-of-type {\n",
       "        vertical-align: middle;\n",
       "    }\n",
       "\n",
       "    .dataframe tbody tr th {\n",
       "        vertical-align: top;\n",
       "    }\n",
       "\n",
       "    .dataframe thead th {\n",
       "        text-align: right;\n",
       "    }\n",
       "</style>\n",
       "<table border=\"1\" class=\"dataframe\">\n",
       "  <thead>\n",
       "    <tr style=\"text-align: right;\">\n",
       "      <th></th>\n",
       "      <th>status_type</th>\n",
       "      <th>num_reactions</th>\n",
       "      <th>num_comments</th>\n",
       "      <th>num_shares</th>\n",
       "      <th>num_likes</th>\n",
       "      <th>num_loves</th>\n",
       "      <th>num_wows</th>\n",
       "      <th>num_hahas</th>\n",
       "      <th>num_sads</th>\n",
       "      <th>num_angrys</th>\n",
       "    </tr>\n",
       "  </thead>\n",
       "  <tbody>\n",
       "    <tr>\n",
       "      <th>0</th>\n",
       "      <td>1.374288</td>\n",
       "      <td>0.646104</td>\n",
       "      <td>0.323350</td>\n",
       "      <td>1.686879</td>\n",
       "      <td>0.482727</td>\n",
       "      <td>1.983266</td>\n",
       "      <td>0.196196</td>\n",
       "      <td>0.076713</td>\n",
       "      <td>0.473570</td>\n",
       "      <td>-0.155748</td>\n",
       "    </tr>\n",
       "    <tr>\n",
       "      <th>1</th>\n",
       "      <td>-0.748106</td>\n",
       "      <td>-0.173192</td>\n",
       "      <td>-0.252206</td>\n",
       "      <td>-0.304144</td>\n",
       "      <td>-0.144720</td>\n",
       "      <td>-0.318454</td>\n",
       "      <td>-0.147879</td>\n",
       "      <td>-0.176010</td>\n",
       "      <td>-0.152587</td>\n",
       "      <td>-0.155748</td>\n",
       "    </tr>\n",
       "    <tr>\n",
       "      <th>2</th>\n",
       "      <td>1.374288</td>\n",
       "      <td>-0.006738</td>\n",
       "      <td>0.013089</td>\n",
       "      <td>0.129017</td>\n",
       "      <td>-0.024571</td>\n",
       "      <td>0.206938</td>\n",
       "      <td>-0.033187</td>\n",
       "      <td>0.076713</td>\n",
       "      <td>-0.152587</td>\n",
       "      <td>-0.155748</td>\n",
       "    </tr>\n",
       "    <tr>\n",
       "      <th>3</th>\n",
       "      <td>-0.748106</td>\n",
       "      <td>-0.257499</td>\n",
       "      <td>-0.252206</td>\n",
       "      <td>-0.304144</td>\n",
       "      <td>-0.231495</td>\n",
       "      <td>-0.318454</td>\n",
       "      <td>-0.147879</td>\n",
       "      <td>-0.176010</td>\n",
       "      <td>-0.152587</td>\n",
       "      <td>-0.155748</td>\n",
       "    </tr>\n",
       "    <tr>\n",
       "      <th>4</th>\n",
       "      <td>-0.748106</td>\n",
       "      <td>-0.037003</td>\n",
       "      <td>-0.252206</td>\n",
       "      <td>-0.304144</td>\n",
       "      <td>-0.024571</td>\n",
       "      <td>-0.093286</td>\n",
       "      <td>-0.147879</td>\n",
       "      <td>-0.176010</td>\n",
       "      <td>-0.152587</td>\n",
       "      <td>-0.155748</td>\n",
       "    </tr>\n",
       "  </tbody>\n",
       "</table>\n",
       "</div>"
      ],
      "text/plain": [
       "   status_type  num_reactions  num_comments  num_shares  num_likes  num_loves  \\\n",
       "0     1.374288       0.646104      0.323350    1.686879   0.482727   1.983266   \n",
       "1    -0.748106      -0.173192     -0.252206   -0.304144  -0.144720  -0.318454   \n",
       "2     1.374288      -0.006738      0.013089    0.129017  -0.024571   0.206938   \n",
       "3    -0.748106      -0.257499     -0.252206   -0.304144  -0.231495  -0.318454   \n",
       "4    -0.748106      -0.037003     -0.252206   -0.304144  -0.024571  -0.093286   \n",
       "\n",
       "   num_wows  num_hahas  num_sads  num_angrys  \n",
       "0  0.196196   0.076713  0.473570   -0.155748  \n",
       "1 -0.147879  -0.176010 -0.152587   -0.155748  \n",
       "2 -0.033187   0.076713 -0.152587   -0.155748  \n",
       "3 -0.147879  -0.176010 -0.152587   -0.155748  \n",
       "4 -0.147879  -0.176010 -0.152587   -0.155748  "
      ]
     },
     "execution_count": 103,
     "metadata": {},
     "output_type": "execute_result"
    }
   ],
   "source": [
    "df_pca=df.copy()\n",
    "df_pca[df_pca.columns]=StandardScaler().fit_transform(df_pca)\n",
    "df_pca.head()"
   ]
  },
  {
   "cell_type": "markdown",
   "id": "apparent-antigua",
   "metadata": {},
   "source": [
    "2. Aplicar PCA al conjunto de datos utilizando la clase PCA de la biblioteca sklearn:"
   ]
  },
  {
   "cell_type": "code",
   "execution_count": 104,
   "id": "interstate-lingerie",
   "metadata": {},
   "outputs": [
    {
     "data": {
      "text/html": [
       "<div>\n",
       "<style scoped>\n",
       "    .dataframe tbody tr th:only-of-type {\n",
       "        vertical-align: middle;\n",
       "    }\n",
       "\n",
       "    .dataframe tbody tr th {\n",
       "        vertical-align: top;\n",
       "    }\n",
       "\n",
       "    .dataframe thead th {\n",
       "        text-align: right;\n",
       "    }\n",
       "</style>\n",
       "<table border=\"1\" class=\"dataframe\">\n",
       "  <thead>\n",
       "    <tr style=\"text-align: right;\">\n",
       "      <th></th>\n",
       "      <th>pc1</th>\n",
       "      <th>pc2</th>\n",
       "      <th>pc3</th>\n",
       "      <th>pc4</th>\n",
       "      <th>pc5</th>\n",
       "      <th>pc6</th>\n",
       "      <th>pc7</th>\n",
       "      <th>pc8</th>\n",
       "      <th>pc9</th>\n",
       "      <th>pc10</th>\n",
       "    </tr>\n",
       "  </thead>\n",
       "  <tbody>\n",
       "    <tr>\n",
       "      <th>0</th>\n",
       "      <td>2.540509</td>\n",
       "      <td>-0.236074</td>\n",
       "      <td>-0.623383</td>\n",
       "      <td>-0.806048</td>\n",
       "      <td>-0.302740</td>\n",
       "      <td>-0.685543</td>\n",
       "      <td>0.148593</td>\n",
       "      <td>-1.236036</td>\n",
       "      <td>-0.236186</td>\n",
       "      <td>-0.000019</td>\n",
       "    </tr>\n",
       "    <tr>\n",
       "      <th>1</th>\n",
       "      <td>-0.798038</td>\n",
       "      <td>0.135851</td>\n",
       "      <td>0.290390</td>\n",
       "      <td>0.295530</td>\n",
       "      <td>-0.078845</td>\n",
       "      <td>0.174998</td>\n",
       "      <td>-0.314540</td>\n",
       "      <td>-0.075562</td>\n",
       "      <td>-0.006733</td>\n",
       "      <td>-0.000004</td>\n",
       "    </tr>\n",
       "    <tr>\n",
       "      <th>2</th>\n",
       "      <td>0.437627</td>\n",
       "      <td>-0.295572</td>\n",
       "      <td>-0.457765</td>\n",
       "      <td>-0.937942</td>\n",
       "      <td>0.061712</td>\n",
       "      <td>-0.319393</td>\n",
       "      <td>0.724455</td>\n",
       "      <td>0.064682</td>\n",
       "      <td>-0.021885</td>\n",
       "      <td>-0.000004</td>\n",
       "    </tr>\n",
       "    <tr>\n",
       "      <th>3</th>\n",
       "      <td>-0.843361</td>\n",
       "      <td>0.026189</td>\n",
       "      <td>0.311329</td>\n",
       "      <td>0.298901</td>\n",
       "      <td>-0.084761</td>\n",
       "      <td>0.166664</td>\n",
       "      <td>-0.313746</td>\n",
       "      <td>-0.076118</td>\n",
       "      <td>-0.008249</td>\n",
       "      <td>-0.000004</td>\n",
       "    </tr>\n",
       "    <tr>\n",
       "      <th>4</th>\n",
       "      <td>-0.625578</td>\n",
       "      <td>0.267037</td>\n",
       "      <td>0.292267</td>\n",
       "      <td>0.277672</td>\n",
       "      <td>-0.078661</td>\n",
       "      <td>0.171712</td>\n",
       "      <td>-0.324624</td>\n",
       "      <td>-0.184410</td>\n",
       "      <td>-0.163095</td>\n",
       "      <td>-0.000010</td>\n",
       "    </tr>\n",
       "  </tbody>\n",
       "</table>\n",
       "</div>"
      ],
      "text/plain": [
       "        pc1       pc2       pc3       pc4       pc5       pc6       pc7  \\\n",
       "0  2.540509 -0.236074 -0.623383 -0.806048 -0.302740 -0.685543  0.148593   \n",
       "1 -0.798038  0.135851  0.290390  0.295530 -0.078845  0.174998 -0.314540   \n",
       "2  0.437627 -0.295572 -0.457765 -0.937942  0.061712 -0.319393  0.724455   \n",
       "3 -0.843361  0.026189  0.311329  0.298901 -0.084761  0.166664 -0.313746   \n",
       "4 -0.625578  0.267037  0.292267  0.277672 -0.078661  0.171712 -0.324624   \n",
       "\n",
       "        pc8       pc9      pc10  \n",
       "0 -1.236036 -0.236186 -0.000019  \n",
       "1 -0.075562 -0.006733 -0.000004  \n",
       "2  0.064682 -0.021885 -0.000004  \n",
       "3 -0.076118 -0.008249 -0.000004  \n",
       "4 -0.184410 -0.163095 -0.000010  "
      ]
     },
     "execution_count": 104,
     "metadata": {},
     "output_type": "execute_result"
    }
   ],
   "source": [
    "pca = PCA(random_state = 1)\n",
    "pcaData = pca.fit_transform(df_pca)\n",
    "pcaData = pd.DataFrame(pcaData, columns=[\"pc\"+str(i+1) for i in range(len(df_pca.columns))])\n",
    "pcaData.head()"
   ]
  },
  {
   "cell_type": "markdown",
   "id": "portuguese-lender",
   "metadata": {},
   "source": [
    "3. Comprobar la varianza explicada para cada componente:"
   ]
  },
  {
   "cell_type": "code",
   "execution_count": 105,
   "id": "operating-latex",
   "metadata": {},
   "outputs": [
    {
     "name": "stdout",
     "output_type": "stream",
     "text": [
      "Componente  0  0.3614\n",
      "Componente  1  0.1768\n",
      "Componente  2  0.0971\n",
      "Componente  3  0.0953\n",
      "Componente  4  0.082\n",
      "Componente  5  0.0706\n",
      "Componente  6  0.0653\n",
      "Componente  7  0.0368\n",
      "Componente  8  0.0149\n",
      "Componente  9  0.0\n"
     ]
    }
   ],
   "source": [
    "for i in range(0,len(pca.explained_variance_ratio_)):\n",
    "    print(\"Componente \",i ,\"\",pca.explained_variance_ratio_[i].round(4))"
   ]
  },
  {
   "cell_type": "markdown",
   "id": "dramatic-hurricane",
   "metadata": {},
   "source": [
    "4. Crear un gráfico para comprobar el número de componentes óptimos:"
   ]
  },
  {
   "cell_type": "code",
   "execution_count": 106,
   "id": "sound-qatar",
   "metadata": {},
   "outputs": [
    {
     "data": {
      "image/png": "[encoded data removed]",
      "text/plain": [
       "<Figure size 720x432 with 1 Axes>"
      ]
     },
     "metadata": {
      "needs_background": "light"
     },
     "output_type": "display_data"
    }
   ],
   "source": [
    "plt.figure(figsize= (10,6))\n",
    "PC_values = np.arange(pca.n_components_) + 1\n",
    "cummulative_variance = np.cumsum(pca.explained_variance_ratio_)\n",
    "plt.plot(PC_values, cummulative_variance, 'o-', linewidth=2, color='purple')\n",
    "plt.title('Varianza explicada por componentes')\n",
    "plt.xlabel('Componentes principales')\n",
    "plt.ylabel('Varianza explicada acumulativa')\n",
    "plt.show()"
   ]
  },
  {
   "cell_type": "code",
   "execution_count": 107,
   "id": "polyphonic-prerequisite",
   "metadata": {},
   "outputs": [
    {
     "name": "stdout",
     "output_type": "stream",
     "text": [
      "        pc1       pc2\n",
      "0  2.540509 -0.236074\n",
      "1 -0.798038  0.135851\n",
      "2  0.437627 -0.295572\n",
      "3 -0.843361  0.026189\n",
      "4 -0.625578  0.267037\n",
      "   status_type  num_reactions  num_comments  num_shares  num_likes  num_loves  \\\n",
      "0     1.374288       0.646104      0.323350    1.686879   0.482727   1.983266   \n",
      "1    -0.748106      -0.173192     -0.252206   -0.304144  -0.144720  -0.318454   \n",
      "2     1.374288      -0.006738      0.013089    0.129017  -0.024571   0.206938   \n",
      "3    -0.748106      -0.257499     -0.252206   -0.304144  -0.231495  -0.318454   \n",
      "4    -0.748106      -0.037003     -0.252206   -0.304144  -0.024571  -0.093286   \n",
      "\n",
      "   num_wows  num_hahas  num_sads  num_angrys  \n",
      "0  0.196196   0.076713  0.473570   -0.155748  \n",
      "1 -0.147879  -0.176010 -0.152587   -0.155748  \n",
      "2 -0.033187   0.076713 -0.152587   -0.155748  \n",
      "3 -0.147879  -0.176010 -0.152587   -0.155748  \n",
      "4 -0.147879  -0.176010 -0.152587   -0.155748  \n"
     ]
    }
   ],
   "source": [
    "pcaData1 = pcaData[[\"pc1\",\"pc2\"]].copy()\n",
    "Data1 = df_pca.copy()\n",
    "print(pcaData1.head())\n",
    "print(Data1.head())"
   ]
  },
  {
   "cell_type": "code",
   "execution_count": 119,
   "id": "fewer-enforcement",
   "metadata": {},
   "outputs": [
    {
     "data": {
      "text/plain": [
       "array([[-0.426, -0.203, -0.   ],\n",
       "       [ 1.492,  4.693,  2.   ],\n",
       "       [ 6.513, -1.392,  1.   ]])"
      ]
     },
     "execution_count": 119,
     "metadata": {},
     "output_type": "execute_result"
    }
   ],
   "source": [
    "kmeans_pca = KMeans(n_clusters=3, random_state=42)\n",
    "#Data1['labels']=kmeans_pca.fit_predict(Data1)\n",
    "pcaData1['labels']=kmeans_pca.fit_predict(pcaData1)\n",
    "\n",
    "centers=kmeans_pca.cluster_centers_\n",
    "centers.round(3)"
   ]
  },
  {
   "cell_type": "code",
   "execution_count": 120,
   "id": "cellular-vinyl",
   "metadata": {},
   "outputs": [
    {
     "data": {
      "image/png": "[encoded data removed]",
      "text/plain": [
       "<Figure size 648x432 with 1 Axes>"
      ]
     },
     "metadata": {
      "needs_background": "light"
     },
     "output_type": "display_data"
    }
   ],
   "source": [
    "plt.figure(figsize= (9,6))\n",
    "#sns.scatterplot(data = Data1, x=pcaData1.pc1, y=pcaData1.pc2, hue = 'labels');\n",
    "sns.scatterplot(data = pcaData1, x='pc1', y='pc2', hue = 'labels')\n",
    "#plt.scatter(pcaData1['pc1'],pcaData1['pc2'],c=kmeans_pca.labels_)\n",
    "plt.scatter(centers[:,0],centers[:,1],marker='x',s=100,c='purple');\n"
   ]
  },
  {
   "cell_type": "code",
   "execution_count": null,
   "id": "inappropriate-eclipse",
   "metadata": {},
   "outputs": [],
   "source": []
  }
 ],
 "metadata": {
  "kernelspec": {
   "display_name": "Python 3",
   "language": "python",
   "name": "python3"
  },
  "language_info": {
   "codemirror_mode": {
    "name": "ipython",
    "version": 3
   },
   "file_extension": ".py",
   "mimetype": "text/x-python",
   "name": "python",
   "nbconvert_exporter": "python",
   "pygments_lexer": "ipython3",
   "version": "3.9.2"
  }
 },
 "nbformat": 4,
 "nbformat_minor": 5
}
