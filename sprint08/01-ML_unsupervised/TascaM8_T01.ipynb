{
 "cells": [
  {
   "cell_type": "code",
   "execution_count": 1,
   "id": "8bee2e85",
   "metadata": {},
   "outputs": [],
   "source": [
    "import numpy as np\n",
    "import pandas as pd\n",
    "import matplotlib.pyplot as plt\n",
    "import seaborn as sns\n",
    "from sklearn.decomposition import PCA\n",
    "from sklearn.cluster import KMeans, DBSCAN, AgglomerativeClustering\n",
    "from sklearn.preprocessing import MinMaxScaler, StandardScaler, LabelEncoder, RobustScaler\n",
    "from sklearn.metrics import silhouette_samples, silhouette_score\n",
    "from scipy.cluster.hierarchy import cophenet, dendrogram, linkage\n",
    "from scipy.spatial.distance import pdist\n",
    "from kneed import KneeLocator"
   ]
  },
  {
   "cell_type": "markdown",
   "id": "645e71f2",
   "metadata": {},
   "source": [
    "**Ejercicios de algoritmos de Agrupación..**"
   ]
  },
  {
   "cell_type": "markdown",
   "id": "1acd8915",
   "metadata": {},
   "source": [
    "* Limpieza e interpretación de los datos.\n",
    "* Preprocesados y PCA.\n",
    "* Encontrar número de clústeres óptimo.\n",
    "* Creación de modelos. unsupervised (k-means y clustering jerárquico).\n",
    "* Interpretar los resultados."
   ]
  },
  {
   "cell_type": "markdown",
   "id": "87a9cda9",
   "metadata": {},
   "source": [
    "# Ejercicio 1\n",
    "Descargue el dataset adjunto, de registros de publicaciones en Facebook sobre Tailandia, y clasifique los diferentes registros utilizando el algoritmo de **K-means**.\n",
    "\n",
    "##### Importante\n",
    "\n",
    "Ten en cuenta que previamente necesitarás preparar el dataset."
   ]
  },
  {
   "cell_type": "markdown",
   "id": "valued-pittsburgh",
   "metadata": {},
   "source": [
    "## Modelo de agrupación (Clustering)\n",
    "\n",
    "El clustering es el proceso global que implica encontrar grupos de datos similares que existen en su conjunto de datos, lo que puede ser extremadamente valioso si usted está tratando de encontrar su significado subyacente. La agrupación es una forma de algoritmo no supervisado. Esto significa que, a diferencia de la clasificación o la regresión, la agrupación no requiere datos etiquetados reales. Estos algoritmos son capaces de encontrar grupos que no están explícitamente etiquetados e identificar patrones subyacentes que puedan aparecer en el conjunto de datos. Uno de los algoritmos de agrupación más sencillos pero eficaces es el algoritmo **K-means**.\n",
    "\n",
    "### k-means\n",
    "\n",
    "El algoritmo para la agrupación k-means es bastante sencillo:\n",
    "\n",
    "1. En primer lugar, elegiremos \"k\" centroides, donde \"k\" sería el número esperado de clusters distintos. El valor de k lo elegiremos nosotros y determinará el tipo de clustering que obtengamos.\n",
    "\n",
    "2. A continuación, colocaremos los \"k\" centroides en lugares aleatorios entre los datos de entrenamiento existentes.\n",
    "\n",
    "3. A continuación, se calculará la distancia de cada centroide a todos los puntos de los datos de entrenamiento. En breve entraremos en detalle sobre las funciones de distancia, pero por ahora, vamos a considerarla simplemente como la distancia a la que se encuentran unos puntos de otros.\n",
    "\n",
    "4. Ahora, todos los puntos de entrenamiento se agruparán con su centroide más cercano.\n",
    "\n",
    "5. Aislando los puntos de entrenamiento agrupados junto con sus respectivos centroides, calcule el punto de datos medio en el grupo y mueva el centroide anterior a la ubicación media.\n",
    "\n",
    "6. Este proceso se repetirá hasta la convergencia o hasta que se haya alcanzado el límite máximo de iteración.\n",
    "\n",
    "La matemática más importante que sustenta este algoritmo es la función de distancia. Una función de distancia es básicamente cualquier fórmula que le permite entender cuantitativamente cuán lejos está un objeto de otro, siendo la más popular la fórmula de distancia euclidiana:\n",
    "\n",
    "$$\n",
    "dist\\_Euclidean(x,y)=\\sum_{i=1}^{n}\\sqrt{(x_{i}-y_{i})^2},\\qquad x=(x_{1},x_{2},\\cdots,x_{n}),\\,\\,y=(y{1},y_{2},\\cdots,y_{n}).\n",
    "$$\n",
    "\n",
    "Otra métrica de distancia popular que puede utilizarse para la agrupación es la distancia Manhattan.\n",
    "\n",
    "$$\n",
    "dist\\_Manhattan(x,y)=\\sum_{i=1}^{n}|(x_{i}-y_{i}|,\\qquad x=(x_{1},x_{2},\\cdots,x_{n}),\\,\\,y=(y{1},y_{2},\\cdots,y_{n}).\n",
    "$$"
   ]
  },
  {
   "cell_type": "markdown",
   "id": "dd3c53bc",
   "metadata": {},
   "source": [
    "# Solución"
   ]
  },
  {
   "cell_type": "code",
   "execution_count": 2,
   "id": "e041dd71",
   "metadata": {},
   "outputs": [
    {
     "data": {
      "text/html": [
       "<div>\n",
       "<style scoped>\n",
       "    .dataframe tbody tr th:only-of-type {\n",
       "        vertical-align: middle;\n",
       "    }\n",
       "\n",
       "    .dataframe tbody tr th {\n",
       "        vertical-align: top;\n",
       "    }\n",
       "\n",
       "    .dataframe thead th {\n",
       "        text-align: right;\n",
       "    }\n",
       "</style>\n",
       "<table border=\"1\" class=\"dataframe\">\n",
       "  <thead>\n",
       "    <tr style=\"text-align: right;\">\n",
       "      <th></th>\n",
       "      <th>status_id</th>\n",
       "      <th>status_type</th>\n",
       "      <th>status_published</th>\n",
       "      <th>num_reactions</th>\n",
       "      <th>num_comments</th>\n",
       "      <th>num_shares</th>\n",
       "      <th>num_likes</th>\n",
       "      <th>num_loves</th>\n",
       "      <th>num_wows</th>\n",
       "      <th>num_hahas</th>\n",
       "      <th>num_sads</th>\n",
       "      <th>num_angrys</th>\n",
       "      <th>Column1</th>\n",
       "      <th>Column2</th>\n",
       "      <th>Column3</th>\n",
       "      <th>Column4</th>\n",
       "    </tr>\n",
       "  </thead>\n",
       "  <tbody>\n",
       "    <tr>\n",
       "      <th>0</th>\n",
       "      <td>246675545449582_1649696485147474</td>\n",
       "      <td>video</td>\n",
       "      <td>4/22/2018 6:00</td>\n",
       "      <td>529</td>\n",
       "      <td>512</td>\n",
       "      <td>262</td>\n",
       "      <td>432</td>\n",
       "      <td>92</td>\n",
       "      <td>3</td>\n",
       "      <td>1</td>\n",
       "      <td>1</td>\n",
       "      <td>0</td>\n",
       "      <td>NaN</td>\n",
       "      <td>NaN</td>\n",
       "      <td>NaN</td>\n",
       "      <td>NaN</td>\n",
       "    </tr>\n",
       "    <tr>\n",
       "      <th>1</th>\n",
       "      <td>246675545449582_1649426988507757</td>\n",
       "      <td>photo</td>\n",
       "      <td>4/21/2018 22:45</td>\n",
       "      <td>150</td>\n",
       "      <td>0</td>\n",
       "      <td>0</td>\n",
       "      <td>150</td>\n",
       "      <td>0</td>\n",
       "      <td>0</td>\n",
       "      <td>0</td>\n",
       "      <td>0</td>\n",
       "      <td>0</td>\n",
       "      <td>NaN</td>\n",
       "      <td>NaN</td>\n",
       "      <td>NaN</td>\n",
       "      <td>NaN</td>\n",
       "    </tr>\n",
       "    <tr>\n",
       "      <th>2</th>\n",
       "      <td>246675545449582_1648730588577397</td>\n",
       "      <td>video</td>\n",
       "      <td>4/21/2018 6:17</td>\n",
       "      <td>227</td>\n",
       "      <td>236</td>\n",
       "      <td>57</td>\n",
       "      <td>204</td>\n",
       "      <td>21</td>\n",
       "      <td>1</td>\n",
       "      <td>1</td>\n",
       "      <td>0</td>\n",
       "      <td>0</td>\n",
       "      <td>NaN</td>\n",
       "      <td>NaN</td>\n",
       "      <td>NaN</td>\n",
       "      <td>NaN</td>\n",
       "    </tr>\n",
       "    <tr>\n",
       "      <th>3</th>\n",
       "      <td>246675545449582_1648576705259452</td>\n",
       "      <td>photo</td>\n",
       "      <td>4/21/2018 2:29</td>\n",
       "      <td>111</td>\n",
       "      <td>0</td>\n",
       "      <td>0</td>\n",
       "      <td>111</td>\n",
       "      <td>0</td>\n",
       "      <td>0</td>\n",
       "      <td>0</td>\n",
       "      <td>0</td>\n",
       "      <td>0</td>\n",
       "      <td>NaN</td>\n",
       "      <td>NaN</td>\n",
       "      <td>NaN</td>\n",
       "      <td>NaN</td>\n",
       "    </tr>\n",
       "    <tr>\n",
       "      <th>4</th>\n",
       "      <td>246675545449582_1645700502213739</td>\n",
       "      <td>photo</td>\n",
       "      <td>4/18/2018 3:22</td>\n",
       "      <td>213</td>\n",
       "      <td>0</td>\n",
       "      <td>0</td>\n",
       "      <td>204</td>\n",
       "      <td>9</td>\n",
       "      <td>0</td>\n",
       "      <td>0</td>\n",
       "      <td>0</td>\n",
       "      <td>0</td>\n",
       "      <td>NaN</td>\n",
       "      <td>NaN</td>\n",
       "      <td>NaN</td>\n",
       "      <td>NaN</td>\n",
       "    </tr>\n",
       "  </tbody>\n",
       "</table>\n",
       "</div>"
      ],
      "text/plain": [
       "                          status_id status_type status_published  \\\n",
       "0  246675545449582_1649696485147474       video   4/22/2018 6:00   \n",
       "1  246675545449582_1649426988507757       photo  4/21/2018 22:45   \n",
       "2  246675545449582_1648730588577397       video   4/21/2018 6:17   \n",
       "3  246675545449582_1648576705259452       photo   4/21/2018 2:29   \n",
       "4  246675545449582_1645700502213739       photo   4/18/2018 3:22   \n",
       "\n",
       "   num_reactions  num_comments  num_shares  num_likes  num_loves  num_wows  \\\n",
       "0            529           512         262        432         92         3   \n",
       "1            150             0           0        150          0         0   \n",
       "2            227           236          57        204         21         1   \n",
       "3            111             0           0        111          0         0   \n",
       "4            213             0           0        204          9         0   \n",
       "\n",
       "   num_hahas  num_sads  num_angrys  Column1  Column2  Column3  Column4  \n",
       "0          1         1           0      NaN      NaN      NaN      NaN  \n",
       "1          0         0           0      NaN      NaN      NaN      NaN  \n",
       "2          1         0           0      NaN      NaN      NaN      NaN  \n",
       "3          0         0           0      NaN      NaN      NaN      NaN  \n",
       "4          0         0           0      NaN      NaN      NaN      NaN  "
      ]
     },
     "execution_count": 2,
     "metadata": {},
     "output_type": "execute_result"
    }
   ],
   "source": [
    "df=pd.read_csv('Publicacions Facebook Thailandia.csv')\n",
    "df.head()"
   ]
  },
  {
   "cell_type": "markdown",
   "id": "satisfied-glucose",
   "metadata": {},
   "source": [
    "Estas publicaciones se extrajeron de las páginas de Facebook de 10 vendedores minoristas tailandeses de moda y cosméticos desde marzo de 2012 hasta junio de 2018. Para cada publicación de Facebook, el conjunto de datos registra las medidas de participación resultantes que comprenden comparticiones, comentarios y reacciones emoji dentro de las cuales distinguimos los \"me gusta\", \"amor\", \"guau\", \"jaja\", \"triste\" y \"enfadado\". Este conjunto de datos podría servir de base para la investigación sobre el compromiso de los clientes con el novedoso canal de ventas que es Facebook Live.\n",
    "\n",
    "El prpósito del siguiente ejercicio es crear un modelo de agrupación."
   ]
  },
  {
   "cell_type": "markdown",
   "id": "italian-stanley",
   "metadata": {},
   "source": [
    "|Variable|Descripción|\n",
    "|--------|-----------|\n",
    "|status_id | identificador único de la entrada|\n",
    "|status_type | tipo de mensaje|\n",
    "|status_published | fecha y hora de publicación de la entrada|\n",
    "|num_reactions | número de likes, loves, wows, hahas, sads y angrys|\n",
    "|num_comments | número de comentarios|\n",
    "|num_shares | número de comparticiones|\n",
    "|num_likes | número de me gusta|\n",
    "|num_loves | número de amores|\n",
    "|num_wows | número de guau|\n",
    "|num_hahas | número de jajás|\n",
    "|num_sads | número de tristes|\n",
    "|num_angrys | número de enfados|"
   ]
  },
  {
   "cell_type": "markdown",
   "id": "consecutive-netherlands",
   "metadata": {},
   "source": [
    "## 1.1 EDA"
   ]
  },
  {
   "cell_type": "markdown",
   "id": "swedish-background",
   "metadata": {},
   "source": [
    "1. Verificar si existen valores nulos."
   ]
  },
  {
   "cell_type": "code",
   "execution_count": 3,
   "id": "statewide-fighter",
   "metadata": {},
   "outputs": [
    {
     "data": {
      "text/plain": [
       "status_id              0\n",
       "status_type            0\n",
       "status_published       0\n",
       "num_reactions          0\n",
       "num_comments           0\n",
       "num_shares             0\n",
       "num_likes              0\n",
       "num_loves              0\n",
       "num_wows               0\n",
       "num_hahas              0\n",
       "num_sads               0\n",
       "num_angrys             0\n",
       "Column1             7050\n",
       "Column2             7050\n",
       "Column3             7050\n",
       "Column4             7050\n",
       "dtype: int64"
      ]
     },
     "execution_count": 3,
     "metadata": {},
     "output_type": "execute_result"
    }
   ],
   "source": [
    "df.isnull().sum()"
   ]
  },
  {
   "cell_type": "markdown",
   "id": "reported-astrology",
   "metadata": {},
   "source": [
    "2. Observar los tipos de datos de cada columna."
   ]
  },
  {
   "cell_type": "code",
   "execution_count": 4,
   "id": "211ed246",
   "metadata": {},
   "outputs": [
    {
     "name": "stdout",
     "output_type": "stream",
     "text": [
      "<class 'pandas.core.frame.DataFrame'>\n",
      "RangeIndex: 7050 entries, 0 to 7049\n",
      "Data columns (total 16 columns):\n",
      " #   Column            Non-Null Count  Dtype  \n",
      "---  ------            --------------  -----  \n",
      " 0   status_id         7050 non-null   object \n",
      " 1   status_type       7050 non-null   object \n",
      " 2   status_published  7050 non-null   object \n",
      " 3   num_reactions     7050 non-null   int64  \n",
      " 4   num_comments      7050 non-null   int64  \n",
      " 5   num_shares        7050 non-null   int64  \n",
      " 6   num_likes         7050 non-null   int64  \n",
      " 7   num_loves         7050 non-null   int64  \n",
      " 8   num_wows          7050 non-null   int64  \n",
      " 9   num_hahas         7050 non-null   int64  \n",
      " 10  num_sads          7050 non-null   int64  \n",
      " 11  num_angrys        7050 non-null   int64  \n",
      " 12  Column1           0 non-null      float64\n",
      " 13  Column2           0 non-null      float64\n",
      " 14  Column3           0 non-null      float64\n",
      " 15  Column4           0 non-null      float64\n",
      "dtypes: float64(4), int64(9), object(3)\n",
      "memory usage: 881.4+ KB\n"
     ]
    }
   ],
   "source": [
    "df.info()"
   ]
  },
  {
   "cell_type": "markdown",
   "id": "southwest-carol",
   "metadata": {},
   "source": [
    "3. Observar regitros duplicado según su identificador."
   ]
  },
  {
   "cell_type": "code",
   "execution_count": 3,
   "id": "departmental-challenge",
   "metadata": {},
   "outputs": [
    {
     "data": {
      "text/html": [
       "<div>\n",
       "<style scoped>\n",
       "    .dataframe tbody tr th:only-of-type {\n",
       "        vertical-align: middle;\n",
       "    }\n",
       "\n",
       "    .dataframe tbody tr th {\n",
       "        vertical-align: top;\n",
       "    }\n",
       "\n",
       "    .dataframe thead th {\n",
       "        text-align: right;\n",
       "    }\n",
       "</style>\n",
       "<table border=\"1\" class=\"dataframe\">\n",
       "  <thead>\n",
       "    <tr style=\"text-align: right;\">\n",
       "      <th></th>\n",
       "      <th>status_id</th>\n",
       "      <th>status_type</th>\n",
       "      <th>status_published</th>\n",
       "      <th>num_reactions</th>\n",
       "      <th>num_comments</th>\n",
       "      <th>num_shares</th>\n",
       "      <th>num_likes</th>\n",
       "      <th>num_loves</th>\n",
       "      <th>num_wows</th>\n",
       "      <th>num_hahas</th>\n",
       "      <th>num_sads</th>\n",
       "      <th>num_angrys</th>\n",
       "      <th>Column1</th>\n",
       "      <th>Column2</th>\n",
       "      <th>Column3</th>\n",
       "      <th>Column4</th>\n",
       "    </tr>\n",
       "  </thead>\n",
       "  <tbody>\n",
       "    <tr>\n",
       "      <th>1698</th>\n",
       "      <td>246675545449582_326883450762124</td>\n",
       "      <td>photo</td>\n",
       "      <td>10/11/2013 8:23</td>\n",
       "      <td>211</td>\n",
       "      <td>2</td>\n",
       "      <td>0</td>\n",
       "      <td>211</td>\n",
       "      <td>0</td>\n",
       "      <td>0</td>\n",
       "      <td>0</td>\n",
       "      <td>0</td>\n",
       "      <td>0</td>\n",
       "      <td>NaN</td>\n",
       "      <td>NaN</td>\n",
       "      <td>NaN</td>\n",
       "      <td>NaN</td>\n",
       "    </tr>\n",
       "    <tr>\n",
       "      <th>1729</th>\n",
       "      <td>246675545449582_429583263825475</td>\n",
       "      <td>photo</td>\n",
       "      <td>9/11/2013 0:12</td>\n",
       "      <td>537</td>\n",
       "      <td>16</td>\n",
       "      <td>1</td>\n",
       "      <td>537</td>\n",
       "      <td>0</td>\n",
       "      <td>0</td>\n",
       "      <td>0</td>\n",
       "      <td>0</td>\n",
       "      <td>0</td>\n",
       "      <td>NaN</td>\n",
       "      <td>NaN</td>\n",
       "      <td>NaN</td>\n",
       "      <td>NaN</td>\n",
       "    </tr>\n",
       "    <tr>\n",
       "      <th>6221</th>\n",
       "      <td>819700534875473_1002372733274918</td>\n",
       "      <td>video</td>\n",
       "      <td>6/10/2018 3:43</td>\n",
       "      <td>376</td>\n",
       "      <td>20</td>\n",
       "      <td>3</td>\n",
       "      <td>354</td>\n",
       "      <td>19</td>\n",
       "      <td>3</td>\n",
       "      <td>0</td>\n",
       "      <td>0</td>\n",
       "      <td>0</td>\n",
       "      <td>NaN</td>\n",
       "      <td>NaN</td>\n",
       "      <td>NaN</td>\n",
       "      <td>NaN</td>\n",
       "    </tr>\n",
       "    <tr>\n",
       "      <th>6222</th>\n",
       "      <td>819700534875473_1001982519980606</td>\n",
       "      <td>photo</td>\n",
       "      <td>6/9/2018 22:53</td>\n",
       "      <td>255</td>\n",
       "      <td>7</td>\n",
       "      <td>4</td>\n",
       "      <td>249</td>\n",
       "      <td>6</td>\n",
       "      <td>0</td>\n",
       "      <td>0</td>\n",
       "      <td>0</td>\n",
       "      <td>0</td>\n",
       "      <td>NaN</td>\n",
       "      <td>NaN</td>\n",
       "      <td>NaN</td>\n",
       "      <td>NaN</td>\n",
       "    </tr>\n",
       "    <tr>\n",
       "      <th>6223</th>\n",
       "      <td>819700534875473_1000607730118085</td>\n",
       "      <td>photo</td>\n",
       "      <td>6/7/2018 7:01</td>\n",
       "      <td>1704</td>\n",
       "      <td>21</td>\n",
       "      <td>3</td>\n",
       "      <td>1685</td>\n",
       "      <td>15</td>\n",
       "      <td>2</td>\n",
       "      <td>2</td>\n",
       "      <td>0</td>\n",
       "      <td>0</td>\n",
       "      <td>NaN</td>\n",
       "      <td>NaN</td>\n",
       "      <td>NaN</td>\n",
       "      <td>NaN</td>\n",
       "    </tr>\n",
       "  </tbody>\n",
       "</table>\n",
       "</div>"
      ],
      "text/plain": [
       "                             status_id status_type status_published  \\\n",
       "1698   246675545449582_326883450762124       photo  10/11/2013 8:23   \n",
       "1729   246675545449582_429583263825475       photo   9/11/2013 0:12   \n",
       "6221  819700534875473_1002372733274918       video   6/10/2018 3:43   \n",
       "6222  819700534875473_1001982519980606       photo   6/9/2018 22:53   \n",
       "6223  819700534875473_1000607730118085       photo    6/7/2018 7:01   \n",
       "\n",
       "      num_reactions  num_comments  num_shares  num_likes  num_loves  num_wows  \\\n",
       "1698            211             2           0        211          0         0   \n",
       "1729            537            16           1        537          0         0   \n",
       "6221            376            20           3        354         19         3   \n",
       "6222            255             7           4        249          6         0   \n",
       "6223           1704            21           3       1685         15         2   \n",
       "\n",
       "      num_hahas  num_sads  num_angrys  Column1  Column2  Column3  Column4  \n",
       "1698          0         0           0      NaN      NaN      NaN      NaN  \n",
       "1729          0         0           0      NaN      NaN      NaN      NaN  \n",
       "6221          0         0           0      NaN      NaN      NaN      NaN  \n",
       "6222          0         0           0      NaN      NaN      NaN      NaN  \n",
       "6223          2         0           0      NaN      NaN      NaN      NaN  "
      ]
     },
     "execution_count": 3,
     "metadata": {},
     "output_type": "execute_result"
    }
   ],
   "source": [
    "df[df['status_id'].duplicated() == True].head()"
   ]
  },
  {
   "cell_type": "code",
   "execution_count": 4,
   "id": "administrative-blocking",
   "metadata": {},
   "outputs": [
    {
     "name": "stdout",
     "output_type": "stream",
     "text": [
      "53\n"
     ]
    }
   ],
   "source": [
    "print(len(df[df['status_id'].duplicated() == True]))"
   ]
  },
  {
   "cell_type": "markdown",
   "id": "alpha-associate",
   "metadata": {},
   "source": [
    "De esto se deduce que alrededor de 53 observaciones de la columna **status_id** están duplicadas. Procederemos a eliminar los duplicados utilizando la columna **status_id**."
   ]
  },
  {
   "cell_type": "code",
   "execution_count": 5,
   "id": "artistic-turtle",
   "metadata": {},
   "outputs": [
    {
     "data": {
      "text/html": [
       "<div>\n",
       "<style scoped>\n",
       "    .dataframe tbody tr th:only-of-type {\n",
       "        vertical-align: middle;\n",
       "    }\n",
       "\n",
       "    .dataframe tbody tr th {\n",
       "        vertical-align: top;\n",
       "    }\n",
       "\n",
       "    .dataframe thead th {\n",
       "        text-align: right;\n",
       "    }\n",
       "</style>\n",
       "<table border=\"1\" class=\"dataframe\">\n",
       "  <thead>\n",
       "    <tr style=\"text-align: right;\">\n",
       "      <th></th>\n",
       "      <th>status_id</th>\n",
       "      <th>status_type</th>\n",
       "      <th>status_published</th>\n",
       "      <th>num_reactions</th>\n",
       "      <th>num_comments</th>\n",
       "      <th>num_shares</th>\n",
       "      <th>num_likes</th>\n",
       "      <th>num_loves</th>\n",
       "      <th>num_wows</th>\n",
       "      <th>num_hahas</th>\n",
       "      <th>num_sads</th>\n",
       "      <th>num_angrys</th>\n",
       "      <th>Column1</th>\n",
       "      <th>Column2</th>\n",
       "      <th>Column3</th>\n",
       "      <th>Column4</th>\n",
       "    </tr>\n",
       "  </thead>\n",
       "  <tbody>\n",
       "    <tr>\n",
       "      <th>0</th>\n",
       "      <td>246675545449582_1649696485147474</td>\n",
       "      <td>video</td>\n",
       "      <td>4/22/2018 6:00</td>\n",
       "      <td>529</td>\n",
       "      <td>512</td>\n",
       "      <td>262</td>\n",
       "      <td>432</td>\n",
       "      <td>92</td>\n",
       "      <td>3</td>\n",
       "      <td>1</td>\n",
       "      <td>1</td>\n",
       "      <td>0</td>\n",
       "      <td>NaN</td>\n",
       "      <td>NaN</td>\n",
       "      <td>NaN</td>\n",
       "      <td>NaN</td>\n",
       "    </tr>\n",
       "    <tr>\n",
       "      <th>1</th>\n",
       "      <td>246675545449582_1649426988507757</td>\n",
       "      <td>photo</td>\n",
       "      <td>4/21/2018 22:45</td>\n",
       "      <td>150</td>\n",
       "      <td>0</td>\n",
       "      <td>0</td>\n",
       "      <td>150</td>\n",
       "      <td>0</td>\n",
       "      <td>0</td>\n",
       "      <td>0</td>\n",
       "      <td>0</td>\n",
       "      <td>0</td>\n",
       "      <td>NaN</td>\n",
       "      <td>NaN</td>\n",
       "      <td>NaN</td>\n",
       "      <td>NaN</td>\n",
       "    </tr>\n",
       "    <tr>\n",
       "      <th>2</th>\n",
       "      <td>246675545449582_1648730588577397</td>\n",
       "      <td>video</td>\n",
       "      <td>4/21/2018 6:17</td>\n",
       "      <td>227</td>\n",
       "      <td>236</td>\n",
       "      <td>57</td>\n",
       "      <td>204</td>\n",
       "      <td>21</td>\n",
       "      <td>1</td>\n",
       "      <td>1</td>\n",
       "      <td>0</td>\n",
       "      <td>0</td>\n",
       "      <td>NaN</td>\n",
       "      <td>NaN</td>\n",
       "      <td>NaN</td>\n",
       "      <td>NaN</td>\n",
       "    </tr>\n",
       "    <tr>\n",
       "      <th>3</th>\n",
       "      <td>246675545449582_1648576705259452</td>\n",
       "      <td>photo</td>\n",
       "      <td>4/21/2018 2:29</td>\n",
       "      <td>111</td>\n",
       "      <td>0</td>\n",
       "      <td>0</td>\n",
       "      <td>111</td>\n",
       "      <td>0</td>\n",
       "      <td>0</td>\n",
       "      <td>0</td>\n",
       "      <td>0</td>\n",
       "      <td>0</td>\n",
       "      <td>NaN</td>\n",
       "      <td>NaN</td>\n",
       "      <td>NaN</td>\n",
       "      <td>NaN</td>\n",
       "    </tr>\n",
       "    <tr>\n",
       "      <th>4</th>\n",
       "      <td>246675545449582_1645700502213739</td>\n",
       "      <td>photo</td>\n",
       "      <td>4/18/2018 3:22</td>\n",
       "      <td>213</td>\n",
       "      <td>0</td>\n",
       "      <td>0</td>\n",
       "      <td>204</td>\n",
       "      <td>9</td>\n",
       "      <td>0</td>\n",
       "      <td>0</td>\n",
       "      <td>0</td>\n",
       "      <td>0</td>\n",
       "      <td>NaN</td>\n",
       "      <td>NaN</td>\n",
       "      <td>NaN</td>\n",
       "      <td>NaN</td>\n",
       "    </tr>\n",
       "  </tbody>\n",
       "</table>\n",
       "</div>"
      ],
      "text/plain": [
       "                          status_id status_type status_published  \\\n",
       "0  246675545449582_1649696485147474       video   4/22/2018 6:00   \n",
       "1  246675545449582_1649426988507757       photo  4/21/2018 22:45   \n",
       "2  246675545449582_1648730588577397       video   4/21/2018 6:17   \n",
       "3  246675545449582_1648576705259452       photo   4/21/2018 2:29   \n",
       "4  246675545449582_1645700502213739       photo   4/18/2018 3:22   \n",
       "\n",
       "   num_reactions  num_comments  num_shares  num_likes  num_loves  num_wows  \\\n",
       "0            529           512         262        432         92         3   \n",
       "1            150             0           0        150          0         0   \n",
       "2            227           236          57        204         21         1   \n",
       "3            111             0           0        111          0         0   \n",
       "4            213             0           0        204          9         0   \n",
       "\n",
       "   num_hahas  num_sads  num_angrys  Column1  Column2  Column3  Column4  \n",
       "0          1         1           0      NaN      NaN      NaN      NaN  \n",
       "1          0         0           0      NaN      NaN      NaN      NaN  \n",
       "2          1         0           0      NaN      NaN      NaN      NaN  \n",
       "3          0         0           0      NaN      NaN      NaN      NaN  \n",
       "4          0         0           0      NaN      NaN      NaN      NaN  "
      ]
     },
     "execution_count": 5,
     "metadata": {},
     "output_type": "execute_result"
    }
   ],
   "source": [
    "df.drop_duplicates(subset='status_id', keep='last',inplace=True)\n",
    "df.head()"
   ]
  },
  {
   "cell_type": "markdown",
   "id": "rational-glenn",
   "metadata": {},
   "source": [
    "4. Vamos a prescindir de las 4 últimas columnas las cuales son nulas. Además, haremos lo mismo con **status_id** pues no aporta nada a nuestro estudio, y lo haremos de la siguiente manera:"
   ]
  },
  {
   "cell_type": "code",
   "execution_count": 6,
   "id": "optional-stable",
   "metadata": {},
   "outputs": [
    {
     "data": {
      "text/html": [
       "<div>\n",
       "<style scoped>\n",
       "    .dataframe tbody tr th:only-of-type {\n",
       "        vertical-align: middle;\n",
       "    }\n",
       "\n",
       "    .dataframe tbody tr th {\n",
       "        vertical-align: top;\n",
       "    }\n",
       "\n",
       "    .dataframe thead th {\n",
       "        text-align: right;\n",
       "    }\n",
       "</style>\n",
       "<table border=\"1\" class=\"dataframe\">\n",
       "  <thead>\n",
       "    <tr style=\"text-align: right;\">\n",
       "      <th></th>\n",
       "      <th>status_type</th>\n",
       "      <th>status_published</th>\n",
       "      <th>num_reactions</th>\n",
       "      <th>num_comments</th>\n",
       "      <th>num_shares</th>\n",
       "      <th>num_likes</th>\n",
       "      <th>num_loves</th>\n",
       "      <th>num_wows</th>\n",
       "      <th>num_hahas</th>\n",
       "      <th>num_sads</th>\n",
       "      <th>num_angrys</th>\n",
       "    </tr>\n",
       "  </thead>\n",
       "  <tbody>\n",
       "    <tr>\n",
       "      <th>0</th>\n",
       "      <td>video</td>\n",
       "      <td>4/22/2018 6:00</td>\n",
       "      <td>529</td>\n",
       "      <td>512</td>\n",
       "      <td>262</td>\n",
       "      <td>432</td>\n",
       "      <td>92</td>\n",
       "      <td>3</td>\n",
       "      <td>1</td>\n",
       "      <td>1</td>\n",
       "      <td>0</td>\n",
       "    </tr>\n",
       "    <tr>\n",
       "      <th>1</th>\n",
       "      <td>photo</td>\n",
       "      <td>4/21/2018 22:45</td>\n",
       "      <td>150</td>\n",
       "      <td>0</td>\n",
       "      <td>0</td>\n",
       "      <td>150</td>\n",
       "      <td>0</td>\n",
       "      <td>0</td>\n",
       "      <td>0</td>\n",
       "      <td>0</td>\n",
       "      <td>0</td>\n",
       "    </tr>\n",
       "    <tr>\n",
       "      <th>2</th>\n",
       "      <td>video</td>\n",
       "      <td>4/21/2018 6:17</td>\n",
       "      <td>227</td>\n",
       "      <td>236</td>\n",
       "      <td>57</td>\n",
       "      <td>204</td>\n",
       "      <td>21</td>\n",
       "      <td>1</td>\n",
       "      <td>1</td>\n",
       "      <td>0</td>\n",
       "      <td>0</td>\n",
       "    </tr>\n",
       "    <tr>\n",
       "      <th>3</th>\n",
       "      <td>photo</td>\n",
       "      <td>4/21/2018 2:29</td>\n",
       "      <td>111</td>\n",
       "      <td>0</td>\n",
       "      <td>0</td>\n",
       "      <td>111</td>\n",
       "      <td>0</td>\n",
       "      <td>0</td>\n",
       "      <td>0</td>\n",
       "      <td>0</td>\n",
       "      <td>0</td>\n",
       "    </tr>\n",
       "    <tr>\n",
       "      <th>4</th>\n",
       "      <td>photo</td>\n",
       "      <td>4/18/2018 3:22</td>\n",
       "      <td>213</td>\n",
       "      <td>0</td>\n",
       "      <td>0</td>\n",
       "      <td>204</td>\n",
       "      <td>9</td>\n",
       "      <td>0</td>\n",
       "      <td>0</td>\n",
       "      <td>0</td>\n",
       "      <td>0</td>\n",
       "    </tr>\n",
       "  </tbody>\n",
       "</table>\n",
       "</div>"
      ],
      "text/plain": [
       "  status_type status_published  num_reactions  num_comments  num_shares  \\\n",
       "0       video   4/22/2018 6:00            529           512         262   \n",
       "1       photo  4/21/2018 22:45            150             0           0   \n",
       "2       video   4/21/2018 6:17            227           236          57   \n",
       "3       photo   4/21/2018 2:29            111             0           0   \n",
       "4       photo   4/18/2018 3:22            213             0           0   \n",
       "\n",
       "   num_likes  num_loves  num_wows  num_hahas  num_sads  num_angrys  \n",
       "0        432         92         3          1         1           0  \n",
       "1        150          0         0          0         0           0  \n",
       "2        204         21         1          1         0           0  \n",
       "3        111          0         0          0         0           0  \n",
       "4        204          9         0          0         0           0  "
      ]
     },
     "execution_count": 6,
     "metadata": {},
     "output_type": "execute_result"
    }
   ],
   "source": [
    "df=df.iloc[:,1:12]\n",
    "df.head()"
   ]
  },
  {
   "cell_type": "markdown",
   "id": "adequate-possibility",
   "metadata": {},
   "source": [
    "5. Convertir la variable **status_published** de tipo string a datetime."
   ]
  },
  {
   "cell_type": "code",
   "execution_count": 7,
   "id": "amended-walter",
   "metadata": {},
   "outputs": [],
   "source": [
    "df['status_published'] = pd.to_datetime(df['status_published'])\n",
    "df['year'] = df['status_published'].dt.year\n",
    "df['month'] = df['status_published'].dt.month\n",
    "df['day'] = df['status_published'].dt.day\n",
    "df['hour'] = df['status_published'].dt.hour"
   ]
  },
  {
   "cell_type": "code",
   "execution_count": 8,
   "id": "greater-cruise",
   "metadata": {},
   "outputs": [
    {
     "data": {
      "text/html": [
       "<div>\n",
       "<style scoped>\n",
       "    .dataframe tbody tr th:only-of-type {\n",
       "        vertical-align: middle;\n",
       "    }\n",
       "\n",
       "    .dataframe tbody tr th {\n",
       "        vertical-align: top;\n",
       "    }\n",
       "\n",
       "    .dataframe thead th {\n",
       "        text-align: right;\n",
       "    }\n",
       "</style>\n",
       "<table border=\"1\" class=\"dataframe\">\n",
       "  <thead>\n",
       "    <tr style=\"text-align: right;\">\n",
       "      <th></th>\n",
       "      <th>status_type</th>\n",
       "      <th>status_published</th>\n",
       "      <th>num_reactions</th>\n",
       "      <th>num_comments</th>\n",
       "      <th>num_shares</th>\n",
       "      <th>num_likes</th>\n",
       "      <th>num_loves</th>\n",
       "      <th>num_wows</th>\n",
       "      <th>num_hahas</th>\n",
       "      <th>num_sads</th>\n",
       "      <th>num_angrys</th>\n",
       "      <th>year</th>\n",
       "      <th>month</th>\n",
       "      <th>day</th>\n",
       "      <th>hour</th>\n",
       "    </tr>\n",
       "  </thead>\n",
       "  <tbody>\n",
       "    <tr>\n",
       "      <th>0</th>\n",
       "      <td>video</td>\n",
       "      <td>2018-04-22 06:00:00</td>\n",
       "      <td>529</td>\n",
       "      <td>512</td>\n",
       "      <td>262</td>\n",
       "      <td>432</td>\n",
       "      <td>92</td>\n",
       "      <td>3</td>\n",
       "      <td>1</td>\n",
       "      <td>1</td>\n",
       "      <td>0</td>\n",
       "      <td>2018</td>\n",
       "      <td>4</td>\n",
       "      <td>22</td>\n",
       "      <td>6</td>\n",
       "    </tr>\n",
       "    <tr>\n",
       "      <th>1</th>\n",
       "      <td>photo</td>\n",
       "      <td>2018-04-21 22:45:00</td>\n",
       "      <td>150</td>\n",
       "      <td>0</td>\n",
       "      <td>0</td>\n",
       "      <td>150</td>\n",
       "      <td>0</td>\n",
       "      <td>0</td>\n",
       "      <td>0</td>\n",
       "      <td>0</td>\n",
       "      <td>0</td>\n",
       "      <td>2018</td>\n",
       "      <td>4</td>\n",
       "      <td>21</td>\n",
       "      <td>22</td>\n",
       "    </tr>\n",
       "    <tr>\n",
       "      <th>2</th>\n",
       "      <td>video</td>\n",
       "      <td>2018-04-21 06:17:00</td>\n",
       "      <td>227</td>\n",
       "      <td>236</td>\n",
       "      <td>57</td>\n",
       "      <td>204</td>\n",
       "      <td>21</td>\n",
       "      <td>1</td>\n",
       "      <td>1</td>\n",
       "      <td>0</td>\n",
       "      <td>0</td>\n",
       "      <td>2018</td>\n",
       "      <td>4</td>\n",
       "      <td>21</td>\n",
       "      <td>6</td>\n",
       "    </tr>\n",
       "    <tr>\n",
       "      <th>3</th>\n",
       "      <td>photo</td>\n",
       "      <td>2018-04-21 02:29:00</td>\n",
       "      <td>111</td>\n",
       "      <td>0</td>\n",
       "      <td>0</td>\n",
       "      <td>111</td>\n",
       "      <td>0</td>\n",
       "      <td>0</td>\n",
       "      <td>0</td>\n",
       "      <td>0</td>\n",
       "      <td>0</td>\n",
       "      <td>2018</td>\n",
       "      <td>4</td>\n",
       "      <td>21</td>\n",
       "      <td>2</td>\n",
       "    </tr>\n",
       "    <tr>\n",
       "      <th>4</th>\n",
       "      <td>photo</td>\n",
       "      <td>2018-04-18 03:22:00</td>\n",
       "      <td>213</td>\n",
       "      <td>0</td>\n",
       "      <td>0</td>\n",
       "      <td>204</td>\n",
       "      <td>9</td>\n",
       "      <td>0</td>\n",
       "      <td>0</td>\n",
       "      <td>0</td>\n",
       "      <td>0</td>\n",
       "      <td>2018</td>\n",
       "      <td>4</td>\n",
       "      <td>18</td>\n",
       "      <td>3</td>\n",
       "    </tr>\n",
       "  </tbody>\n",
       "</table>\n",
       "</div>"
      ],
      "text/plain": [
       "  status_type    status_published  num_reactions  num_comments  num_shares  \\\n",
       "0       video 2018-04-22 06:00:00            529           512         262   \n",
       "1       photo 2018-04-21 22:45:00            150             0           0   \n",
       "2       video 2018-04-21 06:17:00            227           236          57   \n",
       "3       photo 2018-04-21 02:29:00            111             0           0   \n",
       "4       photo 2018-04-18 03:22:00            213             0           0   \n",
       "\n",
       "   num_likes  num_loves  num_wows  num_hahas  num_sads  num_angrys  year  \\\n",
       "0        432         92         3          1         1           0  2018   \n",
       "1        150          0         0          0         0           0  2018   \n",
       "2        204         21         1          1         0           0  2018   \n",
       "3        111          0         0          0         0           0  2018   \n",
       "4        204          9         0          0         0           0  2018   \n",
       "\n",
       "   month  day  hour  \n",
       "0      4   22     6  \n",
       "1      4   21    22  \n",
       "2      4   21     6  \n",
       "3      4   21     2  \n",
       "4      4   18     3  "
      ]
     },
     "execution_count": 8,
     "metadata": {},
     "output_type": "execute_result"
    }
   ],
   "source": [
    "df.reset_index(inplace = True, drop = True)\n",
    "df.head()"
   ]
  },
  {
   "cell_type": "markdown",
   "id": "respiratory-prerequisite",
   "metadata": {},
   "source": [
    "6. Eliminar columna **status_published**."
   ]
  },
  {
   "cell_type": "code",
   "execution_count": 9,
   "id": "natural-filename",
   "metadata": {},
   "outputs": [
    {
     "data": {
      "text/html": [
       "<div>\n",
       "<style scoped>\n",
       "    .dataframe tbody tr th:only-of-type {\n",
       "        vertical-align: middle;\n",
       "    }\n",
       "\n",
       "    .dataframe tbody tr th {\n",
       "        vertical-align: top;\n",
       "    }\n",
       "\n",
       "    .dataframe thead th {\n",
       "        text-align: right;\n",
       "    }\n",
       "</style>\n",
       "<table border=\"1\" class=\"dataframe\">\n",
       "  <thead>\n",
       "    <tr style=\"text-align: right;\">\n",
       "      <th></th>\n",
       "      <th>status_type</th>\n",
       "      <th>num_reactions</th>\n",
       "      <th>num_comments</th>\n",
       "      <th>num_shares</th>\n",
       "      <th>num_likes</th>\n",
       "      <th>num_loves</th>\n",
       "      <th>num_wows</th>\n",
       "      <th>num_hahas</th>\n",
       "      <th>num_sads</th>\n",
       "      <th>num_angrys</th>\n",
       "      <th>year</th>\n",
       "      <th>month</th>\n",
       "      <th>day</th>\n",
       "      <th>hour</th>\n",
       "    </tr>\n",
       "  </thead>\n",
       "  <tbody>\n",
       "    <tr>\n",
       "      <th>0</th>\n",
       "      <td>video</td>\n",
       "      <td>529</td>\n",
       "      <td>512</td>\n",
       "      <td>262</td>\n",
       "      <td>432</td>\n",
       "      <td>92</td>\n",
       "      <td>3</td>\n",
       "      <td>1</td>\n",
       "      <td>1</td>\n",
       "      <td>0</td>\n",
       "      <td>2018</td>\n",
       "      <td>4</td>\n",
       "      <td>22</td>\n",
       "      <td>6</td>\n",
       "    </tr>\n",
       "    <tr>\n",
       "      <th>1</th>\n",
       "      <td>photo</td>\n",
       "      <td>150</td>\n",
       "      <td>0</td>\n",
       "      <td>0</td>\n",
       "      <td>150</td>\n",
       "      <td>0</td>\n",
       "      <td>0</td>\n",
       "      <td>0</td>\n",
       "      <td>0</td>\n",
       "      <td>0</td>\n",
       "      <td>2018</td>\n",
       "      <td>4</td>\n",
       "      <td>21</td>\n",
       "      <td>22</td>\n",
       "    </tr>\n",
       "    <tr>\n",
       "      <th>2</th>\n",
       "      <td>video</td>\n",
       "      <td>227</td>\n",
       "      <td>236</td>\n",
       "      <td>57</td>\n",
       "      <td>204</td>\n",
       "      <td>21</td>\n",
       "      <td>1</td>\n",
       "      <td>1</td>\n",
       "      <td>0</td>\n",
       "      <td>0</td>\n",
       "      <td>2018</td>\n",
       "      <td>4</td>\n",
       "      <td>21</td>\n",
       "      <td>6</td>\n",
       "    </tr>\n",
       "    <tr>\n",
       "      <th>3</th>\n",
       "      <td>photo</td>\n",
       "      <td>111</td>\n",
       "      <td>0</td>\n",
       "      <td>0</td>\n",
       "      <td>111</td>\n",
       "      <td>0</td>\n",
       "      <td>0</td>\n",
       "      <td>0</td>\n",
       "      <td>0</td>\n",
       "      <td>0</td>\n",
       "      <td>2018</td>\n",
       "      <td>4</td>\n",
       "      <td>21</td>\n",
       "      <td>2</td>\n",
       "    </tr>\n",
       "    <tr>\n",
       "      <th>4</th>\n",
       "      <td>photo</td>\n",
       "      <td>213</td>\n",
       "      <td>0</td>\n",
       "      <td>0</td>\n",
       "      <td>204</td>\n",
       "      <td>9</td>\n",
       "      <td>0</td>\n",
       "      <td>0</td>\n",
       "      <td>0</td>\n",
       "      <td>0</td>\n",
       "      <td>2018</td>\n",
       "      <td>4</td>\n",
       "      <td>18</td>\n",
       "      <td>3</td>\n",
       "    </tr>\n",
       "  </tbody>\n",
       "</table>\n",
       "</div>"
      ],
      "text/plain": [
       "  status_type  num_reactions  num_comments  num_shares  num_likes  num_loves  \\\n",
       "0       video            529           512         262        432         92   \n",
       "1       photo            150             0           0        150          0   \n",
       "2       video            227           236          57        204         21   \n",
       "3       photo            111             0           0        111          0   \n",
       "4       photo            213             0           0        204          9   \n",
       "\n",
       "   num_wows  num_hahas  num_sads  num_angrys  year  month  day  hour  \n",
       "0         3          1         1           0  2018      4   22     6  \n",
       "1         0          0         0           0  2018      4   21    22  \n",
       "2         1          1         0           0  2018      4   21     6  \n",
       "3         0          0         0           0  2018      4   21     2  \n",
       "4         0          0         0           0  2018      4   18     3  "
      ]
     },
     "execution_count": 9,
     "metadata": {},
     "output_type": "execute_result"
    }
   ],
   "source": [
    "df = df.drop('status_published', axis=1)\n",
    "df.head()"
   ]
  },
  {
   "cell_type": "markdown",
   "id": "08208ec5",
   "metadata": {},
   "source": [
    "7. Heatmap para mostrar la correlación entre las variables."
   ]
  },
  {
   "cell_type": "code",
   "execution_count": 47,
   "id": "6f4bea3c",
   "metadata": {},
   "outputs": [
    {
     "data": {
      "image/png": "[encoded data removed]",
      "text/plain": [
       "<Figure size 864x864 with 2 Axes>"
      ]
     },
     "metadata": {
      "needs_background": "light"
     },
     "output_type": "display_data"
    }
   ],
   "source": [
    "corr=df.corr()\n",
    "plt.figure(figsize=(12,12))\n",
    "sns.heatmap(corr, annot=True, cmap='Purples',annot_kws={'size':10},fmt='.2f',square=True);"
   ]
  },
  {
   "cell_type": "code",
   "execution_count": 48,
   "id": "coordinate-aspect",
   "metadata": {},
   "outputs": [
    {
     "data": {
      "image/png": "[encoded data removed]",
      "text/plain": [
       "<Figure size 1080x360 with 3 Axes>"
      ]
     },
     "metadata": {
      "needs_background": "light"
     },
     "output_type": "display_data"
    }
   ],
   "source": [
    "f=plt.figure(figsize=(15,5))\n",
    "f1=f.add_subplot(1,3,1)\n",
    "sns.regplot(x='num_reactions',y='num_likes',data=df,scatter_kws={'alpha': 0.4})\n",
    "f2=f.add_subplot(1,3,2)\n",
    "sns.regplot(x='num_loves',y='num_shares', data=df,scatter_kws={'alpha': 0.5});\n",
    "f3=f.add_subplot(1,3,3)\n",
    "sns.regplot(x='num_comments',y='num_shares', data=df,scatter_kws={'alpha': 0.4});"
   ]
  },
  {
   "cell_type": "markdown",
   "id": "7469f845",
   "metadata": {},
   "source": [
    "Del gráfico anterior se puede ver que las variables altamente correlacionadas son: **num_reactions**, **num_shares**, **num_likes** y **num_loves**. Por lo tanto, podemos escoger una variable y eliminar las otras de la siguiente manera:"
   ]
  },
  {
   "cell_type": "code",
   "execution_count": 10,
   "id": "d05c656f",
   "metadata": {},
   "outputs": [
    {
     "data": {
      "text/html": [
       "<div>\n",
       "<style scoped>\n",
       "    .dataframe tbody tr th:only-of-type {\n",
       "        vertical-align: middle;\n",
       "    }\n",
       "\n",
       "    .dataframe tbody tr th {\n",
       "        vertical-align: top;\n",
       "    }\n",
       "\n",
       "    .dataframe thead th {\n",
       "        text-align: right;\n",
       "    }\n",
       "</style>\n",
       "<table border=\"1\" class=\"dataframe\">\n",
       "  <thead>\n",
       "    <tr style=\"text-align: right;\">\n",
       "      <th></th>\n",
       "      <th>status_type</th>\n",
       "      <th>num_shares</th>\n",
       "      <th>num_likes</th>\n",
       "      <th>num_wows</th>\n",
       "      <th>num_hahas</th>\n",
       "      <th>num_sads</th>\n",
       "      <th>num_angrys</th>\n",
       "      <th>year</th>\n",
       "      <th>month</th>\n",
       "      <th>day</th>\n",
       "      <th>hour</th>\n",
       "    </tr>\n",
       "  </thead>\n",
       "  <tbody>\n",
       "    <tr>\n",
       "      <th>0</th>\n",
       "      <td>video</td>\n",
       "      <td>262</td>\n",
       "      <td>432</td>\n",
       "      <td>3</td>\n",
       "      <td>1</td>\n",
       "      <td>1</td>\n",
       "      <td>0</td>\n",
       "      <td>2018</td>\n",
       "      <td>4</td>\n",
       "      <td>22</td>\n",
       "      <td>6</td>\n",
       "    </tr>\n",
       "    <tr>\n",
       "      <th>1</th>\n",
       "      <td>photo</td>\n",
       "      <td>0</td>\n",
       "      <td>150</td>\n",
       "      <td>0</td>\n",
       "      <td>0</td>\n",
       "      <td>0</td>\n",
       "      <td>0</td>\n",
       "      <td>2018</td>\n",
       "      <td>4</td>\n",
       "      <td>21</td>\n",
       "      <td>22</td>\n",
       "    </tr>\n",
       "    <tr>\n",
       "      <th>2</th>\n",
       "      <td>video</td>\n",
       "      <td>57</td>\n",
       "      <td>204</td>\n",
       "      <td>1</td>\n",
       "      <td>1</td>\n",
       "      <td>0</td>\n",
       "      <td>0</td>\n",
       "      <td>2018</td>\n",
       "      <td>4</td>\n",
       "      <td>21</td>\n",
       "      <td>6</td>\n",
       "    </tr>\n",
       "    <tr>\n",
       "      <th>3</th>\n",
       "      <td>photo</td>\n",
       "      <td>0</td>\n",
       "      <td>111</td>\n",
       "      <td>0</td>\n",
       "      <td>0</td>\n",
       "      <td>0</td>\n",
       "      <td>0</td>\n",
       "      <td>2018</td>\n",
       "      <td>4</td>\n",
       "      <td>21</td>\n",
       "      <td>2</td>\n",
       "    </tr>\n",
       "    <tr>\n",
       "      <th>4</th>\n",
       "      <td>photo</td>\n",
       "      <td>0</td>\n",
       "      <td>204</td>\n",
       "      <td>0</td>\n",
       "      <td>0</td>\n",
       "      <td>0</td>\n",
       "      <td>0</td>\n",
       "      <td>2018</td>\n",
       "      <td>4</td>\n",
       "      <td>18</td>\n",
       "      <td>3</td>\n",
       "    </tr>\n",
       "  </tbody>\n",
       "</table>\n",
       "</div>"
      ],
      "text/plain": [
       "  status_type  num_shares  num_likes  num_wows  num_hahas  num_sads  \\\n",
       "0       video         262        432         3          1         1   \n",
       "1       photo           0        150         0          0         0   \n",
       "2       video          57        204         1          1         0   \n",
       "3       photo           0        111         0          0         0   \n",
       "4       photo           0        204         0          0         0   \n",
       "\n",
       "   num_angrys  year  month  day  hour  \n",
       "0           0  2018      4   22     6  \n",
       "1           0  2018      4   21    22  \n",
       "2           0  2018      4   21     6  \n",
       "3           0  2018      4   21     2  \n",
       "4           0  2018      4   18     3  "
      ]
     },
     "execution_count": 10,
     "metadata": {},
     "output_type": "execute_result"
    }
   ],
   "source": [
    "df = df.drop(['num_reactions', 'num_loves','num_comments'], axis=1)\n",
    "df.head()"
   ]
  },
  {
   "cell_type": "markdown",
   "id": "little-testimony",
   "metadata": {},
   "source": [
    "5. Mostrar descripción estadística de las variables."
   ]
  },
  {
   "cell_type": "code",
   "execution_count": 11,
   "id": "floating-immunology",
   "metadata": {},
   "outputs": [
    {
     "data": {
      "text/html": [
       "<div>\n",
       "<style scoped>\n",
       "    .dataframe tbody tr th:only-of-type {\n",
       "        vertical-align: middle;\n",
       "    }\n",
       "\n",
       "    .dataframe tbody tr th {\n",
       "        vertical-align: top;\n",
       "    }\n",
       "\n",
       "    .dataframe thead th {\n",
       "        text-align: right;\n",
       "    }\n",
       "</style>\n",
       "<table border=\"1\" class=\"dataframe\">\n",
       "  <thead>\n",
       "    <tr style=\"text-align: right;\">\n",
       "      <th></th>\n",
       "      <th>num_shares</th>\n",
       "      <th>num_likes</th>\n",
       "      <th>num_wows</th>\n",
       "      <th>num_hahas</th>\n",
       "      <th>num_sads</th>\n",
       "      <th>num_angrys</th>\n",
       "      <th>year</th>\n",
       "      <th>month</th>\n",
       "      <th>day</th>\n",
       "      <th>hour</th>\n",
       "    </tr>\n",
       "  </thead>\n",
       "  <tbody>\n",
       "    <tr>\n",
       "      <th>count</th>\n",
       "      <td>6997.00</td>\n",
       "      <td>6997.0</td>\n",
       "      <td>6997.00</td>\n",
       "      <td>6997.00</td>\n",
       "      <td>6997.00</td>\n",
       "      <td>6997.00</td>\n",
       "      <td>6997.00</td>\n",
       "      <td>6997.00</td>\n",
       "      <td>6997.00</td>\n",
       "      <td>6997.00</td>\n",
       "    </tr>\n",
       "    <tr>\n",
       "      <th>mean</th>\n",
       "      <td>40.27</td>\n",
       "      <td>209.9</td>\n",
       "      <td>1.25</td>\n",
       "      <td>0.70</td>\n",
       "      <td>0.23</td>\n",
       "      <td>0.11</td>\n",
       "      <td>2016.37</td>\n",
       "      <td>6.60</td>\n",
       "      <td>15.79</td>\n",
       "      <td>7.83</td>\n",
       "    </tr>\n",
       "    <tr>\n",
       "      <th>std</th>\n",
       "      <td>132.06</td>\n",
       "      <td>439.6</td>\n",
       "      <td>8.73</td>\n",
       "      <td>3.97</td>\n",
       "      <td>1.48</td>\n",
       "      <td>0.69</td>\n",
       "      <td>1.95</td>\n",
       "      <td>3.59</td>\n",
       "      <td>8.72</td>\n",
       "      <td>6.89</td>\n",
       "    </tr>\n",
       "    <tr>\n",
       "      <th>min</th>\n",
       "      <td>0.00</td>\n",
       "      <td>0.0</td>\n",
       "      <td>0.00</td>\n",
       "      <td>0.00</td>\n",
       "      <td>0.00</td>\n",
       "      <td>0.00</td>\n",
       "      <td>2012.00</td>\n",
       "      <td>1.00</td>\n",
       "      <td>1.00</td>\n",
       "      <td>0.00</td>\n",
       "    </tr>\n",
       "    <tr>\n",
       "      <th>25%</th>\n",
       "      <td>0.00</td>\n",
       "      <td>17.0</td>\n",
       "      <td>0.00</td>\n",
       "      <td>0.00</td>\n",
       "      <td>0.00</td>\n",
       "      <td>0.00</td>\n",
       "      <td>2016.00</td>\n",
       "      <td>3.00</td>\n",
       "      <td>8.00</td>\n",
       "      <td>2.00</td>\n",
       "    </tr>\n",
       "    <tr>\n",
       "      <th>50%</th>\n",
       "      <td>0.00</td>\n",
       "      <td>57.0</td>\n",
       "      <td>0.00</td>\n",
       "      <td>0.00</td>\n",
       "      <td>0.00</td>\n",
       "      <td>0.00</td>\n",
       "      <td>2017.00</td>\n",
       "      <td>6.00</td>\n",
       "      <td>16.00</td>\n",
       "      <td>7.00</td>\n",
       "    </tr>\n",
       "    <tr>\n",
       "      <th>75%</th>\n",
       "      <td>4.00</td>\n",
       "      <td>182.0</td>\n",
       "      <td>0.00</td>\n",
       "      <td>0.00</td>\n",
       "      <td>0.00</td>\n",
       "      <td>0.00</td>\n",
       "      <td>2018.00</td>\n",
       "      <td>10.00</td>\n",
       "      <td>23.00</td>\n",
       "      <td>9.00</td>\n",
       "    </tr>\n",
       "    <tr>\n",
       "      <th>max</th>\n",
       "      <td>3424.00</td>\n",
       "      <td>4710.0</td>\n",
       "      <td>278.00</td>\n",
       "      <td>157.00</td>\n",
       "      <td>51.00</td>\n",
       "      <td>31.00</td>\n",
       "      <td>2018.00</td>\n",
       "      <td>12.00</td>\n",
       "      <td>31.00</td>\n",
       "      <td>23.00</td>\n",
       "    </tr>\n",
       "  </tbody>\n",
       "</table>\n",
       "</div>"
      ],
      "text/plain": [
       "       num_shares  num_likes  num_wows  num_hahas  num_sads  num_angrys  \\\n",
       "count     6997.00     6997.0   6997.00    6997.00   6997.00     6997.00   \n",
       "mean        40.27      209.9      1.25       0.70      0.23        0.11   \n",
       "std        132.06      439.6      8.73       3.97      1.48        0.69   \n",
       "min          0.00        0.0      0.00       0.00      0.00        0.00   \n",
       "25%          0.00       17.0      0.00       0.00      0.00        0.00   \n",
       "50%          0.00       57.0      0.00       0.00      0.00        0.00   \n",
       "75%          4.00      182.0      0.00       0.00      0.00        0.00   \n",
       "max       3424.00     4710.0    278.00     157.00     51.00       31.00   \n",
       "\n",
       "          year    month      day     hour  \n",
       "count  6997.00  6997.00  6997.00  6997.00  \n",
       "mean   2016.37     6.60    15.79     7.83  \n",
       "std       1.95     3.59     8.72     6.89  \n",
       "min    2012.00     1.00     1.00     0.00  \n",
       "25%    2016.00     3.00     8.00     2.00  \n",
       "50%    2017.00     6.00    16.00     7.00  \n",
       "75%    2018.00    10.00    23.00     9.00  \n",
       "max    2018.00    12.00    31.00    23.00  "
      ]
     },
     "execution_count": 11,
     "metadata": {},
     "output_type": "execute_result"
    }
   ],
   "source": [
    "df.describe().round(2)"
   ]
  },
  {
   "cell_type": "markdown",
   "id": "republican-elizabeth",
   "metadata": {},
   "source": [
    "6. Codificar la variable **status_type** con la método **LabelEncoder()**"
   ]
  },
  {
   "cell_type": "code",
   "execution_count": 12,
   "id": "special-aircraft",
   "metadata": {},
   "outputs": [
    {
     "data": {
      "text/plain": [
       "array(['video', 'photo', 'link', 'status'], dtype=object)"
      ]
     },
     "execution_count": 12,
     "metadata": {},
     "output_type": "execute_result"
    }
   ],
   "source": [
    "df.status_type.unique()"
   ]
  },
  {
   "cell_type": "markdown",
   "id": "aggressive-noise",
   "metadata": {},
   "source": [
    "Podemos ver que hay 4 categorías de etiquetas en la variable **status_type**. A continuación la transformaremos de la siguiente manera:"
   ]
  },
  {
   "cell_type": "code",
   "execution_count": 13,
   "id": "343169b1",
   "metadata": {},
   "outputs": [
    {
     "data": {
      "text/html": [
       "<div>\n",
       "<style scoped>\n",
       "    .dataframe tbody tr th:only-of-type {\n",
       "        vertical-align: middle;\n",
       "    }\n",
       "\n",
       "    .dataframe tbody tr th {\n",
       "        vertical-align: top;\n",
       "    }\n",
       "\n",
       "    .dataframe thead th {\n",
       "        text-align: right;\n",
       "    }\n",
       "</style>\n",
       "<table border=\"1\" class=\"dataframe\">\n",
       "  <thead>\n",
       "    <tr style=\"text-align: right;\">\n",
       "      <th></th>\n",
       "      <th>status_type</th>\n",
       "      <th>num_shares</th>\n",
       "      <th>num_likes</th>\n",
       "      <th>num_wows</th>\n",
       "      <th>num_hahas</th>\n",
       "      <th>num_sads</th>\n",
       "      <th>num_angrys</th>\n",
       "      <th>year</th>\n",
       "      <th>month</th>\n",
       "      <th>day</th>\n",
       "      <th>hour</th>\n",
       "    </tr>\n",
       "  </thead>\n",
       "  <tbody>\n",
       "    <tr>\n",
       "      <th>0</th>\n",
       "      <td>3</td>\n",
       "      <td>262</td>\n",
       "      <td>432</td>\n",
       "      <td>3</td>\n",
       "      <td>1</td>\n",
       "      <td>1</td>\n",
       "      <td>0</td>\n",
       "      <td>2018</td>\n",
       "      <td>4</td>\n",
       "      <td>22</td>\n",
       "      <td>6</td>\n",
       "    </tr>\n",
       "    <tr>\n",
       "      <th>1</th>\n",
       "      <td>1</td>\n",
       "      <td>0</td>\n",
       "      <td>150</td>\n",
       "      <td>0</td>\n",
       "      <td>0</td>\n",
       "      <td>0</td>\n",
       "      <td>0</td>\n",
       "      <td>2018</td>\n",
       "      <td>4</td>\n",
       "      <td>21</td>\n",
       "      <td>22</td>\n",
       "    </tr>\n",
       "    <tr>\n",
       "      <th>2</th>\n",
       "      <td>3</td>\n",
       "      <td>57</td>\n",
       "      <td>204</td>\n",
       "      <td>1</td>\n",
       "      <td>1</td>\n",
       "      <td>0</td>\n",
       "      <td>0</td>\n",
       "      <td>2018</td>\n",
       "      <td>4</td>\n",
       "      <td>21</td>\n",
       "      <td>6</td>\n",
       "    </tr>\n",
       "    <tr>\n",
       "      <th>3</th>\n",
       "      <td>1</td>\n",
       "      <td>0</td>\n",
       "      <td>111</td>\n",
       "      <td>0</td>\n",
       "      <td>0</td>\n",
       "      <td>0</td>\n",
       "      <td>0</td>\n",
       "      <td>2018</td>\n",
       "      <td>4</td>\n",
       "      <td>21</td>\n",
       "      <td>2</td>\n",
       "    </tr>\n",
       "    <tr>\n",
       "      <th>4</th>\n",
       "      <td>1</td>\n",
       "      <td>0</td>\n",
       "      <td>204</td>\n",
       "      <td>0</td>\n",
       "      <td>0</td>\n",
       "      <td>0</td>\n",
       "      <td>0</td>\n",
       "      <td>2018</td>\n",
       "      <td>4</td>\n",
       "      <td>18</td>\n",
       "      <td>3</td>\n",
       "    </tr>\n",
       "  </tbody>\n",
       "</table>\n",
       "</div>"
      ],
      "text/plain": [
       "   status_type  num_shares  num_likes  num_wows  num_hahas  num_sads  \\\n",
       "0            3         262        432         3          1         1   \n",
       "1            1           0        150         0          0         0   \n",
       "2            3          57        204         1          1         0   \n",
       "3            1           0        111         0          0         0   \n",
       "4            1           0        204         0          0         0   \n",
       "\n",
       "   num_angrys  year  month  day  hour  \n",
       "0           0  2018      4   22     6  \n",
       "1           0  2018      4   21    22  \n",
       "2           0  2018      4   21     6  \n",
       "3           0  2018      4   21     2  \n",
       "4           0  2018      4   18     3  "
      ]
     },
     "execution_count": 13,
     "metadata": {},
     "output_type": "execute_result"
    }
   ],
   "source": [
    "label_encoder=LabelEncoder()\n",
    "df.status_type=label_encoder.fit_transform(df.status_type)\n",
    "df.head()"
   ]
  },
  {
   "cell_type": "markdown",
   "id": "intensive-parker",
   "metadata": {},
   "source": [
    "7. Diagramas de cajas y bigotes para visualizar valores atípicos"
   ]
  },
  {
   "cell_type": "code",
   "execution_count": 53,
   "id": "pediatric-filter",
   "metadata": {},
   "outputs": [
    {
     "data": {
      "image/png": "[encoded data removed]",
      "text/plain": [
       "<Figure size 1296x1584 with 11 Axes>"
      ]
     },
     "metadata": {
      "needs_background": "light"
     },
     "output_type": "display_data"
    }
   ],
   "source": [
    "f=plt.figure(figsize=(18,22))\n",
    "for i , col in zip(range(1,12),df.columns):\n",
    "    fplot=f.add_subplot(4,3,i)\n",
    "    sns.boxplot(y = col, data = df);"
   ]
  },
  {
   "cell_type": "markdown",
   "id": "excellent-portland",
   "metadata": {},
   "source": [
    "<p style='color:purple'>Se puede ver en la figura que la mayoría de la columnas tiene valore atípicos. Por tal motivo, más adelate se van transformar nuestros datos con <strong>RobustScaler</strong>.</p>"
   ]
  },
  {
   "cell_type": "markdown",
   "id": "interior-canadian",
   "metadata": {},
   "source": [
    "## 1.2. Aplicar el algoritmo de agrupación **K-Means**."
   ]
  },
  {
   "cell_type": "markdown",
   "id": "starting-brook",
   "metadata": {},
   "source": [
    "1. Agrupamos los puntos con **k-means** usando  $k=3$."
   ]
  },
  {
   "cell_type": "code",
   "execution_count": 54,
   "id": "boolean-carbon",
   "metadata": {},
   "outputs": [
    {
     "data": {
      "text/plain": [
       "KMeans(n_clusters=3, random_state=42)"
      ]
     },
     "execution_count": 54,
     "metadata": {},
     "output_type": "execute_result"
    }
   ],
   "source": [
    "n = 3\n",
    "kmeans = KMeans(n_clusters= n, init='k-means++',random_state= 42)\n",
    "kmeans.fit(df)"
   ]
  },
  {
   "cell_type": "markdown",
   "id": "pretty-article",
   "metadata": {},
   "source": [
    "2. El resultado son tres centroides en torno a los cuales se agrupan los puntos y las etiquetas para cada punto que indican a qué cluster pertenece dicho punto."
   ]
  },
  {
   "cell_type": "code",
   "execution_count": 55,
   "id": "likely-mexican",
   "metadata": {},
   "outputs": [],
   "source": [
    "centers = kmeans.cluster_centers_\n",
    "labels = kmeans.labels_"
   ]
  },
  {
   "cell_type": "markdown",
   "id": "persistent-extra",
   "metadata": {},
   "source": [
    "3. Dibujamos ahora los puntos y los centroides, utilizando un color distinto para los puntos de cada cluster."
   ]
  },
  {
   "cell_type": "code",
   "execution_count": 56,
   "id": "crude-desire",
   "metadata": {},
   "outputs": [
    {
     "data": {
      "text/html": [
       "<div>\n",
       "<style scoped>\n",
       "    .dataframe tbody tr th:only-of-type {\n",
       "        vertical-align: middle;\n",
       "    }\n",
       "\n",
       "    .dataframe tbody tr th {\n",
       "        vertical-align: top;\n",
       "    }\n",
       "\n",
       "    .dataframe thead th {\n",
       "        text-align: right;\n",
       "    }\n",
       "</style>\n",
       "<table border=\"1\" class=\"dataframe\">\n",
       "  <thead>\n",
       "    <tr style=\"text-align: right;\">\n",
       "      <th></th>\n",
       "      <th>status_type</th>\n",
       "      <th>num_shares</th>\n",
       "      <th>num_likes</th>\n",
       "      <th>num_wows</th>\n",
       "      <th>num_hahas</th>\n",
       "      <th>num_sads</th>\n",
       "      <th>num_angrys</th>\n",
       "      <th>year</th>\n",
       "      <th>month</th>\n",
       "      <th>day</th>\n",
       "      <th>hour</th>\n",
       "      <th>label</th>\n",
       "    </tr>\n",
       "  </thead>\n",
       "  <tbody>\n",
       "    <tr>\n",
       "      <th>0</th>\n",
       "      <td>3</td>\n",
       "      <td>262</td>\n",
       "      <td>432</td>\n",
       "      <td>3</td>\n",
       "      <td>1</td>\n",
       "      <td>1</td>\n",
       "      <td>0</td>\n",
       "      <td>2018</td>\n",
       "      <td>4</td>\n",
       "      <td>22</td>\n",
       "      <td>6</td>\n",
       "      <td>0</td>\n",
       "    </tr>\n",
       "    <tr>\n",
       "      <th>1</th>\n",
       "      <td>1</td>\n",
       "      <td>0</td>\n",
       "      <td>150</td>\n",
       "      <td>0</td>\n",
       "      <td>0</td>\n",
       "      <td>0</td>\n",
       "      <td>0</td>\n",
       "      <td>2018</td>\n",
       "      <td>4</td>\n",
       "      <td>21</td>\n",
       "      <td>22</td>\n",
       "      <td>0</td>\n",
       "    </tr>\n",
       "    <tr>\n",
       "      <th>2</th>\n",
       "      <td>3</td>\n",
       "      <td>57</td>\n",
       "      <td>204</td>\n",
       "      <td>1</td>\n",
       "      <td>1</td>\n",
       "      <td>0</td>\n",
       "      <td>0</td>\n",
       "      <td>2018</td>\n",
       "      <td>4</td>\n",
       "      <td>21</td>\n",
       "      <td>6</td>\n",
       "      <td>0</td>\n",
       "    </tr>\n",
       "    <tr>\n",
       "      <th>3</th>\n",
       "      <td>1</td>\n",
       "      <td>0</td>\n",
       "      <td>111</td>\n",
       "      <td>0</td>\n",
       "      <td>0</td>\n",
       "      <td>0</td>\n",
       "      <td>0</td>\n",
       "      <td>2018</td>\n",
       "      <td>4</td>\n",
       "      <td>21</td>\n",
       "      <td>2</td>\n",
       "      <td>0</td>\n",
       "    </tr>\n",
       "    <tr>\n",
       "      <th>4</th>\n",
       "      <td>1</td>\n",
       "      <td>0</td>\n",
       "      <td>204</td>\n",
       "      <td>0</td>\n",
       "      <td>0</td>\n",
       "      <td>0</td>\n",
       "      <td>0</td>\n",
       "      <td>2018</td>\n",
       "      <td>4</td>\n",
       "      <td>18</td>\n",
       "      <td>3</td>\n",
       "      <td>0</td>\n",
       "    </tr>\n",
       "  </tbody>\n",
       "</table>\n",
       "</div>"
      ],
      "text/plain": [
       "   status_type  num_shares  num_likes  num_wows  num_hahas  num_sads  \\\n",
       "0            3         262        432         3          1         1   \n",
       "1            1           0        150         0          0         0   \n",
       "2            3          57        204         1          1         0   \n",
       "3            1           0        111         0          0         0   \n",
       "4            1           0        204         0          0         0   \n",
       "\n",
       "   num_angrys  year  month  day  hour label  \n",
       "0           0  2018      4   22     6     0  \n",
       "1           0  2018      4   21    22     0  \n",
       "2           0  2018      4   21     6     0  \n",
       "3           0  2018      4   21     2     0  \n",
       "4           0  2018      4   18     3     0  "
      ]
     },
     "execution_count": 56,
     "metadata": {},
     "output_type": "execute_result"
    }
   ],
   "source": [
    "label = kmeans.fit_predict(df)\n",
    "df_test = df.copy()\n",
    "df_test['label'] = label\n",
    "df_test['label'] = df_test['label'].astype(str)\n",
    "df_test.head()"
   ]
  },
  {
   "cell_type": "code",
   "execution_count": 57,
   "id": "deluxe-timber",
   "metadata": {},
   "outputs": [
    {
     "data": {
      "image/png": "[encoded data removed]",
      "text/plain": [
       "<Figure size 648x432 with 1 Axes>"
      ]
     },
     "metadata": {
      "needs_background": "light"
     },
     "output_type": "display_data"
    }
   ],
   "source": [
    "plt.figure(figsize= (9,6))\n",
    "sns.scatterplot(data = df_test, x='num_shares', y='num_likes', hue = 'label',\n",
    "                palette=['orange','green','dodgerblue']);"
   ]
  },
  {
   "cell_type": "markdown",
   "id": "alert-munich",
   "metadata": {},
   "source": [
    "## 1.3 Elección del número óptimo de clusters en Kmeans"
   ]
  },
  {
   "cell_type": "markdown",
   "id": "demonstrated-projection",
   "metadata": {},
   "source": [
    "1. Encontrar el número óptimo de K clusters utilizando la técnica del codo(**elbow**)."
   ]
  },
  {
   "cell_type": "code",
   "execution_count": 58,
   "id": "intellectual-plane",
   "metadata": {},
   "outputs": [
    {
     "data": {
      "text/html": [
       "<div>\n",
       "<style scoped>\n",
       "    .dataframe tbody tr th:only-of-type {\n",
       "        vertical-align: middle;\n",
       "    }\n",
       "\n",
       "    .dataframe tbody tr th {\n",
       "        vertical-align: top;\n",
       "    }\n",
       "\n",
       "    .dataframe thead th {\n",
       "        text-align: right;\n",
       "    }\n",
       "</style>\n",
       "<table border=\"1\" class=\"dataframe\">\n",
       "  <thead>\n",
       "    <tr style=\"text-align: right;\">\n",
       "      <th></th>\n",
       "      <th>Cluster</th>\n",
       "      <th>distance_values</th>\n",
       "    </tr>\n",
       "  </thead>\n",
       "  <tbody>\n",
       "    <tr>\n",
       "      <th>0</th>\n",
       "      <td>1</td>\n",
       "      <td>1.475604e+09</td>\n",
       "    </tr>\n",
       "    <tr>\n",
       "      <th>1</th>\n",
       "      <td>2</td>\n",
       "      <td>4.417378e+08</td>\n",
       "    </tr>\n",
       "    <tr>\n",
       "      <th>2</th>\n",
       "      <td>3</td>\n",
       "      <td>2.757222e+08</td>\n",
       "    </tr>\n",
       "    <tr>\n",
       "      <th>3</th>\n",
       "      <td>4</td>\n",
       "      <td>2.042607e+08</td>\n",
       "    </tr>\n",
       "    <tr>\n",
       "      <th>4</th>\n",
       "      <td>5</td>\n",
       "      <td>1.642946e+08</td>\n",
       "    </tr>\n",
       "    <tr>\n",
       "      <th>5</th>\n",
       "      <td>6</td>\n",
       "      <td>1.321555e+08</td>\n",
       "    </tr>\n",
       "    <tr>\n",
       "      <th>6</th>\n",
       "      <td>7</td>\n",
       "      <td>1.027157e+08</td>\n",
       "    </tr>\n",
       "    <tr>\n",
       "      <th>7</th>\n",
       "      <td>8</td>\n",
       "      <td>8.610737e+07</td>\n",
       "    </tr>\n",
       "    <tr>\n",
       "      <th>8</th>\n",
       "      <td>9</td>\n",
       "      <td>7.550102e+07</td>\n",
       "    </tr>\n",
       "  </tbody>\n",
       "</table>\n",
       "</div>"
      ],
      "text/plain": [
       "   Cluster  distance_values\n",
       "0        1     1.475604e+09\n",
       "1        2     4.417378e+08\n",
       "2        3     2.757222e+08\n",
       "3        4     2.042607e+08\n",
       "4        5     1.642946e+08\n",
       "5        6     1.321555e+08\n",
       "6        7     1.027157e+08\n",
       "7        8     8.610737e+07\n",
       "8        9     7.550102e+07"
      ]
     },
     "execution_count": 58,
     "metadata": {},
     "output_type": "execute_result"
    }
   ],
   "source": [
    "K=range(1,10)\n",
    "distance_values = []\n",
    "for cluster in K:\n",
    "    kmeans = KMeans(n_clusters = cluster, init='k-means++')\n",
    "    kmeans.fit(df)\n",
    "    distance_values.append(kmeans.inertia_)\n",
    "\n",
    "df_output = pd.DataFrame({'Cluster':range(1,10), 'distance_values':distance_values})    \n",
    "df_output"
   ]
  },
  {
   "cell_type": "markdown",
   "id": "retained-paris",
   "metadata": {},
   "source": [
    "2. Visualizar los valores $K$."
   ]
  },
  {
   "cell_type": "code",
   "execution_count": 59,
   "id": "altered-bidder",
   "metadata": {},
   "outputs": [
    {
     "data": {
      "image/png": "[encoded data removed]",
      "text/plain": [
       "<Figure size 504x432 with 1 Axes>"
      ]
     },
     "metadata": {
      "needs_background": "light"
     },
     "output_type": "display_data"
    }
   ],
   "source": [
    "plt.figure(figsize=(7,6))\n",
    "plt.plot(df_output['Cluster'], df_output['distance_values'], marker='o',color='purple')\n",
    "plt.title('Diagrama de escala de inercia y clusters de Kmeans')\n",
    "plt.xlabel('Número de clusters')\n",
    "plt.ylabel('Inertia')\n",
    "plt.show()"
   ]
  },
  {
   "cell_type": "markdown",
   "id": "varied-switch",
   "metadata": {},
   "source": [
    "El gráfico anterior muestra un comportamiento común. Cuando el número de agrupaciones es muy pequeño, la densidad es proporcionalmente baja, por lo que la cohesión es baja y, en consecuencia, la inercia es alta. Aumentar el número de agrupaciones obliga al modelo a crear grupos más cohesionados y la inercia empieza a disminuir bruscamente. La regla  consiste en elegir el número de agrupaciones correspondiente al punto que separa la región de alta variación de la región casi plana. De este modo, estamos seguros de que todos los agrupamientos han alcanzado su cohesión máxima. Para nuestro ejemplo, **K=2** es el mejor candidato."
   ]
  },
  {
   "cell_type": "markdown",
   "id": "interpreted-crowd",
   "metadata": {},
   "source": [
    "3. Encontrar el elbow usando la libreria **kneed locator**.\n",
    "\n",
    "Si es difícil decidir qué parte del gráfico es un codo. Al usar el localizador del codo podemos encontrar este $k$. "
   ]
  },
  {
   "cell_type": "code",
   "execution_count": 60,
   "id": "coastal-layout",
   "metadata": {},
   "outputs": [
    {
     "name": "stdout",
     "output_type": "stream",
     "text": [
      "k=2\n"
     ]
    }
   ],
   "source": [
    "klocator = KneeLocator(range(1, 10), distance_values, curve=\"convex\", direction=\"decreasing\")\n",
    "print(f'k={klocator.elbow}')"
   ]
  },
  {
   "cell_type": "markdown",
   "id": "figured-matrix",
   "metadata": {},
   "source": [
    "Por lo tanto, el número de grupos que usaremos para construir el modelo de K-means es de dos."
   ]
  },
  {
   "cell_type": "markdown",
   "id": "e16b12e4",
   "metadata": {},
   "source": [
    "# Ejercicio 2\n",
    "Clasifique los diferentes registros utilizando el algoritmo de clustering jerárquico."
   ]
  },
  {
   "cell_type": "markdown",
   "id": "widespread-tribe",
   "metadata": {},
   "source": [
    "## 2.1  Clustering jerárquico\n",
    "\n",
    "Es importante tener en cuenta que la distancia euclídea es una de las métricas de distancia más populares, no la única. A través de estas métricas de distancia, ampliaremos los cálculos de vecinos comunes introduciendo el concepto de jerarquía. Al utilizar la jerarquía para transmitir la información de agrupación, podemos crear agrupaciones más sólidas que tengan más sentido lógico. Al igual que k-means, la agrupación jerárquica puede ser útil para casos como la segmentación de clientes o la identificación de tipos de productos similares. Sin embargo, hay una pequeña ventaja en poder explicar las cosas de una manera más clara con la agrupación jerárquica.\n",
    "\n",
    "Este algoritmo tiene el mismo uso que la agrupación K-Means, pero el enfoque es diferente. Comenzamos determinando los dos puntos más cercanos y los agrupamos como uno. A continuación, procedemos a encontrar el siguiente conjunto de dos grupos más cercanos y los agrupamos como uno. Repetimos esta operación hasta obtener el número deseado de grupos."
   ]
  },
  {
   "cell_type": "markdown",
   "id": "4d268121",
   "metadata": {},
   "source": [
    "# Solución"
   ]
  },
  {
   "cell_type": "markdown",
   "id": "twelve-democracy",
   "metadata": {},
   "source": [
    "### Dendograma.\n",
    "\n",
    "Un enfoque alternativo a la agrupación en clusters consiste en \"hacer crecer\" los clusters de abajo arriba. Es decir, en forma de árbol que nos permite representar toda la jerarquía de agrupación producida por un algoritmo aglomerativo o divisivo.  La idea consiste en colocar las muestras en el eje $x$ y el nivel de disimilitud en el eje $y$.\n",
    "\n",
    "Podemos hacerlo de la siguiente manera\n",
    "\n",
    "1. Hacer de cada entrada su propio cluster de uno.\n",
    "\n",
    "2. Mientras existan varios clusters, encuentre los dos clusters más cercanos y fúndalos.\n",
    "\n",
    "Al final, tendremos un cluster gigante que contiene todas las entradas (ver gráfico). "
   ]
  },
  {
   "cell_type": "code",
   "execution_count": 61,
   "id": "industrial-combining",
   "metadata": {},
   "outputs": [
    {
     "data": {
      "image/png": "[encoded data removed]",
      "text/plain": [
       "<Figure size 1080x576 with 1 Axes>"
      ]
     },
     "metadata": {
      "needs_background": "light"
     },
     "output_type": "display_data"
    }
   ],
   "source": [
    "Z = linkage(df, 'ward')\n",
    "c, coph_dists = cophenet(Z, pdist(df))\n",
    "plt.figure(figsize=(15, 8))\n",
    "plt.title('Dendrograma de agrupación jerárquica aglomerativa')\n",
    "plt.xlabel('índice de muestras')\n",
    "plt.ylabel('disimilitud')\n",
    "dendrogram(Z,leaf_rotation=90,leaf_font_size=8,truncate_mode=\"level\", p=5)\n",
    "plt.axhline(y=20000, c='purple', lw=1, linestyle='dashed')\n",
    "plt.tight_layout()"
   ]
  },
  {
   "cell_type": "markdown",
   "id": "heard-equilibrium",
   "metadata": {},
   "source": [
    "En el gráfico anterior podemos observar que existen dos clusters bien definidos si trazamos una línea horizontal de color **púrpura**  en $y=$20000."
   ]
  },
  {
   "cell_type": "markdown",
   "id": "rolled-workstation",
   "metadata": {},
   "source": [
    "### Agrupación Agglomerative"
   ]
  },
  {
   "cell_type": "code",
   "execution_count": 21,
   "id": "closing-speech",
   "metadata": {},
   "outputs": [
    {
     "data": {
      "text/html": [
       "<div>\n",
       "<style scoped>\n",
       "    .dataframe tbody tr th:only-of-type {\n",
       "        vertical-align: middle;\n",
       "    }\n",
       "\n",
       "    .dataframe tbody tr th {\n",
       "        vertical-align: top;\n",
       "    }\n",
       "\n",
       "    .dataframe thead th {\n",
       "        text-align: right;\n",
       "    }\n",
       "</style>\n",
       "<table border=\"1\" class=\"dataframe\">\n",
       "  <thead>\n",
       "    <tr style=\"text-align: right;\">\n",
       "      <th></th>\n",
       "      <th>status_type</th>\n",
       "      <th>num_shares</th>\n",
       "      <th>num_likes</th>\n",
       "      <th>num_wows</th>\n",
       "      <th>num_hahas</th>\n",
       "      <th>num_sads</th>\n",
       "      <th>num_angrys</th>\n",
       "      <th>year</th>\n",
       "      <th>month</th>\n",
       "      <th>day</th>\n",
       "      <th>hour</th>\n",
       "      <th>predict</th>\n",
       "    </tr>\n",
       "  </thead>\n",
       "  <tbody>\n",
       "    <tr>\n",
       "      <th>0</th>\n",
       "      <td>3</td>\n",
       "      <td>262</td>\n",
       "      <td>432</td>\n",
       "      <td>3</td>\n",
       "      <td>1</td>\n",
       "      <td>1</td>\n",
       "      <td>0</td>\n",
       "      <td>2018</td>\n",
       "      <td>4</td>\n",
       "      <td>22</td>\n",
       "      <td>6</td>\n",
       "      <td>0</td>\n",
       "    </tr>\n",
       "    <tr>\n",
       "      <th>1</th>\n",
       "      <td>1</td>\n",
       "      <td>0</td>\n",
       "      <td>150</td>\n",
       "      <td>0</td>\n",
       "      <td>0</td>\n",
       "      <td>0</td>\n",
       "      <td>0</td>\n",
       "      <td>2018</td>\n",
       "      <td>4</td>\n",
       "      <td>21</td>\n",
       "      <td>22</td>\n",
       "      <td>1</td>\n",
       "    </tr>\n",
       "    <tr>\n",
       "      <th>2</th>\n",
       "      <td>3</td>\n",
       "      <td>57</td>\n",
       "      <td>204</td>\n",
       "      <td>1</td>\n",
       "      <td>1</td>\n",
       "      <td>0</td>\n",
       "      <td>0</td>\n",
       "      <td>2018</td>\n",
       "      <td>4</td>\n",
       "      <td>21</td>\n",
       "      <td>6</td>\n",
       "      <td>1</td>\n",
       "    </tr>\n",
       "    <tr>\n",
       "      <th>3</th>\n",
       "      <td>1</td>\n",
       "      <td>0</td>\n",
       "      <td>111</td>\n",
       "      <td>0</td>\n",
       "      <td>0</td>\n",
       "      <td>0</td>\n",
       "      <td>0</td>\n",
       "      <td>2018</td>\n",
       "      <td>4</td>\n",
       "      <td>21</td>\n",
       "      <td>2</td>\n",
       "      <td>1</td>\n",
       "    </tr>\n",
       "    <tr>\n",
       "      <th>4</th>\n",
       "      <td>1</td>\n",
       "      <td>0</td>\n",
       "      <td>204</td>\n",
       "      <td>0</td>\n",
       "      <td>0</td>\n",
       "      <td>0</td>\n",
       "      <td>0</td>\n",
       "      <td>2018</td>\n",
       "      <td>4</td>\n",
       "      <td>18</td>\n",
       "      <td>3</td>\n",
       "      <td>1</td>\n",
       "    </tr>\n",
       "  </tbody>\n",
       "</table>\n",
       "</div>"
      ],
      "text/plain": [
       "   status_type  num_shares  num_likes  num_wows  num_hahas  num_sads  \\\n",
       "0            3         262        432         3          1         1   \n",
       "1            1           0        150         0          0         0   \n",
       "2            3          57        204         1          1         0   \n",
       "3            1           0        111         0          0         0   \n",
       "4            1           0        204         0          0         0   \n",
       "\n",
       "   num_angrys  year  month  day  hour predict  \n",
       "0           0  2018      4   22     6       0  \n",
       "1           0  2018      4   21    22       1  \n",
       "2           0  2018      4   21     6       1  \n",
       "3           0  2018      4   21     2       1  \n",
       "4           0  2018      4   18     3       1  "
      ]
     },
     "execution_count": 21,
     "metadata": {},
     "output_type": "execute_result"
    }
   ],
   "source": [
    "# Hacer una copia del dataframe\n",
    "df_agglo=df.copy()\n",
    "# escalador robust del dataframe\n",
    "scaler=RobustScaler() \n",
    "df_agglo[df_agglo.columns]=scaler.fit_transform(df_agglo)\n",
    "# Aplicar el modelo\n",
    "model_agglo = AgglomerativeClustering(n_clusters=2, affinity='euclidean', linkage='ward')\n",
    "label_agglo = model_agglo.fit(df_agglo)\n",
    "# Crear nueva columna con las etiquetas de los diferentes Clusters\n",
    "df_agglo['predict'] =  label_agglo.labels_\n",
    "df_agglo['predict']=df_agglo['predict'].astype(str)\n",
    "df_agglo_concat=pd.concat([df,df_agglo['predict']],axis=1)\n",
    "df_agglo_concat.head()"
   ]
  },
  {
   "cell_type": "markdown",
   "id": "union-delicious",
   "metadata": {},
   "source": [
    "1. Gráficar los clusters"
   ]
  },
  {
   "cell_type": "code",
   "execution_count": 22,
   "id": "adjacent-style",
   "metadata": {},
   "outputs": [
    {
     "data": {
      "image/png": "[encoded data removed]",
      "text/plain": [
       "<Figure size 648x432 with 1 Axes>"
      ]
     },
     "metadata": {
      "needs_background": "light"
     },
     "output_type": "display_data"
    }
   ],
   "source": [
    "plt.figure(figsize= (9,6))\n",
    "sns.scatterplot(data = df_agglo_concat, x='num_shares', y='num_likes', hue = 'predict',\n",
    "                palette=['orange','green']);\n"
   ]
  },
  {
   "cell_type": "markdown",
   "id": "automated-supplier",
   "metadata": {},
   "source": [
    "2. Puntuación para la agrupación Agglomerative"
   ]
  },
  {
   "cell_type": "code",
   "execution_count": 20,
   "id": "upper-producer",
   "metadata": {},
   "outputs": [
    {
     "data": {
      "text/plain": [
       "0.8491"
      ]
     },
     "execution_count": 20,
     "metadata": {},
     "output_type": "execute_result"
    }
   ],
   "source": [
    "score_agglomerative=silhouette_score(df_agglo, label_agglo.labels_, metric='euclidean')\n",
    "np.round(score_agglomerative,4)"
   ]
  },
  {
   "cell_type": "markdown",
   "id": "united-catholic",
   "metadata": {},
   "source": [
    "<a name='ref_1' style='text-decoration:none; color:purple'>La puntuación es de 0.8491.<a/>"
   ]
  },
  {
   "cell_type": "markdown",
   "id": "3b6f4ab5",
   "metadata": {},
   "source": [
    "# Ejercicio 3\n",
    "Calcule el rendimiento del clustering intermediando un parámetro como puede ser silhouette."
   ]
  },
  {
   "cell_type": "markdown",
   "id": "tamil-editing",
   "metadata": {},
   "source": [
    "## 3.1 Rendimiento de la agrupación - Puntuación Silhouette\n",
    "\n",
    "Comprender el rendimiento de los métodos de aprendizaje no supervisado es mucho más difícil que el de los métodos de aprendizaje supervisado, ya que no se dispone de la verdad sobre el terreno. En el caso del aprendizaje supervisado, existen muchas métricas de rendimiento sólidas, de las cuales la más sencilla es la precisión, que consiste en comparar las etiquetas predichas por el modelo con las etiquetas reales y ver cuántas ha acertado el modelo. Desgraciadamente, en el caso de la agrupación, no disponemos de etiquetas en las que basarnos y necesitamos comprender lo \"diferentes\" que son nuestras agrupaciones. Esto se consigue con la métrica de puntuación de siluetas (Silhouette). También podemos utilizar las puntuaciones de silueta para encontrar el número \"K\" óptimo de agrupaciones(clusters) para nuestros métodos de aprendizaje no supervisado.\n",
    "\n",
    "La puntuación del coeficiente de silueta calcula la distancia media entre cada punto y todos los demás puntos de su conglomerado (a), así como la distancia media entre cada punto y todos los demás puntos de su conglomerado más cercano (b). Los relaciona de acuerdo con la siguiente ecuación:\n",
    "\n",
    "$$\n",
    "s = \\frac{b - a}{ \\max(a,b)}.\n",
    "$$\n",
    "\n",
    "La métrica de la silueta funciona analizando lo bien que encaja un punto en su conglomerado. La métrica oscila entre -1 y 1. Si la puntuación media de la silueta a lo largo de su agrupación es uno, entonces habrá logrado agrupaciones perfectas y habrá una confusión mínima sobre qué punto pertenece a cada lugar. Sin embargo, esto es muy raro; la puntuación de la silueta debe tratarse como un intento de hacerlo lo mejor posible, ya que acertar es muy poco probable. Si la puntuación de la silueta es positiva, significa que un punto está más cerca del conglomerado asignado que de los conglomerados vecinos. Si la puntuación de la silueta es 0, entonces un punto se encuentra en el límite entre el conglomerado asignado y el siguiente conglomerado más cercano. Si la puntuación de la silueta es negativa, indica que un punto determinado se ha asignado a un conglomerado incorrecto y que, de hecho, es probable que pertenezca a un conglomerado vecino."
   ]
  },
  {
   "cell_type": "markdown",
   "id": "d9ad03dc",
   "metadata": {},
   "source": [
    "# Solución"
   ]
  },
  {
   "cell_type": "code",
   "execution_count": 37,
   "id": "collectible-wholesale",
   "metadata": {},
   "outputs": [],
   "source": [
    "X=df\n",
    "score = []\n",
    "for n_clusters in range(2,10):\n",
    "    kmeans = KMeans(n_clusters=n_clusters)\n",
    "    kmeans.fit(X)\n",
    "    labels = kmeans.labels_\n",
    "    centroids = kmeans.cluster_centers_\n",
    "    score.append(silhouette_score(X, labels, metric='euclidean'))"
   ]
  },
  {
   "cell_type": "code",
   "execution_count": 24,
   "id": "afraid-sussex",
   "metadata": {},
   "outputs": [
    {
     "name": "stdout",
     "output_type": "stream",
     "text": [
      "score_kmeans = [0.8545 0.8088 0.6297 0.6306 0.6769 0.6785 0.6411 0.6363]\n",
      "puntuación media: 0.6945473938946258\n"
     ]
    }
   ],
   "source": [
    "print(f'score_kmeans = {np.round(score,4)}')\n",
    "print(f'puntuación media: {np.mean(score)}')"
   ]
  },
  {
   "cell_type": "code",
   "execution_count": 25,
   "id": "deluxe-jacket",
   "metadata": {},
   "outputs": [
    {
     "data": {
      "image/png": "[encoded data removed]",
      "text/plain": [
       "<Figure size 864x576 with 1 Axes>"
      ]
     },
     "metadata": {
      "needs_background": "light"
     },
     "output_type": "display_data"
    }
   ],
   "source": [
    "j=[i for i in range(2,10)]\n",
    "pd.DataFrame({'n_clusters': j,\n",
    "              'silhouette_kmeans': score\n",
    "             }).set_index('n_clusters').plot(kind='bar',figsize=(12,8),color='red')\n",
    "plt.title('KMeans: Puntuación de Silhouette vs # Clusters elegidos')\n",
    "plt.xticks(rotation = 360)\n",
    "plt.show()\n"
   ]
  },
  {
   "cell_type": "markdown",
   "id": "equivalent-assets",
   "metadata": {},
   "source": [
    "<p style='color:purple'>Las puntuaciones resultantes confirman que dos es la mejor opción para el número de clusters y su puntuación es 0.8545.</p>"
   ]
  },
  {
   "cell_type": "markdown",
   "id": "satisfactory-equality",
   "metadata": {},
   "source": [
    "<h5 style='color:red'>Nota</h5> \n",
    "<p>Este último gráfico es mas explícito que el gráfico de <strong>codo</strong>, pues solo basta con mirar la barra 2 cuya puntuación es de 0.8545.</p>\n"
   ]
  },
  {
   "cell_type": "markdown",
   "id": "local-engineer",
   "metadata": {},
   "source": [
    "## PCA\n",
    "\n",
    "El análisis de componentes principales (PCA) es un popular método de reducción de la dimensionalidad que se utiliza para reducir la dimensión de conjuntos de datos muy grandes. Para ello, combina múltiples variables en nuevas variables denominadas componentes principales. Estos componentes suelen ser independientes entre sí y contienen información valiosa de las variables originales.\n",
    "\n",
    "El PCA no proporciona una representación exacta de los datos originales, pero intenta conservar tanta información valiosa como sea posible. Esto significa que, la mayoría de las veces, produce un resultado lo suficientemente aproximado como para que podamos extraer conclusiones."
   ]
  },
  {
   "cell_type": "markdown",
   "id": "continuous-charter",
   "metadata": {},
   "source": [
    "1. Escalar los datos utilizando el módulo RobustScaler de la biblioteca sklearn:"
   ]
  },
  {
   "cell_type": "code",
   "execution_count": 38,
   "id": "patient-circulation",
   "metadata": {},
   "outputs": [
    {
     "data": {
      "text/html": [
       "<div>\n",
       "<style scoped>\n",
       "    .dataframe tbody tr th:only-of-type {\n",
       "        vertical-align: middle;\n",
       "    }\n",
       "\n",
       "    .dataframe tbody tr th {\n",
       "        vertical-align: top;\n",
       "    }\n",
       "\n",
       "    .dataframe thead th {\n",
       "        text-align: right;\n",
       "    }\n",
       "</style>\n",
       "<table border=\"1\" class=\"dataframe\">\n",
       "  <thead>\n",
       "    <tr style=\"text-align: right;\">\n",
       "      <th></th>\n",
       "      <th>status_type</th>\n",
       "      <th>num_shares</th>\n",
       "      <th>num_likes</th>\n",
       "      <th>num_wows</th>\n",
       "      <th>num_hahas</th>\n",
       "      <th>num_sads</th>\n",
       "      <th>num_angrys</th>\n",
       "      <th>year</th>\n",
       "      <th>month</th>\n",
       "      <th>day</th>\n",
       "      <th>hour</th>\n",
       "    </tr>\n",
       "  </thead>\n",
       "  <tbody>\n",
       "    <tr>\n",
       "      <th>0</th>\n",
       "      <td>1.0</td>\n",
       "      <td>65.50</td>\n",
       "      <td>2.272727</td>\n",
       "      <td>3.0</td>\n",
       "      <td>1.0</td>\n",
       "      <td>1.0</td>\n",
       "      <td>0.0</td>\n",
       "      <td>0.5</td>\n",
       "      <td>-0.285714</td>\n",
       "      <td>0.400000</td>\n",
       "      <td>-0.142857</td>\n",
       "    </tr>\n",
       "    <tr>\n",
       "      <th>1</th>\n",
       "      <td>0.0</td>\n",
       "      <td>0.00</td>\n",
       "      <td>0.563636</td>\n",
       "      <td>0.0</td>\n",
       "      <td>0.0</td>\n",
       "      <td>0.0</td>\n",
       "      <td>0.0</td>\n",
       "      <td>0.5</td>\n",
       "      <td>-0.285714</td>\n",
       "      <td>0.333333</td>\n",
       "      <td>2.142857</td>\n",
       "    </tr>\n",
       "    <tr>\n",
       "      <th>2</th>\n",
       "      <td>1.0</td>\n",
       "      <td>14.25</td>\n",
       "      <td>0.890909</td>\n",
       "      <td>1.0</td>\n",
       "      <td>1.0</td>\n",
       "      <td>0.0</td>\n",
       "      <td>0.0</td>\n",
       "      <td>0.5</td>\n",
       "      <td>-0.285714</td>\n",
       "      <td>0.333333</td>\n",
       "      <td>-0.142857</td>\n",
       "    </tr>\n",
       "    <tr>\n",
       "      <th>3</th>\n",
       "      <td>0.0</td>\n",
       "      <td>0.00</td>\n",
       "      <td>0.327273</td>\n",
       "      <td>0.0</td>\n",
       "      <td>0.0</td>\n",
       "      <td>0.0</td>\n",
       "      <td>0.0</td>\n",
       "      <td>0.5</td>\n",
       "      <td>-0.285714</td>\n",
       "      <td>0.333333</td>\n",
       "      <td>-0.714286</td>\n",
       "    </tr>\n",
       "    <tr>\n",
       "      <th>4</th>\n",
       "      <td>0.0</td>\n",
       "      <td>0.00</td>\n",
       "      <td>0.890909</td>\n",
       "      <td>0.0</td>\n",
       "      <td>0.0</td>\n",
       "      <td>0.0</td>\n",
       "      <td>0.0</td>\n",
       "      <td>0.5</td>\n",
       "      <td>-0.285714</td>\n",
       "      <td>0.133333</td>\n",
       "      <td>-0.571429</td>\n",
       "    </tr>\n",
       "  </tbody>\n",
       "</table>\n",
       "</div>"
      ],
      "text/plain": [
       "   status_type  num_shares  num_likes  num_wows  num_hahas  num_sads  \\\n",
       "0          1.0       65.50   2.272727       3.0        1.0       1.0   \n",
       "1          0.0        0.00   0.563636       0.0        0.0       0.0   \n",
       "2          1.0       14.25   0.890909       1.0        1.0       0.0   \n",
       "3          0.0        0.00   0.327273       0.0        0.0       0.0   \n",
       "4          0.0        0.00   0.890909       0.0        0.0       0.0   \n",
       "\n",
       "   num_angrys  year     month       day      hour  \n",
       "0         0.0   0.5 -0.285714  0.400000 -0.142857  \n",
       "1         0.0   0.5 -0.285714  0.333333  2.142857  \n",
       "2         0.0   0.5 -0.285714  0.333333 -0.142857  \n",
       "3         0.0   0.5 -0.285714  0.333333 -0.714286  \n",
       "4         0.0   0.5 -0.285714  0.133333 -0.571429  "
      ]
     },
     "execution_count": 38,
     "metadata": {},
     "output_type": "execute_result"
    }
   ],
   "source": [
    "df_pca=df.copy()\n",
    "df_pca[df_pca.columns]=RobustScaler().fit_transform(df_pca)\n",
    "df_pca.head()"
   ]
  },
  {
   "cell_type": "markdown",
   "id": "apparent-antigua",
   "metadata": {},
   "source": [
    "2. Aplicar PCA al conjunto de datos utilizando la clase PCA de la biblioteca sklearn:"
   ]
  },
  {
   "cell_type": "code",
   "execution_count": 41,
   "id": "interstate-lingerie",
   "metadata": {},
   "outputs": [
    {
     "data": {
      "text/html": [
       "<div>\n",
       "<style scoped>\n",
       "    .dataframe tbody tr th:only-of-type {\n",
       "        vertical-align: middle;\n",
       "    }\n",
       "\n",
       "    .dataframe tbody tr th {\n",
       "        vertical-align: top;\n",
       "    }\n",
       "\n",
       "    .dataframe thead th {\n",
       "        text-align: right;\n",
       "    }\n",
       "</style>\n",
       "<table border=\"1\" class=\"dataframe\">\n",
       "  <thead>\n",
       "    <tr style=\"text-align: right;\">\n",
       "      <th></th>\n",
       "      <th>pc1</th>\n",
       "      <th>pc2</th>\n",
       "      <th>pc3</th>\n",
       "      <th>pc4</th>\n",
       "      <th>pc5</th>\n",
       "      <th>pc6</th>\n",
       "      <th>pc7</th>\n",
       "      <th>pc8</th>\n",
       "      <th>pc9</th>\n",
       "      <th>pc10</th>\n",
       "      <th>pc11</th>\n",
       "    </tr>\n",
       "  </thead>\n",
       "  <tbody>\n",
       "    <tr>\n",
       "      <th>0</th>\n",
       "      <td>55.240897</td>\n",
       "      <td>-4.749623</td>\n",
       "      <td>-1.974173</td>\n",
       "      <td>0.838988</td>\n",
       "      <td>0.276179</td>\n",
       "      <td>-0.362805</td>\n",
       "      <td>-0.514110</td>\n",
       "      <td>-0.488157</td>\n",
       "      <td>0.439010</td>\n",
       "      <td>0.201414</td>\n",
       "      <td>-0.338299</td>\n",
       "    </tr>\n",
       "    <tr>\n",
       "      <th>1</th>\n",
       "      <td>-10.173302</td>\n",
       "      <td>-0.109510</td>\n",
       "      <td>-0.193012</td>\n",
       "      <td>-0.213188</td>\n",
       "      <td>-0.021655</td>\n",
       "      <td>1.643914</td>\n",
       "      <td>-1.474273</td>\n",
       "      <td>-0.090832</td>\n",
       "      <td>0.395440</td>\n",
       "      <td>0.216442</td>\n",
       "      <td>0.273843</td>\n",
       "    </tr>\n",
       "    <tr>\n",
       "      <th>2</th>\n",
       "      <td>4.140069</td>\n",
       "      <td>-0.724603</td>\n",
       "      <td>0.153824</td>\n",
       "      <td>-0.107387</td>\n",
       "      <td>-0.274732</td>\n",
       "      <td>-0.511847</td>\n",
       "      <td>-0.746037</td>\n",
       "      <td>-0.172407</td>\n",
       "      <td>0.361463</td>\n",
       "      <td>0.122171</td>\n",
       "      <td>-0.594095</td>\n",
       "    </tr>\n",
       "    <tr>\n",
       "      <th>3</th>\n",
       "      <td>-10.172525</td>\n",
       "      <td>-0.129354</td>\n",
       "      <td>-0.214771</td>\n",
       "      <td>-0.483926</td>\n",
       "      <td>-0.138991</td>\n",
       "      <td>-1.051943</td>\n",
       "      <td>-0.551841</td>\n",
       "      <td>-0.080366</td>\n",
       "      <td>0.404190</td>\n",
       "      <td>0.320221</td>\n",
       "      <td>0.315334</td>\n",
       "    </tr>\n",
       "    <tr>\n",
       "      <th>4</th>\n",
       "      <td>-10.164355</td>\n",
       "      <td>-0.100717</td>\n",
       "      <td>-0.188388</td>\n",
       "      <td>0.079394</td>\n",
       "      <td>-0.139281</td>\n",
       "      <td>-0.935657</td>\n",
       "      <td>-0.629006</td>\n",
       "      <td>-0.081546</td>\n",
       "      <td>0.206275</td>\n",
       "      <td>0.301626</td>\n",
       "      <td>0.329053</td>\n",
       "    </tr>\n",
       "  </tbody>\n",
       "</table>\n",
       "</div>"
      ],
      "text/plain": [
       "         pc1       pc2       pc3       pc4       pc5       pc6       pc7  \\\n",
       "0  55.240897 -4.749623 -1.974173  0.838988  0.276179 -0.362805 -0.514110   \n",
       "1 -10.173302 -0.109510 -0.193012 -0.213188 -0.021655  1.643914 -1.474273   \n",
       "2   4.140069 -0.724603  0.153824 -0.107387 -0.274732 -0.511847 -0.746037   \n",
       "3 -10.172525 -0.129354 -0.214771 -0.483926 -0.138991 -1.051943 -0.551841   \n",
       "4 -10.164355 -0.100717 -0.188388  0.079394 -0.139281 -0.935657 -0.629006   \n",
       "\n",
       "        pc8       pc9      pc10      pc11  \n",
       "0 -0.488157  0.439010  0.201414 -0.338299  \n",
       "1 -0.090832  0.395440  0.216442  0.273843  \n",
       "2 -0.172407  0.361463  0.122171 -0.594095  \n",
       "3 -0.080366  0.404190  0.320221  0.315334  \n",
       "4 -0.081546  0.206275  0.301626  0.329053  "
      ]
     },
     "execution_count": 41,
     "metadata": {},
     "output_type": "execute_result"
    }
   ],
   "source": [
    "pca = PCA(random_state = 42)\n",
    "pcaData = pca.fit_transform(df_pca)\n",
    "df_component = pd.DataFrame(pcaData, columns=[\"pc\"+str(i+1) for i in range(len(df_pca.columns))])\n",
    "df_component.head()"
   ]
  },
  {
   "cell_type": "markdown",
   "id": "portuguese-lender",
   "metadata": {},
   "source": [
    "3. Comprobar la varianza explicada para cada componente:"
   ]
  },
  {
   "cell_type": "code",
   "execution_count": 42,
   "id": "operating-latex",
   "metadata": {},
   "outputs": [
    {
     "name": "stdout",
     "output_type": "stream",
     "text": [
      "Componente  0  0.926\n",
      "Componente  1  0.053\n",
      "Componente  2  0.011\n",
      "Componente  3  0.006\n",
      "Componente  4  0.002\n",
      "Componente  5  0.001\n",
      "Componente  6  0.001\n",
      "Componente  7  0.0\n",
      "Componente  8  0.0\n",
      "Componente  9  0.0\n",
      "Componente  10  0.0\n"
     ]
    }
   ],
   "source": [
    "for i in range(0,len(pca.explained_variance_ratio_)):\n",
    "    print(\"Componente \",i ,\"\",pca.explained_variance_ratio_[i].round(3))"
   ]
  },
  {
   "cell_type": "markdown",
   "id": "dramatic-hurricane",
   "metadata": {},
   "source": [
    "4. Crear un gráfico para comprobar el número de componentes óptimos:"
   ]
  },
  {
   "cell_type": "code",
   "execution_count": 43,
   "id": "sound-qatar",
   "metadata": {},
   "outputs": [
    {
     "data": {
      "image/png": "[encoded data removed]",
      "text/plain": [
       "<Figure size 720x432 with 1 Axes>"
      ]
     },
     "metadata": {
      "needs_background": "light"
     },
     "output_type": "display_data"
    }
   ],
   "source": [
    "plt.figure(figsize= (10,6))\n",
    "PC_values = np.arange(pca.n_components_) + 1\n",
    "cummulative_variance = np.cumsum(pca.explained_variance_ratio_)\n",
    "plt.plot(PC_values, cummulative_variance, 'o-', linewidth=2, color='purple')\n",
    "plt.title('Varianza explicada por componentes')\n",
    "plt.xlabel('Componentes principales')\n",
    "plt.ylabel('Varianza explicada acumulativa')\n",
    "plt.show()"
   ]
  },
  {
   "cell_type": "markdown",
   "id": "valuable-approach",
   "metadata": {},
   "source": [
    "Al inspeccionar el gráfico, normalmente se selecciona el número de componentes que dan una varianza explicada acumulada de al menos el 75%. En el diagrama de dispersión, se trata de entre seis y siete componentes."
   ]
  },
  {
   "cell_type": "code",
   "execution_count": 44,
   "id": "polyphonic-prerequisite",
   "metadata": {},
   "outputs": [
    {
     "data": {
      "text/html": [
       "<div>\n",
       "<style scoped>\n",
       "    .dataframe tbody tr th:only-of-type {\n",
       "        vertical-align: middle;\n",
       "    }\n",
       "\n",
       "    .dataframe tbody tr th {\n",
       "        vertical-align: top;\n",
       "    }\n",
       "\n",
       "    .dataframe thead th {\n",
       "        text-align: right;\n",
       "    }\n",
       "</style>\n",
       "<table border=\"1\" class=\"dataframe\">\n",
       "  <thead>\n",
       "    <tr style=\"text-align: right;\">\n",
       "      <th></th>\n",
       "      <th>pc1</th>\n",
       "      <th>pc2</th>\n",
       "      <th>pc3</th>\n",
       "      <th>pc4</th>\n",
       "      <th>pc5</th>\n",
       "      <th>pc6</th>\n",
       "      <th>pc7</th>\n",
       "    </tr>\n",
       "  </thead>\n",
       "  <tbody>\n",
       "    <tr>\n",
       "      <th>0</th>\n",
       "      <td>55.240897</td>\n",
       "      <td>-4.749623</td>\n",
       "      <td>-1.974173</td>\n",
       "      <td>0.838988</td>\n",
       "      <td>0.276179</td>\n",
       "      <td>-0.362805</td>\n",
       "      <td>-0.514110</td>\n",
       "    </tr>\n",
       "    <tr>\n",
       "      <th>1</th>\n",
       "      <td>-10.173302</td>\n",
       "      <td>-0.109510</td>\n",
       "      <td>-0.193012</td>\n",
       "      <td>-0.213188</td>\n",
       "      <td>-0.021655</td>\n",
       "      <td>1.643914</td>\n",
       "      <td>-1.474273</td>\n",
       "    </tr>\n",
       "    <tr>\n",
       "      <th>2</th>\n",
       "      <td>4.140069</td>\n",
       "      <td>-0.724603</td>\n",
       "      <td>0.153824</td>\n",
       "      <td>-0.107387</td>\n",
       "      <td>-0.274732</td>\n",
       "      <td>-0.511847</td>\n",
       "      <td>-0.746037</td>\n",
       "    </tr>\n",
       "    <tr>\n",
       "      <th>3</th>\n",
       "      <td>-10.172525</td>\n",
       "      <td>-0.129354</td>\n",
       "      <td>-0.214771</td>\n",
       "      <td>-0.483926</td>\n",
       "      <td>-0.138991</td>\n",
       "      <td>-1.051943</td>\n",
       "      <td>-0.551841</td>\n",
       "    </tr>\n",
       "    <tr>\n",
       "      <th>4</th>\n",
       "      <td>-10.164355</td>\n",
       "      <td>-0.100717</td>\n",
       "      <td>-0.188388</td>\n",
       "      <td>0.079394</td>\n",
       "      <td>-0.139281</td>\n",
       "      <td>-0.935657</td>\n",
       "      <td>-0.629006</td>\n",
       "    </tr>\n",
       "  </tbody>\n",
       "</table>\n",
       "</div>"
      ],
      "text/plain": [
       "         pc1       pc2       pc3       pc4       pc5       pc6       pc7\n",
       "0  55.240897 -4.749623 -1.974173  0.838988  0.276179 -0.362805 -0.514110\n",
       "1 -10.173302 -0.109510 -0.193012 -0.213188 -0.021655  1.643914 -1.474273\n",
       "2   4.140069 -0.724603  0.153824 -0.107387 -0.274732 -0.511847 -0.746037\n",
       "3 -10.172525 -0.129354 -0.214771 -0.483926 -0.138991 -1.051943 -0.551841\n",
       "4 -10.164355 -0.100717 -0.188388  0.079394 -0.139281 -0.935657 -0.629006"
      ]
     },
     "execution_count": 44,
     "metadata": {},
     "output_type": "execute_result"
    }
   ],
   "source": [
    "df_reduced = df_component.loc[:,['pc1','pc2','pc3','pc4','pc5','pc6','pc7']]\n",
    "df_reduced.head()"
   ]
  },
  {
   "cell_type": "markdown",
   "id": "ancient-edward",
   "metadata": {},
   "source": [
    "5. Combinamos **K-means** y **PCA**."
   ]
  },
  {
   "cell_type": "code",
   "execution_count": 50,
   "id": "fewer-enforcement",
   "metadata": {},
   "outputs": [],
   "source": [
    "kmeans_pca = KMeans(n_clusters=2, random_state=42)\n",
    "kmeans_pca.fit_predict(df_reduced)\n",
    "labels=kmeans_pca.labels_\n",
    "df_reduced['labels']=labels # crear nueva columna con etiquetas de agrupación"
   ]
  },
  {
   "cell_type": "markdown",
   "id": "trained-regard",
   "metadata": {},
   "source": [
    "6. Crear DataFrame concatenando **df** y **df_reduced**."
   ]
  },
  {
   "cell_type": "code",
   "execution_count": 46,
   "id": "owned-guyana",
   "metadata": {},
   "outputs": [
    {
     "data": {
      "text/html": [
       "<div>\n",
       "<style scoped>\n",
       "    .dataframe tbody tr th:only-of-type {\n",
       "        vertical-align: middle;\n",
       "    }\n",
       "\n",
       "    .dataframe tbody tr th {\n",
       "        vertical-align: top;\n",
       "    }\n",
       "\n",
       "    .dataframe thead th {\n",
       "        text-align: right;\n",
       "    }\n",
       "</style>\n",
       "<table border=\"1\" class=\"dataframe\">\n",
       "  <thead>\n",
       "    <tr style=\"text-align: right;\">\n",
       "      <th></th>\n",
       "      <th>status_type</th>\n",
       "      <th>num_shares</th>\n",
       "      <th>num_likes</th>\n",
       "      <th>num_wows</th>\n",
       "      <th>num_hahas</th>\n",
       "      <th>num_sads</th>\n",
       "      <th>num_angrys</th>\n",
       "      <th>year</th>\n",
       "      <th>month</th>\n",
       "      <th>day</th>\n",
       "      <th>hour</th>\n",
       "      <th>pc1</th>\n",
       "      <th>pc2</th>\n",
       "      <th>pc3</th>\n",
       "      <th>pc4</th>\n",
       "      <th>pc5</th>\n",
       "      <th>pc6</th>\n",
       "      <th>pc7</th>\n",
       "      <th>labels</th>\n",
       "    </tr>\n",
       "  </thead>\n",
       "  <tbody>\n",
       "    <tr>\n",
       "      <th>0</th>\n",
       "      <td>3</td>\n",
       "      <td>262</td>\n",
       "      <td>432</td>\n",
       "      <td>3</td>\n",
       "      <td>1</td>\n",
       "      <td>1</td>\n",
       "      <td>0</td>\n",
       "      <td>2018</td>\n",
       "      <td>4</td>\n",
       "      <td>22</td>\n",
       "      <td>6</td>\n",
       "      <td>55.240897</td>\n",
       "      <td>-4.749623</td>\n",
       "      <td>-1.974173</td>\n",
       "      <td>0.838988</td>\n",
       "      <td>0.276179</td>\n",
       "      <td>-0.362805</td>\n",
       "      <td>-0.514110</td>\n",
       "      <td>1</td>\n",
       "    </tr>\n",
       "    <tr>\n",
       "      <th>1</th>\n",
       "      <td>1</td>\n",
       "      <td>0</td>\n",
       "      <td>150</td>\n",
       "      <td>0</td>\n",
       "      <td>0</td>\n",
       "      <td>0</td>\n",
       "      <td>0</td>\n",
       "      <td>2018</td>\n",
       "      <td>4</td>\n",
       "      <td>21</td>\n",
       "      <td>22</td>\n",
       "      <td>-10.173302</td>\n",
       "      <td>-0.109510</td>\n",
       "      <td>-0.193012</td>\n",
       "      <td>-0.213188</td>\n",
       "      <td>-0.021655</td>\n",
       "      <td>1.643914</td>\n",
       "      <td>-1.474273</td>\n",
       "      <td>0</td>\n",
       "    </tr>\n",
       "    <tr>\n",
       "      <th>2</th>\n",
       "      <td>3</td>\n",
       "      <td>57</td>\n",
       "      <td>204</td>\n",
       "      <td>1</td>\n",
       "      <td>1</td>\n",
       "      <td>0</td>\n",
       "      <td>0</td>\n",
       "      <td>2018</td>\n",
       "      <td>4</td>\n",
       "      <td>21</td>\n",
       "      <td>6</td>\n",
       "      <td>4.140069</td>\n",
       "      <td>-0.724603</td>\n",
       "      <td>0.153824</td>\n",
       "      <td>-0.107387</td>\n",
       "      <td>-0.274732</td>\n",
       "      <td>-0.511847</td>\n",
       "      <td>-0.746037</td>\n",
       "      <td>0</td>\n",
       "    </tr>\n",
       "    <tr>\n",
       "      <th>3</th>\n",
       "      <td>1</td>\n",
       "      <td>0</td>\n",
       "      <td>111</td>\n",
       "      <td>0</td>\n",
       "      <td>0</td>\n",
       "      <td>0</td>\n",
       "      <td>0</td>\n",
       "      <td>2018</td>\n",
       "      <td>4</td>\n",
       "      <td>21</td>\n",
       "      <td>2</td>\n",
       "      <td>-10.172525</td>\n",
       "      <td>-0.129354</td>\n",
       "      <td>-0.214771</td>\n",
       "      <td>-0.483926</td>\n",
       "      <td>-0.138991</td>\n",
       "      <td>-1.051943</td>\n",
       "      <td>-0.551841</td>\n",
       "      <td>0</td>\n",
       "    </tr>\n",
       "    <tr>\n",
       "      <th>4</th>\n",
       "      <td>1</td>\n",
       "      <td>0</td>\n",
       "      <td>204</td>\n",
       "      <td>0</td>\n",
       "      <td>0</td>\n",
       "      <td>0</td>\n",
       "      <td>0</td>\n",
       "      <td>2018</td>\n",
       "      <td>4</td>\n",
       "      <td>18</td>\n",
       "      <td>3</td>\n",
       "      <td>-10.164355</td>\n",
       "      <td>-0.100717</td>\n",
       "      <td>-0.188388</td>\n",
       "      <td>0.079394</td>\n",
       "      <td>-0.139281</td>\n",
       "      <td>-0.935657</td>\n",
       "      <td>-0.629006</td>\n",
       "      <td>0</td>\n",
       "    </tr>\n",
       "  </tbody>\n",
       "</table>\n",
       "</div>"
      ],
      "text/plain": [
       "   status_type  num_shares  num_likes  num_wows  num_hahas  num_sads  \\\n",
       "0            3         262        432         3          1         1   \n",
       "1            1           0        150         0          0         0   \n",
       "2            3          57        204         1          1         0   \n",
       "3            1           0        111         0          0         0   \n",
       "4            1           0        204         0          0         0   \n",
       "\n",
       "   num_angrys  year  month  day  hour        pc1       pc2       pc3  \\\n",
       "0           0  2018      4   22     6  55.240897 -4.749623 -1.974173   \n",
       "1           0  2018      4   21    22 -10.173302 -0.109510 -0.193012   \n",
       "2           0  2018      4   21     6   4.140069 -0.724603  0.153824   \n",
       "3           0  2018      4   21     2 -10.172525 -0.129354 -0.214771   \n",
       "4           0  2018      4   18     3 -10.164355 -0.100717 -0.188388   \n",
       "\n",
       "        pc4       pc5       pc6       pc7  labels  \n",
       "0  0.838988  0.276179 -0.362805 -0.514110       1  \n",
       "1 -0.213188 -0.021655  1.643914 -1.474273       0  \n",
       "2 -0.107387 -0.274732 -0.511847 -0.746037       0  \n",
       "3 -0.483926 -0.138991 -1.051943 -0.551841       0  \n",
       "4  0.079394 -0.139281 -0.935657 -0.629006       0  "
      ]
     },
     "execution_count": 46,
     "metadata": {},
     "output_type": "execute_result"
    }
   ],
   "source": [
    "df_kmeans_pca=pd.concat([df,df_reduced],axis=1)\n",
    "df_kmeans_pca.head()"
   ]
  },
  {
   "cell_type": "markdown",
   "id": "specified-string",
   "metadata": {},
   "source": [
    "7. Obtener puntuación de Kmeans-PCA"
   ]
  },
  {
   "cell_type": "code",
   "execution_count": 52,
   "id": "documented-perth",
   "metadata": {},
   "outputs": [
    {
     "data": {
      "text/plain": [
       "0.877"
      ]
     },
     "execution_count": 52,
     "metadata": {},
     "output_type": "execute_result"
    }
   ],
   "source": [
    "score_kmean_pca=silhouette_score(df_reduced, labels, metric='euclidean')\n",
    "np.round(score_kmean_pca,4)"
   ]
  },
  {
   "cell_type": "markdown",
   "id": "amazing-subsection",
   "metadata": {},
   "source": [
    "<a name='ref_2' style='text-decoration:none; color:purple'>La puntuación es de 0.877.<a/>"
   ]
  },
  {
   "cell_type": "markdown",
   "id": "tired-heritage",
   "metadata": {},
   "source": [
    "8. vizualizar nuestros datos con los dos primeros componentes principales."
   ]
  },
  {
   "cell_type": "code",
   "execution_count": 53,
   "id": "cellular-vinyl",
   "metadata": {},
   "outputs": [
    {
     "data": {
      "image/png": "[encoded data removed]",
      "text/plain": [
       "<Figure size 648x432 with 1 Axes>"
      ]
     },
     "metadata": {
      "needs_background": "light"
     },
     "output_type": "display_data"
    }
   ],
   "source": [
    "plt.figure(figsize= (9,6))\n",
    "sns.scatterplot(data = df_kmeans_pca, x='pc1', y='pc2', hue = 'labels',palette=['orange','green']);\n"
   ]
  },
  {
   "cell_type": "markdown",
   "id": "occupational-river",
   "metadata": {},
   "source": [
    "9. vizualizar nuestros datos con la columnas **num_wows** y **num_angrys**."
   ]
  },
  {
   "cell_type": "code",
   "execution_count": 54,
   "id": "integral-tours",
   "metadata": {},
   "outputs": [
    {
     "data": {
      "image/png": "[encoded data removed]",
      "text/plain": [
       "<Figure size 648x432 with 1 Axes>"
      ]
     },
     "metadata": {
      "needs_background": "light"
     },
     "output_type": "display_data"
    }
   ],
   "source": [
    "plt.figure(figsize= (9,6))\n",
    "sns.scatterplot(data = df_kmeans_pca, y='hour', x='num_wows', hue = 'labels',palette=['yellow','brown']);\n"
   ]
  },
  {
   "cell_type": "code",
   "execution_count": 83,
   "id": "proprietary-charity",
   "metadata": {},
   "outputs": [
    {
     "data": {
      "image/png": "[encoded data removed]",
      "text/plain": [
       "<Figure size 648x432 with 1 Axes>"
      ]
     },
     "metadata": {
      "needs_background": "light"
     },
     "output_type": "display_data"
    }
   ],
   "source": [
    "plt.figure(figsize= (9,6))\n",
    "sns.scatterplot(data = df_kmeans_pca, y='hour', x='num_angrys', hue = 'labels',palette=['yellow','brown']);"
   ]
  },
  {
   "cell_type": "markdown",
   "id": "several-folks",
   "metadata": {},
   "source": [
    "Existen más interacciones entre las 5 y las 10."
   ]
  },
  {
   "cell_type": "markdown",
   "id": "straight-router",
   "metadata": {},
   "source": [
    "## Conclusión\n",
    "Podemos concluir que con la puntuación **Silhouette**, [kmeans-pca](#ref_2) es mejor pues tiene una puntuación de 0.877 frente al 0.8491 que tiene el [jerárquico](#ref_1)."
   ]
  },
  {
   "cell_type": "code",
   "execution_count": null,
   "id": "magnetic-colombia",
   "metadata": {},
   "outputs": [],
   "source": []
  }
 ],
 "metadata": {
  "kernelspec": {
   "display_name": "Python 3",
   "language": "python",
   "name": "python3"
  },
  "language_info": {
   "codemirror_mode": {
    "name": "ipython",
    "version": 3
   },
   "file_extension": ".py",
   "mimetype": "text/x-python",
   "name": "python",
   "nbconvert_exporter": "python",
   "pygments_lexer": "ipython3",
   "version": "3.9.2"
  }
 },
 "nbformat": 4,
 "nbformat_minor": 5
}
