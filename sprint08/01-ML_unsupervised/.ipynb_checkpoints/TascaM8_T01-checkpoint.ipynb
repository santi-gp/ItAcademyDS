{
 "cells": [
  {
   "cell_type": "code",
   "execution_count": 3,
   "id": "8bee2e85",
   "metadata": {},
   "outputs": [],
   "source": [
    "import numpy as np\n",
    "import pandas as pd\n",
    "import matplotlib.pyplot as plt\n",
    "import seaborn as sns\n",
    "from sklearn.decomposition import PCA\n",
    "from sklearn.cluster import KMeans, DBSCAN, AgglomerativeClustering\n",
    "from sklearn.preprocessing import MinMaxScaler, StandardScaler, LabelEncoder\n",
    "from sklearn import metrics\n",
    "np.random.seed(1)"
   ]
  },
  {
   "cell_type": "markdown",
   "id": "645e71f2",
   "metadata": {},
   "source": [
    "**Ejercicios de algoritmos de Agrupación..**"
   ]
  },
  {
   "cell_type": "markdown",
   "id": "1acd8915",
   "metadata": {},
   "source": [
    "* Limpieza e interpretación de los datos.\n",
    "* Preprocesados y PCA.\n",
    "* Encontrar número de clústeres óptimo.\n",
    "* Creación de modelos. unsupervised (k-means y clustering jerárquico).\n",
    "* Interpretar los resultados."
   ]
  },
  {
   "cell_type": "markdown",
   "id": "87a9cda9",
   "metadata": {},
   "source": [
    "# Ejercicio 1\n",
    "Descargue el dataset adjunto, de registros de publicaciones en Facebook sobre Tailandia, y clasifique los diferentes registros utilizando el algoritmo de **K-means**.\n",
    "\n",
    "##### Importante\n",
    "\n",
    "Ten en cuenta que previamente necesitarás preparar el dataset."
   ]
  },
  {
   "cell_type": "markdown",
   "id": "dd3c53bc",
   "metadata": {},
   "source": [
    "# Solución"
   ]
  },
  {
   "cell_type": "code",
   "execution_count": 2,
   "id": "e041dd71",
   "metadata": {},
   "outputs": [
    {
     "data": {
      "text/html": [
       "<div>\n",
       "<style scoped>\n",
       "    .dataframe tbody tr th:only-of-type {\n",
       "        vertical-align: middle;\n",
       "    }\n",
       "\n",
       "    .dataframe tbody tr th {\n",
       "        vertical-align: top;\n",
       "    }\n",
       "\n",
       "    .dataframe thead th {\n",
       "        text-align: right;\n",
       "    }\n",
       "</style>\n",
       "<table border=\"1\" class=\"dataframe\">\n",
       "  <thead>\n",
       "    <tr style=\"text-align: right;\">\n",
       "      <th></th>\n",
       "      <th>status_id</th>\n",
       "      <th>status_type</th>\n",
       "      <th>status_published</th>\n",
       "      <th>num_reactions</th>\n",
       "      <th>num_comments</th>\n",
       "      <th>num_shares</th>\n",
       "      <th>num_likes</th>\n",
       "      <th>num_loves</th>\n",
       "      <th>num_wows</th>\n",
       "      <th>num_hahas</th>\n",
       "      <th>num_sads</th>\n",
       "      <th>num_angrys</th>\n",
       "      <th>Column1</th>\n",
       "      <th>Column2</th>\n",
       "      <th>Column3</th>\n",
       "      <th>Column4</th>\n",
       "    </tr>\n",
       "  </thead>\n",
       "  <tbody>\n",
       "    <tr>\n",
       "      <th>0</th>\n",
       "      <td>246675545449582_1649696485147474</td>\n",
       "      <td>video</td>\n",
       "      <td>4/22/2018 6:00</td>\n",
       "      <td>529</td>\n",
       "      <td>512</td>\n",
       "      <td>262</td>\n",
       "      <td>432</td>\n",
       "      <td>92</td>\n",
       "      <td>3</td>\n",
       "      <td>1</td>\n",
       "      <td>1</td>\n",
       "      <td>0</td>\n",
       "      <td>NaN</td>\n",
       "      <td>NaN</td>\n",
       "      <td>NaN</td>\n",
       "      <td>NaN</td>\n",
       "    </tr>\n",
       "    <tr>\n",
       "      <th>1</th>\n",
       "      <td>246675545449582_1649426988507757</td>\n",
       "      <td>photo</td>\n",
       "      <td>4/21/2018 22:45</td>\n",
       "      <td>150</td>\n",
       "      <td>0</td>\n",
       "      <td>0</td>\n",
       "      <td>150</td>\n",
       "      <td>0</td>\n",
       "      <td>0</td>\n",
       "      <td>0</td>\n",
       "      <td>0</td>\n",
       "      <td>0</td>\n",
       "      <td>NaN</td>\n",
       "      <td>NaN</td>\n",
       "      <td>NaN</td>\n",
       "      <td>NaN</td>\n",
       "    </tr>\n",
       "    <tr>\n",
       "      <th>2</th>\n",
       "      <td>246675545449582_1648730588577397</td>\n",
       "      <td>video</td>\n",
       "      <td>4/21/2018 6:17</td>\n",
       "      <td>227</td>\n",
       "      <td>236</td>\n",
       "      <td>57</td>\n",
       "      <td>204</td>\n",
       "      <td>21</td>\n",
       "      <td>1</td>\n",
       "      <td>1</td>\n",
       "      <td>0</td>\n",
       "      <td>0</td>\n",
       "      <td>NaN</td>\n",
       "      <td>NaN</td>\n",
       "      <td>NaN</td>\n",
       "      <td>NaN</td>\n",
       "    </tr>\n",
       "    <tr>\n",
       "      <th>3</th>\n",
       "      <td>246675545449582_1648576705259452</td>\n",
       "      <td>photo</td>\n",
       "      <td>4/21/2018 2:29</td>\n",
       "      <td>111</td>\n",
       "      <td>0</td>\n",
       "      <td>0</td>\n",
       "      <td>111</td>\n",
       "      <td>0</td>\n",
       "      <td>0</td>\n",
       "      <td>0</td>\n",
       "      <td>0</td>\n",
       "      <td>0</td>\n",
       "      <td>NaN</td>\n",
       "      <td>NaN</td>\n",
       "      <td>NaN</td>\n",
       "      <td>NaN</td>\n",
       "    </tr>\n",
       "    <tr>\n",
       "      <th>4</th>\n",
       "      <td>246675545449582_1645700502213739</td>\n",
       "      <td>photo</td>\n",
       "      <td>4/18/2018 3:22</td>\n",
       "      <td>213</td>\n",
       "      <td>0</td>\n",
       "      <td>0</td>\n",
       "      <td>204</td>\n",
       "      <td>9</td>\n",
       "      <td>0</td>\n",
       "      <td>0</td>\n",
       "      <td>0</td>\n",
       "      <td>0</td>\n",
       "      <td>NaN</td>\n",
       "      <td>NaN</td>\n",
       "      <td>NaN</td>\n",
       "      <td>NaN</td>\n",
       "    </tr>\n",
       "  </tbody>\n",
       "</table>\n",
       "</div>"
      ],
      "text/plain": [
       "                          status_id status_type status_published  \\\n",
       "0  246675545449582_1649696485147474       video   4/22/2018 6:00   \n",
       "1  246675545449582_1649426988507757       photo  4/21/2018 22:45   \n",
       "2  246675545449582_1648730588577397       video   4/21/2018 6:17   \n",
       "3  246675545449582_1648576705259452       photo   4/21/2018 2:29   \n",
       "4  246675545449582_1645700502213739       photo   4/18/2018 3:22   \n",
       "\n",
       "   num_reactions  num_comments  num_shares  num_likes  num_loves  num_wows  \\\n",
       "0            529           512         262        432         92         3   \n",
       "1            150             0           0        150          0         0   \n",
       "2            227           236          57        204         21         1   \n",
       "3            111             0           0        111          0         0   \n",
       "4            213             0           0        204          9         0   \n",
       "\n",
       "   num_hahas  num_sads  num_angrys  Column1  Column2  Column3  Column4  \n",
       "0          1         1           0      NaN      NaN      NaN      NaN  \n",
       "1          0         0           0      NaN      NaN      NaN      NaN  \n",
       "2          1         0           0      NaN      NaN      NaN      NaN  \n",
       "3          0         0           0      NaN      NaN      NaN      NaN  \n",
       "4          0         0           0      NaN      NaN      NaN      NaN  "
      ]
     },
     "execution_count": 2,
     "metadata": {},
     "output_type": "execute_result"
    }
   ],
   "source": [
    "df=pd.read_csv('Publicacions Facebook Thailandia.csv')\n",
    "df.head()"
   ]
  },
  {
   "cell_type": "markdown",
   "id": "satisfied-glucose",
   "metadata": {},
   "source": [
    "Facebook Live Sellers in Thailand\" es un conjunto de datos recopilados en UCI Machine Learning Datasets. Los datos contienen 7050 observaciones y doce atributos. Los datos se refieren a la función de venta en directo en la plataforma Facebook. Cada registro contiene información sobre el momento en que se publica la información de la venta en directo en Facebook y las interacciones en los datos. Los mensajes son interacciones habituales en Facebook, como compartir o responder a emociones. \n",
    "\n",
    "El prpósito del siguiente ejercicio es crear un modelo de agrupación."
   ]
  },
  {
   "cell_type": "markdown",
   "id": "italian-stanley",
   "metadata": {},
   "source": [
    "|Variable|Descripción|\n",
    "|--------|-----------|\n",
    "|status_id | identificador único de la entrada|\n",
    "|status_type | tipo de mensaje|\n",
    "|status_published | fecha y hora de publicación de la entrada|\n",
    "|num_reactions | número de likes, loves, wows, hahas, sads y angrys|\n",
    "|num_comments | número de comentarios|\n",
    "|num_shares | número de comparticiones|\n",
    "|num_likes | número de me gusta|\n",
    "|num_loves | número de amores|\n",
    "|num_wows | número de guau|\n",
    "|num_hahas | número de jajás|\n",
    "|num_sads | número de tristes|\n",
    "|num_angrys | número de enfados|"
   ]
  },
  {
   "cell_type": "markdown",
   "id": "consecutive-netherlands",
   "metadata": {},
   "source": [
    "## 1.1 EDA"
   ]
  },
  {
   "cell_type": "markdown",
   "id": "swedish-background",
   "metadata": {},
   "source": [
    "1. Verificar si existen valores nulos."
   ]
  },
  {
   "cell_type": "code",
   "execution_count": 43,
   "id": "statewide-fighter",
   "metadata": {},
   "outputs": [
    {
     "data": {
      "text/plain": [
       "status_id              0\n",
       "status_type            0\n",
       "status_published       0\n",
       "num_reactions          0\n",
       "num_comments           0\n",
       "num_shares             0\n",
       "num_likes              0\n",
       "num_loves              0\n",
       "num_wows               0\n",
       "num_hahas              0\n",
       "num_sads               0\n",
       "num_angrys             0\n",
       "Column1             7050\n",
       "Column2             7050\n",
       "Column3             7050\n",
       "Column4             7050\n",
       "dtype: int64"
      ]
     },
     "execution_count": 43,
     "metadata": {},
     "output_type": "execute_result"
    }
   ],
   "source": [
    "df.isnull().sum()"
   ]
  },
  {
   "cell_type": "markdown",
   "id": "reported-astrology",
   "metadata": {},
   "source": [
    "2. Observar los tipos de datos de cada columna."
   ]
  },
  {
   "cell_type": "code",
   "execution_count": 44,
   "id": "211ed246",
   "metadata": {},
   "outputs": [
    {
     "name": "stdout",
     "output_type": "stream",
     "text": [
      "<class 'pandas.core.frame.DataFrame'>\n",
      "RangeIndex: 7050 entries, 0 to 7049\n",
      "Data columns (total 16 columns):\n",
      " #   Column            Non-Null Count  Dtype  \n",
      "---  ------            --------------  -----  \n",
      " 0   status_id         7050 non-null   object \n",
      " 1   status_type       7050 non-null   object \n",
      " 2   status_published  7050 non-null   object \n",
      " 3   num_reactions     7050 non-null   int64  \n",
      " 4   num_comments      7050 non-null   int64  \n",
      " 5   num_shares        7050 non-null   int64  \n",
      " 6   num_likes         7050 non-null   int64  \n",
      " 7   num_loves         7050 non-null   int64  \n",
      " 8   num_wows          7050 non-null   int64  \n",
      " 9   num_hahas         7050 non-null   int64  \n",
      " 10  num_sads          7050 non-null   int64  \n",
      " 11  num_angrys        7050 non-null   int64  \n",
      " 12  Column1           0 non-null      float64\n",
      " 13  Column2           0 non-null      float64\n",
      " 14  Column3           0 non-null      float64\n",
      " 15  Column4           0 non-null      float64\n",
      "dtypes: float64(4), int64(9), object(3)\n",
      "memory usage: 881.4+ KB\n"
     ]
    }
   ],
   "source": [
    "df.info()"
   ]
  },
  {
   "cell_type": "markdown",
   "id": "rational-glenn",
   "metadata": {},
   "source": [
    "2. Vamos a prescindir de las 4 últimas columnas las cuales son nulas. Además, haremos lo mismo con **status_id** pues no aporta nada a nuestro estudio, y lo haremos de la siguiente manera:"
   ]
  },
  {
   "cell_type": "code",
   "execution_count": 45,
   "id": "optional-stable",
   "metadata": {},
   "outputs": [
    {
     "data": {
      "text/html": [
       "<div>\n",
       "<style scoped>\n",
       "    .dataframe tbody tr th:only-of-type {\n",
       "        vertical-align: middle;\n",
       "    }\n",
       "\n",
       "    .dataframe tbody tr th {\n",
       "        vertical-align: top;\n",
       "    }\n",
       "\n",
       "    .dataframe thead th {\n",
       "        text-align: right;\n",
       "    }\n",
       "</style>\n",
       "<table border=\"1\" class=\"dataframe\">\n",
       "  <thead>\n",
       "    <tr style=\"text-align: right;\">\n",
       "      <th></th>\n",
       "      <th>status_type</th>\n",
       "      <th>status_published</th>\n",
       "      <th>num_reactions</th>\n",
       "      <th>num_comments</th>\n",
       "      <th>num_shares</th>\n",
       "      <th>num_likes</th>\n",
       "      <th>num_loves</th>\n",
       "      <th>num_wows</th>\n",
       "      <th>num_hahas</th>\n",
       "      <th>num_sads</th>\n",
       "      <th>num_angrys</th>\n",
       "    </tr>\n",
       "  </thead>\n",
       "  <tbody>\n",
       "    <tr>\n",
       "      <th>0</th>\n",
       "      <td>video</td>\n",
       "      <td>4/22/2018 6:00</td>\n",
       "      <td>529</td>\n",
       "      <td>512</td>\n",
       "      <td>262</td>\n",
       "      <td>432</td>\n",
       "      <td>92</td>\n",
       "      <td>3</td>\n",
       "      <td>1</td>\n",
       "      <td>1</td>\n",
       "      <td>0</td>\n",
       "    </tr>\n",
       "    <tr>\n",
       "      <th>1</th>\n",
       "      <td>photo</td>\n",
       "      <td>4/21/2018 22:45</td>\n",
       "      <td>150</td>\n",
       "      <td>0</td>\n",
       "      <td>0</td>\n",
       "      <td>150</td>\n",
       "      <td>0</td>\n",
       "      <td>0</td>\n",
       "      <td>0</td>\n",
       "      <td>0</td>\n",
       "      <td>0</td>\n",
       "    </tr>\n",
       "    <tr>\n",
       "      <th>2</th>\n",
       "      <td>video</td>\n",
       "      <td>4/21/2018 6:17</td>\n",
       "      <td>227</td>\n",
       "      <td>236</td>\n",
       "      <td>57</td>\n",
       "      <td>204</td>\n",
       "      <td>21</td>\n",
       "      <td>1</td>\n",
       "      <td>1</td>\n",
       "      <td>0</td>\n",
       "      <td>0</td>\n",
       "    </tr>\n",
       "    <tr>\n",
       "      <th>3</th>\n",
       "      <td>photo</td>\n",
       "      <td>4/21/2018 2:29</td>\n",
       "      <td>111</td>\n",
       "      <td>0</td>\n",
       "      <td>0</td>\n",
       "      <td>111</td>\n",
       "      <td>0</td>\n",
       "      <td>0</td>\n",
       "      <td>0</td>\n",
       "      <td>0</td>\n",
       "      <td>0</td>\n",
       "    </tr>\n",
       "    <tr>\n",
       "      <th>4</th>\n",
       "      <td>photo</td>\n",
       "      <td>4/18/2018 3:22</td>\n",
       "      <td>213</td>\n",
       "      <td>0</td>\n",
       "      <td>0</td>\n",
       "      <td>204</td>\n",
       "      <td>9</td>\n",
       "      <td>0</td>\n",
       "      <td>0</td>\n",
       "      <td>0</td>\n",
       "      <td>0</td>\n",
       "    </tr>\n",
       "  </tbody>\n",
       "</table>\n",
       "</div>"
      ],
      "text/plain": [
       "  status_type status_published  num_reactions  num_comments  num_shares  \\\n",
       "0       video   4/22/2018 6:00            529           512         262   \n",
       "1       photo  4/21/2018 22:45            150             0           0   \n",
       "2       video   4/21/2018 6:17            227           236          57   \n",
       "3       photo   4/21/2018 2:29            111             0           0   \n",
       "4       photo   4/18/2018 3:22            213             0           0   \n",
       "\n",
       "   num_likes  num_loves  num_wows  num_hahas  num_sads  num_angrys  \n",
       "0        432         92         3          1         1           0  \n",
       "1        150          0         0          0         0           0  \n",
       "2        204         21         1          1         0           0  \n",
       "3        111          0         0          0         0           0  \n",
       "4        204          9         0          0         0           0  "
      ]
     },
     "execution_count": 45,
     "metadata": {},
     "output_type": "execute_result"
    }
   ],
   "source": [
    "df=df.iloc[:,1:12]\n",
    "df.head()"
   ]
  },
  {
   "cell_type": "code",
   "execution_count": 46,
   "id": "natural-filename",
   "metadata": {},
   "outputs": [
    {
     "data": {
      "text/html": [
       "<div>\n",
       "<style scoped>\n",
       "    .dataframe tbody tr th:only-of-type {\n",
       "        vertical-align: middle;\n",
       "    }\n",
       "\n",
       "    .dataframe tbody tr th {\n",
       "        vertical-align: top;\n",
       "    }\n",
       "\n",
       "    .dataframe thead th {\n",
       "        text-align: right;\n",
       "    }\n",
       "</style>\n",
       "<table border=\"1\" class=\"dataframe\">\n",
       "  <thead>\n",
       "    <tr style=\"text-align: right;\">\n",
       "      <th></th>\n",
       "      <th>status_type</th>\n",
       "      <th>num_reactions</th>\n",
       "      <th>num_comments</th>\n",
       "      <th>num_shares</th>\n",
       "      <th>num_likes</th>\n",
       "      <th>num_loves</th>\n",
       "      <th>num_wows</th>\n",
       "      <th>num_hahas</th>\n",
       "      <th>num_sads</th>\n",
       "      <th>num_angrys</th>\n",
       "    </tr>\n",
       "  </thead>\n",
       "  <tbody>\n",
       "    <tr>\n",
       "      <th>0</th>\n",
       "      <td>video</td>\n",
       "      <td>529</td>\n",
       "      <td>512</td>\n",
       "      <td>262</td>\n",
       "      <td>432</td>\n",
       "      <td>92</td>\n",
       "      <td>3</td>\n",
       "      <td>1</td>\n",
       "      <td>1</td>\n",
       "      <td>0</td>\n",
       "    </tr>\n",
       "    <tr>\n",
       "      <th>1</th>\n",
       "      <td>photo</td>\n",
       "      <td>150</td>\n",
       "      <td>0</td>\n",
       "      <td>0</td>\n",
       "      <td>150</td>\n",
       "      <td>0</td>\n",
       "      <td>0</td>\n",
       "      <td>0</td>\n",
       "      <td>0</td>\n",
       "      <td>0</td>\n",
       "    </tr>\n",
       "    <tr>\n",
       "      <th>2</th>\n",
       "      <td>video</td>\n",
       "      <td>227</td>\n",
       "      <td>236</td>\n",
       "      <td>57</td>\n",
       "      <td>204</td>\n",
       "      <td>21</td>\n",
       "      <td>1</td>\n",
       "      <td>1</td>\n",
       "      <td>0</td>\n",
       "      <td>0</td>\n",
       "    </tr>\n",
       "    <tr>\n",
       "      <th>3</th>\n",
       "      <td>photo</td>\n",
       "      <td>111</td>\n",
       "      <td>0</td>\n",
       "      <td>0</td>\n",
       "      <td>111</td>\n",
       "      <td>0</td>\n",
       "      <td>0</td>\n",
       "      <td>0</td>\n",
       "      <td>0</td>\n",
       "      <td>0</td>\n",
       "    </tr>\n",
       "    <tr>\n",
       "      <th>4</th>\n",
       "      <td>photo</td>\n",
       "      <td>213</td>\n",
       "      <td>0</td>\n",
       "      <td>0</td>\n",
       "      <td>204</td>\n",
       "      <td>9</td>\n",
       "      <td>0</td>\n",
       "      <td>0</td>\n",
       "      <td>0</td>\n",
       "      <td>0</td>\n",
       "    </tr>\n",
       "  </tbody>\n",
       "</table>\n",
       "</div>"
      ],
      "text/plain": [
       "  status_type  num_reactions  num_comments  num_shares  num_likes  num_loves  \\\n",
       "0       video            529           512         262        432         92   \n",
       "1       photo            150             0           0        150          0   \n",
       "2       video            227           236          57        204         21   \n",
       "3       photo            111             0           0        111          0   \n",
       "4       photo            213             0           0        204          9   \n",
       "\n",
       "   num_wows  num_hahas  num_sads  num_angrys  \n",
       "0         3          1         1           0  \n",
       "1         0          0         0           0  \n",
       "2         1          1         0           0  \n",
       "3         0          0         0           0  \n",
       "4         0          0         0           0  "
      ]
     },
     "execution_count": 46,
     "metadata": {},
     "output_type": "execute_result"
    }
   ],
   "source": [
    "df = df.drop('status_published', axis=1)\n",
    "df.head()"
   ]
  },
  {
   "cell_type": "markdown",
   "id": "little-testimony",
   "metadata": {},
   "source": [
    "3. Mostrar descripción estadística de las variables."
   ]
  },
  {
   "cell_type": "code",
   "execution_count": 47,
   "id": "floating-immunology",
   "metadata": {},
   "outputs": [
    {
     "data": {
      "text/html": [
       "<div>\n",
       "<style scoped>\n",
       "    .dataframe tbody tr th:only-of-type {\n",
       "        vertical-align: middle;\n",
       "    }\n",
       "\n",
       "    .dataframe tbody tr th {\n",
       "        vertical-align: top;\n",
       "    }\n",
       "\n",
       "    .dataframe thead th {\n",
       "        text-align: right;\n",
       "    }\n",
       "</style>\n",
       "<table border=\"1\" class=\"dataframe\">\n",
       "  <thead>\n",
       "    <tr style=\"text-align: right;\">\n",
       "      <th></th>\n",
       "      <th>num_reactions</th>\n",
       "      <th>num_comments</th>\n",
       "      <th>num_shares</th>\n",
       "      <th>num_likes</th>\n",
       "      <th>num_loves</th>\n",
       "      <th>num_wows</th>\n",
       "      <th>num_hahas</th>\n",
       "      <th>num_sads</th>\n",
       "      <th>num_angrys</th>\n",
       "    </tr>\n",
       "  </thead>\n",
       "  <tbody>\n",
       "    <tr>\n",
       "      <th>count</th>\n",
       "      <td>7050.00</td>\n",
       "      <td>7050.00</td>\n",
       "      <td>7050.00</td>\n",
       "      <td>7050.00</td>\n",
       "      <td>7050.00</td>\n",
       "      <td>7050.00</td>\n",
       "      <td>7050.00</td>\n",
       "      <td>7050.00</td>\n",
       "      <td>7050.00</td>\n",
       "    </tr>\n",
       "    <tr>\n",
       "      <th>mean</th>\n",
       "      <td>230.12</td>\n",
       "      <td>224.36</td>\n",
       "      <td>40.02</td>\n",
       "      <td>215.04</td>\n",
       "      <td>12.73</td>\n",
       "      <td>1.29</td>\n",
       "      <td>0.70</td>\n",
       "      <td>0.24</td>\n",
       "      <td>0.11</td>\n",
       "    </tr>\n",
       "    <tr>\n",
       "      <th>std</th>\n",
       "      <td>462.63</td>\n",
       "      <td>889.64</td>\n",
       "      <td>131.60</td>\n",
       "      <td>449.47</td>\n",
       "      <td>39.97</td>\n",
       "      <td>8.72</td>\n",
       "      <td>3.96</td>\n",
       "      <td>1.60</td>\n",
       "      <td>0.73</td>\n",
       "    </tr>\n",
       "    <tr>\n",
       "      <th>min</th>\n",
       "      <td>0.00</td>\n",
       "      <td>0.00</td>\n",
       "      <td>0.00</td>\n",
       "      <td>0.00</td>\n",
       "      <td>0.00</td>\n",
       "      <td>0.00</td>\n",
       "      <td>0.00</td>\n",
       "      <td>0.00</td>\n",
       "      <td>0.00</td>\n",
       "    </tr>\n",
       "    <tr>\n",
       "      <th>25%</th>\n",
       "      <td>17.00</td>\n",
       "      <td>0.00</td>\n",
       "      <td>0.00</td>\n",
       "      <td>17.00</td>\n",
       "      <td>0.00</td>\n",
       "      <td>0.00</td>\n",
       "      <td>0.00</td>\n",
       "      <td>0.00</td>\n",
       "      <td>0.00</td>\n",
       "    </tr>\n",
       "    <tr>\n",
       "      <th>50%</th>\n",
       "      <td>59.50</td>\n",
       "      <td>4.00</td>\n",
       "      <td>0.00</td>\n",
       "      <td>58.00</td>\n",
       "      <td>0.00</td>\n",
       "      <td>0.00</td>\n",
       "      <td>0.00</td>\n",
       "      <td>0.00</td>\n",
       "      <td>0.00</td>\n",
       "    </tr>\n",
       "    <tr>\n",
       "      <th>75%</th>\n",
       "      <td>219.00</td>\n",
       "      <td>23.00</td>\n",
       "      <td>4.00</td>\n",
       "      <td>184.75</td>\n",
       "      <td>3.00</td>\n",
       "      <td>0.00</td>\n",
       "      <td>0.00</td>\n",
       "      <td>0.00</td>\n",
       "      <td>0.00</td>\n",
       "    </tr>\n",
       "    <tr>\n",
       "      <th>max</th>\n",
       "      <td>4710.00</td>\n",
       "      <td>20990.00</td>\n",
       "      <td>3424.00</td>\n",
       "      <td>4710.00</td>\n",
       "      <td>657.00</td>\n",
       "      <td>278.00</td>\n",
       "      <td>157.00</td>\n",
       "      <td>51.00</td>\n",
       "      <td>31.00</td>\n",
       "    </tr>\n",
       "  </tbody>\n",
       "</table>\n",
       "</div>"
      ],
      "text/plain": [
       "       num_reactions  num_comments  num_shares  num_likes  num_loves  \\\n",
       "count        7050.00       7050.00     7050.00    7050.00    7050.00   \n",
       "mean          230.12        224.36       40.02     215.04      12.73   \n",
       "std           462.63        889.64      131.60     449.47      39.97   \n",
       "min             0.00          0.00        0.00       0.00       0.00   \n",
       "25%            17.00          0.00        0.00      17.00       0.00   \n",
       "50%            59.50          4.00        0.00      58.00       0.00   \n",
       "75%           219.00         23.00        4.00     184.75       3.00   \n",
       "max          4710.00      20990.00     3424.00    4710.00     657.00   \n",
       "\n",
       "       num_wows  num_hahas  num_sads  num_angrys  \n",
       "count   7050.00    7050.00   7050.00     7050.00  \n",
       "mean       1.29       0.70      0.24        0.11  \n",
       "std        8.72       3.96      1.60        0.73  \n",
       "min        0.00       0.00      0.00        0.00  \n",
       "25%        0.00       0.00      0.00        0.00  \n",
       "50%        0.00       0.00      0.00        0.00  \n",
       "75%        0.00       0.00      0.00        0.00  \n",
       "max      278.00     157.00     51.00       31.00  "
      ]
     },
     "execution_count": 47,
     "metadata": {},
     "output_type": "execute_result"
    }
   ],
   "source": [
    "df.describe().round(2)"
   ]
  },
  {
   "cell_type": "markdown",
   "id": "republican-elizabeth",
   "metadata": {},
   "source": [
    "4. Codificar la variable **status_type** con la método **LabelEncoder()**"
   ]
  },
  {
   "cell_type": "code",
   "execution_count": 48,
   "id": "special-aircraft",
   "metadata": {},
   "outputs": [
    {
     "data": {
      "text/plain": [
       "array(['video', 'photo', 'link', 'status'], dtype=object)"
      ]
     },
     "execution_count": 48,
     "metadata": {},
     "output_type": "execute_result"
    }
   ],
   "source": [
    "df.status_type.unique()"
   ]
  },
  {
   "cell_type": "markdown",
   "id": "aggressive-noise",
   "metadata": {},
   "source": [
    "Podemos ver que hay 4 categorías de etiquetas en la variable **status_type**. A continuación la transformaremos de la siguiente manera:"
   ]
  },
  {
   "cell_type": "code",
   "execution_count": 49,
   "id": "343169b1",
   "metadata": {},
   "outputs": [
    {
     "data": {
      "text/html": [
       "<div>\n",
       "<style scoped>\n",
       "    .dataframe tbody tr th:only-of-type {\n",
       "        vertical-align: middle;\n",
       "    }\n",
       "\n",
       "    .dataframe tbody tr th {\n",
       "        vertical-align: top;\n",
       "    }\n",
       "\n",
       "    .dataframe thead th {\n",
       "        text-align: right;\n",
       "    }\n",
       "</style>\n",
       "<table border=\"1\" class=\"dataframe\">\n",
       "  <thead>\n",
       "    <tr style=\"text-align: right;\">\n",
       "      <th></th>\n",
       "      <th>status_type</th>\n",
       "      <th>num_reactions</th>\n",
       "      <th>num_comments</th>\n",
       "      <th>num_shares</th>\n",
       "      <th>num_likes</th>\n",
       "      <th>num_loves</th>\n",
       "      <th>num_wows</th>\n",
       "      <th>num_hahas</th>\n",
       "      <th>num_sads</th>\n",
       "      <th>num_angrys</th>\n",
       "    </tr>\n",
       "  </thead>\n",
       "  <tbody>\n",
       "    <tr>\n",
       "      <th>0</th>\n",
       "      <td>3</td>\n",
       "      <td>529</td>\n",
       "      <td>512</td>\n",
       "      <td>262</td>\n",
       "      <td>432</td>\n",
       "      <td>92</td>\n",
       "      <td>3</td>\n",
       "      <td>1</td>\n",
       "      <td>1</td>\n",
       "      <td>0</td>\n",
       "    </tr>\n",
       "    <tr>\n",
       "      <th>1</th>\n",
       "      <td>1</td>\n",
       "      <td>150</td>\n",
       "      <td>0</td>\n",
       "      <td>0</td>\n",
       "      <td>150</td>\n",
       "      <td>0</td>\n",
       "      <td>0</td>\n",
       "      <td>0</td>\n",
       "      <td>0</td>\n",
       "      <td>0</td>\n",
       "    </tr>\n",
       "    <tr>\n",
       "      <th>2</th>\n",
       "      <td>3</td>\n",
       "      <td>227</td>\n",
       "      <td>236</td>\n",
       "      <td>57</td>\n",
       "      <td>204</td>\n",
       "      <td>21</td>\n",
       "      <td>1</td>\n",
       "      <td>1</td>\n",
       "      <td>0</td>\n",
       "      <td>0</td>\n",
       "    </tr>\n",
       "    <tr>\n",
       "      <th>3</th>\n",
       "      <td>1</td>\n",
       "      <td>111</td>\n",
       "      <td>0</td>\n",
       "      <td>0</td>\n",
       "      <td>111</td>\n",
       "      <td>0</td>\n",
       "      <td>0</td>\n",
       "      <td>0</td>\n",
       "      <td>0</td>\n",
       "      <td>0</td>\n",
       "    </tr>\n",
       "    <tr>\n",
       "      <th>4</th>\n",
       "      <td>1</td>\n",
       "      <td>213</td>\n",
       "      <td>0</td>\n",
       "      <td>0</td>\n",
       "      <td>204</td>\n",
       "      <td>9</td>\n",
       "      <td>0</td>\n",
       "      <td>0</td>\n",
       "      <td>0</td>\n",
       "      <td>0</td>\n",
       "    </tr>\n",
       "  </tbody>\n",
       "</table>\n",
       "</div>"
      ],
      "text/plain": [
       "   status_type  num_reactions  num_comments  num_shares  num_likes  num_loves  \\\n",
       "0            3            529           512         262        432         92   \n",
       "1            1            150             0           0        150          0   \n",
       "2            3            227           236          57        204         21   \n",
       "3            1            111             0           0        111          0   \n",
       "4            1            213             0           0        204          9   \n",
       "\n",
       "   num_wows  num_hahas  num_sads  num_angrys  \n",
       "0         3          1         1           0  \n",
       "1         0          0         0           0  \n",
       "2         1          1         0           0  \n",
       "3         0          0         0           0  \n",
       "4         0          0         0           0  "
      ]
     },
     "execution_count": 49,
     "metadata": {},
     "output_type": "execute_result"
    }
   ],
   "source": [
    "label_encoder=LabelEncoder()\n",
    "df.status_type=label_encoder.fit_transform(df.status_type)\n",
    "df.head()"
   ]
  },
  {
   "cell_type": "markdown",
   "id": "turkish-helicopter",
   "metadata": {},
   "source": [
    "## 1.2 Construcción del modelo agrupación (Clustering)\n",
    "\n",
    "El clustering es el proceso global que implica encontrar grupos de datos similares que existen en su conjunto de datos, lo que puede ser extremadamente valioso si usted está tratando de encontrar su significado subyacente. La agrupación es una forma de algoritmo no supervisado. Esto significa que, a diferencia de la clasificación o la regresión, la agrupación no requiere datos etiquetados reales. Estos algoritmos son capaces de encontrar grupos que no están explícitamente etiquetados e identificar patrones subyacentes que puedan aparecer en el conjunto de datos. Uno de los algoritmos de agrupación más sencillos pero eficaces es el algoritmo **K-means**."
   ]
  },
  {
   "cell_type": "markdown",
   "id": "medium-boundary",
   "metadata": {},
   "source": [
    "### k-means sin matemáticas\n",
    "\n",
    "El algoritmo sin matemáticas para la agrupación k-means es bastante sencillo:\n",
    "\n",
    "1. En primer lugar, elegiremos \"k\" centroides, donde \"k\" sería el número esperado de clusters distintos. El valor de k lo elegiremos nosotros y determinará el tipo de clustering que obtengamos.\n",
    "\n",
    "2. A continuación, colocaremos los \"k\" centroides en lugares aleatorios entre los datos de entrenamiento existentes.\n",
    "\n",
    "3. A continuación, se calculará la distancia de cada centroide a todos los puntos de los datos de entrenamiento. En breve entraremos en detalle sobre las funciones de distancia, pero por ahora, vamos a considerarla simplemente como la distancia a la que se encuentran unos puntos de otros.\n",
    "\n",
    "4. Ahora, todos los puntos de entrenamiento se agruparán con su centroide más cercano.\n",
    "\n",
    "5. Aislando los puntos de entrenamiento agrupados junto con sus respectivos centroides, calcule el punto de datos medio en el grupo y mueva el centroide anterior a la ubicación media.\n",
    "\n",
    "6. Este proceso se repetirá hasta la convergencia o hasta que se haya alcanzado el límite máximo de iteración.\n",
    "\n",
    "La matemática más importante que sustenta este algoritmo es la función de distancia. Una función de distancia es básicamente cualquier fórmula que le permite entender cuantitativamente cuán lejos está un objeto de otro, siendo la más popular la fórmula de distancia euclidiana:\n",
    "\n",
    "$$\n",
    "dist\\_Euclidean(x,y)=\\sum_{i=1}^{n}\\sqrt{(x_{i}-y_{i})^2},\\qquad x=(x_{1},x_{2},\\cdots,x_{n}),\\,\\,y=(y{1},y_{2},\\cdots,y_{n}).\n",
    "$$\n",
    "\n",
    "Otra métrica de distancia popular que puede utilizarse para la agrupación es la distancia Manhattan.\n",
    "\n",
    "$$\n",
    "dist\\_Manhattan(x,y)=\\sum_{i=1}^{n}|(x_{i}-y_{i}|,\\qquad x=(x_{1},x_{2},\\cdots,x_{n}),\\,\\,y=(y{1},y_{2},\\cdots,y_{n}).\n",
    "$$\n"
   ]
  },
  {
   "cell_type": "markdown",
   "id": "interior-canadian",
   "metadata": {},
   "source": [
    "1. Aplicar el algoritmo de agrupación **K-Means**."
   ]
  },
  {
   "cell_type": "code",
   "execution_count": 17,
   "id": "intellectual-plane",
   "metadata": {},
   "outputs": [
    {
     "data": {
      "image/png": "[encoded data removed]",
      "text/plain": [
       "<Figure size 432x288 with 1 Axes>"
      ]
     },
     "metadata": {
      "needs_background": "light"
     },
     "output_type": "display_data"
    }
   ],
   "source": [
    "wss = []\n",
    "\n",
    "K = range(2,11)\n",
    "for k in K:\n",
    "    kmeans = KMeans(n_clusters=k, random_state=42)\n",
    "    kmeans = kmeans.fit(df)\n",
    "    wss.append(kmeans.inertia_)\n",
    "plt.plot(K, wss, \"b*-\")\n",
    "plt.xlabel(\"Número de agrupaciones k\")\n",
    "plt.ylabel(\"Total dentro de Suma de cuadrados\")\n",
    "plt.title(\"Número óptimo de agrupaciones\")\n",
    "plt.show()"
   ]
  },
  {
   "cell_type": "markdown",
   "id": "retained-paris",
   "metadata": {},
   "source": [
    "1. Visualizar K-means"
   ]
  },
  {
   "cell_type": "code",
   "execution_count": 59,
   "id": "8d565fa1",
   "metadata": {},
   "outputs": [
    {
     "data": {
      "image/png": "[encoded data removed]",
      "text/plain": [
       "<Figure size 432x288 with 1 Axes>"
      ]
     },
     "metadata": {
      "needs_background": "light"
     },
     "output_type": "display_data"
    }
   ],
   "source": [
    "pca = PCA()\n",
    "pca_data = pca.fit_transform(df)\n",
    "pca_data = pd.DataFrame(pca_data, columns=[\"pc\"+str(i+1) for i in range(len(df.columns))])\n",
    "\n",
    "\n",
    "pca_data1 = pca_data[[\"pc1\",\"pc2\"]].copy()\n",
    "data1 = df.copy() # data1 is created, we do not want to change original data as adding the cluster column.\n",
    "\n",
    "kmeans = KMeans(n_clusters=4, random_state=42)\n",
    "data1[\"clusters\"] = kmeans.fit_predict(data1)\n",
    "\n",
    "plt.scatter(pca_data1[\"pc1\"], pca_data1[\"pc2\"], c=data1.clusters)\n",
    "plt.title(\"Visualización de datos agrupados\")\n",
    "plt.xlabel(\"pc1:\" + \"{:.2f}\".format(pca.explained_variance_ratio_[0] * 100) + \" %\")\n",
    "plt.ylabel(\"pc2:\" + \"{:.2f}\".format(pca.explained_variance_ratio_[1] * 100) + \" %\")\n",
    "plt.show()"
   ]
  },
  {
   "cell_type": "markdown",
   "id": "e16b12e4",
   "metadata": {},
   "source": [
    "# Ejercicio 2\n",
    "Clasifique los diferentes registros utilizando el algoritmo de clustering jerárquico."
   ]
  },
  {
   "cell_type": "markdown",
   "id": "4d268121",
   "metadata": {},
   "source": [
    "# Solución"
   ]
  },
  {
   "cell_type": "code",
   "execution_count": 55,
   "id": "cooked-range",
   "metadata": {},
   "outputs": [
    {
     "data": {
      "image/png": "[encoded data removed]",
      "text/plain": [
       "<Figure size 432x288 with 1 Axes>"
      ]
     },
     "metadata": {
      "needs_background": "light"
     },
     "output_type": "display_data"
    }
   ],
   "source": [
    "# agglomerative clustering\n",
    "pal = [\"#29487D\", \"#9CB2CE\"]\n",
    "clustering_kmeans = AgglomerativeClustering(n_clusters=2)\n",
    "df['Clusters'] = clustering_kmeans.fit_predict(df)\n",
    "reduced_data = PCA(n_components=2).fit_transform(df)\n",
    "results = pd.DataFrame(reduced_data,columns=['pca1','pca2'])\n",
    "\n",
    "sns.scatterplot(x=\"pca1\", y=\"pca2\", hue=df['Clusters'], data=results, palette=pal)\n",
    "plt.title('Agglomerative Clustering with 2 dimensions')\n",
    "plt.show()"
   ]
  },
  {
   "cell_type": "code",
   "execution_count": 58,
   "id": "industrial-combining",
   "metadata": {},
   "outputs": [
    {
     "data": {
      "image/png": "[encoded data removed]",
      "text/plain": [
       "<Figure size 432x288 with 1 Axes>"
      ]
     },
     "metadata": {
      "needs_background": "light"
     },
     "output_type": "display_data"
    }
   ],
   "source": [
    "# bar plot \n",
    "pl = sns.scatterplot(data=df, x=df[\"num_shares\"], y=df[\"num_likes\"], hue=df[\"Clusters\"], palette= pal)\n",
    "pl.set_title(\"Cluster's Profile Based on Likes And Month\")\n",
    "plt.legend()\n",
    "plt.show()"
   ]
  },
  {
   "cell_type": "markdown",
   "id": "3b6f4ab5",
   "metadata": {},
   "source": [
    "# Ejercicio 3\n",
    "Calcule el rendimiento del clustering intermediando un parámetro como puede ser silhouette."
   ]
  },
  {
   "cell_type": "markdown",
   "id": "revolutionary-volume",
   "metadata": {},
   "source": [
    "## 3.1 Rendimiento de la agrupación - Puntuación Silhouette\n",
    "\n",
    "Comprender el rendimiento de los métodos de aprendizaje no supervisado es mucho más difícil que el de los métodos de aprendizaje supervisado, ya que no se dispone de la verdad sobre el terreno. En el caso del aprendizaje supervisado, existen muchas métricas de rendimiento sólidas, de las cuales la más sencilla es la precisión, que consiste en comparar las etiquetas predichas por el modelo con las etiquetas reales y ver cuántas ha acertado el modelo. Desgraciadamente, en el caso de la agrupación, no disponemos de etiquetas en las que basarnos y necesitamos comprender lo \"diferentes\" que son nuestras agrupaciones. Esto se consigue con la métrica de puntuación de siluetas (Silhouette). También podemos utilizar las puntuaciones de silueta para encontrar el número \"K\" óptimo de agrupaciones(clusters) para nuestros métodos de aprendizaje no supervisado.\n",
    "\n",
    "La métrica de la silueta funciona analizando lo bien que encaja un punto en su agrupación. La métrica oscila entre -1 y 1. Si la puntuación media de la silueta a lo largo de su agrupación es uno, entonces habrá logrado agrupaciones perfectas y habrá una confusión mínima sobre qué punto pertenece a dónde. Si la puntuación de la silueta es positiva, significa que un punto está más cerca del cluster asignado que de los clusters vecinos. Si la puntuación de la silueta es 0, entonces un punto se encuentra en el límite entre el grupo asignado y el siguiente grupo más cercano. Si la puntuación de la silueta es negativa, indica que un punto determinado se ha asignado a un grupo incorrecto y que, de hecho, es probable que pertenezca a un grupo vecino."
   ]
  },
  {
   "cell_type": "markdown",
   "id": "d9ad03dc",
   "metadata": {},
   "source": [
    "# Solución"
   ]
  },
  {
   "cell_type": "code",
   "execution_count": 19,
   "id": "collectible-wholesale",
   "metadata": {},
   "outputs": [],
   "source": [
    "def find_optimal_cluster_number_kmeans(data, lower_bound, upper_bound, random_state):\n",
    "    \n",
    "    \"Find optimal number of cluster according to silhouette score.\"\n",
    "    \n",
    "    silhouette_average = []\n",
    "    K = range(lower_bound, upper_bound)\n",
    "\n",
    "    for k in K:\n",
    "        kmeans = KMeans(n_clusters=k, random_state=random_state)\n",
    "        cluster_labels=kmeans.fit_predict(data) \n",
    "        silhouette_score = metrics.silhouette_score(data, cluster_labels)\n",
    "        silhouette_average.append([k, silhouette_score])\n",
    "        \n",
    "    silhouette_average = np.array(silhouette_average)\n",
    "    print(\"n_clusters =\", int(silhouette_average[np.argmax(silhouette_average[:,1:2])][0]),\n",
    "          \"The average silhouette_score is : %.4f\" % silhouette_average[np.argmax(silhouette_average[:,1:2])][1])"
   ]
  },
  {
   "cell_type": "code",
   "execution_count": 20,
   "id": "norman-tractor",
   "metadata": {},
   "outputs": [
    {
     "name": "stdout",
     "output_type": "stream",
     "text": [
      "n_clusters = 2 The average silhouette_score is : 0.8722\n"
     ]
    }
   ],
   "source": [
    "find_optimal_cluster_number_kmeans(df, 2, 11, random_state=123)"
   ]
  },
  {
   "cell_type": "markdown",
   "id": "modified-andrew",
   "metadata": {},
   "source": [
    "La calidad de la agrupación se mide mediante la puntuación de la silueta, que determina lo bien que se encuentra cada objeto dentro de su agrupación; una anchura media alta de la silueta implica una buena agrupación.\n",
    "\n",
    "Cuando el número de conglomerados es 2, la puntuación media de la silueta es la más alta, 0.8722. A partir de la suma del gráfico cuadrático y de la puntuación media de la silueta, se puede afirmar que el número óptimo de grupos es 4."
   ]
  },
  {
   "cell_type": "code",
   "execution_count": 21,
   "id": "valuable-paste",
   "metadata": {},
   "outputs": [
    {
     "data": {
      "image/png": "[encoded data removed]",
      "text/plain": [
       "<Figure size 432x288 with 1 Axes>"
      ]
     },
     "metadata": {
      "needs_background": "light"
     },
     "output_type": "display_data"
    }
   ],
   "source": [
    "pca_data1 = pca_data[[\"pc1\",\"pc2\"]].copy()\n",
    "data1 = df.copy() # data1 is created, we do not want to change original data as adding the cluster column.\n",
    "\n",
    "kmeans = KMeans(n_clusters=2, random_state=2464063)\n",
    "data1[\"clusters\"] = kmeans.fit_predict(data1)\n",
    "\n",
    "plt.scatter(pca_data1[\"pc1\"], pca_data1[\"pc2\"], c=data1.clusters)\n",
    "plt.title(\"The visualization of the clustered data\")\n",
    "plt.xlabel(\"pc1:\" + \"{:.2f}\".format(pca.explained_variance_ratio_[0] * 100) + \" %\")\n",
    "plt.ylabel(\"pc2:\" + \"{:.2f}\".format(pca.explained_variance_ratio_[1] * 100) + \" %\")\n",
    "plt.show()"
   ]
  },
  {
   "cell_type": "markdown",
   "id": "local-engineer",
   "metadata": {},
   "source": [
    "## DBSCAN"
   ]
  },
  {
   "cell_type": "code",
   "execution_count": 22,
   "id": "entire-contrast",
   "metadata": {},
   "outputs": [],
   "source": [
    "epsilon = [1,1.25,1.5,1.75, 2,2.25,2.5,2.75, 3,3.25,3.5,3.75, 4]\n",
    "min_samples = [10,15,20,25]"
   ]
  },
  {
   "cell_type": "code",
   "execution_count": 29,
   "id": "tribal-tribute",
   "metadata": {},
   "outputs": [
    {
     "name": "stdout",
     "output_type": "stream",
     "text": [
      "epsilon= 4 \n",
      "min_sample= 20 \n",
      "number of clusters= 1 \n",
      "average silhouette score= 0.2495\n"
     ]
    }
   ],
   "source": [
    "sil_avg = []\n",
    "max_value = [0,0,0,0]\n",
    "for i in range(len(epsilon)):\n",
    "    for j in range(len(min_samples)):\n",
    "\n",
    "        db = DBSCAN(min_samples = min_samples[j], eps =epsilon[i]).fit(df)\n",
    "        #cluster_labels=dbscan.fit_predict(data) \n",
    "        core_samples_mask = np.zeros_like(db.labels_, dtype=bool)\n",
    "        core_samples_mask[db.core_sample_indices_] = True\n",
    "        labels = db.labels_\n",
    "\n",
    "        # Number of clusters in labels, ignoring noise if present.\n",
    "        n_clusters_ = len(set(labels)) - (1 if -1 in labels else 0)\n",
    "        n_noise_ = list(labels).count(-1)\n",
    "\n",
    "\n",
    "        silhouette_avg = metrics.silhouette_score(df, labels)\n",
    "        if silhouette_avg > max_value[3]:\n",
    "            max_value=(epsilon[i], min_samples[j], n_clusters_, silhouette_avg)\n",
    "        sil_avg.append(silhouette_avg)\n",
    "\n",
    "print(\"epsilon=\", max_value[0], \n",
    "      \"\\nmin_sample=\", max_value[1],\n",
    "      \"\\nnumber of clusters=\", max_value[2],\n",
    "      \"\\naverage silhouette score= %.4f\" % max_value[3])"
   ]
  },
  {
   "cell_type": "markdown",
   "id": "neutral-fabric",
   "metadata": {},
   "source": [
    "El modelo (epsilon = 4 y min_muestra = 20) que tiene  0.2495 de puntuación media máxima de silueta tiene el número óptimo de conglomerados; 1."
   ]
  },
  {
   "cell_type": "code",
   "execution_count": 32,
   "id": "fossil-paintball",
   "metadata": {},
   "outputs": [
    {
     "name": "stdout",
     "output_type": "stream",
     "text": [
      "Estimated number of clusters: 1\n",
      "Estimated number of noise points: 3545\n",
      "Silhouette Coefficient: 0.250\n"
     ]
    }
   ],
   "source": [
    "db = DBSCAN(eps=4, min_samples=20).fit(df)\n",
    "core_samples_mask = np.zeros_like(db.labels_, dtype=bool)\n",
    "core_samples_mask[db.core_sample_indices_] = True\n",
    "labels = db.labels_\n",
    "\n",
    "# Number of clusters in labels, ignoring noise.\n",
    "n_clusters_ = len(set(labels)) - (1 if -1 in labels else 0)\n",
    "n_noise_ = list(labels).count(-1)\n",
    "\n",
    "print('Estimated number of clusters: %d' % n_clusters_)\n",
    "print('Estimated number of noise points: %d' % n_noise_)\n",
    "print(\"Silhouette Coefficient: %0.3f\" % metrics.silhouette_score(df, labels))"
   ]
  },
  {
   "cell_type": "markdown",
   "id": "derived-planning",
   "metadata": {},
   "source": [
    "## plot"
   ]
  },
  {
   "cell_type": "code",
   "execution_count": 33,
   "id": "scheduled-accuracy",
   "metadata": {},
   "outputs": [
    {
     "data": {
      "image/png": "[encoded data removed]",
      "text/plain": [
       "<Figure size 432x288 with 1 Axes>"
      ]
     },
     "metadata": {
      "needs_background": "light"
     },
     "output_type": "display_data"
    }
   ],
   "source": [
    "unique_labels = set(labels)\n",
    "colors = [plt.cm.Spectral(each)\n",
    "          for each in np.linspace(0, 1, len(unique_labels))]\n",
    "for k, col in zip(unique_labels, colors):\n",
    "    if k == -1:\n",
    "        # Black used for noise.\n",
    "        col = [0, 0, 0, 1]\n",
    "\n",
    "    class_member_mask = (labels == k)\n",
    "\n",
    "    xy = pca_data1[class_member_mask & core_samples_mask]\n",
    "    plt.plot(xy.iloc[:, 0], xy.iloc[:, 1], 'o', markerfacecolor=tuple(col),\n",
    "             markeredgecolor='k', markersize=14)\n",
    "\n",
    "    xy = pca_data1[class_member_mask & ~core_samples_mask]\n",
    "    plt.plot(xy.iloc[:, 0], xy.iloc[:, 1], 'o', markerfacecolor=tuple(col),\n",
    "             markeredgecolor='k', markersize=6)\n",
    "\n",
    "plt.title('The visualization of the clustered data; estimated number of clusters: %d' % n_clusters_)\n",
    "plt.xlabel(\"pc1:\"+\"{:.2f}\".format(pca.explained_variance_ratio_[0]*100)+\" %\")\n",
    "plt.ylabel(\"pc2:\"+\"{:.2f}\".format(pca.explained_variance_ratio_[1]*100)+\" %\")\n",
    "plt.show()"
   ]
  },
  {
   "cell_type": "markdown",
   "id": "furnished-handle",
   "metadata": {},
   "source": [
    "Este método nos permite decidir cuál es el mejor número de conglomerados 2 conglomerados es el número de conglomerados con la puntuación más alta (85%) Por esa razón es el número de conglomerados decidido"
   ]
  },
  {
   "cell_type": "code",
   "execution_count": 34,
   "id": "noble-wrestling",
   "metadata": {},
   "outputs": [
    {
     "name": "stdout",
     "output_type": "stream",
     "text": [
      "For n_clusters = 2, silhouette score is 0.8721887987065559)\n",
      "For n_clusters = 3, silhouette score is 0.8121362145545791)\n",
      "For n_clusters = 4, silhouette score is 0.8175569885388427)\n",
      "For n_clusters = 5, silhouette score is 0.7837597216505813)\n",
      "For n_clusters = 6, silhouette score is 0.7615238190978312)\n",
      "For n_clusters = 7, silhouette score is 0.7614579037959803)\n",
      "For n_clusters = 8, silhouette score is 0.7604159062918123)\n",
      "For n_clusters = 9, silhouette score is 0.7155806668435608)\n"
     ]
    }
   ],
   "source": [
    "range_n_clusters = list(range(2,10))\n",
    "\n",
    "for n_clusters in range_n_clusters:\n",
    "    clusterer = KMeans(n_clusters=n_clusters)\n",
    "    preds = clusterer.fit_predict(df)\n",
    "    centers = clusterer.cluster_centers_\n",
    "\n",
    "    Kmeans_score = metrics.silhouette_score(df, preds)\n",
    "    print(\"For n_clusters = {}, silhouette score is {})\".format(n_clusters, Kmeans_score))\n"
   ]
  },
  {
   "cell_type": "markdown",
   "id": "recent-crisis",
   "metadata": {},
   "source": [
    "El algoritmo identificó 2 clusters\n",
    "\n",
    "Pero estos no se pueden distinguir\n",
    "\n",
    "Por esta razón no es un buen algoritmo para el problema"
   ]
  },
  {
   "cell_type": "code",
   "execution_count": 35,
   "id": "leading-champion",
   "metadata": {},
   "outputs": [],
   "source": [
    "# DBSCAN clustering\n",
    "clustering_kmeans = DBSCAN()\n",
    "df['Clusters'] = clustering_kmeans.fit_predict(df)"
   ]
  },
  {
   "cell_type": "code",
   "execution_count": 36,
   "id": "contained-proof",
   "metadata": {},
   "outputs": [
    {
     "data": {
      "image/png": "[encoded data removed]",
      "text/plain": [
       "<Figure size 432x288 with 1 Axes>"
      ]
     },
     "metadata": {
      "needs_background": "light"
     },
     "output_type": "display_data"
    }
   ],
   "source": [
    "reduced_data = PCA(n_components=2).fit_transform(df)\n",
    "results = pd.DataFrame(reduced_data,columns=['pca1','pca2'])\n",
    "\n",
    "sns.scatterplot(x=\"pca1\", y=\"pca2\", hue=df['Clusters'], data=results)\n",
    "plt.title('DBSCAN Clustering with 2 dimensions')\n",
    "plt.show()"
   ]
  },
  {
   "cell_type": "code",
   "execution_count": 37,
   "id": "integrated-portuguese",
   "metadata": {},
   "outputs": [
    {
     "name": "stdout",
     "output_type": "stream",
     "text": [
      "epsilon= 13 \n",
      "min_sample= 15 \n",
      "number of clusters= 3 \n",
      "average silhouette score= 0.3333\n"
     ]
    }
   ],
   "source": [
    "epsilon = [1,5,6,7,8,9,10,11,11.5,12,12.5,13,13.5]\n",
    "min_samples = [10,15,20,25,30]\n",
    "\n",
    "# epsilon = [1,1.25,1.5,1.75, 2,2.25,2.5,2.75, 3,3.25,3.5,3.75, 4]\n",
    "# min_samples = [10,15,20,25]\n",
    "\n",
    "sil_avg = []\n",
    "max_value = [0,0,0,0]\n",
    "\n",
    "for i in range(len(epsilon)):\n",
    "    for j in range(len(min_samples)):\n",
    "\n",
    "        db = DBSCAN(min_samples = min_samples[j], eps =epsilon[i]).fit(df)\n",
    "        #cluster_labels=dbscan.fit_predict(data) \n",
    "        core_samples_mask = np.zeros_like(db.labels_, dtype=bool)\n",
    "        core_samples_mask[db.core_sample_indices_] = True\n",
    "        labels = db.labels_\n",
    "\n",
    "        # Number of clusters in labels, ignoring noise if present.\n",
    "        n_clusters_ = len(set(labels)) - (1 if -1 in labels else 0)\n",
    "        n_noise_ = list(labels).count(-1)\n",
    "\n",
    "\n",
    "        silhouette_avg = metrics.silhouette_score(df, labels)\n",
    "        if silhouette_avg > max_value[3]:\n",
    "            max_value=(epsilon[i], min_samples[j], n_clusters_, silhouette_avg)\n",
    "        sil_avg.append(silhouette_avg)\n",
    "\n",
    "print(\"epsilon=\", max_value[0], \n",
    "      \"\\nmin_sample=\", max_value[1],\n",
    "      \"\\nnumber of clusters=\", max_value[2],\n",
    "      \"\\naverage silhouette score= %.4f\" % max_value[3])"
   ]
  },
  {
   "cell_type": "code",
   "execution_count": 38,
   "id": "constant-conservative",
   "metadata": {},
   "outputs": [
    {
     "name": "stdout",
     "output_type": "stream",
     "text": [
      "Estimated number of clusters: 3\n",
      "Estimated number of noise points: 2171\n",
      "Silhouette Coefficient: 0.333\n"
     ]
    }
   ],
   "source": [
    "db = DBSCAN(eps=13, min_samples=15).fit(df)\n",
    "core_samples_mask = np.zeros_like(db.labels_, dtype=bool)\n",
    "core_samples_mask[db.core_sample_indices_] = True\n",
    "labels = db.labels_\n",
    "\n",
    "# Number of clusters in labels, ignoring noise.\n",
    "n_clusters_ = len(set(labels)) - (1 if -1 in labels else 0)\n",
    "n_noise_ = list(labels).count(-1)\n",
    "\n",
    "print('Estimated number of clusters: %d' % n_clusters_)\n",
    "print('Estimated number of noise points: %d' % n_noise_)\n",
    "print(\"Silhouette Coefficient: %0.3f\" % metrics.silhouette_score(df, labels))"
   ]
  },
  {
   "cell_type": "code",
   "execution_count": 39,
   "id": "existing-question",
   "metadata": {},
   "outputs": [
    {
     "data": {
      "image/png": "[encoded data removed]",
      "text/plain": [
       "<Figure size 432x288 with 1 Axes>"
      ]
     },
     "metadata": {
      "needs_background": "light"
     },
     "output_type": "display_data"
    }
   ],
   "source": [
    "unique_labels = set(labels)\n",
    "colors = [plt.cm.Spectral(each)\n",
    "          for each in np.linspace(0, 1, len(unique_labels))]\n",
    "for k, col in zip(unique_labels, colors):\n",
    "    if k == -1:\n",
    "        # Black used for noise.\n",
    "        col = [0, 0, 0, 1]\n",
    "\n",
    "    class_member_mask = (labels == k)\n",
    "\n",
    "    xy = pca_data1[class_member_mask & core_samples_mask]\n",
    "    plt.plot(xy.iloc[:, 0], xy.iloc[:, 1], 'o', markerfacecolor=tuple(col),\n",
    "             markeredgecolor='k', markersize=14)\n",
    "\n",
    "    xy = pca_data1[class_member_mask & ~core_samples_mask]\n",
    "    plt.plot(xy.iloc[:, 0], xy.iloc[:, 1], 'o', markerfacecolor=tuple(col),\n",
    "             markeredgecolor='k', markersize=6)\n",
    "\n",
    "plt.title('The visualization of the clustered data; estimated number of clusters: %d' % n_clusters_)\n",
    "plt.xlabel(\"pc1:\"+\"{:.2f}\".format(pca.explained_variance_ratio_[0]*100)+\" %\")\n",
    "plt.ylabel(\"pc2:\"+\"{:.2f}\".format(pca.explained_variance_ratio_[1]*100)+\" %\")\n",
    "plt.show()"
   ]
  },
  {
   "cell_type": "code",
   "execution_count": null,
   "id": "regular-merit",
   "metadata": {},
   "outputs": [],
   "source": [
    "cluster"
   ]
  }
 ],
 "metadata": {
  "kernelspec": {
   "display_name": "Python 3",
   "language": "python",
   "name": "python3"
  },
  "language_info": {
   "codemirror_mode": {
    "name": "ipython",
    "version": 3
   },
   "file_extension": ".py",
   "mimetype": "text/x-python",
   "name": "python",
   "nbconvert_exporter": "python",
   "pygments_lexer": "ipython3",
   "version": "3.9.2"
  }
 },
 "nbformat": 4,
 "nbformat_minor": 5
}
