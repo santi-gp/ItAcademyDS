{
 "cells": [
  {
   "cell_type": "code",
   "execution_count": 1,
   "id": "68be3c5c",
   "metadata": {},
   "outputs": [],
   "source": [
    "import numpy as np\n",
    "import pandas as np\n",
    "import matplotlib.pyplot as plt\n",
    "import seaborn as sn"
   ]
  },
  {
   "cell_type": "markdown",
   "id": "7065e338",
   "metadata": {},
   "source": [
    "# Ejercicio 1\n",
    "Realice la práctica del notebook en GitHub [03 EXAMINING DATA](https://github.com/BIDDL3/Examining-Data/blob/main/03%20EXAMINING%20DATA.ipynb) (haga una copia y ejecute los comandos con el mismo dataset county.txt). Este ejercicio consiste a observar las diferentes posibilidades que ofrecen las diferentes librerías de visualización gráfica."
   ]
  },
  {
   "cell_type": "markdown",
   "id": "b835e034",
   "metadata": {},
   "source": [
    "# Ejercicio 2\n",
    "Haga las tareas de preprocesado y adecuación del Dataset que disponemos en el repositorio de GitHub [PRE-PROCESSING-DATA](https://github.com/BIDDL3/PRE-PROCESSING-DATA/blob/main/movies.dat) con el objetivo de prepararlo y trabajarlo como dataframe para extraer información.\n",
    "\n",
    "#### ! Importante\n",
    "\n",
    "El resultado final tiene que ser un dataframe con las variables de **nom de la pel·lícula**, **any** i **genere**. También es importante quedarse con un solo género para cada película!\n",
    "\n",
    "\n",
    "\n"
   ]
  },
  {
   "cell_type": "markdown",
   "id": "628551dd",
   "metadata": {},
   "source": [
    "# Ejercicio 3\n",
    "\n",
    "Muestre su creatividad. Qué cree relevante mostrar del Dataset **movies.dat** del ejercicio anterior?\n",
    "\n",
    "Haga una o dos representaciones gráficas y justifique su elección."
   ]
  }
 ],
 "metadata": {
  "kernelspec": {
   "display_name": "Python 3 (ipykernel)",
   "language": "python",
   "name": "python3"
  },
  "language_info": {
   "codemirror_mode": {
    "name": "ipython",
    "version": 3
   },
   "file_extension": ".py",
   "mimetype": "text/x-python",
   "name": "python",
   "nbconvert_exporter": "python",
   "pygments_lexer": "ipython3",
   "version": "3.9.12"
  }
 },
 "nbformat": 4,
 "nbformat_minor": 5
}
