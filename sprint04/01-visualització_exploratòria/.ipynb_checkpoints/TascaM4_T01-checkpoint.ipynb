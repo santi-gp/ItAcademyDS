{
 "cells": [
  {
   "cell_type": "code",
   "execution_count": 2,
   "id": "0ca6808a",
   "metadata": {},
   "outputs": [],
   "source": [
    "import pandas as pd\n",
    "import numpy as np\n",
    "import matplotlib.pyplot as plt\n",
    "import seaborn as sns\n",
    "pd.options.mode.chained_assignment = None"
   ]
  },
  {
   "cell_type": "markdown",
   "id": "white-wiring",
   "metadata": {},
   "source": [
    "# Objetivos\n",
    "\n",
    "* Uso de las librerías gráficas.\n",
    "* Apender a representar datos de un Dataframe.\n",
    "* Ànalisis y extrapolación de las gráficas."
   ]
  },
  {
   "cell_type": "markdown",
   "id": "abstract-blast",
   "metadata": {},
   "source": [
    "Utilizando las bibliotecas de visualización de datos **Matplotlib** o **Seaborn**, realiza los siguientes ejercicios.\n"
   ]
  },
  {
   "cell_type": "markdown",
   "id": "e6de2490",
   "metadata": {},
   "source": [
    "# Ejercicio 1\n",
    "Descargue el dataset adjunto **preu lloguer per trimestre i barri.csv** extraído de la web OpenDataBCN y haga un resumen estadístico y gráfico.\n",
    "\n",
    "Cree al menos una visualización por:\n",
    "\n",
    "* Una variable categórica (Distrito o Barrio)\n",
    "* Una variable numérica (Precio)\n",
    "* Una variable numérica y una categórica (Distrito y Precio)\n",
    "* Dos variables numéricas (Año o Trimestre y Precio)\n",
    "* Tres variables (Barrio o Distrito, Trimestre y Precio)"
   ]
  },
  {
   "cell_type": "markdown",
   "id": "8ab12fd7",
   "metadata": {},
   "source": [
    "# Solución"
   ]
  },
  {
   "cell_type": "markdown",
   "id": "af638de5",
   "metadata": {},
   "source": [
    "1. Leer dataset"
   ]
  },
  {
   "cell_type": "code",
   "execution_count": 3,
   "id": "12b85585",
   "metadata": {},
   "outputs": [
    {
     "data": {
      "text/html": [
       "<div>\n",
       "<style scoped>\n",
       "    .dataframe tbody tr th:only-of-type {\n",
       "        vertical-align: middle;\n",
       "    }\n",
       "\n",
       "    .dataframe tbody tr th {\n",
       "        vertical-align: top;\n",
       "    }\n",
       "\n",
       "    .dataframe thead th {\n",
       "        text-align: right;\n",
       "    }\n",
       "</style>\n",
       "<table border=\"1\" class=\"dataframe\">\n",
       "  <thead>\n",
       "    <tr style=\"text-align: right;\">\n",
       "      <th></th>\n",
       "      <th>Any</th>\n",
       "      <th>Trimestre</th>\n",
       "      <th>Codi_Districte</th>\n",
       "      <th>Nom_Districte</th>\n",
       "      <th>Codi_Barri</th>\n",
       "      <th>Nom_Barri</th>\n",
       "      <th>Lloguer_mitja</th>\n",
       "      <th>Preu</th>\n",
       "    </tr>\n",
       "  </thead>\n",
       "  <tbody>\n",
       "    <tr>\n",
       "      <th>0</th>\n",
       "      <td>2021</td>\n",
       "      <td>1</td>\n",
       "      <td>1</td>\n",
       "      <td>Ciutat Vella</td>\n",
       "      <td>1</td>\n",
       "      <td>el Raval</td>\n",
       "      <td>Lloguer mitjà mensual (Euros/mes)</td>\n",
       "      <td>759.2</td>\n",
       "    </tr>\n",
       "    <tr>\n",
       "      <th>1</th>\n",
       "      <td>2021</td>\n",
       "      <td>1</td>\n",
       "      <td>1</td>\n",
       "      <td>Ciutat Vella</td>\n",
       "      <td>2</td>\n",
       "      <td>el Barri Gòtic</td>\n",
       "      <td>Lloguer mitjà mensual (Euros/mes)</td>\n",
       "      <td>929.6</td>\n",
       "    </tr>\n",
       "    <tr>\n",
       "      <th>2</th>\n",
       "      <td>2021</td>\n",
       "      <td>1</td>\n",
       "      <td>1</td>\n",
       "      <td>Ciutat Vella</td>\n",
       "      <td>3</td>\n",
       "      <td>la Barceloneta</td>\n",
       "      <td>Lloguer mitjà mensual (Euros/mes)</td>\n",
       "      <td>808.9</td>\n",
       "    </tr>\n",
       "    <tr>\n",
       "      <th>3</th>\n",
       "      <td>2021</td>\n",
       "      <td>1</td>\n",
       "      <td>1</td>\n",
       "      <td>Ciutat Vella</td>\n",
       "      <td>4</td>\n",
       "      <td>Sant Pere, Santa Caterina i la Ribera</td>\n",
       "      <td>Lloguer mitjà mensual (Euros/mes)</td>\n",
       "      <td>879.4</td>\n",
       "    </tr>\n",
       "    <tr>\n",
       "      <th>4</th>\n",
       "      <td>2021</td>\n",
       "      <td>1</td>\n",
       "      <td>2</td>\n",
       "      <td>Eixample</td>\n",
       "      <td>5</td>\n",
       "      <td>el Fort Pienc</td>\n",
       "      <td>Lloguer mitjà mensual (Euros/mes)</td>\n",
       "      <td>918.0</td>\n",
       "    </tr>\n",
       "    <tr>\n",
       "      <th>...</th>\n",
       "      <td>...</td>\n",
       "      <td>...</td>\n",
       "      <td>...</td>\n",
       "      <td>...</td>\n",
       "      <td>...</td>\n",
       "      <td>...</td>\n",
       "      <td>...</td>\n",
       "      <td>...</td>\n",
       "    </tr>\n",
       "    <tr>\n",
       "      <th>579</th>\n",
       "      <td>2021</td>\n",
       "      <td>4</td>\n",
       "      <td>10</td>\n",
       "      <td>Sant Martí</td>\n",
       "      <td>69</td>\n",
       "      <td>Diagonal Mar i el Front Marítim del Poblenou</td>\n",
       "      <td>Lloguer mitjà per superfície (Euros/m2 mes)</td>\n",
       "      <td>15.2</td>\n",
       "    </tr>\n",
       "    <tr>\n",
       "      <th>580</th>\n",
       "      <td>2021</td>\n",
       "      <td>4</td>\n",
       "      <td>10</td>\n",
       "      <td>Sant Martí</td>\n",
       "      <td>70</td>\n",
       "      <td>el Besòs i el Maresme</td>\n",
       "      <td>Lloguer mitjà per superfície (Euros/m2 mes)</td>\n",
       "      <td>10.8</td>\n",
       "    </tr>\n",
       "    <tr>\n",
       "      <th>581</th>\n",
       "      <td>2021</td>\n",
       "      <td>4</td>\n",
       "      <td>10</td>\n",
       "      <td>Sant Martí</td>\n",
       "      <td>71</td>\n",
       "      <td>Provençals del Poblenou</td>\n",
       "      <td>Lloguer mitjà per superfície (Euros/m2 mes)</td>\n",
       "      <td>13.8</td>\n",
       "    </tr>\n",
       "    <tr>\n",
       "      <th>582</th>\n",
       "      <td>2021</td>\n",
       "      <td>4</td>\n",
       "      <td>10</td>\n",
       "      <td>Sant Martí</td>\n",
       "      <td>72</td>\n",
       "      <td>Sant Martí de Provençals</td>\n",
       "      <td>Lloguer mitjà per superfície (Euros/m2 mes)</td>\n",
       "      <td>11.7</td>\n",
       "    </tr>\n",
       "    <tr>\n",
       "      <th>583</th>\n",
       "      <td>2021</td>\n",
       "      <td>4</td>\n",
       "      <td>10</td>\n",
       "      <td>Sant Martí</td>\n",
       "      <td>73</td>\n",
       "      <td>la Verneda i la Pau</td>\n",
       "      <td>Lloguer mitjà per superfície (Euros/m2 mes)</td>\n",
       "      <td>11.3</td>\n",
       "    </tr>\n",
       "  </tbody>\n",
       "</table>\n",
       "<p>584 rows × 8 columns</p>\n",
       "</div>"
      ],
      "text/plain": [
       "      Any  Trimestre  Codi_Districte Nom_Districte  Codi_Barri  \\\n",
       "0    2021          1               1  Ciutat Vella           1   \n",
       "1    2021          1               1  Ciutat Vella           2   \n",
       "2    2021          1               1  Ciutat Vella           3   \n",
       "3    2021          1               1  Ciutat Vella           4   \n",
       "4    2021          1               2      Eixample           5   \n",
       "..    ...        ...             ...           ...         ...   \n",
       "579  2021          4              10    Sant Martí          69   \n",
       "580  2021          4              10    Sant Martí          70   \n",
       "581  2021          4              10    Sant Martí          71   \n",
       "582  2021          4              10    Sant Martí          72   \n",
       "583  2021          4              10    Sant Martí          73   \n",
       "\n",
       "                                        Nom_Barri  \\\n",
       "0                                        el Raval   \n",
       "1                                  el Barri Gòtic   \n",
       "2                                  la Barceloneta   \n",
       "3           Sant Pere, Santa Caterina i la Ribera   \n",
       "4                                   el Fort Pienc   \n",
       "..                                            ...   \n",
       "579  Diagonal Mar i el Front Marítim del Poblenou   \n",
       "580                         el Besòs i el Maresme   \n",
       "581                       Provençals del Poblenou   \n",
       "582                      Sant Martí de Provençals   \n",
       "583                           la Verneda i la Pau   \n",
       "\n",
       "                                   Lloguer_mitja   Preu  \n",
       "0              Lloguer mitjà mensual (Euros/mes)  759.2  \n",
       "1              Lloguer mitjà mensual (Euros/mes)  929.6  \n",
       "2              Lloguer mitjà mensual (Euros/mes)  808.9  \n",
       "3              Lloguer mitjà mensual (Euros/mes)  879.4  \n",
       "4              Lloguer mitjà mensual (Euros/mes)  918.0  \n",
       "..                                           ...    ...  \n",
       "579  Lloguer mitjà per superfície (Euros/m2 mes)   15.2  \n",
       "580  Lloguer mitjà per superfície (Euros/m2 mes)   10.8  \n",
       "581  Lloguer mitjà per superfície (Euros/m2 mes)   13.8  \n",
       "582  Lloguer mitjà per superfície (Euros/m2 mes)   11.7  \n",
       "583  Lloguer mitjà per superfície (Euros/m2 mes)   11.3  \n",
       "\n",
       "[584 rows x 8 columns]"
      ]
     },
     "execution_count": 3,
     "metadata": {},
     "output_type": "execute_result"
    }
   ],
   "source": [
    "df_lloguer=pd.read_csv('preu lloguer per trimestre i barri.csv')\n",
    "df_lloguer"
   ]
  },
  {
   "cell_type": "markdown",
   "id": "biblical-persian",
   "metadata": {},
   "source": [
    "|Variable|Descripción|\n",
    "|--------|-----------|\n",
    "|Any | Año de los precios de alquiler en Barcelona|\n",
    "|Trimestre | Trimestre|\n",
    "|Codi_Districte | Código de distrito (valor númerico) |\n",
    "|Nom_Districte | Nombre de cada distrito|\n",
    "|Codi_Barri | Código de barrio (valor númerico)|\n",
    "|Nom_Barri | Nombre de cada barrio|\n",
    "|Lloguer_mitja | Alquiler medio mensual(por vivienda o por $m^2$ de superficie)|\n",
    "|Preu | Precio del alquiler, dependiendo si es por  vivienda o por $m^2$|\n"
   ]
  },
  {
   "cell_type": "markdown",
   "id": "9b5a3d0a",
   "metadata": {},
   "source": [
    "Vamos a analizar mediante gráficos estadísticos, los precios de alquiler en los diferentes distritos o barrios de Barcelona.\n",
    "\n",
    "Se puede ver que el precio del alquiler está expresado en  (**Euros/mes**) y (**Euros/m2 mes**). Para este estudio se utilizará la condición **Lloguer_mitja=Lloguer mitjà mensual (Euros/mes)**."
   ]
  },
  {
   "cell_type": "code",
   "execution_count": 4,
   "id": "405f86e3",
   "metadata": {},
   "outputs": [
    {
     "data": {
      "text/html": [
       "<div>\n",
       "<style scoped>\n",
       "    .dataframe tbody tr th:only-of-type {\n",
       "        vertical-align: middle;\n",
       "    }\n",
       "\n",
       "    .dataframe tbody tr th {\n",
       "        vertical-align: top;\n",
       "    }\n",
       "\n",
       "    .dataframe thead th {\n",
       "        text-align: right;\n",
       "    }\n",
       "</style>\n",
       "<table border=\"1\" class=\"dataframe\">\n",
       "  <thead>\n",
       "    <tr style=\"text-align: right;\">\n",
       "      <th></th>\n",
       "      <th>Any</th>\n",
       "      <th>Trimestre</th>\n",
       "      <th>Codi_Districte</th>\n",
       "      <th>Nom_Districte</th>\n",
       "      <th>Codi_Barri</th>\n",
       "      <th>Nom_Barri</th>\n",
       "      <th>Lloguer_mitja</th>\n",
       "      <th>Preu</th>\n",
       "    </tr>\n",
       "  </thead>\n",
       "  <tbody>\n",
       "    <tr>\n",
       "      <th>0</th>\n",
       "      <td>2021</td>\n",
       "      <td>1</td>\n",
       "      <td>1</td>\n",
       "      <td>Ciutat Vella</td>\n",
       "      <td>1</td>\n",
       "      <td>el Raval</td>\n",
       "      <td>Lloguer mitjà mensual (Euros/mes)</td>\n",
       "      <td>759.2</td>\n",
       "    </tr>\n",
       "    <tr>\n",
       "      <th>1</th>\n",
       "      <td>2021</td>\n",
       "      <td>1</td>\n",
       "      <td>1</td>\n",
       "      <td>Ciutat Vella</td>\n",
       "      <td>2</td>\n",
       "      <td>el Barri Gòtic</td>\n",
       "      <td>Lloguer mitjà mensual (Euros/mes)</td>\n",
       "      <td>929.6</td>\n",
       "    </tr>\n",
       "    <tr>\n",
       "      <th>2</th>\n",
       "      <td>2021</td>\n",
       "      <td>1</td>\n",
       "      <td>1</td>\n",
       "      <td>Ciutat Vella</td>\n",
       "      <td>3</td>\n",
       "      <td>la Barceloneta</td>\n",
       "      <td>Lloguer mitjà mensual (Euros/mes)</td>\n",
       "      <td>808.9</td>\n",
       "    </tr>\n",
       "    <tr>\n",
       "      <th>3</th>\n",
       "      <td>2021</td>\n",
       "      <td>1</td>\n",
       "      <td>1</td>\n",
       "      <td>Ciutat Vella</td>\n",
       "      <td>4</td>\n",
       "      <td>Sant Pere, Santa Caterina i la Ribera</td>\n",
       "      <td>Lloguer mitjà mensual (Euros/mes)</td>\n",
       "      <td>879.4</td>\n",
       "    </tr>\n",
       "    <tr>\n",
       "      <th>4</th>\n",
       "      <td>2021</td>\n",
       "      <td>1</td>\n",
       "      <td>2</td>\n",
       "      <td>Eixample</td>\n",
       "      <td>5</td>\n",
       "      <td>el Fort Pienc</td>\n",
       "      <td>Lloguer mitjà mensual (Euros/mes)</td>\n",
       "      <td>918.0</td>\n",
       "    </tr>\n",
       "  </tbody>\n",
       "</table>\n",
       "</div>"
      ],
      "text/plain": [
       "    Any  Trimestre  Codi_Districte Nom_Districte  Codi_Barri  \\\n",
       "0  2021          1               1  Ciutat Vella           1   \n",
       "1  2021          1               1  Ciutat Vella           2   \n",
       "2  2021          1               1  Ciutat Vella           3   \n",
       "3  2021          1               1  Ciutat Vella           4   \n",
       "4  2021          1               2      Eixample           5   \n",
       "\n",
       "                               Nom_Barri                      Lloguer_mitja  \\\n",
       "0                               el Raval  Lloguer mitjà mensual (Euros/mes)   \n",
       "1                         el Barri Gòtic  Lloguer mitjà mensual (Euros/mes)   \n",
       "2                         la Barceloneta  Lloguer mitjà mensual (Euros/mes)   \n",
       "3  Sant Pere, Santa Caterina i la Ribera  Lloguer mitjà mensual (Euros/mes)   \n",
       "4                          el Fort Pienc  Lloguer mitjà mensual (Euros/mes)   \n",
       "\n",
       "    Preu  \n",
       "0  759.2  \n",
       "1  929.6  \n",
       "2  808.9  \n",
       "3  879.4  \n",
       "4  918.0  "
      ]
     },
     "execution_count": 4,
     "metadata": {},
     "output_type": "execute_result"
    }
   ],
   "source": [
    "df=df_lloguer[df_lloguer['Lloguer_mitja']=='Lloguer mitjà mensual (Euros/mes)']\n",
    "df.head()"
   ]
  },
  {
   "cell_type": "markdown",
   "id": "8955f1c9",
   "metadata": {},
   "source": [
    "2. Obtener información de nuestras variables"
   ]
  },
  {
   "cell_type": "code",
   "execution_count": 5,
   "id": "65c15a8d",
   "metadata": {},
   "outputs": [
    {
     "name": "stdout",
     "output_type": "stream",
     "text": [
      "<class 'pandas.core.frame.DataFrame'>\n",
      "Int64Index: 292 entries, 0 to 510\n",
      "Data columns (total 8 columns):\n",
      " #   Column          Non-Null Count  Dtype \n",
      "---  ------          --------------  ----- \n",
      " 0   Any             292 non-null    int64 \n",
      " 1   Trimestre       292 non-null    int64 \n",
      " 2   Codi_Districte  292 non-null    int64 \n",
      " 3   Nom_Districte   292 non-null    object\n",
      " 4   Codi_Barri      292 non-null    int64 \n",
      " 5   Nom_Barri       292 non-null    object\n",
      " 6   Lloguer_mitja   292 non-null    object\n",
      " 7   Preu            292 non-null    object\n",
      "dtypes: int64(4), object(4)\n",
      "memory usage: 20.5+ KB\n"
     ]
    }
   ],
   "source": [
    "df.info()"
   ]
  },
  {
   "cell_type": "markdown",
   "id": "4d207b06",
   "metadata": {},
   "source": [
    "3. Convertir la variable **Preu** al formato **float**"
   ]
  },
  {
   "cell_type": "code",
   "execution_count": 6,
   "id": "e5a99120",
   "metadata": {},
   "outputs": [
    {
     "data": {
      "text/html": [
       "<div>\n",
       "<style scoped>\n",
       "    .dataframe tbody tr th:only-of-type {\n",
       "        vertical-align: middle;\n",
       "    }\n",
       "\n",
       "    .dataframe tbody tr th {\n",
       "        vertical-align: top;\n",
       "    }\n",
       "\n",
       "    .dataframe thead th {\n",
       "        text-align: right;\n",
       "    }\n",
       "</style>\n",
       "<table border=\"1\" class=\"dataframe\">\n",
       "  <thead>\n",
       "    <tr style=\"text-align: right;\">\n",
       "      <th></th>\n",
       "      <th>Preu</th>\n",
       "    </tr>\n",
       "  </thead>\n",
       "  <tbody>\n",
       "    <tr>\n",
       "      <th>0</th>\n",
       "      <td>759.2</td>\n",
       "    </tr>\n",
       "    <tr>\n",
       "      <th>1</th>\n",
       "      <td>929.6</td>\n",
       "    </tr>\n",
       "    <tr>\n",
       "      <th>2</th>\n",
       "      <td>808.9</td>\n",
       "    </tr>\n",
       "  </tbody>\n",
       "</table>\n",
       "</div>"
      ],
      "text/plain": [
       "    Preu\n",
       "0  759.2\n",
       "1  929.6\n",
       "2  808.9"
      ]
     },
     "execution_count": 6,
     "metadata": {},
     "output_type": "execute_result"
    }
   ],
   "source": [
    "df['Preu'] = pd.to_numeric(df['Preu'], errors='coerce')\n",
    "df[['Preu']].head(3)"
   ]
  },
  {
   "cell_type": "markdown",
   "id": "immune-sudan",
   "metadata": {},
   "source": [
    "4. Verificar valores perdidos"
   ]
  },
  {
   "cell_type": "code",
   "execution_count": 7,
   "id": "experimental-lighter",
   "metadata": {},
   "outputs": [
    {
     "data": {
      "text/plain": [
       "Any                0\n",
       "Trimestre          0\n",
       "Codi_Districte     0\n",
       "Nom_Districte      0\n",
       "Codi_Barri         0\n",
       "Nom_Barri          0\n",
       "Lloguer_mitja      0\n",
       "Preu              22\n",
       "dtype: int64"
      ]
     },
     "execution_count": 7,
     "metadata": {},
     "output_type": "execute_result"
    }
   ],
   "source": [
    "df.isnull().sum()"
   ]
  },
  {
   "cell_type": "markdown",
   "id": "regulation-narrative",
   "metadata": {},
   "source": [
    "Se puede ver que la variable **Preu** tiene 22 valores **null** y que representan el $\\displaystyle\\frac{22}{292}*100=7.53\\%$ de los datos. Por tal motivo, estos valores los reemplazaremos por la media de la variable **Preu**."
   ]
  },
  {
   "cell_type": "code",
   "execution_count": 9,
   "id": "sized-senate",
   "metadata": {},
   "outputs": [
    {
     "data": {
      "text/html": [
       "<div>\n",
       "<style scoped>\n",
       "    .dataframe tbody tr th:only-of-type {\n",
       "        vertical-align: middle;\n",
       "    }\n",
       "\n",
       "    .dataframe tbody tr th {\n",
       "        vertical-align: top;\n",
       "    }\n",
       "\n",
       "    .dataframe thead th {\n",
       "        text-align: right;\n",
       "    }\n",
       "</style>\n",
       "<table border=\"1\" class=\"dataframe\">\n",
       "  <thead>\n",
       "    <tr style=\"text-align: right;\">\n",
       "      <th></th>\n",
       "      <th>Any</th>\n",
       "      <th>Trimestre</th>\n",
       "      <th>Codi_Districte</th>\n",
       "      <th>Nom_Districte</th>\n",
       "      <th>Codi_Barri</th>\n",
       "      <th>Nom_Barri</th>\n",
       "      <th>Lloguer_mitja</th>\n",
       "      <th>Preu</th>\n",
       "    </tr>\n",
       "  </thead>\n",
       "  <tbody>\n",
       "    <tr>\n",
       "      <th>0</th>\n",
       "      <td>2021</td>\n",
       "      <td>1</td>\n",
       "      <td>1</td>\n",
       "      <td>Ciutat Vella</td>\n",
       "      <td>1</td>\n",
       "      <td>el Raval</td>\n",
       "      <td>Lloguer mitjà mensual (Euros/mes)</td>\n",
       "      <td>759.2</td>\n",
       "    </tr>\n",
       "    <tr>\n",
       "      <th>1</th>\n",
       "      <td>2021</td>\n",
       "      <td>1</td>\n",
       "      <td>1</td>\n",
       "      <td>Ciutat Vella</td>\n",
       "      <td>2</td>\n",
       "      <td>el Barri Gòtic</td>\n",
       "      <td>Lloguer mitjà mensual (Euros/mes)</td>\n",
       "      <td>929.6</td>\n",
       "    </tr>\n",
       "    <tr>\n",
       "      <th>2</th>\n",
       "      <td>2021</td>\n",
       "      <td>1</td>\n",
       "      <td>1</td>\n",
       "      <td>Ciutat Vella</td>\n",
       "      <td>3</td>\n",
       "      <td>la Barceloneta</td>\n",
       "      <td>Lloguer mitjà mensual (Euros/mes)</td>\n",
       "      <td>808.9</td>\n",
       "    </tr>\n",
       "    <tr>\n",
       "      <th>3</th>\n",
       "      <td>2021</td>\n",
       "      <td>1</td>\n",
       "      <td>1</td>\n",
       "      <td>Ciutat Vella</td>\n",
       "      <td>4</td>\n",
       "      <td>Sant Pere, Santa Caterina i la Ribera</td>\n",
       "      <td>Lloguer mitjà mensual (Euros/mes)</td>\n",
       "      <td>879.4</td>\n",
       "    </tr>\n",
       "    <tr>\n",
       "      <th>4</th>\n",
       "      <td>2021</td>\n",
       "      <td>1</td>\n",
       "      <td>2</td>\n",
       "      <td>Eixample</td>\n",
       "      <td>5</td>\n",
       "      <td>el Fort Pienc</td>\n",
       "      <td>Lloguer mitjà mensual (Euros/mes)</td>\n",
       "      <td>918.0</td>\n",
       "    </tr>\n",
       "  </tbody>\n",
       "</table>\n",
       "</div>"
      ],
      "text/plain": [
       "    Any  Trimestre  Codi_Districte Nom_Districte  Codi_Barri  \\\n",
       "0  2021          1               1  Ciutat Vella           1   \n",
       "1  2021          1               1  Ciutat Vella           2   \n",
       "2  2021          1               1  Ciutat Vella           3   \n",
       "3  2021          1               1  Ciutat Vella           4   \n",
       "4  2021          1               2      Eixample           5   \n",
       "\n",
       "                               Nom_Barri                      Lloguer_mitja  \\\n",
       "0                               el Raval  Lloguer mitjà mensual (Euros/mes)   \n",
       "1                         el Barri Gòtic  Lloguer mitjà mensual (Euros/mes)   \n",
       "2                         la Barceloneta  Lloguer mitjà mensual (Euros/mes)   \n",
       "3  Sant Pere, Santa Caterina i la Ribera  Lloguer mitjà mensual (Euros/mes)   \n",
       "4                          el Fort Pienc  Lloguer mitjà mensual (Euros/mes)   \n",
       "\n",
       "    Preu  \n",
       "0  759.2  \n",
       "1  929.6  \n",
       "2  808.9  \n",
       "3  879.4  \n",
       "4  918.0  "
      ]
     },
     "execution_count": 9,
     "metadata": {},
     "output_type": "execute_result"
    }
   ],
   "source": [
    "df.Preu=df['Preu'].fillna(df.Preu.mean())\n",
    "df.head()"
   ]
  },
  {
   "cell_type": "code",
   "execution_count": 10,
   "id": "bearing-blues",
   "metadata": {},
   "outputs": [
    {
     "data": {
      "text/plain": [
       "Any               0\n",
       "Trimestre         0\n",
       "Codi_Districte    0\n",
       "Nom_Districte     0\n",
       "Codi_Barri        0\n",
       "Nom_Barri         0\n",
       "Lloguer_mitja     0\n",
       "Preu              0\n",
       "dtype: int64"
      ]
     },
     "execution_count": 10,
     "metadata": {},
     "output_type": "execute_result"
    }
   ],
   "source": [
    "df_lloguer.isnull().sum()"
   ]
  },
  {
   "cell_type": "markdown",
   "id": "leading-jones",
   "metadata": {},
   "source": [
    "5. Resumen estadístico del dataset"
   ]
  },
  {
   "cell_type": "code",
   "execution_count": 11,
   "id": "8796d90f",
   "metadata": {},
   "outputs": [
    {
     "data": {
      "text/html": [
       "<div>\n",
       "<style scoped>\n",
       "    .dataframe tbody tr th:only-of-type {\n",
       "        vertical-align: middle;\n",
       "    }\n",
       "\n",
       "    .dataframe tbody tr th {\n",
       "        vertical-align: top;\n",
       "    }\n",
       "\n",
       "    .dataframe thead th {\n",
       "        text-align: right;\n",
       "    }\n",
       "</style>\n",
       "<table border=\"1\" class=\"dataframe\">\n",
       "  <thead>\n",
       "    <tr style=\"text-align: right;\">\n",
       "      <th></th>\n",
       "      <th>Any</th>\n",
       "      <th>Trimestre</th>\n",
       "      <th>Codi_Districte</th>\n",
       "      <th>Codi_Barri</th>\n",
       "      <th>Preu</th>\n",
       "    </tr>\n",
       "  </thead>\n",
       "  <tbody>\n",
       "    <tr>\n",
       "      <th>count</th>\n",
       "      <td>292.0</td>\n",
       "      <td>292.00</td>\n",
       "      <td>292.00</td>\n",
       "      <td>292.00</td>\n",
       "      <td>292.00</td>\n",
       "    </tr>\n",
       "    <tr>\n",
       "      <th>mean</th>\n",
       "      <td>2021.0</td>\n",
       "      <td>2.50</td>\n",
       "      <td>6.25</td>\n",
       "      <td>37.00</td>\n",
       "      <td>871.59</td>\n",
       "    </tr>\n",
       "    <tr>\n",
       "      <th>std</th>\n",
       "      <td>0.0</td>\n",
       "      <td>1.12</td>\n",
       "      <td>2.79</td>\n",
       "      <td>21.11</td>\n",
       "      <td>212.67</td>\n",
       "    </tr>\n",
       "    <tr>\n",
       "      <th>min</th>\n",
       "      <td>2021.0</td>\n",
       "      <td>1.00</td>\n",
       "      <td>1.00</td>\n",
       "      <td>1.00</td>\n",
       "      <td>447.50</td>\n",
       "    </tr>\n",
       "    <tr>\n",
       "      <th>25%</th>\n",
       "      <td>2021.0</td>\n",
       "      <td>1.75</td>\n",
       "      <td>4.00</td>\n",
       "      <td>19.00</td>\n",
       "      <td>750.80</td>\n",
       "    </tr>\n",
       "    <tr>\n",
       "      <th>50%</th>\n",
       "      <td>2021.0</td>\n",
       "      <td>2.50</td>\n",
       "      <td>7.00</td>\n",
       "      <td>37.00</td>\n",
       "      <td>826.10</td>\n",
       "    </tr>\n",
       "    <tr>\n",
       "      <th>75%</th>\n",
       "      <td>2021.0</td>\n",
       "      <td>3.25</td>\n",
       "      <td>8.00</td>\n",
       "      <td>55.00</td>\n",
       "      <td>927.75</td>\n",
       "    </tr>\n",
       "    <tr>\n",
       "      <th>max</th>\n",
       "      <td>2021.0</td>\n",
       "      <td>4.00</td>\n",
       "      <td>10.00</td>\n",
       "      <td>73.00</td>\n",
       "      <td>1816.50</td>\n",
       "    </tr>\n",
       "  </tbody>\n",
       "</table>\n",
       "</div>"
      ],
      "text/plain": [
       "          Any  Trimestre  Codi_Districte  Codi_Barri     Preu\n",
       "count   292.0     292.00          292.00      292.00   292.00\n",
       "mean   2021.0       2.50            6.25       37.00   871.59\n",
       "std       0.0       1.12            2.79       21.11   212.67\n",
       "min    2021.0       1.00            1.00        1.00   447.50\n",
       "25%    2021.0       1.75            4.00       19.00   750.80\n",
       "50%    2021.0       2.50            7.00       37.00   826.10\n",
       "75%    2021.0       3.25            8.00       55.00   927.75\n",
       "max    2021.0       4.00           10.00       73.00  1816.50"
      ]
     },
     "execution_count": 11,
     "metadata": {},
     "output_type": "execute_result"
    }
   ],
   "source": [
    "df.describe().round(2)"
   ]
  },
  {
   "cell_type": "markdown",
   "id": "0e11e264",
   "metadata": {},
   "source": [
    "El estudio de los alquileres en Barcelona solo se ha realizado para el año 2021."
   ]
  },
  {
   "cell_type": "code",
   "execution_count": 12,
   "id": "introductory-renewal",
   "metadata": {},
   "outputs": [
    {
     "data": {
      "text/plain": [
       "array([2021])"
      ]
     },
     "execution_count": 12,
     "metadata": {},
     "output_type": "execute_result"
    }
   ],
   "source": [
    "df['Any'].unique()"
   ]
  },
  {
   "cell_type": "markdown",
   "id": "65367733",
   "metadata": {},
   "source": [
    "## Gŕaficos"
   ]
  },
  {
   "cell_type": "markdown",
   "id": "0aa55fab",
   "metadata": {},
   "source": [
    "### 1.1 Una variable categórica (Distrito o Barrio)"
   ]
  },
  {
   "cell_type": "code",
   "execution_count": 23,
   "id": "1cd44148",
   "metadata": {},
   "outputs": [
    {
     "data": {
      "text/plain": [
       "Nom_Districte\n",
       "Ciutat Vella           16\n",
       "Eixample               24\n",
       "Gràcia                 20\n",
       "Horta-Guinardó         44\n",
       "Les Corts              12\n",
       "Nou Barris             52\n",
       "Sant Andreu            28\n",
       "Sant Martí             40\n",
       "Sants-Montjuïc         32\n",
       "Sarrià-Sant Gervasi    24\n",
       "Name: Nom_Districte, dtype: int64"
      ]
     },
     "execution_count": 23,
     "metadata": {},
     "output_type": "execute_result"
    }
   ],
   "source": [
    "df_Nom_Districte=df.groupby(['Nom_Districte'])['Nom_Districte'].count()\n",
    "df_Nom_Districte"
   ]
  },
  {
   "cell_type": "code",
   "execution_count": 55,
   "id": "5138cfa2",
   "metadata": {},
   "outputs": [
    {
     "data": {
      "image/png": "[encoded data removed]",
      "text/plain": [
       "<Figure size 864x576 with 1 Axes>"
      ]
     },
     "metadata": {
      "needs_background": "light"
     },
     "output_type": "display_data"
    }
   ],
   "source": [
    "df['Nom_Districte'].value_counts(sort=False).plot(kind='barh',color='purple', figsize=(12,8))\n",
    "plt.title('Número de alquileres por distrito-2021')\n",
    "plt.ylabel('Distrito')\n",
    "plt.xlabel('# alquiler')\n",
    "plt.savefig('categórica.png', bbox_inches='tight'); \n",
    "          "
   ]
  },
  {
   "cell_type": "markdown",
   "id": "hindu-clinton",
   "metadata": {},
   "source": [
    "**Nou Barris** es el distriro con más número de alquileres en el año 2021."
   ]
  },
  {
   "cell_type": "markdown",
   "id": "699d42c6",
   "metadata": {},
   "source": [
    "### 1.2. Una variable numérica (Precio)"
   ]
  },
  {
   "cell_type": "code",
   "execution_count": 56,
   "id": "a2d6fb65",
   "metadata": {},
   "outputs": [
    {
     "data": {
      "image/png": "[encoded data removed]",
      "text/plain": [
       "<Figure size 864x576 with 1 Axes>"
      ]
     },
     "metadata": {
      "needs_background": "light"
     },
     "output_type": "display_data"
    }
   ],
   "source": [
    "df.Preu.plot(kind='hist',color='#b5a5b5',figsize=(12,8))\n",
    "plt.title('Histograma de los precios de los alquileres en BCN-2021')\n",
    "plt.xlabel('Precio mensual en €')\n",
    "plt.savefig('numérica.png', bbox_inches='tight');"
   ]
  },
  {
   "cell_type": "markdown",
   "id": "apparent-detector",
   "metadata": {},
   "source": [
    "El precio con más frecuencia en el año 2021 está sobre los 800€/mensual."
   ]
  },
  {
   "cell_type": "markdown",
   "id": "bf35d484",
   "metadata": {},
   "source": [
    "### 1.3. Una variable numérica y una categórica (Distrito y Precio)"
   ]
  },
  {
   "cell_type": "code",
   "execution_count": 26,
   "id": "8165b542",
   "metadata": {},
   "outputs": [
    {
     "data": {
      "text/html": [
       "<div>\n",
       "<style scoped>\n",
       "    .dataframe tbody tr th:only-of-type {\n",
       "        vertical-align: middle;\n",
       "    }\n",
       "\n",
       "    .dataframe tbody tr th {\n",
       "        vertical-align: top;\n",
       "    }\n",
       "\n",
       "    .dataframe thead th {\n",
       "        text-align: right;\n",
       "    }\n",
       "</style>\n",
       "<table border=\"1\" class=\"dataframe\">\n",
       "  <thead>\n",
       "    <tr style=\"text-align: right;\">\n",
       "      <th></th>\n",
       "      <th>Preu</th>\n",
       "    </tr>\n",
       "    <tr>\n",
       "      <th>Nom_Districte</th>\n",
       "      <th></th>\n",
       "    </tr>\n",
       "  </thead>\n",
       "  <tbody>\n",
       "    <tr>\n",
       "      <th>Ciutat Vella</th>\n",
       "      <td>858.92</td>\n",
       "    </tr>\n",
       "    <tr>\n",
       "      <th>Eixample</th>\n",
       "      <td>1000.55</td>\n",
       "    </tr>\n",
       "    <tr>\n",
       "      <th>Gràcia</th>\n",
       "      <td>877.27</td>\n",
       "    </tr>\n",
       "    <tr>\n",
       "      <th>Horta-Guinardó</th>\n",
       "      <td>774.70</td>\n",
       "    </tr>\n",
       "    <tr>\n",
       "      <th>Les Corts</th>\n",
       "      <td>1214.07</td>\n",
       "    </tr>\n",
       "    <tr>\n",
       "      <th>Nou Barris</th>\n",
       "      <td>712.13</td>\n",
       "    </tr>\n",
       "    <tr>\n",
       "      <th>Sant Andreu</th>\n",
       "      <td>731.94</td>\n",
       "    </tr>\n",
       "    <tr>\n",
       "      <th>Sant Martí</th>\n",
       "      <td>916.45</td>\n",
       "    </tr>\n",
       "    <tr>\n",
       "      <th>Sants-Montjuïc</th>\n",
       "      <td>808.01</td>\n",
       "    </tr>\n",
       "    <tr>\n",
       "      <th>Sarrià-Sant Gervasi</th>\n",
       "      <td>1271.21</td>\n",
       "    </tr>\n",
       "  </tbody>\n",
       "</table>\n",
       "</div>"
      ],
      "text/plain": [
       "                        Preu\n",
       "Nom_Districte               \n",
       "Ciutat Vella          858.92\n",
       "Eixample             1000.55\n",
       "Gràcia                877.27\n",
       "Horta-Guinardó        774.70\n",
       "Les Corts            1214.07\n",
       "Nou Barris            712.13\n",
       "Sant Andreu           731.94\n",
       "Sant Martí            916.45\n",
       "Sants-Montjuïc        808.01\n",
       "Sarrià-Sant Gervasi  1271.21"
      ]
     },
     "execution_count": 26,
     "metadata": {},
     "output_type": "execute_result"
    }
   ],
   "source": [
    "df_Dis_Preu=df.groupby('Nom_Districte')[['Preu']].mean()\n",
    "df_Dis_Preu.round(2)"
   ]
  },
  {
   "cell_type": "code",
   "execution_count": 60,
   "id": "b875d8c3",
   "metadata": {},
   "outputs": [
    {
     "data": {
      "image/png": "[encoded data removed]",
      "text/plain": [
       "<Figure size 576x576 with 1 Axes>"
      ]
     },
     "metadata": {},
     "output_type": "display_data"
    }
   ],
   "source": [
    "mycolors = plt.get_cmap('Purples')(np.linspace(0.2,0.7, len(df_Dis_Preu['Preu'])))\n",
    "df_Dis_Preu['Preu'].plot.pie(figsize=(8,8),autopct='%.2f',colors= mycolors)\n",
    "plt.savefig('categórica_numérica.png', bbox_inches='tight')\n",
    "plt.show()"
   ]
  },
  {
   "cell_type": "markdown",
   "id": "b6dd7830",
   "metadata": {},
   "source": [
    "* Se puede ver en el gráfico que el precio medio de alquier más caro en el 2021 es el de **Sarrià-Sant Gervasi** y el menos costoso en **Nou Barris**."
   ]
  },
  {
   "cell_type": "markdown",
   "id": "958ae0f4",
   "metadata": {},
   "source": [
    "### 1.4. Dos variables numéricas (Año o Trimestre y Precio)"
   ]
  },
  {
   "cell_type": "code",
   "execution_count": 28,
   "id": "85edcb97",
   "metadata": {},
   "outputs": [
    {
     "data": {
      "text/html": [
       "<div>\n",
       "<style scoped>\n",
       "    .dataframe tbody tr th:only-of-type {\n",
       "        vertical-align: middle;\n",
       "    }\n",
       "\n",
       "    .dataframe tbody tr th {\n",
       "        vertical-align: top;\n",
       "    }\n",
       "\n",
       "    .dataframe thead th {\n",
       "        text-align: right;\n",
       "    }\n",
       "</style>\n",
       "<table border=\"1\" class=\"dataframe\">\n",
       "  <thead>\n",
       "    <tr style=\"text-align: right;\">\n",
       "      <th></th>\n",
       "      <th>Preu</th>\n",
       "    </tr>\n",
       "    <tr>\n",
       "      <th>Trimestre</th>\n",
       "      <th></th>\n",
       "    </tr>\n",
       "  </thead>\n",
       "  <tbody>\n",
       "    <tr>\n",
       "      <th>1</th>\n",
       "      <td>1598.2</td>\n",
       "    </tr>\n",
       "    <tr>\n",
       "      <th>2</th>\n",
       "      <td>1680.3</td>\n",
       "    </tr>\n",
       "    <tr>\n",
       "      <th>3</th>\n",
       "      <td>1816.5</td>\n",
       "    </tr>\n",
       "    <tr>\n",
       "      <th>4</th>\n",
       "      <td>1679.3</td>\n",
       "    </tr>\n",
       "  </tbody>\n",
       "</table>\n",
       "</div>"
      ],
      "text/plain": [
       "             Preu\n",
       "Trimestre        \n",
       "1          1598.2\n",
       "2          1680.3\n",
       "3          1816.5\n",
       "4          1679.3"
      ]
     },
     "execution_count": 28,
     "metadata": {},
     "output_type": "execute_result"
    }
   ],
   "source": [
    "df_Tri_Preu=df.groupby('Trimestre')[['Preu']].max()\n",
    "df_Tri_Preu.round(2)"
   ]
  },
  {
   "cell_type": "code",
   "execution_count": 61,
   "id": "6da63d32",
   "metadata": {},
   "outputs": [
    {
     "data": {
      "image/png": "[encoded data removed]",
      "text/plain": [
       "<Figure size 576x576 with 1 Axes>"
      ]
     },
     "metadata": {},
     "output_type": "display_data"
    }
   ],
   "source": [
    "plt.figure()\n",
    "colors = plt.get_cmap('Blues')(np.linspace(0.2,0.7, len(df_Tri_Preu['Preu'])))\n",
    "df_Tri_Preu['Preu'].plot.pie(figsize=(8,8),autopct='%.2f',colors= colors)\n",
    "plt.title('Precio máximo por trimestre en %')\n",
    "plt.savefig('dos_numéricas.png', bbox_inches='tight');\n",
    "plt.show()\n"
   ]
  },
  {
   "cell_type": "markdown",
   "id": "341598e6",
   "metadata": {},
   "source": [
    "Se puede ver que el precio máximo del alquiler se alcanzo en el tercer trimestre del 2021"
   ]
  },
  {
   "cell_type": "markdown",
   "id": "14636b57",
   "metadata": {},
   "source": [
    "### 1.5 Tres variables (Barrio o Distrito, Trimestre y Precio)"
   ]
  },
  {
   "cell_type": "code",
   "execution_count": 51,
   "id": "round-chicken",
   "metadata": {},
   "outputs": [
    {
     "data": {
      "image/png": "[encoded data removed]",
      "text/plain": [
       "<Figure size 864x576 with 1 Axes>"
      ]
     },
     "metadata": {
      "needs_background": "light"
     },
     "output_type": "display_data"
    }
   ],
   "source": [
    "df.pivot_table(index='Nom_Districte', \n",
    "               columns='Trimestre', \n",
    "               values='Preu',\n",
    "               aggfunc='mean',\n",
    "               fill_value=0).plot.bar(stacked=False, figsize=(12,8))\n",
    "plt.savefig('1categórica_2numéricas.png', bbox_inches='tight');\n",
    "plt.show()"
   ]
  },
  {
   "cell_type": "markdown",
   "id": "3dec7db1",
   "metadata": {},
   "source": [
    "Se ha trazado el precio de los alquileres en el eje $y$, y en el eje $x$ el nombre del Distrito con representación para cada trimestre. Podemos ver que el precio promedio para los cuatro trimestres en Sant Andreu y Nous Barris son los más baratos a diferencia de Les Corts y Sarrià-Sant Gervasi que son los más caros."
   ]
  },
  {
   "cell_type": "markdown",
   "id": "2af089e1",
   "metadata": {},
   "source": [
    "# Ejercicio 2\n",
    "Exporte los gráficos como imágenes o como HTML."
   ]
  },
  {
   "cell_type": "markdown",
   "id": "fc531fdb",
   "metadata": {},
   "source": [
    "# Ejercicio 3\n",
    "Proponga alguna visualización que crea que puede resultar interesante."
   ]
  },
  {
   "cell_type": "code",
   "execution_count": 13,
   "id": "990a04d0",
   "metadata": {
    "scrolled": true
   },
   "outputs": [
    {
     "data": {
      "image/png": "[encoded data removed]",
      "text/plain": [
       "<Figure size 864x576 with 1 Axes>"
      ]
     },
     "metadata": {
      "needs_background": "light"
     },
     "output_type": "display_data"
    }
   ],
   "source": [
    "df.boxplot(by='Trimestre',column='Preu',figsize=(12,8))\n",
    "plt.ylabel('Precio');"
   ]
  },
  {
   "cell_type": "markdown",
   "id": "8544f095",
   "metadata": {},
   "source": [
    "* Se puede ver que las medianas de los precios de alquiler en los 4 trimestres están por encima de los 800€. Además, Q1 son muy similares. Además, el alquiler más caro sucedio en el $3^{er}$  trimestre de 2021. Por último, los cuatro trimestres presentan valoreas atípicos por encima del bigote de Q3, en el segundo trimestre se ve un valor atípico por debajo del bigote de Q1."
   ]
  }
 ],
 "metadata": {
  "kernelspec": {
   "display_name": "Python 3",
   "language": "python",
   "name": "python3"
  },
  "language_info": {
   "codemirror_mode": {
    "name": "ipython",
    "version": 3
   },
   "file_extension": ".py",
   "mimetype": "text/x-python",
   "name": "python",
   "nbconvert_exporter": "python",
   "pygments_lexer": "ipython3",
   "version": "3.9.2"
  }
 },
 "nbformat": 4,
 "nbformat_minor": 5
}
