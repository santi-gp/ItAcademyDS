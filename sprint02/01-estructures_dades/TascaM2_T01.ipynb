{
 "cells": [
  {
   "cell_type": "code",
   "execution_count": 138,
   "id": "359cbbe6",
   "metadata": {},
   "outputs": [],
   "source": [
    "import numpy as np"
   ]
  },
  {
   "cell_type": "markdown",
   "id": "3f511be7",
   "metadata": {},
   "source": [
    "# Tasca M2 T01"
   ]
  },
  {
   "cell_type": "markdown",
   "id": "85d2a355",
   "metadata": {},
   "source": [
    "## Ejercicio 1\n",
    "Crea una lista que agrupe los meses del año en trimestres (1T: enero, febrero y marzo; 2T: abril, mayo, junio...), es decir, una lista con 4 listas dentro."
   ]
  },
  {
   "cell_type": "code",
   "execution_count": 139,
   "id": "446a9332",
   "metadata": {},
   "outputs": [
    {
     "name": "stdout",
     "output_type": "stream",
     "text": [
      "[['enero', 'febrero', 'marzo'], ['abril', 'mayo', 'junio'], ['julio', 'agosto', 'septiembre'], ['octubre', 'noviembre', 'diciembre']]\n"
     ]
    }
   ],
   "source": [
    "list=[['enero','febrero','marzo'],\n",
    "      ['abril','mayo','junio'],\n",
    "      ['julio','agosto','septiembre'],\n",
    "      ['octubre','noviembre','diciembre']]\n",
    "print(list)"
   ]
  },
  {
   "cell_type": "markdown",
   "id": "e776ebd2",
   "metadata": {},
   "source": [
    "##  Ejercicio 2\n",
    "Crea un código que te permita acceder a:\n",
    "\n",
    "* El segundo mes del primer trimestre.\n",
    "* Los meses del primer trimestre.\n",
    "* Septiembre y octubre."
   ]
  },
  {
   "cell_type": "code",
   "execution_count": 140,
   "id": "57939c17",
   "metadata": {},
   "outputs": [
    {
     "name": "stdout",
     "output_type": "stream",
     "text": [
      "1. El segundo mes del primer trimestre es: febrero \n",
      "\n",
      "2. Los meses del primer trimestre son: ['enero', 'febrero', 'marzo'] \n",
      "\n",
      "3. septiembre  y  octubre\n"
     ]
    }
   ],
   "source": [
    "print('1. El segundo mes del primer trimestre es:',list[0][1],'\\n')\n",
    "print('2. Los meses del primer trimestre son:',list[0],'\\n')\n",
    "print('3.',list[2][2],' y ', list[3][0])"
   ]
  },
  {
   "cell_type": "markdown",
   "id": "83ef2f83",
   "metadata": {},
   "source": [
    "## Ejercicio 3\n",
    "Crea una lista con números desordenados y responde a las siguientes preguntas:\n",
    "\n",
    "1. Cuántos números hay?\n",
    "2. Cuántas veces aparece el número 3.\n",
    "3. Cuántas veces aparecen los números 3 y 4?\n",
    "4. Cuál es el número más grande?\n",
    "5. Cuáles son los 3 números más pequeños?\n",
    "6. Cuál es el rango de esta lista?"
   ]
  },
  {
   "cell_type": "code",
   "execution_count": 141,
   "id": "5e9453fd",
   "metadata": {},
   "outputs": [
    {
     "name": "stdout",
     "output_type": "stream",
     "text": [
      "[1 3 2 6 6 6 1 5 2 1 1 8 5 6 3 8 2 5]\n"
     ]
    }
   ],
   "source": [
    "list_rand= np.random.randint(1,9,18)\n",
    "print(list_rand)"
   ]
  },
  {
   "cell_type": "code",
   "execution_count": 142,
   "id": "aeccf799",
   "metadata": {},
   "outputs": [
    {
     "name": "stdout",
     "output_type": "stream",
     "text": [
      "1. La cantidad de números es: 18 \n",
      "\n",
      "2. El tres aparece 2 veces\n",
      "\n",
      "3. El tres y cuatro aparecen 2 veces\n",
      "\n",
      "4. El números mas grande es: 8 \n",
      "\n",
      "5. lista de valores únicos ordenados de forma creciente\n",
      " [1, 2, 3, 5, 6, 8]\n",
      "Los 3 números más pequeños son:\n",
      "    1\n",
      "    2\n",
      "    3\n",
      "6. El rango de la lista es: 1 \n",
      "\n"
     ]
    }
   ],
   "source": [
    "def unique(list1):\n",
    " \n",
    "    unique_list = []\n",
    "    \n",
    "    for x in list1:\n",
    "        if x not in unique_list:\n",
    "            unique_list.append(x)\n",
    "   \n",
    "    y=sorted(unique_list)\n",
    "    print('5. lista de valores únicos ordenados de forma creciente\\n',y) \n",
    "    print('Los 3 números más pequeños son:')\n",
    "    for i in range(3):\n",
    "        print('   ',y[i])\n",
    "    \n",
    "    \n",
    "\n",
    "print('1. La cantidad de números es:',len(list_rand),'\\n')\n",
    "print('2. El tres aparece',np.count_nonzero(list_rand==3),'veces\\n')\n",
    "print('3. El tres y cuatro aparecen',np.count_nonzero((list_rand==3) | (list_rand==4)),'veces\\n')\n",
    "print('4. El números mas grande es:',np.max(list_rand),'\\n')\n",
    "unique(list_rand)\n",
    "print('6. El rango de la lista es:',np.linalg.matrix_rank(list_rand),'\\n')\n",
    "\n"
   ]
  },
  {
   "cell_type": "markdown",
   "id": "d61300fd",
   "metadata": {},
   "source": [
    "## Ejercicio 4\n",
    "Crea un diccionario de la siguiente forma y responde a las preguntas:\n",
    "\n",
    "1. compra = { \"Manzanas\" : {\"Qty\": 5, \"€\": 0.42}, \"Peres\" : {\"Qty\": 3, \"€\": 0.66} }\n",
    "2. Añade alguna fruta más\n",
    "3. Cuánto han costado las peras en total?\n",
    "4. Cuántas frutas hemos comprado en total?\n",
    "5. Cuál es la fruta más cara?"
   ]
  },
  {
   "cell_type": "markdown",
   "id": "3d71a262",
   "metadata": {},
   "source": [
    "1. Crear el diccionario **compra**"
   ]
  },
  {
   "cell_type": "code",
   "execution_count": 143,
   "id": "2395e581",
   "metadata": {},
   "outputs": [
    {
     "name": "stdout",
     "output_type": "stream",
     "text": [
      "{'Pomes': {'Qty': 5, '€': 0.42}, 'Peres': {'Qty': 3, '€': 0.66}}\n"
     ]
    }
   ],
   "source": [
    "compra = { \"Pomes\" : {\"Qty\": 5, \"€\": 0.42}, \"Peres\" : {\"Qty\": 3, \"€\": 0.66} }\n",
    "print(compra)"
   ]
  },
  {
   "cell_type": "markdown",
   "id": "0625cc27",
   "metadata": {},
   "source": [
    "2. Añade alguna fruta más"
   ]
  },
  {
   "cell_type": "code",
   "execution_count": 144,
   "id": "18aa01ac",
   "metadata": {},
   "outputs": [
    {
     "name": "stdout",
     "output_type": "stream",
     "text": [
      "{'Pomes': {'Qty': 5, '€': 0.42}, 'Peres': {'Qty': 3, '€': 0.66}, 'fresas': {'Qty': 4, '€': 2.6}}\n"
     ]
    }
   ],
   "source": [
    "fruit={\"Qty\": 4, \"€\": 2.6}\n",
    "compra['fresas']=fruit\n",
    "print(compra)"
   ]
  },
  {
   "cell_type": "markdown",
   "id": "02948eb9",
   "metadata": {},
   "source": [
    "3. Cuánto han costado las peras en total?"
   ]
  },
  {
   "cell_type": "code",
   "execution_count": 145,
   "id": "6566f4da",
   "metadata": {},
   "outputs": [
    {
     "name": "stdout",
     "output_type": "stream",
     "text": [
      "1.98\n"
     ]
    }
   ],
   "source": [
    "multi=compra.get('Peres')\n",
    "print(multi.get('Qty')*multi.get('€'))"
   ]
  },
  {
   "cell_type": "markdown",
   "id": "32f071c7",
   "metadata": {},
   "source": [
    "4. Cuántas frutas hemos comprado en total?"
   ]
  },
  {
   "cell_type": "code",
   "execution_count": 146,
   "id": "501ff9a4",
   "metadata": {},
   "outputs": [
    {
     "name": "stdout",
     "output_type": "stream",
     "text": [
      "Pomes = 5\n",
      "Peres = 3\n",
      "fresas = 4\n",
      "-----------\n",
      "Total = 12\n"
     ]
    }
   ],
   "source": [
    "sum=0\n",
    "for i in compra:\n",
    "    print(i,'=',compra.get(i).get('Qty'))\n",
    "    sum += compra.get(i).get('Qty')\n",
    "print('-----------')    \n",
    "print('Total =',sum)    "
   ]
  },
  {
   "cell_type": "markdown",
   "id": "e2e70d99",
   "metadata": {},
   "source": [
    "5. Cuál es la fruta más cara?"
   ]
  },
  {
   "cell_type": "code",
   "execution_count": 147,
   "id": "c06cf304",
   "metadata": {},
   "outputs": [
    {
     "name": "stdout",
     "output_type": "stream",
     "text": [
      "Pomes = 0.42 €\n",
      "Peres = 0.66 €\n",
      "fresas = 2.6 €\n",
      "-----------\n",
      "El máximo precio es: 2.6 €\n"
     ]
    }
   ],
   "source": [
    "max_price=''\n",
    "for i in compra:\n",
    "    print(i,'=',compra.get(i).get('€'),'€')\n",
    "    max_price=np.max(compra.get(i).get('€'))\n",
    "print('-----------')    \n",
    "print('El máximo precio es:',max_price,'€') "
   ]
  }
 ],
 "metadata": {
  "kernelspec": {
   "display_name": "Python 3 (ipykernel)",
   "language": "python",
   "name": "python3"
  },
  "language_info": {
   "codemirror_mode": {
    "name": "ipython",
    "version": 3
   },
   "file_extension": ".py",
   "mimetype": "text/x-python",
   "name": "python",
   "nbconvert_exporter": "python",
   "pygments_lexer": "ipython3",
   "version": "3.9.2"
  }
 },
 "nbformat": 4,
 "nbformat_minor": 5
}
