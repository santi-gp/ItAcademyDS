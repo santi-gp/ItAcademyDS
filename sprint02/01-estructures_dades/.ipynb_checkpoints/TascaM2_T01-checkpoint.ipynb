{
 "cells": [
  {
   "cell_type": "code",
   "execution_count": 71,
   "id": "359cbbe6",
   "metadata": {},
   "outputs": [],
   "source": [
    "import numpy as np"
   ]
  },
  {
   "cell_type": "markdown",
   "id": "3f511be7",
   "metadata": {},
   "source": [
    "Ejercicios de estructuras de datos con Python.\n",
    "### Objetivos\n",
    "* Creación y acceso a listas en python.\n",
    "* Creación y acceso a tuples en python.\n",
    "* Uso de los métodos python.\n",
    "* Creación y acceso a sets y diccionarios en python."
   ]
  },
  {
   "cell_type": "markdown",
   "id": "85d2a355",
   "metadata": {},
   "source": [
    "# Ejercicio 1\n",
    "Crea una lista que agrupe los meses del año en trimestres (1T: enero, febrero y marzo; 2T: abril, mayo, junio...), es decir, una lista con 4 listas dentro."
   ]
  },
  {
   "cell_type": "markdown",
   "id": "parliamentary-soldier",
   "metadata": {},
   "source": [
    "# Solución"
   ]
  },
  {
   "cell_type": "code",
   "execution_count": 96,
   "id": "446a9332",
   "metadata": {},
   "outputs": [
    {
     "name": "stdout",
     "output_type": "stream",
     "text": [
      "[['enero', 'febrero', 'marzo'], ['abril', 'mayo', 'junio'], ['julio', 'agosto', 'septiembre'], ['octubre', 'noviembre', 'diciembre']]\n"
     ]
    }
   ],
   "source": [
    "list=[['enero','febrero','marzo'],\n",
    "      ['abril','mayo','junio'],\n",
    "      ['julio','agosto','septiembre'],\n",
    "      ['octubre','noviembre','diciembre']]\n",
    "print(list)"
   ]
  },
  {
   "cell_type": "markdown",
   "id": "e776ebd2",
   "metadata": {},
   "source": [
    "##  Ejercicio 2\n",
    "Crea un código que te permita acceder a:\n",
    "\n",
    "* El segundo mes del primer trimestre.\n",
    "* Los meses del primer trimestre.\n",
    "* Septiembre y octubre."
   ]
  },
  {
   "cell_type": "markdown",
   "id": "surprised-implement",
   "metadata": {},
   "source": [
    "# Solución"
   ]
  },
  {
   "cell_type": "code",
   "execution_count": 97,
   "id": "57939c17",
   "metadata": {},
   "outputs": [
    {
     "name": "stdout",
     "output_type": "stream",
     "text": [
      "1. El segundo mes del primer trimestre es: febrero \n",
      "\n",
      "2. Los meses del primer trimestre son: ['enero', 'febrero', 'marzo'] \n",
      "\n",
      "3. septiembre  y  octubre\n"
     ]
    }
   ],
   "source": [
    "print('1. El segundo mes del primer trimestre es:',list[0][1],'\\n')\n",
    "print('2. Los meses del primer trimestre son:',list[0],'\\n')\n",
    "print('3.',list[2][2],' y ', list[3][0])"
   ]
  },
  {
   "cell_type": "markdown",
   "id": "83ef2f83",
   "metadata": {},
   "source": [
    "## Ejercicio 3\n",
    "Crea una lista con números desordenados y responde a las siguientes preguntas:\n",
    "\n",
    "1. Cuántos números hay?\n",
    "2. Cuántas veces aparece el número 3.\n",
    "3. Cuántas veces aparecen los números 3 y 4?\n",
    "4. Cuál es el número más grande?\n",
    "5. Cuáles son los 3 números más pequeños?\n",
    "6. Cuál es el rango de esta lista?"
   ]
  },
  {
   "cell_type": "markdown",
   "id": "radio-shame",
   "metadata": {},
   "source": [
    "# Solución"
   ]
  },
  {
   "cell_type": "code",
   "execution_count": 104,
   "id": "5e9453fd",
   "metadata": {},
   "outputs": [
    {
     "name": "stdout",
     "output_type": "stream",
     "text": [
      "[ 1  4 10  8 12  9  1 12  5  4  9 10 10  3  1 12  7  4  4  5 11  8  6]\n"
     ]
    }
   ],
   "source": [
    "list_rand= np.random.randint(1,13,23)\n",
    "print(list_rand)"
   ]
  },
  {
   "cell_type": "code",
   "execution_count": 105,
   "id": "aeccf799",
   "metadata": {},
   "outputs": [
    {
     "name": "stdout",
     "output_type": "stream",
     "text": [
      "1. La cantidad de números es: 23 \n",
      "\n",
      "2. El tres aparece 1 veces\n",
      "\n",
      "3. El tres aparece 1  veces y el cuatro 4 veces\n",
      "\n",
      "4. El números mas grande es: 12 \n",
      "\n",
      "5. Los 3 números más pequeños son:  [1, 1, 1] \n",
      "\n",
      "6. El rango de la lista es de: 1 a 12\n"
     ]
    }
   ],
   "source": [
    "print('1. La cantidad de números es:',len(list_rand),'\\n')\n",
    "print('2. El tres aparece',np.count_nonzero(list_rand==3),'veces\\n')\n",
    "print('3. El tres aparece',np.count_nonzero(list_rand==3),' veces y el cuatro',np.count_nonzero(list_rand==4),'veces\\n')\n",
    "print('4. El números mas grande es:',np.max(list_rand),'\\n')\n",
    "print('5. Los 3 números más pequeños son: ' , str(sorted(list_rand)[:3]),'\\n')\n",
    "print('6. El rango de la lista es de: ' + str(min(list_rand)) + ' a ' + str(max(list_rand)))"
   ]
  },
  {
   "cell_type": "markdown",
   "id": "d61300fd",
   "metadata": {},
   "source": [
    "## Ejercicio 4\n",
    "Crea un diccionario de la siguiente forma y responde a las preguntas:\n",
    "\n",
    "1. compra = { \"Manzanas\" : {\"Qty\": 5, \"€\": 0.42}, \"Peres\" : {\"Qty\": 3, \"€\": 0.66} }\n",
    "2. Añade alguna fruta más\n",
    "3. Cuánto han costado las peras en total?\n",
    "4. Cuántas frutas hemos comprado en total?\n",
    "5. Cuál es la fruta más cara?"
   ]
  },
  {
   "cell_type": "markdown",
   "id": "brutal-layout",
   "metadata": {},
   "source": [
    "# Solución"
   ]
  },
  {
   "cell_type": "markdown",
   "id": "3d71a262",
   "metadata": {},
   "source": [
    "1. Crear el diccionario **compra**"
   ]
  },
  {
   "cell_type": "code",
   "execution_count": 106,
   "id": "2395e581",
   "metadata": {},
   "outputs": [
    {
     "data": {
      "text/plain": [
       "{'Pomes': {'Qty': 5, '€': 0.42}, 'Peres': {'Qty': 3, '€': 0.66}}"
      ]
     },
     "execution_count": 106,
     "metadata": {},
     "output_type": "execute_result"
    }
   ],
   "source": [
    "compra = { \"Pomes\" : {\"Qty\": 5, \"€\": 0.42}, \"Peres\" : {\"Qty\": 3, \"€\": 0.66} }\n",
    "compra"
   ]
  },
  {
   "cell_type": "markdown",
   "id": "0625cc27",
   "metadata": {},
   "source": [
    "2. Añade alguna fruta más"
   ]
  },
  {
   "cell_type": "code",
   "execution_count": 107,
   "id": "18aa01ac",
   "metadata": {},
   "outputs": [
    {
     "data": {
      "text/plain": [
       "{'Pomes': {'Qty': 5, '€': 0.42},\n",
       " 'Peres': {'Qty': 3, '€': 0.66},\n",
       " 'fresas': {'Qty': 4, '€': 0.5}}"
      ]
     },
     "execution_count": 107,
     "metadata": {},
     "output_type": "execute_result"
    }
   ],
   "source": [
    "compra['fresas']={\"Qty\": 4, \"€\": 0.5}\n",
    "compra"
   ]
  },
  {
   "cell_type": "markdown",
   "id": "02948eb9",
   "metadata": {},
   "source": [
    "3. Cuánto han costado las peras en total?"
   ]
  },
  {
   "cell_type": "code",
   "execution_count": 108,
   "id": "opening-minutes",
   "metadata": {},
   "outputs": [
    {
     "name": "stdout",
     "output_type": "stream",
     "text": [
      "Las peras han costado en total: 1.98 €\n"
     ]
    }
   ],
   "source": [
    "total_peras = compra[\"Peres\"][\"Qty\"] * compra[\"Peres\"][\"€\"]\n",
    "print('Las peras han costado en total:', total_peres,'€')"
   ]
  },
  {
   "cell_type": "markdown",
   "id": "32f071c7",
   "metadata": {},
   "source": [
    "4. Cuántas frutas hemos comprado en total?"
   ]
  },
  {
   "cell_type": "code",
   "execution_count": 109,
   "id": "501ff9a4",
   "metadata": {},
   "outputs": [
    {
     "name": "stdout",
     "output_type": "stream",
     "text": [
      "Pomes = 5\n",
      "Peres = 3\n",
      "fresas = 4\n",
      "-----------\n",
      "Hemos comprado en total 12 frutas.\n"
     ]
    }
   ],
   "source": [
    "sum=0\n",
    "for i in compra:\n",
    "    print(i,'=',compra.get(i).get('Qty'))\n",
    "    sum += compra.get(i).get('Qty')\n",
    "print('-----------')    \n",
    "print('Hemos comprado en total',sum, 'frutas.')    "
   ]
  },
  {
   "cell_type": "markdown",
   "id": "e2e70d99",
   "metadata": {},
   "source": [
    "5. Cuál es la fruta más cara?"
   ]
  },
  {
   "cell_type": "code",
   "execution_count": 111,
   "id": "unexpected-package",
   "metadata": {},
   "outputs": [
    {
     "name": "stdout",
     "output_type": "stream",
     "text": [
      "La fruta más cara son las  Peres  a  0.66 €\n"
     ]
    }
   ],
   "source": [
    "price=0\n",
    "fruit=''\n",
    "for key,value in compra.items():\n",
    "    if value['€']>price:\n",
    "        price=value['€']\n",
    "        fruit=key\n",
    "print('La fruta más cara son las ',fruit,' a ',price,'€')"
   ]
  },
  {
   "cell_type": "code",
   "execution_count": null,
   "id": "level-cheat",
   "metadata": {},
   "outputs": [],
   "source": []
  }
 ],
 "metadata": {
  "kernelspec": {
   "display_name": "Python 3",
   "language": "python",
   "name": "python3"
  },
  "language_info": {
   "codemirror_mode": {
    "name": "ipython",
    "version": 3
   },
   "file_extension": ".py",
   "mimetype": "text/x-python",
   "name": "python",
   "nbconvert_exporter": "python",
   "pygments_lexer": "ipython3",
   "version": "3.9.2"
  }
 },
 "nbformat": 4,
 "nbformat_minor": 5
}
