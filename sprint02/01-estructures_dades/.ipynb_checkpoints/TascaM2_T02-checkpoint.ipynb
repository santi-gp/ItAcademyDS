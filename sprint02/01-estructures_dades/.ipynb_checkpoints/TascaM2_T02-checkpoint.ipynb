{
 "cells": [
  {
   "cell_type": "code",
   "execution_count": 16,
   "id": "359cbbe6",
   "metadata": {},
   "outputs": [],
   "source": [
    "import numpy as np"
   ]
  },
  {
   "cell_type": "markdown",
   "id": "3f511be7",
   "metadata": {},
   "source": [
    "# Tasca M2 T02"
   ]
  },
  {
   "cell_type": "markdown",
   "id": "85d2a355",
   "metadata": {},
   "source": [
    "## Ejercicio 1\n",
    "\n",
    "El ejercicio consiste a crear un programa que te clasifique una variable numérica en función de la escala Suspenso/Aprobado/Notable/Excelente.\n",
    "\n",
    "Recuerda que Suspendido < 5, Aprobado > 5 y < 7, Notable > 7 y < 9 y Excelente > 9."
   ]
  },
  {
   "cell_type": "code",
   "execution_count": 2,
   "id": "446a9332",
   "metadata": {},
   "outputs": [],
   "source": [
    "def func(nota):\n",
    "    if(nota<0):\n",
    "        print('Ingrese una valor entre 0 y 10')\n",
    "    elif(0<=nota<5):\n",
    "        print(nota, 'Ud está suspendido')\n",
    "    elif(5<=nota<7):\n",
    "        print(nota, 'Ud está aprobado')\n",
    "    elif(7<=nota<9):\n",
    "        print(nota, 'Ud tiene notable')\n",
    "    else:\n",
    "        print(nota, 'Ud tiene excelente')        "
   ]
  },
  {
   "cell_type": "code",
   "execution_count": 3,
   "id": "fbf37d96",
   "metadata": {},
   "outputs": [
    {
     "name": "stdout",
     "output_type": "stream",
     "text": [
      "10 Ud tiene excelente\n"
     ]
    }
   ],
   "source": [
    "func(10)"
   ]
  },
  {
   "cell_type": "markdown",
   "id": "e776ebd2",
   "metadata": {},
   "source": [
    "# Ejercicio 2\n",
    "\n",
    "Utilizando el siguiente tutorial crea un programa que te pregunte dos números. Te tiene que mostrar un mensaje diciendo si lo primero es más grande, el segundo es más grande o son iguales."
   ]
  },
  {
   "cell_type": "code",
   "execution_count": 4,
   "id": "57939c17",
   "metadata": {},
   "outputs": [
    {
     "name": "stdout",
     "output_type": "stream",
     "text": [
      "ingrese primer número 56\n",
      "ingrese segundo número 16\n",
      "El primer número es el más grande, 56 > 16\n"
     ]
    }
   ],
   "source": [
    "x=input('ingrese primer número ');\n",
    "y=input('ingrese segundo número ');\n",
    "if(x>y):\n",
    "    print('El primer número es el más grande,',x,'>',y)\n",
    "elif(y>x):\n",
    "     print('El segundo número es el más grande,',y,'>',x)\n",
    "else:\n",
    "    print('Los dos números son iguales,',x,'=',y)\n"
   ]
  },
  {
   "cell_type": "markdown",
   "id": "83ef2f83",
   "metadata": {},
   "source": [
    "## Ejercicio 3\n",
    "\n",
    "Crea un programa que te pregunte tu nombre, y te pida un número. Si el número es 0, tendría que mostrar un mensaje de error. En caso contrario, tendría que mostrar el nombre repetido tantos veces como indique el número. Por ejemplo, “Joan Joan Joan”."
   ]
  },
  {
   "cell_type": "code",
   "execution_count": 15,
   "id": "5e9453fd",
   "metadata": {},
   "outputs": [
    {
     "name": "stdout",
     "output_type": "stream",
     "text": [
      "ingrese su nombre fabio\n",
      "ingrese un número 7\n",
      "1 fabio\n",
      "2 fabio\n",
      "3 fabio\n",
      "4 fabio\n",
      "5 fabio\n",
      "6 fabio\n",
      "7 fabio\n"
     ]
    }
   ],
   "source": [
    "nom=input('ingrese su nombre ');\n",
    "num=int(input('ingrese un número '));\n",
    "\n",
    "if(num==0):\n",
    "        print('¡Error!, el número debe ser diferente de cero')\n",
    "else:\n",
    "    for i in range(num):\n",
    "        print(i+1,nom)"
   ]
  },
  {
   "cell_type": "markdown",
   "id": "d61300fd",
   "metadata": {},
   "source": [
    "# Ejercicio 4\n",
    "\n",
    "Crea un programa que dada una lista cualquiera, te diga si es simétrica o no. Si lo es, que te diga cuántos elementos tiene."
   ]
  },
  {
   "cell_type": "code",
   "execution_count": 334,
   "id": "d3c867f8",
   "metadata": {},
   "outputs": [
    {
     "data": {
      "text/plain": [
       "array([8, 1, 8, 4, 3, 5, 2, 1, 8, 8, 5, 6, 1, 1, 3, 2])"
      ]
     },
     "execution_count": 334,
     "metadata": {},
     "output_type": "execute_result"
    }
   ],
   "source": [
    "x=np.random.randint(1,10,16)\n",
    "x    "
   ]
  },
  {
   "cell_type": "code",
   "execution_count": 335,
   "id": "d666cf2c",
   "metadata": {},
   "outputs": [],
   "source": [
    "def symetric(x):\n",
    "    for i in range(len(x)):\n",
    "        if(x[i]==x[-i-1]):\n",
    "            print(x[i:-i],'tiene', len(x[i:-i]),'elementos')\n",
    "            pass        "
   ]
  },
  {
   "cell_type": "code",
   "execution_count": 336,
   "id": "29d76e6a",
   "metadata": {},
   "outputs": [
    {
     "name": "stdout",
     "output_type": "stream",
     "text": [
      "[5 2 1 8 8 5] tiene 6 elementos\n",
      "[] tiene 0 elementos\n"
     ]
    }
   ],
   "source": [
    "symetric(x)"
   ]
  },
  {
   "cell_type": "markdown",
   "id": "230aaf4d",
   "metadata": {},
   "source": [
    "# Ejercicio 5\n",
    "\n",
    "Crea un programa que dada una lista, te diga cuántos números coinciden con su posición. Por ejemplo [3,4,2,0,2,3,6] el 2 y el 6 coinciden."
   ]
  },
  {
   "cell_type": "code",
   "execution_count": 362,
   "id": "65c45cbb",
   "metadata": {},
   "outputs": [
    {
     "data": {
      "text/plain": [
       "array([1, 6, 7, 2, 4, 7, 5, 1, 6, 6, 3, 4])"
      ]
     },
     "execution_count": 362,
     "metadata": {},
     "output_type": "execute_result"
    }
   ],
   "source": [
    "a=np.random.randint(1,8,12)\n",
    "a"
   ]
  },
  {
   "cell_type": "code",
   "execution_count": 363,
   "id": "160ed3f2",
   "metadata": {},
   "outputs": [],
   "source": [
    "\n",
    "def my_func(lista):\n",
    "    b=list(enumerate(lista))\n",
    "    print(b,'\\n')\n",
    "    \n",
    "    suma=0\n",
    "    for i in range(len(a)):\n",
    "        if(b[i][0]==b[i][1]):\n",
    "            print(b[i][0],'coincide con la posición',i)\n",
    "            suma +=1\n",
    "    print('\\nTotal coincidencias')        \n",
    "    return suma      \n",
    "    "
   ]
  },
  {
   "cell_type": "code",
   "execution_count": 364,
   "id": "93c23c79",
   "metadata": {},
   "outputs": [
    {
     "name": "stdout",
     "output_type": "stream",
     "text": [
      "[(0, 1), (1, 6), (2, 7), (3, 2), (4, 4), (5, 7), (6, 5), (7, 1), (8, 6), (9, 6), (10, 3), (11, 4)] \n",
      "\n",
      "4 coincide con la posición 4\n",
      "\n",
      "Total coincidencias\n"
     ]
    },
    {
     "data": {
      "text/plain": [
       "1"
      ]
     },
     "execution_count": 364,
     "metadata": {},
     "output_type": "execute_result"
    }
   ],
   "source": [
    "my_func(a)\n"
   ]
  },
  {
   "cell_type": "code",
   "execution_count": null,
   "id": "bd91c0a6",
   "metadata": {},
   "outputs": [],
   "source": []
  }
 ],
 "metadata": {
  "kernelspec": {
   "display_name": "Python 3 (ipykernel)",
   "language": "python",
   "name": "python3"
  },
  "language_info": {
   "codemirror_mode": {
    "name": "ipython",
    "version": 3
   },
   "file_extension": ".py",
   "mimetype": "text/x-python",
   "name": "python",
   "nbconvert_exporter": "python",
   "pygments_lexer": "ipython3",
   "version": "3.9.2"
  }
 },
 "nbformat": 4,
 "nbformat_minor": 5
}
