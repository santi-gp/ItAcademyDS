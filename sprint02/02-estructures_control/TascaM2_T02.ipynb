{
 "cells": [
  {
   "cell_type": "code",
   "execution_count": 1,
   "id": "359cbbe6",
   "metadata": {},
   "outputs": [],
   "source": [
    "import numpy as np"
   ]
  },
  {
   "cell_type": "markdown",
   "id": "3f511be7",
   "metadata": {},
   "source": [
    "Conocer y entender los cimientos básicos del Python.\n",
    "\n",
    "### Objetivos\n",
    "\n",
    "* Saber los diferentes tipos de estructura de datos.\n",
    "* Realizar correctamente estructura de control, condicionantes y bucles.\n",
    "* Creación de funciones."
   ]
  },
  {
   "cell_type": "markdown",
   "id": "85d2a355",
   "metadata": {},
   "source": [
    "# Ejercicio 1\n",
    "\n",
    "El ejercicio consiste a crear un programa que te clasifique una variable numérica en función de la escala Suspenso/Aprobado/Notable/Excelente.\n",
    "\n",
    "Recuerda que Suspendido < 5, Aprobado > 5 y < 7, Notable > 7 y < 9 y Excelente > 9."
   ]
  },
  {
   "cell_type": "markdown",
   "id": "freelance-effectiveness",
   "metadata": {},
   "source": [
    "# Solución"
   ]
  },
  {
   "cell_type": "code",
   "execution_count": 24,
   "id": "446a9332",
   "metadata": {},
   "outputs": [],
   "source": [
    "def func(nota):\n",
    "    if(nota<0 or nota>10):\n",
    "        print('Ingrese una valor entre 0 y 10')\n",
    "    elif(nota<5):\n",
    "        print(f'{nota}, Ud está suspendido')\n",
    "    elif(nota<7):\n",
    "        print(f'{nota}, Ud está aprobado')\n",
    "    elif(nota<9):\n",
    "        print(f'{nota}, Ud tiene un notable')\n",
    "    else:\n",
    "        print(f'{nota}, Ud tiene un excelente')        "
   ]
  },
  {
   "cell_type": "code",
   "execution_count": 23,
   "id": "fbf37d96",
   "metadata": {},
   "outputs": [
    {
     "name": "stdout",
     "output_type": "stream",
     "text": [
      "7, Ud tiene un notable\n"
     ]
    }
   ],
   "source": [
    "func(7)"
   ]
  },
  {
   "cell_type": "markdown",
   "id": "e776ebd2",
   "metadata": {},
   "source": [
    "# Ejercicio 2\n",
    "\n",
    "Utilizando el siguiente tutorial crea un programa que te pregunte dos números. Te tiene que mostrar un mensaje diciendo si lo primero es más grande, el segundo es más grande o son iguales."
   ]
  },
  {
   "cell_type": "markdown",
   "id": "through-antique",
   "metadata": {},
   "source": [
    "# Solución"
   ]
  },
  {
   "cell_type": "code",
   "execution_count": 2,
   "id": "57939c17",
   "metadata": {},
   "outputs": [
    {
     "name": "stdout",
     "output_type": "stream",
     "text": [
      "ingrese primer número 5\n",
      "ingrese segundo número l\n",
      "¡Los valores introducidos no se pueden comparar!\n"
     ]
    }
   ],
   "source": [
    "x=input('ingrese primer número ');\n",
    "y=input('ingrese segundo número ');\n",
    "try:\n",
    "    x = float(x)\n",
    "    y = float(y)\n",
    "    if(x>y):\n",
    "        print('El primer número es el más grande,',x,'>',y)\n",
    "    elif(y>x):\n",
    "        print('El segundo número es el más grande,',y,'>',x)\n",
    "    else:\n",
    "        print('Los dos números son iguales,',x,'=',y)\n",
    "except:\n",
    "    print('¡Los valores introducidos no se pueden comparar!') \n"
   ]
  },
  {
   "cell_type": "markdown",
   "id": "83ef2f83",
   "metadata": {},
   "source": [
    "## Ejercicio 3\n",
    "\n",
    "Crea un programa que te pregunte tu nombre, y te pida un número. Si el número es 0, tendría que mostrar un mensaje de error. En caso contrario, tendría que mostrar el nombre repetido tantos veces como indique el número. Por ejemplo, “Joan Joan Joan”."
   ]
  },
  {
   "cell_type": "markdown",
   "id": "adopted-roulette",
   "metadata": {},
   "source": [
    "# Solución"
   ]
  },
  {
   "cell_type": "code",
   "execution_count": 6,
   "id": "5e9453fd",
   "metadata": {},
   "outputs": [
    {
     "name": "stdout",
     "output_type": "stream",
     "text": [
      "ingrese su nombre ugiug\n",
      "ingrese un número entero positivo4\n",
      "1 ugiug\n",
      "2 ugiug\n",
      "3 ugiug\n",
      "4 ugiug\n"
     ]
    }
   ],
   "source": [
    "nom=input('ingrese su nombre ');\n",
    "num=input('ingrese un número entero positivo');\n",
    "try:\n",
    "    num=int(num)\n",
    "    if(num==0):\n",
    "        print('¡Error!, el número debe ser diferente de cero,\\n no puedo repetir su nombre')\n",
    "    else:\n",
    "        for i in range(num):\n",
    "            print(i+1,nom)\n",
    "except:\n",
    "     print('¡Al menos uno de los valores introducidos no es correcto!') "
   ]
  },
  {
   "cell_type": "markdown",
   "id": "d61300fd",
   "metadata": {},
   "source": [
    "# Ejercicio 4\n",
    "\n",
    "Crea un programa que dada una lista cualquiera, te diga si es simétrica o no. Si lo es, que te diga cuántos elementos tiene."
   ]
  },
  {
   "cell_type": "markdown",
   "id": "sustained-flavor",
   "metadata": {},
   "source": [
    "# Solución"
   ]
  },
  {
   "cell_type": "code",
   "execution_count": 15,
   "id": "d3c867f8",
   "metadata": {},
   "outputs": [
    {
     "name": "stdout",
     "output_type": "stream",
     "text": [
      "[9 7 8 6 7 1 5 6 9 1 3 9 7 9 6 8]\n",
      "[1, 2, 5, 5, 5, 1]\n",
      "['a', 'r', 'r', 'o', 'z', 'o', 'r', 'r', 'a']\n",
      "['a', 'm', 'o', 'r', 'r', 'o', 'm', 'a']\n"
     ]
    }
   ],
   "source": [
    "test1=np.random.randint(1,10,16)\n",
    "test2=[1,2,5,5,5,1] \n",
    "test3=['a','r','r','o','z','o','r','r','a']\n",
    "test4=['a','m','o','r','r','o','m','a']\n",
    "print(test1)\n",
    "print(test2)\n",
    "print(test3)\n",
    "print(test4)"
   ]
  },
  {
   "cell_type": "code",
   "execution_count": 11,
   "id": "e4235c32",
   "metadata": {},
   "outputs": [],
   "source": [
    "def func_sime(x):\n",
    "    if(x!=x[::-1]):\n",
    "        return print('No es simétrica')\n",
    "    else:\n",
    "        return print('Es simétrica y tiene', len(x), 'elementos.' )"
   ]
  },
  {
   "cell_type": "code",
   "execution_count": 16,
   "id": "bab7898d",
   "metadata": {},
   "outputs": [
    {
     "name": "stdout",
     "output_type": "stream",
     "text": [
      "No es simétrica\n"
     ]
    }
   ],
   "source": [
    "func_sime(test2)"
   ]
  },
  {
   "cell_type": "markdown",
   "id": "230aaf4d",
   "metadata": {},
   "source": [
    "# Ejercicio 5\n",
    "\n",
    "Crea un programa que dada una lista, te diga cuántos números coinciden con su posición. Por ejemplo [3,4,2,0,2,3,6] el 2 y el 6 coinciden."
   ]
  },
  {
   "cell_type": "markdown",
   "id": "beautiful-killer",
   "metadata": {},
   "source": [
    "# Solución"
   ]
  },
  {
   "cell_type": "code",
   "execution_count": 54,
   "id": "65c45cbb",
   "metadata": {},
   "outputs": [
    {
     "name": "stdout",
     "output_type": "stream",
     "text": [
      "[5 5 2 3 6 7 2 7 2 6 6 1]\n",
      "[3, 4, 2, 0, 2, 3, 6]\n"
     ]
    }
   ],
   "source": [
    "list1=np.random.randint(1,8,12)\n",
    "print(list1)\n",
    "list2=[3,4,2,0,2,3,6] \n",
    "print(list2)"
   ]
  },
  {
   "cell_type": "code",
   "execution_count": 52,
   "id": "5ff1723e",
   "metadata": {},
   "outputs": [],
   "source": [
    "\n",
    "def my_func(lista):\n",
    "    b=list(enumerate(lista))\n",
    "    print(b,'\\n')\n",
    "    \n",
    "    suma=0\n",
    "    for i in range(len(lista)):\n",
    "        if(b[i][0]==b[i][1]):\n",
    "            print(b[i][0],'coincide con la posición',i)\n",
    "            suma +=1\n",
    "    print('\\nTotal coincidencias:',suma,'\\n')            \n",
    "    "
   ]
  },
  {
   "cell_type": "code",
   "execution_count": 55,
   "id": "f6ce1030",
   "metadata": {},
   "outputs": [
    {
     "name": "stdout",
     "output_type": "stream",
     "text": [
      "[(0, 5), (1, 5), (2, 2), (3, 3), (4, 6), (5, 7), (6, 2), (7, 7), (8, 2), (9, 6), (10, 6), (11, 1)] \n",
      "\n",
      "2 coincide con la posición 2\n",
      "3 coincide con la posición 3\n",
      "7 coincide con la posición 7\n",
      "\n",
      "Total coincidencias: 3 \n",
      "\n",
      "[(0, 3), (1, 4), (2, 2), (3, 0), (4, 2), (5, 3), (6, 6)] \n",
      "\n",
      "2 coincide con la posición 2\n",
      "6 coincide con la posición 6\n",
      "\n",
      "Total coincidencias: 2 \n",
      "\n"
     ]
    }
   ],
   "source": [
    "my_func(list1)\n",
    "my_func(list2)"
   ]
  },
  {
   "cell_type": "code",
   "execution_count": null,
   "id": "9fe02551",
   "metadata": {},
   "outputs": [],
   "source": []
  },
  {
   "cell_type": "code",
   "execution_count": null,
   "id": "departmental-frederick",
   "metadata": {},
   "outputs": [],
   "source": []
  }
 ],
 "metadata": {
  "kernelspec": {
   "display_name": "Python 3",
   "language": "python",
   "name": "python3"
  },
  "language_info": {
   "codemirror_mode": {
    "name": "ipython",
    "version": 3
   },
   "file_extension": ".py",
   "mimetype": "text/x-python",
   "name": "python",
   "nbconvert_exporter": "python",
   "pygments_lexer": "ipython3",
   "version": "3.9.2"
  }
 },
 "nbformat": 4,
 "nbformat_minor": 5
}
