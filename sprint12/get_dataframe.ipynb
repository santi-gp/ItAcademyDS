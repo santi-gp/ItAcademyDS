{
 "cells": [
  {
   "cell_type": "code",
   "execution_count": 2,
   "id": "8bee2e85",
   "metadata": {},
   "outputs": [],
   "source": [
    "import pandas as pd\n",
    "from urllib.request import urlopen\n",
    "import requests\n",
    "import re\n",
    "from bs4 import BeautifulSoup\n",
    "from IPython.display import display, HTML\n",
    "import glob"
   ]
  },
  {
   "cell_type": "markdown",
   "id": "swedish-background",
   "metadata": {},
   "source": [
    "# 1. Obtención del dataset a partir de los HTML con los anuncios de empleo\n",
    "\n",
    "1. Cargar ficheros HTML\n",
    "\n",
    "Empezamos cargando todos los archivos HTML de los directorios **jobs_ca**, **jobs_uk** y **jobs_usa**. Almacenamos el contenido de estos archivos en una lista **html_files**."
   ]
  },
  {
   "cell_type": "code",
   "execution_count": 3,
   "id": "statewide-fighter",
   "metadata": {},
   "outputs": [],
   "source": [
    "html_files = []\n",
    "\n",
    "for file in sorted(glob.glob('jobs_uk/*.html')):\n",
    "    with open(file, 'r', encoding='utf-8') as f:\n",
    "        html_files.append(f.read())\n",
    "        \n",
    "for file in sorted(glob.glob('jobs_usa/*.html')):\n",
    "    with open(file, 'r', encoding='utf-8') as f:\n",
    "        html_files.append(f.read())\n",
    "        \n",
    "for file in sorted(glob.glob('jobs_ca/*.html')):\n",
    "    with open(file, 'r', encoding='utf-8') as f:\n",
    "        html_files.append(f.read())         "
   ]
  },
  {
   "cell_type": "markdown",
   "id": "talented-jason",
   "metadata": {},
   "source": [
    "Utilizamos el módulo **glob** de Python 3 para obtener los nombres de los archivos con extensiones HTML en los directorios **jobs_ca**, **jobs_uk** y **jobs_usa**. Estos nombres de archivo se ordenan para mantener la coherencia de la salida en las distintas máquinas personales de los lectores. Esto garantiza que los dos primeros archivos de la muestra sean los mismos para todos los lectores."
   ]
  },
  {
   "cell_type": "code",
   "execution_count": 4,
   "id": "documentary-ideal",
   "metadata": {},
   "outputs": [
    {
     "name": "stdout",
     "output_type": "stream",
     "text": [
      "4308 archivos HTML cargados.\n"
     ]
    }
   ],
   "source": [
    "print(f\"{len(html_files)} archivos HTML cargados.\")"
   ]
  },
  {
   "cell_type": "markdown",
   "id": "acute-outline",
   "metadata": {},
   "source": [
    "Cada uno de nuestros 1458 archivos HTML puede ser analizado utilizando **Beautiful Soup**. Ejecutamos el análisis y almacenamos los resultados en una lista **soup_htmls**. También verificamos que cada archivo HTML analizado incluya un título y un cuerpo."
   ]
  },
  {
   "cell_type": "markdown",
   "id": "animal-kinase",
   "metadata": {},
   "source": [
    "2. Analizando los archivos HTML"
   ]
  },
  {
   "cell_type": "code",
   "execution_count": 5,
   "id": "enormous-bible",
   "metadata": {},
   "outputs": [],
   "source": [
    "soup_htmls = []\n",
    "for html in html_files:\n",
    "    soup = BeautifulSoup(html)\n",
    "    assert soup.title is not None\n",
    "    assert soup.body is not None\n",
    "    soup_htmls.append(soup)"
   ]
  },
  {
   "cell_type": "markdown",
   "id": "beneficial-dubai",
   "metadata": {},
   "source": [
    "3. Crear un DataFrame cuyas columnas contengan el título y el cuerpo de cada HTML"
   ]
  },
  {
   "cell_type": "code",
   "execution_count": 6,
   "id": "tropical-intensity",
   "metadata": {},
   "outputs": [],
   "source": [
    "table_dict = {'title_html': [], 'body_html': []}\n",
    "\n",
    "for soup in soup_htmls:\n",
    "    title = soup.find('title').text.lstrip().rstrip()\n",
    "    body = soup.find('body').text.lstrip().rstrip()\n",
    "    table_dict['title_html'].append(title)\n",
    "    table_dict['body_html'].append(body)"
   ]
  },
  {
   "cell_type": "code",
   "execution_count": 7,
   "id": "cooked-liabilities",
   "metadata": {},
   "outputs": [
    {
     "data": {
      "text/html": [
       "<div>\n",
       "<style scoped>\n",
       "    .dataframe tbody tr th:only-of-type {\n",
       "        vertical-align: middle;\n",
       "    }\n",
       "\n",
       "    .dataframe tbody tr th {\n",
       "        vertical-align: top;\n",
       "    }\n",
       "\n",
       "    .dataframe thead th {\n",
       "        text-align: right;\n",
       "    }\n",
       "</style>\n",
       "<table border=\"1\" class=\"dataframe\">\n",
       "  <thead>\n",
       "    <tr style=\"text-align: right;\">\n",
       "      <th></th>\n",
       "      <th>title_html</th>\n",
       "      <th>body_html</th>\n",
       "    </tr>\n",
       "  </thead>\n",
       "  <tbody>\n",
       "    <tr>\n",
       "      <th>count</th>\n",
       "      <td>4308</td>\n",
       "      <td>4308</td>\n",
       "    </tr>\n",
       "    <tr>\n",
       "      <th>unique</th>\n",
       "      <td>3889</td>\n",
       "      <td>3929</td>\n",
       "    </tr>\n",
       "    <tr>\n",
       "      <th>top</th>\n",
       "      <td>Functional Analyst, HRMS Job in Edmonton for S...</td>\n",
       "      <td>Product Specialist Description  JOB SUMMARYThe...</td>\n",
       "    </tr>\n",
       "    <tr>\n",
       "      <th>freq</th>\n",
       "      <td>9</td>\n",
       "      <td>23</td>\n",
       "    </tr>\n",
       "  </tbody>\n",
       "</table>\n",
       "</div>"
      ],
      "text/plain": [
       "                                               title_html  \\\n",
       "count                                                4308   \n",
       "unique                                               3889   \n",
       "top     Functional Analyst, HRMS Job in Edmonton for S...   \n",
       "freq                                                    9   \n",
       "\n",
       "                                                body_html  \n",
       "count                                                4308  \n",
       "unique                                               3929  \n",
       "top     Product Specialist Description  JOB SUMMARYThe...  \n",
       "freq                                                   23  "
      ]
     },
     "execution_count": 7,
     "metadata": {},
     "output_type": "execute_result"
    }
   ],
   "source": [
    "df = pd.DataFrame(table_dict)\n",
    "df.describe()"
   ]
  },
  {
   "cell_type": "markdown",
   "id": "c1fdc500-6480-431a-8f6e-f1a0705ae6d8",
   "metadata": {},
   "source": [
    "3889 de los 4308 títulos (title\\_html) son únicos, los 419 títulos restantes son duplicados. El título más común se repite 9 veces: es para un puesto de **Analista funcional**. Por otro lado, 3929 cuerpos (body\\_html) son únicos, por lo que 379 son duplicados. Por lo tanto, debemos eleiminar los duplicados de la columna body\\_html aunque algunas ofertas compartan un título genérico común."
   ]
  },
  {
   "cell_type": "markdown",
   "id": "executed-conflict",
   "metadata": {},
   "source": [
    "## 1.1. Exploración del HTML para la descripción de competencias\n",
    "\n",
    "Comenzamos nuestra exploración renderizando el HTML con el índice 0 de **html_files**.\n",
    "\n",
    "1. Representación del HTML de la primera oferta de empleo"
   ]
  },
  {
   "cell_type": "code",
   "execution_count": 8,
   "id": "dying-dominican",
   "metadata": {},
   "outputs": [
    {
     "data": {
      "text/html": [
       "<html><head><title>Data Science Manager Leeds - Reed.co.uk</title></head><body><h1>Data Science Manager</h1><span itemprop=\"description\"> <p><strong>Data Science Manager</strong></p> <p><strong>Up to £70,000</strong></p> <p><strong>Hybrid - Leeds</strong></p> <p>A great opportunity for an experienced Data Scientist to help lead a growing and diverse team in one of the UK's top retail companies</p> <p><strong>THE COMPANY</strong></p> <p>The business is one of the UK's top retail companies and they are undergoing an exciting digital transformation - and with data analytics being a foundation of the business's transformation strategy, joining as a Data Science Manager you will be at the very  heart of this transformation.</p> <p>Working within the data and analytics function - you will be senior figure leading as part of the data science team to produce complex data science models to identify and deliver business value across a number of key business processes. Supporting many areas  of the business across space optimisation in stores to analysing reasons for product availability within stores.</p> <p><strong>THE ROLE AND RESPONSIBILITIES</strong></p> <ul> <li>Leading data science projects under the direction of the data science manager within the team</li><li>Leading junior team members supporting their technical and personal development</li><li>Contributing to development of data science models</li><li>Contributing to tech implementation and productioning of end-to-end Machine Learning systems</li><li>Developing personal knowledge in the data science realm and contributing to the data science community in the business by presenting work</li><li>Contributing to evaluation and scoping of new data science projects</li></ul> <p><strong>YOUR SKILLS AND EXPERIENCE</strong></p> <ul> <li>Technical skills including Python, SQL and Databricks</li><li>Experience in stakeholder management</li><li>Experience in team management</li><li>Experience working with large datasets</li><li>Strong data science and modelling background</li></ul> <p><strong>THE BENEFITS</strong></p> <ul> <li>Up to £70,000 + bonuses</li><li>Hybrid</li><li>Leeds</li></ul> <p><strong>INTERVIEW PROCESS</strong></p> <ul> <li>1st Stage - 30-minute CV run-through</li><li>2nd Stage - 1hr + tech assessment/cv deep-dive</li><li>Final - Meet wider team and sign-off</li></ul> <p><strong>HOW TO APPLY</strong></p> <p>If interested in the role please send your CV to Jordan Victor via the Apply Link below</p> <p><strong>THE COMPANY</strong></p> <p>The business is one of the UK's top retail companies and they are undergoing an exciting digital transformation - and with data analytics being a foundation of the business's transformation strategy, joining as a Data Science Manager you will be at the very  heart of this transformation.</p> <p>Working within the data and analytics function - you will be senior figure leading as part of the data science team to produce complex data science models to identify and deliver business value across a number of key business processes. Supporting many areas  of the business across space optimisation in stores to analysing reasons for product availability within stores.</p> <p><strong>THE ROLE AND RESPONSIBILITIES</strong></p> <ul> <li>Leading the team on data science projects </li><li>Leading junior team members supporting their technical and personal development</li><li>Contributing to development of data science models</li><li>Contributing to tech implementation and productioning of end-to-end Machine Learning systems</li><li>Developing personal knowledge in the data science realm and contributing to the data science community in the business by presenting work</li><li>Contributing to evaluation and scoping of new data science projects</li></ul> <p><strong>YOUR SKILLS AND EXPERIENCE</strong></p> <ul> <li>Technical skills including Python, SQL and Databricks</li><li>Experience in stakeholder management</li><li>Experience in team management</li><li>Experience working with large datasets</li><li>Strong data science and modelling background</li></ul> <p><strong>THE BENEFITS</strong></p> <ul> <li>Up to £70,000 + bonuses</li><li>Hybrid</li><li>Leeds</li></ul> <p><strong>INTERVIEW PROCESS</strong></p> <ul> <li>1st Stage - 30-minute CV run-through</li><li>2nd Stage - 1hr + tech assessment/cv deep-dive</li><li>Final - Meet wider team and sign-off</li></ul> <p><strong>HOW TO APPLY</strong></p> <p>If interested in the role please send your CV to Jordan Victor via the Apply Link below</p> </span></body></html>"
      ],
      "text/plain": [
       "<IPython.core.display.HTML object>"
      ]
     },
     "metadata": {},
     "output_type": "display_data"
    }
   ],
   "source": [
    "display(HTML(html_files[0]))"
   ]
  },
  {
   "cell_type": "markdown",
   "id": "bigger-farmer",
   "metadata": {},
   "source": [
    "HTML renderizado de la primera oferta de empleo. El párrafo inicial resume el puesto de ciencia de datos. El párrafo va seguido de una lista de viñetas, cada una de las cuales contiene una habilidad necesaria para conseguir el puesto.\n"
   ]
  },
  {
   "cell_type": "markdown",
   "id": "behind-laser",
   "metadata": {},
   "source": [
    "La oferta de empleo es para un puesto en ciencia de datos. El anuncio comienza con una breve descripción del puesto, de la que se desprende que el trabajo consiste en extraer información de los datos gubernamentales. Entre las competencias requeridas figuran la creación de modelos, la estadística y la visualización. Estas competencias se detallan en las dos subsecciones en negrita: Responsabilidades y Cualificaciones. Cada subapartado se compone de varias viñetas de una sola frase. El contenido de las viñetas es variado: las responsabilidades incluyen el uso de métodos estadísticos (viñeta 1), el descubrimiento de tendencias futuras (viñeta 5), el análisis espacial de datos geográficos (viñeta 6) y la visualización estéticamente atractiva (viñeta 7). Además, las cualificaciones indicadas en las viñetas abarcan lenguajes informáticos como R o Python (viñeta 1), herramientas de visualización como Matplotlib (viñeta 2), técnicas de aprendizaje automático, incluida la agrupación (viñeta 3), y conocimientos de conceptos estadísticos avanzados (viñeta 4).\n",
    "\n",
    "Cabe señalar que las cualificaciones no difieren mucho de las responsabilidades. Sí, las cualificaciones se centran en las herramientas y los conceptos, mientras que las responsabilidades están más orientadas a las acciones en los puestos de trabajo; pero en cierto modo, sus viñetas son intercambiables. Cada viñeta describe una habilidad que el candidato debe tener para desempeñar bien el trabajo. Así, podemos subdividir html_files[0] en dos partes conceptualmente diferentes:\n",
    "   * Un resumen inicial del puesto\n",
    "   * Una lista con viñetas de las competencias necesarias para conseguir el empleo"
   ]
  },
  {
   "cell_type": "markdown",
   "id": "impossible-musical",
   "metadata": {},
   "source": [
    "¿La siguiente oferta de empleo está estructurada de forma similar? Lo averiguaremos renderizando html_files[1] (figura 2).\n",
    "\n",
    "4. Renderizado del HTML de la segunda oferta de empleo"
   ]
  },
  {
   "cell_type": "code",
   "execution_count": 9,
   "id": "frank-notebook",
   "metadata": {},
   "outputs": [
    {
     "data": {
      "text/html": [
       "<html><head><title>Data Science Engineer London - Reed.co.uk</title></head><body><h1>Data Science Engineer</h1><span itemprop=\"description\"> <p><strong>Data Science Engineer</strong></p> <p><strong>LONDON</strong></p> <p>Are you looking to further your skills as an experienced Data Science Engineer? We are currently working with a superb organisation that are looking to expand their team. The organisation are providing some of the worlds most advanced and Healthcare tech,  with thousands of skilled employees working all over the world.</p> <p>The role of a Data Science Engineer will contribute to making a safer and more efficient healthcare industry. Ideal experience for a data science engineer includes significant experience within Data and AI Solutions. Hands on experience in software development  including Python, Pytorch, Tensorflow. With Added experience in SQL, MQL, SQLServer, and MySQL</p> <p><strong>Ideal Criteria for a Data Science Engineer</strong></p> <ul> <li>5 Years' experience implementing within Data and AI Solutions</li><li>Experience in software development including Python, Pytorch, Tensorflow. Experience working with Big Query</li><li>Added experience in SQL, MQL, SQLServer, and MySQL</li><li>Good Knowledge in \"Internet of Things\" (IOT)</li></ul> <p><strong>As a contract Data Science Engineer you will get: </strong></p> <ul> <li>Base salary of £90,000 - £100,000</li><li>Up to 10% bonus</li><li>Comprehensive Pension scheme</li><li>Annual leave and other benefits</li><li>Opportunity to work within a leading healthcare Organisation</li></ul> <p>This is a great opportunity to further you career as Data Science Engineer and become part of a leading organisation, making major developments in the Cyber Defence industry. To find out more please contact <strong>Zack</strong> on or apply directly now!</p> </span></body></html>"
      ],
      "text/plain": [
       "<IPython.core.display.HTML object>"
      ]
     },
     "metadata": {},
     "output_type": "display_data"
    }
   ],
   "source": [
    "display(HTML(html_files[1]))"
   ]
  },
  {
   "cell_type": "markdown",
   "id": "excess-kernel",
   "metadata": {},
   "source": [
    "HTML renderizado de la segunda oferta de empleo. Al igual que en el primer anuncio, el párrafo inicial resume el puesto de ciencia de datos y una lista de viñetas describe las habilidades necesarias para conseguirlo."
   ]
  },
  {
   "cell_type": "markdown",
   "id": "eastern-buyer",
   "metadata": {},
   "source": [
    "La oferta de empleo es para un puesto de ciencia de datos en una empresa de marketing de inteligencia artificial. La estructura del anuncio es similar a la de **html_files[0]**: el puesto se resume en el párrafo inicial del anuncio y, a continuación, se presentan las competencias requeridas en viñetas. Estas competencias en viñetas son variadas en cuanto a requisitos técnicos y detalles. Por ejemplo, la cuarta viñeta desde abajo exige experiencia en la pila de ciencia de datos de Python (NumPy, SciPy, Pandas, scikit-learn), la siguiente viñeta requiere un historial de resolución de problemas empresariales difíciles en el mundo real, y la última viñeta exige excelentes habilidades de comunicación escrita y verbal. Estas tres habilidades son muy diferentes. La diferencia es intencionada: el autor del anuncio hace hincapié en los diversos requisitos necesarios para obtener el puesto. Así pues, las viñetas de **html_files[0]** y **html_files[1]** tienen un único propósito: ofrecernos descripciones breves, en forma de frase, de las habilidades únicas que se requieren para cada puesto.\n",
    "\n",
    "¿Aparecen este tipo de descripciones con viñetas en otras ofertas de empleo? Vamos a averiguarlo. Primero extraeremos las viñetas de cada uno de nuestros archivos HTML analizados.  Como recordatorio, una viñeta está representada por la etiqueta HTML \\<li\\>. Así, podemos extraer una lista de viñetas de un objeto soup llamando a **soup.find_all('li')**. A continuación, iteraremos sobre nuestra lista soup_objects y extraeremos todas las viñetas de cada elemento de esa lista. Almacenamos estos resultados en una columna **li_body** de nuestra tabla **df** existente."
   ]
  },
  {
   "cell_type": "markdown",
   "id": "desperate-strand",
   "metadata": {},
   "source": [
    "5. Extraer viñetas del HTML"
   ]
  },
  {
   "cell_type": "code",
   "execution_count": 10,
   "id": "controlled-bubble",
   "metadata": {},
   "outputs": [],
   "source": [
    "df['li_body'] = [[li.text.strip() for li in soup.find_all('li')] for soup in soup_htmls]\n",
    "#df['Bullets'][2]"
   ]
  },
  {
   "cell_type": "markdown",
   "id": "liberal-textbook",
   "metadata": {},
   "source": [
    "6. Extraer contenido del **body** sin viñetas del HTML"
   ]
  },
  {
   "cell_type": "code",
   "execution_count": 11,
   "id": "intended-yield",
   "metadata": {},
   "outputs": [],
   "source": [
    "unlisted_body = []\n",
    "for soup in soup_htmls:\n",
    "    body = soup.body\n",
    "    for tag in body.find_all('li'):\n",
    "        tag.decompose()\n",
    "    unlisted_body.append(body.text.strip())"
   ]
  },
  {
   "cell_type": "code",
   "execution_count": 12,
   "id": "funded-insured",
   "metadata": {},
   "outputs": [
    {
     "data": {
      "text/plain": [
       "0       Data Science Manager Data Science Manager Up t...\n",
       "1       Data Science Engineer Data Science Engineer LO...\n",
       "2       Head of Data Science Head of Data ScienceLondo...\n",
       "3       Python Quantitative Researcher - London- Globa...\n",
       "4       Engineering Lead Engineering Manager | Fin-Tec...\n",
       "                              ...                        \n",
       "4303    Software Tester  Telesat (NASDAQ and TSX: TSAT...\n",
       "4304    Winter Technical Co-op - Cyber Security Engine...\n",
       "4305    Sr. Architect  Telesat (NASDAQ and TSX: TSAT) ...\n",
       "4306    Winter Technical Co-op - Systems Integration &...\n",
       "4307    Senior Director, On-board Software Development...\n",
       "Name: non_li_body, Length: 4308, dtype: object"
      ]
     },
     "execution_count": 12,
     "metadata": {},
     "output_type": "execute_result"
    }
   ],
   "source": [
    "df['non_li_body'] = unlisted_body\n",
    "df['non_li_body'] "
   ]
  },
  {
   "cell_type": "markdown",
   "id": "positive-longitude",
   "metadata": {},
   "source": [
    "7. Exportar datos a archivo json"
   ]
  },
  {
   "cell_type": "code",
   "execution_count": 13,
   "id": "protective-panic",
   "metadata": {},
   "outputs": [
    {
     "name": "stdout",
     "output_type": "stream",
     "text": [
      "\\begin{tabular}{llll}\n",
      "\\toprule\n",
      "                                        title\\_html &                                          body\\_html &                                            li\\_body &                                        non\\_li\\_body \\\\\n",
      "\\midrule\n",
      "           Data Science Manager Leeds - Reed.co.uk &  Data Science Manager Data Science Manager Up t... &  [Leading data science projects under the direc... &  Data Science Manager Data Science Manager Up t... \\\\\n",
      "         Data Science Engineer London - Reed.co.uk &  Data Science Engineer Data Science Engineer LO... &  [5 Years' experience implementing within Data ... &  Data Science Engineer Data Science Engineer LO... \\\\\n",
      "          Head of Data Science London - Reed.co.uk &  Head of Data Science Head of Data ScienceLondo... &  [Manage a small team of 3 Data Scientists incl... &  Head of Data Science Head of Data ScienceLondo... \\\\\n",
      " Python Quantitative Researcher - London- Globa... &  Python Quantitative Researcher - London- Globa... &  [Minimum 2+ years' experience, Hands-on progra... &  Python Quantitative Researcher - London- Globa... \\\\\n",
      "              Engineering Lead London - Reed.co.uk &  Engineering Lead Engineering Manager | Fin-Tec... &  [Lead/manage a diverse team of up to 30+ engin... &  Engineering Lead Engineering Manager | Fin-Tec... \\\\\n",
      "\\bottomrule\n",
      "\\end{tabular}\n",
      "\n"
     ]
    }
   ],
   "source": [
    "print(df.head().to_latex(index=False))"
   ]
  },
  {
   "cell_type": "code",
   "execution_count": 14,
   "id": "improved-rabbit",
   "metadata": {},
   "outputs": [],
   "source": [
    "#df_jobs.to_csv('jobs.csv',encoding='utf-8',index=False)\n",
    "df.to_json('jobs_ds.json')"
   ]
  },
  {
   "cell_type": "code",
   "execution_count": null,
   "id": "generic-gardening",
   "metadata": {},
   "outputs": [],
   "source": []
  }
 ],
 "metadata": {
  "kernelspec": {
   "display_name": "Python 3",
   "language": "python",
   "name": "python3"
  },
  "language_info": {
   "codemirror_mode": {
    "name": "ipython",
    "version": 3
   },
   "file_extension": ".py",
   "mimetype": "text/x-python",
   "name": "python",
   "nbconvert_exporter": "python",
   "pygments_lexer": "ipython3",
   "version": "3.9.2"
  }
 },
 "nbformat": 4,
 "nbformat_minor": 5
}
