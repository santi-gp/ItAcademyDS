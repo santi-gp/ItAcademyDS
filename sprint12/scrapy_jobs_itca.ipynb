{
 "cells": [
  {
   "cell_type": "code",
   "execution_count": 3,
   "id": "8bee2e85",
   "metadata": {},
   "outputs": [],
   "source": [
    "import matplotlib.pyplot as plt\n",
    "from urllib.request import urlopen\n",
    "import requests\n",
    "import re\n",
    "from bs4 import BeautifulSoup, Doctype\n",
    "from bs4 import Comment"
   ]
  },
  {
   "cell_type": "markdown",
   "id": "87a9cda9",
   "metadata": {},
   "source": [
    "## Descargar nuestros datos"
   ]
  },
  {
   "cell_type": "code",
   "execution_count": 4,
   "id": "unnecessary-bearing",
   "metadata": {},
   "outputs": [],
   "source": [
    "def all_pages(num):\n",
    "    url=f'https://www.itjobs.ca/en/search-jobs/?keywords=data+science&search={num}'\n",
    "    response=requests.get(url)\n",
    "    response\n",
    "    page = BeautifulSoup(response.text, 'lxml')\n",
    "    return page"
   ]
  },
  {
   "cell_type": "code",
   "execution_count": 5,
   "id": "studied-membership",
   "metadata": {},
   "outputs": [],
   "source": [
    "id_page = [i for i in range(1,153)]"
   ]
  },
  {
   "cell_type": "code",
   "execution_count": 6,
   "id": "returning-topic",
   "metadata": {},
   "outputs": [],
   "source": [
    "link_page=[all_pages(i) for i in id_page]"
   ]
  },
  {
   "cell_type": "code",
   "execution_count": 7,
   "id": "concrete-integral",
   "metadata": {},
   "outputs": [],
   "source": [
    "urls=[]\n",
    "for i in range(len(link_page)):\n",
    "    links = link_page[i].find_all('div','offer-details')\n",
    "    for i in links:\n",
    "        children = i.find(\"a\",'offer-name')\n",
    "        urls.append(children.get('href'))"
   ]
  },
  {
   "cell_type": "code",
   "execution_count": 8,
   "id": "veterinary-peoples",
   "metadata": {},
   "outputs": [
    {
     "data": {
      "text/plain": [
       "1672"
      ]
     },
     "execution_count": 8,
     "metadata": {},
     "output_type": "execute_result"
    }
   ],
   "source": [
    "len(urls)"
   ]
  },
  {
   "cell_type": "code",
   "execution_count": 9,
   "id": "vanilla-switzerland",
   "metadata": {},
   "outputs": [
    {
     "data": {
      "text/plain": [
       "['https://www.itjobs.ca/en/offer/on/brampton/network-engineer/18b0f2c5-83fd-4dc8-9916-1c4d4c4b0b85_en/',\n",
       " 'https://www.itjobs.ca/en/offer/on/mississauga/senior-manager-data-science-data-products/7c185466-b814-4c5f-904a-4230fa61865b_en/',\n",
       " 'https://www.itjobs.ca/en/offer/bc/vancouver/assistant-professor-of-teaching-in-biostatistics-and-data-science/1fe3ca8b-2d0b-4059-a92e-6c85233b1aa0_en/',\n",
       " 'https://www.itjobs.ca/en/offer/on/toronto/2024-summer-data-science-internship-canada-student-science-recruiting/794d51b7-72e8-453a-aff0-7598de63a17a_en/',\n",
       " 'https://www.itjobs.ca/en/offer/on/toronto/sr-sde-ml-+-big-data-measurement-ad-tech-and-data-science-mads/c8196eda-9fc0-42d7-88f7-91d4ba3ea472_en/',\n",
       " 'https://www.itjobs.ca/en/offer/ab/edmonton/data-scientist/626dc1ab-0636-4505-a5e8-0bc224139210_en/',\n",
       " 'https://www.itjobs.ca/en/offer/on/toronto/data-scientist/e83a8cd7-e19d-4a42-a45d-656ebd706342_en/',\n",
       " 'https://www.itjobs.ca/en/offer/ab/calgary/engineering-data-scientist/9b25b783-39f9-4c20-9f5d-b23f5bd86628_en/',\n",
       " 'https://www.itjobs.ca/en/offer/on/toronto/lead-data-scientist/fdc63608-c8e5-4706-abf1-bc06262d2e17_en/',\n",
       " 'https://www.itjobs.ca/en/offer/on/chalk-river/data-scientist/92c2b150-4b29-4895-816b-a44ba5ec6c98_en/']"
      ]
     },
     "execution_count": 9,
     "metadata": {},
     "output_type": "execute_result"
    }
   ],
   "source": [
    "urls[0:10]"
   ]
  },
  {
   "cell_type": "code",
   "execution_count": 10,
   "id": "billion-helicopter",
   "metadata": {},
   "outputs": [],
   "source": [
    "HEADERS = {\n",
    "        \"User-Agent\": \"Mozilla/5.0 (Windows NT 10.0; Win64; x64; rv:98.0) Gecko/20100101 Firefox/98.0\",\n",
    "        \"Accept\": \"text/html,application/xhtml+xml,application/xml;q=0.9,image/avif,image/webp,*/*;q=0.8\",\n",
    "        \"Accept-Language\": \"en-US,en;q=0.5\",\n",
    "        \"Accept-Encoding\": \"gzip, deflate\",\n",
    "        \"Connection\": \"keep-alive\",\n",
    "        \"Upgrade-Insecure-Requests\": \"1\",\n",
    "        \"Sec-Fetch-Dest\": \"document\",\n",
    "        \"Sec-Fetch-Mode\": \"navigate\",\n",
    "        \"Sec-Fetch-Site\": \"none\",\n",
    "        \"Sec-Fetch-User\": \"?1\",\n",
    "        \"Cache-Control\": \"max-age=0\",\n",
    "    }\n",
    "def links_htmls(k):\n",
    "    r = requests.get(urls[k], headers=HEADERS)\n",
    "    soup=BeautifulSoup(r.text,'lxml')\n",
    "    \n",
    "    [x.extract() for x in soup.find_all('svg')]\n",
    "    [x.extract() for x in soup.find_all('img')]\n",
    "    [x.extract() for x in soup.find_all('div','offer-share-wrapper')]\n",
    "\n",
    "    title = soup.find(\"title\")\n",
    "    \n",
    "    h1 = soup.find(\"h1\",class_='offer-title')\n",
    "    \n",
    "    description = soup.find(\"div\",class_='offer-description-wrapper')\n",
    "    \n",
    "    head = f\"<head>{title}</head>\"\n",
    "    body = f\"<body>{h1}{description}</body>\"\n",
    "    html_output = f\"<html>{head}{body}</html>\"\n",
    "\n",
    "    html_output= re.sub(r'[\\t\\r\\n]', '', html_output)\n",
    "\n",
    "    with open(f'/media/richi/1C0C-8070/ItAcademyDS/sprint12/jobs_ca/job_itca{k}.html', 'w',encoding='utf-8') as f:\n",
    "        f.write(str(html_output))"
   ]
  },
  {
   "cell_type": "code",
   "execution_count": 11,
   "id": "signal-collector",
   "metadata": {},
   "outputs": [],
   "source": [
    "for i in range(0,len(urls)):\n",
    "    links_htmls(i)  "
   ]
  },
  {
   "cell_type": "markdown",
   "id": "restricted-framework",
   "metadata": {},
   "source": [
    "```python\n",
    "HEADERS = {\n",
    "        \"User-Agent\": \"Mozilla/5.0 (Windows NT 10.0; Win64; x64; rv:98.0) Gecko/20100101 Firefox/98.0\",\n",
    "        \"Accept\": \"text/html,application/xhtml+xml,application/xml;q=0.9,image/avif,image/webp,*/*;q=0.8\",\n",
    "        \"Accept-Language\": \"en-US,en;q=0.5\",\n",
    "        \"Accept-Encoding\": \"gzip, deflate\",\n",
    "        \"Connection\": \"keep-alive\",\n",
    "        \"Upgrade-Insecure-Requests\": \"1\",\n",
    "        \"Sec-Fetch-Dest\": \"document\",\n",
    "        \"Sec-Fetch-Mode\": \"navigate\",\n",
    "        \"Sec-Fetch-Site\": \"none\",\n",
    "        \"Sec-Fetch-User\": \"?1\",\n",
    "        \"Cache-Control\": \"max-age=0\",\n",
    "    }\n",
    "def links_htmls(k):\n",
    "    r = requests.get(urls[k], headers=HEADERS)\n",
    "    page=BeautifulSoup(r.text,'lxml')\n",
    "    \n",
    "    for each in ['header','footer']:\n",
    "        s = page.find(each)\n",
    "        s.decompose()   \n",
    "        \n",
    "    [x.extract() for x in page.find_all('header','compact')]\n",
    "    [x.extract() for x in page.find_all('script')]\n",
    "    [x.extract() for x in page.find_all('style')]\n",
    "    [x.extract() for x in page.find_all('meta')]\n",
    "    [x.extract() for x in page.find_all('noscript')]\n",
    "    [x.extract() for x in page.find_all(text=lambda text:isinstance(text, Comment))]\n",
    "    [x.extract() for x in page.find_all('link')]\n",
    "    \n",
    "    for div in page.findAll('div', ['offer-employer-wrapper','modal-container','offer-share-wrapper',\n",
    "                                    'offer-apply-wrapper','modal','footer-bg-wrapper','aside-ctn','content-inner-wrapper']):\n",
    "        div.extract()\n",
    "        \n",
    "    for div in page.findAll('div', id=['overlay-ctn','mobile-menu','fb-root']):\n",
    "        div.extract()     \n",
    "\n",
    "    for br in page.findAll('br'):\n",
    "        br.decompose()\n",
    "    \n",
    "    for elem in page.findAll('div',['static-header','page-default','wrapper','content-ctn','content-wrapper',\n",
    "                                    'offer-wrapper','offer-description-wrapper']):\n",
    "        elem.unwrap()\n",
    "    \n",
    "    for elem in page.findAll('div',id='offer'):\n",
    "        elem.unwrap() \n",
    "     \n",
    "    #[x.decompose() for x in page.findAll(lambda tag: not tag.contents and not tag.name == 'br' )]    \n",
    "    \n",
    "    with open(f'/media/richi/1C0C-8070/ItAcademyDS/sprint12/jobs_itca_batch/page{x}.html', 'w',encoding='utf-8') as f:\n",
    "        f.write(str(page))\n",
    "```        "
   ]
  },
  {
   "cell_type": "markdown",
   "id": "boring-dublin",
   "metadata": {},
   "source": [
    "```python\n",
    "for i in range(0,1986):\n",
    "    with open(f'/media/richi/1C0C-8070/ItAcademyDS/sprint12/jobs_itca_batch/page{i}.html') as fp:\n",
    "        soup = BeautifulSoup(fp, 'lxml')\n",
    "        \n",
    "        [x.extract() for x in soup.find_all('div','content-inner-wrapper')]\n",
    "        \n",
    "        for item in soup.contents:\n",
    "            if isinstance(item, Doctype):\n",
    "                item.extract()\n",
    "                \n",
    "        for tag in soup():\n",
    "            for attribute in [\"class\", 'style','lang','id']: # You can also add id,style,etc in the list\n",
    "                del tag[attribute]        \n",
    "        \n",
    "        for x in soup.find_all():\n",
    "            if len(x.get_text(strip=True)) == 0 and x.name not in ['br', 'img']:\n",
    "                x.extract()\n",
    "                \n",
    "        #for string in soup.stripped_strings:\n",
    "        #    repr(string)\n",
    "        for x in soup.find_all():\n",
    "            re.sub(r'(\\s+|\\n)', ' ', x.text)\n",
    "            \n",
    "    with open(f'/media/richi/1C0C-8070/ItAcademyDS/sprint12/jobs_itca/offer{i}.html', 'w',encoding='utf-8') as f:\n",
    "            f.write(str(soup)) \n",
    "           \n",
    "```            "
   ]
  }
 ],
 "metadata": {
  "kernelspec": {
   "display_name": "Python 3",
   "language": "python",
   "name": "python3"
  },
  "language_info": {
   "codemirror_mode": {
    "name": "ipython",
    "version": 3
   },
   "file_extension": ".py",
   "mimetype": "text/x-python",
   "name": "python",
   "nbconvert_exporter": "python",
   "pygments_lexer": "ipython3",
   "version": "3.9.2"
  }
 },
 "nbformat": 4,
 "nbformat_minor": 5
}
