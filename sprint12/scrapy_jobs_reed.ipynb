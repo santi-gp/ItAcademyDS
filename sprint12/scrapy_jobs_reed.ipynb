{
 "cells": [
  {
   "cell_type": "code",
   "execution_count": 1,
   "id": "8bee2e85",
   "metadata": {},
   "outputs": [],
   "source": [
    "from urllib.request import urlopen\n",
    "import requests\n",
    "import re\n",
    "from bs4 import BeautifulSoup, Doctype\n",
    "from bs4 import Comment\n",
    "from selenium import webdriver"
   ]
  },
  {
   "cell_type": "markdown",
   "id": "87a9cda9",
   "metadata": {},
   "source": [
    "## Descargar nuestros datos"
   ]
  },
  {
   "cell_type": "code",
   "execution_count": 2,
   "id": "transparent-honolulu",
   "metadata": {},
   "outputs": [],
   "source": [
    "HEADERS = {\n",
    "        \"User-Agent\": \"Mozilla/5.0 (Windows NT 10.0; Win64; x64; rv:98.0) Gecko/20100101 Firefox/98.0\",\n",
    "        \"Accept\": \"text/html,application/xhtml+xml,application/xml;q=0.9,image/avif,image/webp,*/*;q=0.8\",\n",
    "        \"Accept-Language\": \"en-US,en;q=0.5\",\n",
    "        \"Accept-Encoding\": \"gzip, deflate\",\n",
    "        \"Connection\": \"keep-alive\",\n",
    "        \"Upgrade-Insecure-Requests\": \"1\",\n",
    "        \"Sec-Fetch-Dest\": \"document\",\n",
    "        \"Sec-Fetch-Mode\": \"navigate\",\n",
    "        \"Sec-Fetch-Site\": \"none\",\n",
    "        \"Sec-Fetch-User\": \"?1\",\n",
    "        \"Cache-Control\": \"max-age=0\",\n",
    "    }\n",
    "\n",
    "def all_pages(num):\n",
    "    url=f'https://www.reed.co.uk/jobs/data-science-jobs?pageno={num}'\n",
    "    response=requests.get(url)\n",
    "    response\n",
    "    page = BeautifulSoup(response.text, 'html.parser')\n",
    "    return page"
   ]
  },
  {
   "cell_type": "code",
   "execution_count": 3,
   "id": "fifteen-mainland",
   "metadata": {},
   "outputs": [],
   "source": [
    "id_page = [i for i in range(1,67)]\n",
    "link_page=[all_pages(i) for i in id_page]"
   ]
  },
  {
   "cell_type": "code",
   "execution_count": 4,
   "id": "concrete-integral",
   "metadata": {},
   "outputs": [],
   "source": [
    "urls=[]\n",
    "for i in range(len(link_page)):\n",
    "    links = link_page[i].find_all('h2','job-card_jobResultHeading__title__IQ8iT')\n",
    "    for i in links:\n",
    "        children = i.find(\"a\")\n",
    "        urls.append(children.get('href'))        "
   ]
  },
  {
   "cell_type": "code",
   "execution_count": 5,
   "id": "soviet-alcohol",
   "metadata": {},
   "outputs": [
    {
     "data": {
      "text/plain": [
       "1711"
      ]
     },
     "execution_count": 5,
     "metadata": {},
     "output_type": "execute_result"
    }
   ],
   "source": [
    "len(urls)"
   ]
  },
  {
   "cell_type": "code",
   "execution_count": 6,
   "id": "mathematical-million",
   "metadata": {},
   "outputs": [],
   "source": [
    "HEADERS = {\n",
    "        \"User-Agent\": \"Mozilla/5.0 (Windows NT 10.0; Win64; x64; rv:98.0) Gecko/20100101 Firefox/98.0\",\n",
    "        \"Accept\": \"text/html,application/xhtml+xml,application/xml;q=0.9,image/avif,image/webp,*/*;q=0.8\",\n",
    "        \"Accept-Language\": \"en-US,en;q=0.5\",\n",
    "        \"Accept-Encoding\": \"gzip, deflate\",\n",
    "        \"Connection\": \"keep-alive\",\n",
    "        \"Upgrade-Insecure-Requests\": \"1\",\n",
    "        \"Sec-Fetch-Dest\": \"document\",\n",
    "        \"Sec-Fetch-Mode\": \"navigate\",\n",
    "        \"Sec-Fetch-Site\": \"none\",\n",
    "        \"Sec-Fetch-User\": \"?1\",\n",
    "        \"Cache-Control\": \"max-age=0\",\n",
    "    }\n",
    "def links_htmls(k):\n",
    "    r = requests.get('https://www.reed.co.uk' + urls[k], headers=HEADERS)\n",
    "    soup=BeautifulSoup(r.text,'lxml')\n",
    "    \n",
    "    [x.extract() for x in soup.find_all('svg')]\n",
    "    [x.extract() for x in soup.find_all('img')]\n",
    "\n",
    "    title = soup.find(\"title\")\n",
    "\n",
    "    h1 = soup.find(\"h1\")\n",
    "\n",
    "    #location = soup.find(\"div\",'location')\n",
    "    description = soup.find(\"span\",itemprop='description')\n",
    "\n",
    "    head = f\"<head>{title}</head>\"\n",
    "    body = f\"<body>{h1}{description}</body>\"\n",
    "    html_output = f\"<html>{head}{body}</html>\"\n",
    "\n",
    "    html_output= re.sub(r'[\\t\\r\\n]', '', html_output)\n",
    "\n",
    "    with open(f'/media/richi/1C0C-8070/ItAcademyDS/sprint12/jobs_uk/jobs_reed{k}.html', 'w',encoding='utf-8') as f:\n",
    "        f.write(str(html_output))"
   ]
  },
  {
   "cell_type": "code",
   "execution_count": 7,
   "id": "solved-leather",
   "metadata": {},
   "outputs": [],
   "source": [
    "for i in range(0,len(urls)):\n",
    "    links_htmls(i)               "
   ]
  },
  {
   "cell_type": "markdown",
   "id": "accessory-asbestos",
   "metadata": {},
   "source": [
    "```python\n",
    "HEADERS = {\n",
    "        \"User-Agent\": \"Mozilla/5.0 (Windows NT 10.0; Win64; x64; rv:98.0) Gecko/20100101 Firefox/98.0\",\n",
    "        \"Accept\": \"text/html,application/xhtml+xml,application/xml;q=0.9,image/avif,image/webp,*/*;q=0.8\",\n",
    "        \"Accept-Language\": \"en-US,en;q=0.5\",\n",
    "        \"Accept-Encoding\": \"gzip, deflate\",\n",
    "        \"Connection\": \"keep-alive\",\n",
    "        \"Upgrade-Insecure-Requests\": \"1\",\n",
    "        \"Sec-Fetch-Dest\": \"document\",\n",
    "        \"Sec-Fetch-Mode\": \"navigate\",\n",
    "        \"Sec-Fetch-Site\": \"none\",\n",
    "        \"Sec-Fetch-User\": \"?1\",\n",
    "        \"Cache-Control\": \"max-age=0\",\n",
    "    }\n",
    "def links_htmls(k):\n",
    "    r = requests.get('https://www.reed.co.uk'+urls[k], headers=HEADERS)\n",
    "    soup=BeautifulSoup(r.text,'lxml')\n",
    "    \n",
    "    \n",
    "    for div in soup.findAll(['footer','header','nav'], id=['site-footer','site-header','menu']):\n",
    "        div.extract()\n",
    "\n",
    "    [x.extract() for x in soup.find_all('div',['pagination-container','sb-container','is-hidden',\n",
    "                                              'mobile-metadata','hidden-xs','posted','mobile-apply-button',\n",
    "                                              'logo-profile-mobile','similar-searches','warning-and-report'])]\n",
    "\n",
    "    [x.extract() for x in soup.find_all('div',id=['search-query','g_id_onload'])]      \n",
    "    [x.extract() for x in soup.find_all('script')]\n",
    "    [x.extract() for x in soup.find_all('style')]\n",
    "    [x.extract() for x in soup.find_all('meta')]\n",
    "    [x.extract() for x in soup.find_all('noscript')]\n",
    "    [x.extract() for x in soup.find_all(text=lambda text:isinstance(text, Comment))]\n",
    "    [x.extract() for x in soup.find_all('link')]\n",
    "    [x.extract() for x in soup.find_all(['form','aside','button'])]\n",
    "    [x.extract() for x in soup.find_all('br')]\n",
    "\n",
    "    for elem in soup.findAll('header',['job-header']):\n",
    "        elem.unwrap()\n",
    "\n",
    "    for elem in soup.findAll('div',['job-details','description-container','description','col-xs-12','col-lg-12']):\n",
    "        elem.unwrap()\n",
    "\n",
    "    for elem in soup.findAll('div',id=['global','container','content']):\n",
    "        elem.unwrap()\n",
    "\n",
    "    for x in soup.find_all():\n",
    "        if len(x.get_text(strip=True)) == 0 and x.name not in ['br', 'img']:\n",
    "            x.extract()\n",
    "\n",
    "    for item in soup.contents:\n",
    "        if isinstance(item, Doctype):\n",
    "            item.extract()\n",
    "\n",
    "    for tag in soup():\n",
    "        for attribute in [\"class\", 'style','lang','id','prefix','itemprop']: # You can also add id,style,etc in the list\n",
    "            del tag[attribute]\n",
    "\n",
    "    for string in soup.stripped_strings:\n",
    "        repr(string)\n",
    "\n",
    "    with open(f'/media/richi/1C0C-8070/ItAcademyDS/sprint12/jobs/page{k}.html', 'w',encoding='utf-8') as f:\n",
    "        f.write(str(soup))\n",
    " ```       "
   ]
  },
  {
   "cell_type": "markdown",
   "id": "polish-contrast",
   "metadata": {},
   "source": [
    "```python\n",
    "for i in range(0,1600):\n",
    "    with open(f'/media/richi/1C0C-8070/ItAcademyDS/sprint12/jobs/page{i}.html','r',encoding='utf-8') as fp:\n",
    "        soup = BeautifulSoup(fp, 'lxml')\n",
    "    for x in soup.find_all():\n",
    "        re.sub(r'(\\s+|\\n)', ' ', x.text)\n",
    "    with open(f'/media/richi/1C0C-8070/ItAcademyDS/sprint12/jobs_reed/job_reed{i}.html', 'w',encoding='utf-8') as f:\n",
    "        f.write(str(soup)) \n",
    "```    "
   ]
  },
  {
   "cell_type": "code",
   "execution_count": null,
   "id": "conservative-coral",
   "metadata": {},
   "outputs": [],
   "source": []
  }
 ],
 "metadata": {
  "kernelspec": {
   "display_name": "Python 3 (ipykernel)",
   "language": "python",
   "name": "python3"
  },
  "language_info": {
   "codemirror_mode": {
    "name": "ipython",
    "version": 3
   },
   "file_extension": ".py",
   "mimetype": "text/x-python",
   "name": "python",
   "nbconvert_exporter": "python",
   "pygments_lexer": "ipython3",
   "version": "3.9.12"
  }
 },
 "nbformat": 4,
 "nbformat_minor": 5
}
